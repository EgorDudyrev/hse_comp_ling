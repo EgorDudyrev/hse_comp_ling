{
 "cells": [
  {
   "cell_type": "code",
   "execution_count": 1,
   "metadata": {},
   "outputs": [],
   "source": [
    "DATA_DIR = '../data/'"
   ]
  },
  {
   "cell_type": "code",
   "execution_count": 2,
   "metadata": {},
   "outputs": [],
   "source": [
    "import numpy as np\n",
    "import pandas as pd\n",
    "import matplotlib.pyplot as plt\n",
    "import seaborn as sns\n",
    "import re"
   ]
  },
  {
   "cell_type": "code",
   "execution_count": 3,
   "metadata": {},
   "outputs": [
    {
     "data": {
      "text/html": [
       "<style>.container { width:90% !important; }</style>"
      ],
      "text/plain": [
       "<IPython.core.display.HTML object>"
      ]
     },
     "metadata": {},
     "output_type": "display_data"
    }
   ],
   "source": [
    "from IPython.core.display import display, HTML\n",
    "display(HTML(\"<style>.container { width:90% !important; }</style>\"))"
   ]
  },
  {
   "cell_type": "markdown",
   "metadata": {},
   "source": [
    "Отчет высылается по почте Зуеву Кириллу на адрес kir2207@list.ru\n",
    "\n",
    "В качестве темы письма указать: «КЛ ДЗ № 1, ФИО»\n",
    "\n",
    "Срок выполнения задания – до 24 февраля включительно\n",
    "\n",
    "Замечания:\n",
    "1. Отчет должен быть в виде текста на русском языке, объемом 1-5 страниц. Код программы присылается отдельным файлом (в комментариях следует указать язык программирования и его версию, а также использованные библиотеки и откуда они взяты).\n",
    "2. Оценка задания учитывает общий объем и качество проведенной работы, включая полноту тестирования и подробность отчета об исследовании. Автоматическое тестирование обычно оценивается более высоко, чем ручное (при прочих равных).\n",
    "3. За творческие и более полные решения могут быть добавлены баллы."
   ]
  },
  {
   "cell_type": "markdown",
   "metadata": {},
   "source": [
    "# Задание D\n",
    "\n",
    "Выполнить лексико-статистический анализ двух текстов на русском языке, среднего размера:\n",
    "1. текст художественной прозы, например, текста главы 2 из книги Л Кэрролла «Алиса в Стране Чудес» или главы из романа Л.Толстого или рассказа А.Чехова.\n",
    "2. текст научно-технической или деловой прозы.\n",
    "\n",
    "Для этого следует составить программу, которая с помощью выбранного морфопроцессора,\n",
    "например: Диалинг-АОТ , mystem, pymorphy или CrossMorphy (ссылки см. в варианте А),\n",
    "осуществляет морфологический анализ словоформ текста;\n",
    "вычисляет 7-15 статистических характеристик разного типа:\n",
    "- общестатистические: общее число словоупотреблений, число различных словоформ, средняя\n",
    "длина предложения (если процессор разбивает текст на предложения) и т.п.;\n",
    "- морфологические: абсолютная и относительная частота омонимичных словоформ, процент\n",
    "разных частей речи, наиболее частотные падежи у существительных и прилагательных,\n",
    "относительную частоту падежей, наиболее частотные морфологические формы глаголов\n",
    "(время/лицо/число) и т.п.;\n",
    "- лексические: количество уникальных лемм, число уникальных лемм разных частей речи\n",
    "(существительных, глаголов и др.), число незнакомых слов, самые частотные слова и их\n",
    "относительная частота, самые частотные слова основных частей речи (существительные,\n",
    "прилагательные, наречия, глаголы), коэффициент лексического богатства текста (=отношение\n",
    "числа различных лемм к общему числу словоупотреблений) и т.п.\n",
    "выводит подсчитанные характеристики в удобной, обозримой форме.\n",
    "\n",
    "Отчет: составленная программа, подсчитанная статистика (в удобной, обозримой форме, в\n",
    "зависимости от стилей/жанров текстов), пояснения по способу ее подсчета и выводы,\n",
    "программа с комментариями."
   ]
  },
  {
   "cell_type": "markdown",
   "metadata": {},
   "source": [
    "# Выкачиваем данные"
   ]
  },
  {
   "cell_type": "markdown",
   "metadata": {},
   "source": [
    "## Художественный текст"
   ]
  },
  {
   "cell_type": "code",
   "execution_count": 4,
   "metadata": {},
   "outputs": [],
   "source": [
    "with open(DATA_DIR+'alice_full_text.txt', 'r') as f:\n",
    "    alice_txt = f.read()"
   ]
  },
  {
   "cell_type": "code",
   "execution_count": 5,
   "metadata": {},
   "outputs": [],
   "source": [
    "alice_txt_by_chapter = {idx:s.strip() for idx, s in enumerate([s for s in re.split('Глава.*\\n\\n\\n', alice_txt) if len(s)>0])}"
   ]
  },
  {
   "cell_type": "markdown",
   "metadata": {},
   "source": [
    "## Научно-технический текст"
   ]
  },
  {
   "cell_type": "markdown",
   "metadata": {},
   "source": [
    "\"ПОСОБИЕ ПО НАПИСАНИЮ\n",
    "РАЗНОГО РОДА ДЕЛОВЫХ ТЕКСТОВ\"\n",
    "https://www.iis.nsk.su/files/articles/sbor_kas_16_nesgovorova.pdf"
   ]
  },
  {
   "cell_type": "code",
   "execution_count": 6,
   "metadata": {},
   "outputs": [],
   "source": [
    "with open(DATA_DIR+'how_to_business_text.txt','r') as f:\n",
    "    how_to_buis_txt = f.read()"
   ]
  },
  {
   "cell_type": "code",
   "execution_count": 7,
   "metadata": {},
   "outputs": [],
   "source": [
    "def beautify_str(s):\n",
    "    s = re.sub(r'Рис\\. \\d+\\n+', '', s)\n",
    "    s = re.sub('[^\\.?;\\n](\\n)[^\\n]', ' ', s)\n",
    "    return s"
   ]
  },
  {
   "cell_type": "code",
   "execution_count": 8,
   "metadata": {},
   "outputs": [],
   "source": [
    "alice_txt_by_chapter = {idx:beautify_str(s) for idx,s in alice_txt_by_chapter.items()}\n",
    "how_to_buis_txt = beautify_str(how_to_buis_txt)"
   ]
  },
  {
   "cell_type": "markdown",
   "metadata": {},
   "source": [
    "# Ищем статистику с pymorphy и считаем метрики"
   ]
  },
  {
   "cell_type": "code",
   "execution_count": 9,
   "metadata": {},
   "outputs": [],
   "source": [
    "import pymorphy2"
   ]
  },
  {
   "cell_type": "code",
   "execution_count": 10,
   "metadata": {},
   "outputs": [],
   "source": [
    "morph = pymorphy2.MorphAnalyzer()"
   ]
  },
  {
   "cell_type": "markdown",
   "metadata": {},
   "source": [
    "## общестатистические"
   ]
  },
  {
   "cell_type": "markdown",
   "metadata": {},
   "source": [
    "### общее число словоупотреблений"
   ]
  },
  {
   "cell_type": "code",
   "execution_count": 11,
   "metadata": {},
   "outputs": [],
   "source": [
    "txt = alice_txt_by_chapter[1]"
   ]
  },
  {
   "cell_type": "code",
   "execution_count": 12,
   "metadata": {},
   "outputs": [
    {
     "data": {
      "text/plain": [
       "[Parse(word='страньше', tag=OpencorporaTag('COMP'), normal_form='странний', score=0.5135135135135136, methods_stack=((<DictionaryAnalyzer>, 'раньше', 2648, 27), (<UnknownPrefixAnalyzer>, 'ст'))),\n",
       " Parse(word='страньше', tag=OpencorporaTag('NOUN,anim,femn sing,datv'), normal_form='страньша', score=0.21621621621621623, methods_stack=((<FakeDictionary>, 'страньше', 167, 2), (<KnownSuffixAnalyzer>, 'ьше'))),\n",
       " Parse(word='страньше', tag=OpencorporaTag('NOUN,anim,femn sing,loct'), normal_form='страньша', score=0.21621621621621623, methods_stack=((<FakeDictionary>, 'страньше', 167, 6), (<KnownSuffixAnalyzer>, 'ьше'))),\n",
       " Parse(word='страньше', tag=OpencorporaTag('ADVB'), normal_form='страньше', score=0.05405405405405406, methods_stack=((<FakeDictionary>, 'страньше', 3, 0), (<KnownSuffixAnalyzer>, 'ьше')))]"
      ]
     },
     "execution_count": 12,
     "metadata": {},
     "output_type": "execute_result"
    }
   ],
   "source": [
    "morph.parse('страньше')"
   ]
  },
  {
   "cell_type": "code",
   "execution_count": 13,
   "metadata": {},
   "outputs": [
    {
     "data": {
      "text/plain": [
       "True"
      ]
     },
     "execution_count": 13,
     "metadata": {},
     "output_type": "execute_result"
    }
   ],
   "source": [
    "morph.word_is_known('странный')"
   ]
  },
  {
   "cell_type": "code",
   "execution_count": 14,
   "metadata": {},
   "outputs": [],
   "source": [
    "def get_n_wordsamples(txt):\n",
    "    return len([x for x in re.findall(r'\\w+', txt)])"
   ]
  },
  {
   "cell_type": "code",
   "execution_count": 15,
   "metadata": {},
   "outputs": [
    {
     "data": {
      "text/plain": [
       "(1606, 1333)"
      ]
     },
     "execution_count": 15,
     "metadata": {},
     "output_type": "execute_result"
    }
   ],
   "source": [
    "get_n_wordsamples(alice_txt_by_chapter[1]), get_n_wordsamples(how_to_buis_txt)"
   ]
  },
  {
   "cell_type": "markdown",
   "metadata": {},
   "source": [
    "### число различных словоформ"
   ]
  },
  {
   "cell_type": "code",
   "execution_count": 16,
   "metadata": {},
   "outputs": [],
   "source": [
    "def get_n_uniq_wordsamples(txt):\n",
    "    return len(set([x for x in re.findall(r'\\w+', txt)]))"
   ]
  },
  {
   "cell_type": "code",
   "execution_count": 17,
   "metadata": {},
   "outputs": [
    {
     "data": {
      "text/plain": [
       "(851, 827)"
      ]
     },
     "execution_count": 17,
     "metadata": {},
     "output_type": "execute_result"
    }
   ],
   "source": [
    "get_n_uniq_wordsamples(alice_txt_by_chapter[1]), get_n_uniq_wordsamples(how_to_buis_txt)"
   ]
  },
  {
   "cell_type": "markdown",
   "metadata": {},
   "source": [
    "### средняя длина предложения"
   ]
  },
  {
   "cell_type": "code",
   "execution_count": 18,
   "metadata": {},
   "outputs": [],
   "source": [
    "def avg_sentence_path(txt):\n",
    "    return np.mean([len(re.split(r'\\s', x.strip())) for x in re.findall(r'[(--)\\w ,]+[\\.?!]', txt)])    "
   ]
  },
  {
   "cell_type": "code",
   "execution_count": 19,
   "metadata": {},
   "outputs": [
    {
     "name": "stderr",
     "output_type": "stream",
     "text": [
      "/home/egor/anaconda3/lib/python3.7/site-packages/ipykernel_launcher.py:2: FutureWarning: Possible set difference at position 2\n",
      "  \n"
     ]
    },
    {
     "data": {
      "text/plain": [
       "(8.756476683937823, 14.722222222222221)"
      ]
     },
     "execution_count": 19,
     "metadata": {},
     "output_type": "execute_result"
    }
   ],
   "source": [
    "avg_sentence_path(alice_txt_by_chapter[1]), avg_sentence_path(how_to_buis_txt)"
   ]
  },
  {
   "cell_type": "markdown",
   "metadata": {},
   "source": [
    "### что-то ещё?"
   ]
  },
  {
   "cell_type": "markdown",
   "metadata": {},
   "source": [
    "## морфологические"
   ]
  },
  {
   "cell_type": "markdown",
   "metadata": {},
   "source": [
    "### абсолютная и относительная частота омонимичных словоформ "
   ]
  },
  {
   "cell_type": "markdown",
   "metadata": {},
   "source": [
    "?????"
   ]
  },
  {
   "cell_type": "code",
   "execution_count": 20,
   "metadata": {},
   "outputs": [],
   "source": [
    "def get_wordsample_freqs(txt):\n",
    "    ns = {}\n",
    "    for w in re.findall(r'\\w+',txt):\n",
    "        nfs = morph.normal_forms(w)\n",
    "        ns[nfs[0]] = ns.get(nfs[0],0)+1#int(len(nfs)>1)\n",
    "    counts = np.array([x for x in ns.values()])\n",
    "    #print(counts[:5])\n",
    "    abs_freq = np.mean(counts/counts.sum())\n",
    "    rel_freq = np.mean(counts/len(ns))\n",
    "    return abs_freq, rel_freq"
   ]
  },
  {
   "cell_type": "code",
   "execution_count": 21,
   "metadata": {},
   "outputs": [
    {
     "data": {
      "text/plain": [
       "(0.001579778830963665, 0.004008096054546044)"
      ]
     },
     "execution_count": 21,
     "metadata": {},
     "output_type": "execute_result"
    }
   ],
   "source": [
    "get_wordsample_freqs(alice_txt_by_chapter[1])"
   ]
  },
  {
   "cell_type": "code",
   "execution_count": 22,
   "metadata": {},
   "outputs": [
    {
     "data": {
      "text/plain": [
       "(0.0015313935681470138, 0.003946914816525918)"
      ]
     },
     "execution_count": 22,
     "metadata": {},
     "output_type": "execute_result"
    }
   ],
   "source": [
    "get_wordsample_freqs(alice_txt_by_chapter[0])"
   ]
  },
  {
   "cell_type": "code",
   "execution_count": 23,
   "metadata": {},
   "outputs": [
    {
     "data": {
      "text/plain": [
       "(0.00165016501650165, 0.003629818427387293)"
      ]
     },
     "execution_count": 23,
     "metadata": {},
     "output_type": "execute_result"
    }
   ],
   "source": [
    "get_wordsample_freqs(how_to_buis_txt)"
   ]
  },
  {
   "cell_type": "markdown",
   "metadata": {},
   "source": [
    "### процент разных частей речи"
   ]
  },
  {
   "cell_type": "code",
   "execution_count": 24,
   "metadata": {},
   "outputs": [],
   "source": [
    "def get_POS_percent(txt):\n",
    "    ns = {x:0 for x in list(morph.parse('')[0].tag.PARTS_OF_SPEECH)+['None']}\n",
    "    for w in re.findall(r'\\w+', txt):\n",
    "        pos = morph.parse(w)[0].tag.POS\n",
    "        pos = pos if pos is not None else 'None'        \n",
    "        ns[pos] += 1\n",
    "    ns = {k:v/sum(ns.values()) for k,v in ns.items()}\n",
    "    return ns"
   ]
  },
  {
   "cell_type": "code",
   "execution_count": 25,
   "metadata": {},
   "outputs": [
    {
     "data": {
      "text/plain": [
       "NOUN    0.203611\n",
       "VERB    0.162516\n",
       "CONJ    0.121420\n",
       "NPRO    0.108966\n",
       "PREP    0.094645\n",
       "dtype: float64"
      ]
     },
     "execution_count": 25,
     "metadata": {},
     "output_type": "execute_result"
    }
   ],
   "source": [
    "pd.Series(get_POS_percent(alice_txt_by_chapter[1])).sort_values(ascending=False).head()"
   ]
  },
  {
   "cell_type": "code",
   "execution_count": 26,
   "metadata": {},
   "outputs": [
    {
     "data": {
      "text/plain": [
       "NOUN    0.203209\n",
       "VERB    0.151515\n",
       "CONJ    0.124183\n",
       "NPRO    0.105764\n",
       "PREP    0.101010\n",
       "dtype: float64"
      ]
     },
     "execution_count": 26,
     "metadata": {},
     "output_type": "execute_result"
    }
   ],
   "source": [
    "pd.Series(get_POS_percent(alice_txt_by_chapter[0])).sort_values(ascending=False).head()"
   ]
  },
  {
   "cell_type": "code",
   "execution_count": 27,
   "metadata": {},
   "outputs": [
    {
     "data": {
      "text/plain": [
       "NOUN    0.401350\n",
       "ADJF    0.171043\n",
       "CONJ    0.098275\n",
       "PREP    0.096024\n",
       "VERB    0.058515\n",
       "dtype: float64"
      ]
     },
     "execution_count": 27,
     "metadata": {},
     "output_type": "execute_result"
    }
   ],
   "source": [
    "pd.Series(get_POS_percent(how_to_buis_txt)).sort_values(ascending=False).head()"
   ]
  },
  {
   "cell_type": "markdown",
   "metadata": {},
   "source": [
    "### наиболее частотные падежи у существительных и прилагательных"
   ]
  },
  {
   "cell_type": "code",
   "execution_count": 29,
   "metadata": {},
   "outputs": [],
   "source": [
    "def get_case_percent(txt):\n",
    "    ns = {x:0 for x in list(morph.parse('')[0].tag.CASES)+['None']}\n",
    "    for w in re.findall(r'\\w+', txt):\n",
    "        case = morph.parse(w)[0].tag.case\n",
    "        case = case if case is not None else 'None'        \n",
    "        ns[case] += 1\n",
    "    ns = {k:v/sum(ns.values()) for k,v in ns.items()}\n",
    "    return ns"
   ]
  },
  {
   "cell_type": "code",
   "execution_count": 30,
   "metadata": {},
   "outputs": [],
   "source": [
    "case_verb = {'nomn':'Им','gent':'Род','datv':'Дат','accs':'Вин','ablt':'Твор','loct':'Предл','voct':'Зват','gen2':'Род2','acc2':'Вин2','loc2':'Предл2','None':'None'}"
   ]
  },
  {
   "cell_type": "code",
   "execution_count": 31,
   "metadata": {},
   "outputs": [
    {
     "data": {
      "text/plain": [
       "None      0.609031\n",
       "Им        0.155080\n",
       "Род       0.093880\n",
       "Вин       0.051693\n",
       "Дат       0.034462\n",
       "Твор      0.027332\n",
       "Предл     0.024361\n",
       "Род2      0.001783\n",
       "Предл2    0.001783\n",
       "Зват      0.000594\n",
       "loc1      0.000000\n",
       "gen1      0.000000\n",
       "Вин2      0.000000\n",
       "dtype: float64"
      ]
     },
     "execution_count": 31,
     "metadata": {},
     "output_type": "execute_result"
    }
   ],
   "source": [
    "pd.Series(get_case_percent(alice_txt_by_chapter[0])).sort_values(ascending=False).rename(case_verb)"
   ]
  },
  {
   "cell_type": "code",
   "execution_count": 32,
   "metadata": {},
   "outputs": [
    {
     "data": {
      "text/plain": [
       "None      0.594645\n",
       "Им        0.185554\n",
       "Род       0.083437\n",
       "Вин       0.047323\n",
       "Дат       0.038605\n",
       "Предл     0.024284\n",
       "Твор      0.021793\n",
       "Предл2    0.003113\n",
       "Зват      0.001245\n",
       "Род2      0.000000\n",
       "loc1      0.000000\n",
       "gen1      0.000000\n",
       "Вин2      0.000000\n",
       "dtype: float64"
      ]
     },
     "execution_count": 32,
     "metadata": {},
     "output_type": "execute_result"
    }
   ],
   "source": [
    "pd.Series(get_case_percent(alice_txt_by_chapter[1])).sort_values(ascending=False).rename(case_verb)"
   ]
  },
  {
   "cell_type": "code",
   "execution_count": 33,
   "metadata": {},
   "outputs": [
    {
     "data": {
      "text/plain": [
       "None      0.378095\n",
       "Род       0.274569\n",
       "Им        0.158290\n",
       "Предл     0.058515\n",
       "Твор      0.050263\n",
       "Вин       0.044261\n",
       "Дат       0.033758\n",
       "Предл2    0.002251\n",
       "Зват      0.000000\n",
       "Род2      0.000000\n",
       "loc1      0.000000\n",
       "gen1      0.000000\n",
       "Вин2      0.000000\n",
       "dtype: float64"
      ]
     },
     "execution_count": 33,
     "metadata": {},
     "output_type": "execute_result"
    }
   ],
   "source": [
    "pd.Series(get_case_percent(how_to_buis_txt)).sort_values(ascending=False).rename(case_verb)"
   ]
  },
  {
   "cell_type": "code",
   "execution_count": 34,
   "metadata": {},
   "outputs": [],
   "source": [
    "txt = how_to_buis_txt"
   ]
  },
  {
   "cell_type": "markdown",
   "metadata": {},
   "source": [
    "### относительная частота падежей"
   ]
  },
  {
   "cell_type": "markdown",
   "metadata": {},
   "source": [
    "### наиболее частотные морфологические формы глаголов (время/лицо/число) и т.п."
   ]
  },
  {
   "cell_type": "code",
   "execution_count": 35,
   "metadata": {},
   "outputs": [],
   "source": [
    "def get_tag(w):\n",
    "    p = morph.parse(w)[0]\n",
    "    t = {'POS':p.tag.POS,           # Part of Speech, часть речи\n",
    "    'ANIM':p.tag.animacy,       # одушевленность\n",
    "    'ASP':p.tag.aspect,        # вид: совершенный или несовершенный\n",
    "    'CASE':p.tag.case,          # падеж\n",
    "    'GEND':p.tag.gender,        # род (мужской, женский, средний)\n",
    "    'INV':p.tag.involvement,   # включенность говорящего в действие\n",
    "    'MOOD':p.tag.mood,          # наклонение (повелительное, изъявительное)\n",
    "    'NUMB':p.tag.number,        # число (единственное, множественное)\n",
    "    'PERS':p.tag.person,        # лицо (1, 2, 3)\n",
    "    'TENS':p.tag.tense,         # время (настоящее, прошедшее, будущее)\n",
    "    'TRANS':p.tag.transitivity,  # переходность (переходный, непереходный)\n",
    "    'VOICE':p.tag.voice,         # залог (действительный, страдательный)\n",
    "    }\n",
    "    return t"
   ]
  },
  {
   "cell_type": "code",
   "execution_count": 36,
   "metadata": {},
   "outputs": [],
   "source": [
    "def get_freq_morphforms(txt):\n",
    "    cds = pd.concat([pd.Series(get_tag(w)) for w in re.findall('\\w+', txt)],1).T\n",
    "    cds = cds[cds['POS']=='VERB'].drop('POS',1)\n",
    "    cds = cds[[f for f in cds.columns if cds[f].nunique()>0]]\n",
    "\n",
    "    cds_plane = pd.concat([ cds[f].value_counts().reset_index().rename(columns={'index':'value',f:'count'}) for f in cds.columns],0)\n",
    "    cds_plane['feature'] = [f_ for f in cds.columns for f_ in [f]*cds[f].nunique()]\n",
    "    cds_plane['percent'] = cds_plane['count']/len(cds)\n",
    "    cds_plane = cds_plane[['feature','value','percent']]\n",
    "    cds_plane = cds_plane.sort_values('percent', ascending=False)\n",
    "    return cds_plane"
   ]
  },
  {
   "cell_type": "code",
   "execution_count": 37,
   "metadata": {},
   "outputs": [
    {
     "data": {
      "text/html": [
       "<div>\n",
       "<style scoped>\n",
       "    .dataframe tbody tr th:only-of-type {\n",
       "        vertical-align: middle;\n",
       "    }\n",
       "\n",
       "    .dataframe tbody tr th {\n",
       "        vertical-align: top;\n",
       "    }\n",
       "\n",
       "    .dataframe thead th {\n",
       "        text-align: right;\n",
       "    }\n",
       "</style>\n",
       "<table border=\"1\" class=\"dataframe\">\n",
       "  <thead>\n",
       "    <tr style=\"text-align: right;\">\n",
       "      <th></th>\n",
       "      <th>feature</th>\n",
       "      <th>value</th>\n",
       "      <th>percent</th>\n",
       "    </tr>\n",
       "  </thead>\n",
       "  <tbody>\n",
       "    <tr>\n",
       "      <td>0</td>\n",
       "      <td>MOOD</td>\n",
       "      <td>indc</td>\n",
       "      <td>0.968627</td>\n",
       "    </tr>\n",
       "    <tr>\n",
       "      <td>0</td>\n",
       "      <td>NUMB</td>\n",
       "      <td>sing</td>\n",
       "      <td>0.905882</td>\n",
       "    </tr>\n",
       "    <tr>\n",
       "      <td>0</td>\n",
       "      <td>TENS</td>\n",
       "      <td>past</td>\n",
       "      <td>0.698039</td>\n",
       "    </tr>\n",
       "    <tr>\n",
       "      <td>0</td>\n",
       "      <td>TRANS</td>\n",
       "      <td>intr</td>\n",
       "      <td>0.643137</td>\n",
       "    </tr>\n",
       "    <tr>\n",
       "      <td>0</td>\n",
       "      <td>ASP</td>\n",
       "      <td>impf</td>\n",
       "      <td>0.525490</td>\n",
       "    </tr>\n",
       "    <tr>\n",
       "      <td>1</td>\n",
       "      <td>ASP</td>\n",
       "      <td>perf</td>\n",
       "      <td>0.474510</td>\n",
       "    </tr>\n",
       "    <tr>\n",
       "      <td>0</td>\n",
       "      <td>GEND</td>\n",
       "      <td>femn</td>\n",
       "      <td>0.435294</td>\n",
       "    </tr>\n",
       "    <tr>\n",
       "      <td>1</td>\n",
       "      <td>TRANS</td>\n",
       "      <td>tran</td>\n",
       "      <td>0.356863</td>\n",
       "    </tr>\n",
       "    <tr>\n",
       "      <td>1</td>\n",
       "      <td>TENS</td>\n",
       "      <td>pres</td>\n",
       "      <td>0.160784</td>\n",
       "    </tr>\n",
       "    <tr>\n",
       "      <td>1</td>\n",
       "      <td>GEND</td>\n",
       "      <td>neut</td>\n",
       "      <td>0.133333</td>\n",
       "    </tr>\n",
       "  </tbody>\n",
       "</table>\n",
       "</div>"
      ],
      "text/plain": [
       "  feature value   percent\n",
       "0    MOOD  indc  0.968627\n",
       "0    NUMB  sing  0.905882\n",
       "0    TENS  past  0.698039\n",
       "0   TRANS  intr  0.643137\n",
       "0     ASP  impf  0.525490\n",
       "1     ASP  perf  0.474510\n",
       "0    GEND  femn  0.435294\n",
       "1   TRANS  tran  0.356863\n",
       "1    TENS  pres  0.160784\n",
       "1    GEND  neut  0.133333"
      ]
     },
     "execution_count": 37,
     "metadata": {},
     "output_type": "execute_result"
    }
   ],
   "source": [
    "get_freq_morphforms(alice_txt_by_chapter[0]).head(10)"
   ]
  },
  {
   "cell_type": "code",
   "execution_count": 38,
   "metadata": {},
   "outputs": [
    {
     "data": {
      "text/html": [
       "<div>\n",
       "<style scoped>\n",
       "    .dataframe tbody tr th:only-of-type {\n",
       "        vertical-align: middle;\n",
       "    }\n",
       "\n",
       "    .dataframe tbody tr th {\n",
       "        vertical-align: top;\n",
       "    }\n",
       "\n",
       "    .dataframe thead th {\n",
       "        text-align: right;\n",
       "    }\n",
       "</style>\n",
       "<table border=\"1\" class=\"dataframe\">\n",
       "  <thead>\n",
       "    <tr style=\"text-align: right;\">\n",
       "      <th></th>\n",
       "      <th>feature</th>\n",
       "      <th>value</th>\n",
       "      <th>percent</th>\n",
       "    </tr>\n",
       "  </thead>\n",
       "  <tbody>\n",
       "    <tr>\n",
       "      <td>0</td>\n",
       "      <td>MOOD</td>\n",
       "      <td>indc</td>\n",
       "      <td>0.946360</td>\n",
       "    </tr>\n",
       "    <tr>\n",
       "      <td>0</td>\n",
       "      <td>NUMB</td>\n",
       "      <td>sing</td>\n",
       "      <td>0.858238</td>\n",
       "    </tr>\n",
       "    <tr>\n",
       "      <td>0</td>\n",
       "      <td>TRANS</td>\n",
       "      <td>intr</td>\n",
       "      <td>0.605364</td>\n",
       "    </tr>\n",
       "    <tr>\n",
       "      <td>0</td>\n",
       "      <td>TENS</td>\n",
       "      <td>past</td>\n",
       "      <td>0.593870</td>\n",
       "    </tr>\n",
       "    <tr>\n",
       "      <td>0</td>\n",
       "      <td>ASP</td>\n",
       "      <td>perf</td>\n",
       "      <td>0.582375</td>\n",
       "    </tr>\n",
       "    <tr>\n",
       "      <td>0</td>\n",
       "      <td>GEND</td>\n",
       "      <td>femn</td>\n",
       "      <td>0.440613</td>\n",
       "    </tr>\n",
       "    <tr>\n",
       "      <td>1</td>\n",
       "      <td>ASP</td>\n",
       "      <td>impf</td>\n",
       "      <td>0.417625</td>\n",
       "    </tr>\n",
       "    <tr>\n",
       "      <td>1</td>\n",
       "      <td>TRANS</td>\n",
       "      <td>tran</td>\n",
       "      <td>0.394636</td>\n",
       "    </tr>\n",
       "    <tr>\n",
       "      <td>0</td>\n",
       "      <td>PERS</td>\n",
       "      <td>3per</td>\n",
       "      <td>0.180077</td>\n",
       "    </tr>\n",
       "    <tr>\n",
       "      <td>1</td>\n",
       "      <td>TENS</td>\n",
       "      <td>futr</td>\n",
       "      <td>0.180077</td>\n",
       "    </tr>\n",
       "  </tbody>\n",
       "</table>\n",
       "</div>"
      ],
      "text/plain": [
       "  feature value   percent\n",
       "0    MOOD  indc  0.946360\n",
       "0    NUMB  sing  0.858238\n",
       "0   TRANS  intr  0.605364\n",
       "0    TENS  past  0.593870\n",
       "0     ASP  perf  0.582375\n",
       "0    GEND  femn  0.440613\n",
       "1     ASP  impf  0.417625\n",
       "1   TRANS  tran  0.394636\n",
       "0    PERS  3per  0.180077\n",
       "1    TENS  futr  0.180077"
      ]
     },
     "execution_count": 38,
     "metadata": {},
     "output_type": "execute_result"
    }
   ],
   "source": [
    "get_freq_morphforms(alice_txt_by_chapter[1]).head(10)"
   ]
  },
  {
   "cell_type": "code",
   "execution_count": 39,
   "metadata": {},
   "outputs": [
    {
     "data": {
      "text/html": [
       "<div>\n",
       "<style scoped>\n",
       "    .dataframe tbody tr th:only-of-type {\n",
       "        vertical-align: middle;\n",
       "    }\n",
       "\n",
       "    .dataframe tbody tr th {\n",
       "        vertical-align: top;\n",
       "    }\n",
       "\n",
       "    .dataframe thead tr th {\n",
       "        text-align: left;\n",
       "    }\n",
       "</style>\n",
       "<table border=\"1\" class=\"dataframe\">\n",
       "  <thead>\n",
       "    <tr>\n",
       "      <th>feature</th>\n",
       "      <th colspan=\"2\" halign=\"left\">ASP</th>\n",
       "      <th colspan=\"2\" halign=\"left\">GEND</th>\n",
       "      <th>INV</th>\n",
       "      <th colspan=\"2\" halign=\"left\">MOOD</th>\n",
       "      <th colspan=\"2\" halign=\"left\">NUMB</th>\n",
       "      <th colspan=\"2\" halign=\"left\">PERS</th>\n",
       "      <th colspan=\"3\" halign=\"left\">TENS</th>\n",
       "      <th colspan=\"2\" halign=\"left\">TRANS</th>\n",
       "    </tr>\n",
       "    <tr>\n",
       "      <th>value</th>\n",
       "      <th>impf</th>\n",
       "      <th>perf</th>\n",
       "      <th>masc</th>\n",
       "      <th>neut</th>\n",
       "      <th>excl</th>\n",
       "      <th>impr</th>\n",
       "      <th>indc</th>\n",
       "      <th>plur</th>\n",
       "      <th>sing</th>\n",
       "      <th>1per</th>\n",
       "      <th>3per</th>\n",
       "      <th>futr</th>\n",
       "      <th>past</th>\n",
       "      <th>pres</th>\n",
       "      <th>intr</th>\n",
       "      <th>tran</th>\n",
       "    </tr>\n",
       "  </thead>\n",
       "  <tbody>\n",
       "    <tr>\n",
       "      <td>percent</td>\n",
       "      <td>0.846154</td>\n",
       "      <td>0.153846</td>\n",
       "      <td>0.038462</td>\n",
       "      <td>0.038462</td>\n",
       "      <td>0.038462</td>\n",
       "      <td>0.038462</td>\n",
       "      <td>0.961538</td>\n",
       "      <td>0.24359</td>\n",
       "      <td>0.75641</td>\n",
       "      <td>0.089744</td>\n",
       "      <td>0.794872</td>\n",
       "      <td>0.102564</td>\n",
       "      <td>0.076923</td>\n",
       "      <td>0.782051</td>\n",
       "      <td>0.602564</td>\n",
       "      <td>0.397436</td>\n",
       "    </tr>\n",
       "  </tbody>\n",
       "</table>\n",
       "</div>"
      ],
      "text/plain": [
       "feature       ASP                GEND                 INV      MOOD            \\\n",
       "value        impf      perf      masc      neut      excl      impr      indc   \n",
       "percent  0.846154  0.153846  0.038462  0.038462  0.038462  0.038462  0.961538   \n",
       "\n",
       "feature     NUMB               PERS                TENS                      \\\n",
       "value       plur     sing      1per      3per      futr      past      pres   \n",
       "percent  0.24359  0.75641  0.089744  0.794872  0.102564  0.076923  0.782051   \n",
       "\n",
       "feature     TRANS            \n",
       "value        intr      tran  \n",
       "percent  0.602564  0.397436  "
      ]
     },
     "execution_count": 39,
     "metadata": {},
     "output_type": "execute_result"
    }
   ],
   "source": [
    "get_freq_morphforms(txt).groupby(['feature','value'])['percent'].mean().to_frame().T"
   ]
  },
  {
   "cell_type": "code",
   "execution_count": 40,
   "metadata": {},
   "outputs": [],
   "source": [
    "cds1 = pd.concat([get_freq_morphforms(txt).groupby(['feature','value'])['percent'].mean().to_frame().T for txt in [how_to_buis_txt, alice_txt_by_chapter[1]]])"
   ]
  },
  {
   "cell_type": "code",
   "execution_count": 41,
   "metadata": {},
   "outputs": [],
   "source": [
    "cds1.index = ['doc','art']"
   ]
  },
  {
   "cell_type": "code",
   "execution_count": 42,
   "metadata": {},
   "outputs": [],
   "source": [
    "cds1 = cds1.fillna(0)"
   ]
  },
  {
   "cell_type": "code",
   "execution_count": 43,
   "metadata": {},
   "outputs": [
    {
     "data": {
      "text/html": [
       "<div>\n",
       "<style scoped>\n",
       "    .dataframe tbody tr th:only-of-type {\n",
       "        vertical-align: middle;\n",
       "    }\n",
       "\n",
       "    .dataframe tbody tr th {\n",
       "        vertical-align: top;\n",
       "    }\n",
       "\n",
       "    .dataframe thead tr th {\n",
       "        text-align: left;\n",
       "    }\n",
       "</style>\n",
       "<table border=\"1\" class=\"dataframe\">\n",
       "  <thead>\n",
       "    <tr>\n",
       "      <th>feature</th>\n",
       "      <th>PERS</th>\n",
       "      <th colspan=\"2\" halign=\"left\">TENS</th>\n",
       "      <th>GEND</th>\n",
       "      <th colspan=\"2\" halign=\"left\">ASP</th>\n",
       "      <th colspan=\"2\" halign=\"left\">NUMB</th>\n",
       "    </tr>\n",
       "    <tr>\n",
       "      <th>value</th>\n",
       "      <th>3per</th>\n",
       "      <th>pres</th>\n",
       "      <th>past</th>\n",
       "      <th>femn</th>\n",
       "      <th>perf</th>\n",
       "      <th>impf</th>\n",
       "      <th>sing</th>\n",
       "      <th>plur</th>\n",
       "    </tr>\n",
       "  </thead>\n",
       "  <tbody>\n",
       "    <tr>\n",
       "      <td>doc</td>\n",
       "      <td>0.794872</td>\n",
       "      <td>0.782051</td>\n",
       "      <td>0.076923</td>\n",
       "      <td>0.000000</td>\n",
       "      <td>0.153846</td>\n",
       "      <td>0.846154</td>\n",
       "      <td>0.756410</td>\n",
       "      <td>0.243590</td>\n",
       "    </tr>\n",
       "    <tr>\n",
       "      <td>art</td>\n",
       "      <td>0.180077</td>\n",
       "      <td>0.172414</td>\n",
       "      <td>0.593870</td>\n",
       "      <td>0.440613</td>\n",
       "      <td>0.582375</td>\n",
       "      <td>0.417625</td>\n",
       "      <td>0.858238</td>\n",
       "      <td>0.141762</td>\n",
       "    </tr>\n",
       "  </tbody>\n",
       "</table>\n",
       "</div>"
      ],
      "text/plain": [
       "feature      PERS      TENS                GEND       ASP                NUMB  \\\n",
       "value        3per      pres      past      femn      perf      impf      sing   \n",
       "doc      0.794872  0.782051  0.076923  0.000000  0.153846  0.846154  0.756410   \n",
       "art      0.180077  0.172414  0.593870  0.440613  0.582375  0.417625  0.858238   \n",
       "\n",
       "feature            \n",
       "value        plur  \n",
       "doc      0.243590  \n",
       "art      0.141762  "
      ]
     },
     "execution_count": 43,
     "metadata": {},
     "output_type": "execute_result"
    }
   ],
   "source": [
    "s = (cds1.loc['doc']-cds1.loc['art']).abs().sort_values(ascending=False)\n",
    "s = s[s>0.1]\n",
    "cds1[s.index]"
   ]
  },
  {
   "cell_type": "code",
   "execution_count": 44,
   "metadata": {},
   "outputs": [
    {
     "data": {
      "text/html": [
       "<div>\n",
       "<style scoped>\n",
       "    .dataframe tbody tr th:only-of-type {\n",
       "        vertical-align: middle;\n",
       "    }\n",
       "\n",
       "    .dataframe tbody tr th {\n",
       "        vertical-align: top;\n",
       "    }\n",
       "\n",
       "    .dataframe thead th {\n",
       "        text-align: right;\n",
       "    }\n",
       "</style>\n",
       "<table border=\"1\" class=\"dataframe\">\n",
       "  <thead>\n",
       "    <tr style=\"text-align: right;\">\n",
       "      <th></th>\n",
       "      <th></th>\n",
       "      <th>percent</th>\n",
       "      <th>type</th>\n",
       "    </tr>\n",
       "    <tr>\n",
       "      <th>feature</th>\n",
       "      <th>value</th>\n",
       "      <th></th>\n",
       "      <th></th>\n",
       "    </tr>\n",
       "  </thead>\n",
       "  <tbody>\n",
       "    <tr>\n",
       "      <td>PERS</td>\n",
       "      <td>3per</td>\n",
       "      <td>0.794872</td>\n",
       "      <td>doc</td>\n",
       "    </tr>\n",
       "    <tr>\n",
       "      <td rowspan=\"2\" valign=\"top\">TENS</td>\n",
       "      <td>pres</td>\n",
       "      <td>0.782051</td>\n",
       "      <td>doc</td>\n",
       "    </tr>\n",
       "    <tr>\n",
       "      <td>past</td>\n",
       "      <td>0.076923</td>\n",
       "      <td>doc</td>\n",
       "    </tr>\n",
       "    <tr>\n",
       "      <td>GEND</td>\n",
       "      <td>femn</td>\n",
       "      <td>0.000000</td>\n",
       "      <td>doc</td>\n",
       "    </tr>\n",
       "    <tr>\n",
       "      <td rowspan=\"2\" valign=\"top\">ASP</td>\n",
       "      <td>perf</td>\n",
       "      <td>0.153846</td>\n",
       "      <td>doc</td>\n",
       "    </tr>\n",
       "    <tr>\n",
       "      <td>impf</td>\n",
       "      <td>0.846154</td>\n",
       "      <td>doc</td>\n",
       "    </tr>\n",
       "    <tr>\n",
       "      <td rowspan=\"2\" valign=\"top\">NUMB</td>\n",
       "      <td>sing</td>\n",
       "      <td>0.756410</td>\n",
       "      <td>doc</td>\n",
       "    </tr>\n",
       "    <tr>\n",
       "      <td>plur</td>\n",
       "      <td>0.243590</td>\n",
       "      <td>doc</td>\n",
       "    </tr>\n",
       "    <tr>\n",
       "      <td>PERS</td>\n",
       "      <td>3per</td>\n",
       "      <td>0.180077</td>\n",
       "      <td>art</td>\n",
       "    </tr>\n",
       "    <tr>\n",
       "      <td rowspan=\"2\" valign=\"top\">TENS</td>\n",
       "      <td>pres</td>\n",
       "      <td>0.172414</td>\n",
       "      <td>art</td>\n",
       "    </tr>\n",
       "    <tr>\n",
       "      <td>past</td>\n",
       "      <td>0.593870</td>\n",
       "      <td>art</td>\n",
       "    </tr>\n",
       "    <tr>\n",
       "      <td>GEND</td>\n",
       "      <td>femn</td>\n",
       "      <td>0.440613</td>\n",
       "      <td>art</td>\n",
       "    </tr>\n",
       "    <tr>\n",
       "      <td rowspan=\"2\" valign=\"top\">ASP</td>\n",
       "      <td>perf</td>\n",
       "      <td>0.582375</td>\n",
       "      <td>art</td>\n",
       "    </tr>\n",
       "    <tr>\n",
       "      <td>impf</td>\n",
       "      <td>0.417625</td>\n",
       "      <td>art</td>\n",
       "    </tr>\n",
       "    <tr>\n",
       "      <td rowspan=\"2\" valign=\"top\">NUMB</td>\n",
       "      <td>sing</td>\n",
       "      <td>0.858238</td>\n",
       "      <td>art</td>\n",
       "    </tr>\n",
       "    <tr>\n",
       "      <td>plur</td>\n",
       "      <td>0.141762</td>\n",
       "      <td>art</td>\n",
       "    </tr>\n",
       "  </tbody>\n",
       "</table>\n",
       "</div>"
      ],
      "text/plain": [
       "                percent type\n",
       "feature value               \n",
       "PERS    3per   0.794872  doc\n",
       "TENS    pres   0.782051  doc\n",
       "        past   0.076923  doc\n",
       "GEND    femn   0.000000  doc\n",
       "ASP     perf   0.153846  doc\n",
       "        impf   0.846154  doc\n",
       "NUMB    sing   0.756410  doc\n",
       "        plur   0.243590  doc\n",
       "PERS    3per   0.180077  art\n",
       "TENS    pres   0.172414  art\n",
       "        past   0.593870  art\n",
       "GEND    femn   0.440613  art\n",
       "ASP     perf   0.582375  art\n",
       "        impf   0.417625  art\n",
       "NUMB    sing   0.858238  art\n",
       "        plur   0.141762  art"
      ]
     },
     "execution_count": 44,
     "metadata": {},
     "output_type": "execute_result"
    }
   ],
   "source": [
    "s_ = cds1[s.index].T\n",
    "s_ = pd.concat([s_['doc'], s_['art']]).to_frame()\n",
    "s_.columns = ['percent']\n",
    "s_['type'] = ['doc']*len(s)+['art']*len(s)\n",
    "s_"
   ]
  },
  {
   "cell_type": "code",
   "execution_count": 45,
   "metadata": {},
   "outputs": [
    {
     "data": {
      "text/plain": [
       "<matplotlib.axes._subplots.AxesSubplot at 0x7f3a60be47d0>"
      ]
     },
     "execution_count": 45,
     "metadata": {},
     "output_type": "execute_result"
    },
    {
     "data": {
      "image/png": "[encoded data removed]",
      "text/plain": [
       "<Figure size 1080x576 with 1 Axes>"
      ]
     },
     "metadata": {
      "needs_background": "light"
     },
     "output_type": "display_data"
    }
   ],
   "source": [
    "plt.figure(figsize=(15,8))\n",
    "sns.barplot(x=s_['percent'], y=s_.index, hue=s_['type'])"
   ]
  },
  {
   "cell_type": "markdown",
   "metadata": {},
   "source": [
    "## лексические"
   ]
  },
  {
   "cell_type": "markdown",
   "metadata": {},
   "source": [
    "### количество уникальных лемм"
   ]
  },
  {
   "cell_type": "code",
   "execution_count": 46,
   "metadata": {},
   "outputs": [],
   "source": [
    "def get_n_uniq_lemmes(txt):\n",
    "    return len(set([morph.normal_forms(x)[0] for x in re.findall(r'\\w+', txt)]))"
   ]
  },
  {
   "cell_type": "code",
   "execution_count": 47,
   "metadata": {},
   "outputs": [
    {
     "data": {
      "text/plain": [
       "(606, 633)"
      ]
     },
     "execution_count": 47,
     "metadata": {},
     "output_type": "execute_result"
    }
   ],
   "source": [
    "get_n_uniq_lemmes(how_to_buis_txt), get_n_uniq_lemmes(alice_txt_by_chapter[1])"
   ]
  },
  {
   "cell_type": "markdown",
   "metadata": {},
   "source": [
    "### число уникальных лемм разных частей речи (существительных, глаголов и др.)"
   ]
  },
  {
   "cell_type": "code",
   "execution_count": 48,
   "metadata": {},
   "outputs": [],
   "source": [
    "def get_n_uniq_lemmes_by_pos(txt):\n",
    "    lem_sets = {k:set() for k in list(morph.parse('')[0].tag.PARTS_OF_SPEECH)+['None']}\n",
    "    for w in re.findall(r'\\w+', txt):\n",
    "        p = morph.parse(w)[0]\n",
    "        pos = p.tag.POS if p.tag.POS is not None else 'None'\n",
    "        lem_sets[pos].add(p.normal_form)\n",
    "    ns = {k:len(v) for k,v in lem_sets.items()}\n",
    "    return ns"
   ]
  },
  {
   "cell_type": "code",
   "execution_count": 49,
   "metadata": {},
   "outputs": [
    {
     "data": {
      "text/plain": [
       "NOUN    178\n",
       "VERB    154\n",
       "ADVB     83\n",
       "ADJF     58\n",
       "INFN     40\n",
       "CONJ     28\n",
       "PRCL     18\n",
       "PREP     16\n",
       "ADJS     14\n",
       "NPRO     13\n",
       "GRND     10\n",
       "NUMR      9\n",
       "None      8\n",
       "PRED      8\n",
       "COMP      7\n",
       "INTJ      4\n",
       "PRTS      2\n",
       "PRTF      2\n",
       "dtype: int64"
      ]
     },
     "execution_count": 49,
     "metadata": {},
     "output_type": "execute_result"
    }
   ],
   "source": [
    "pd.Series(get_n_uniq_lemmes_by_pos(alice_txt_by_chapter[1])).sort_values(ascending=False)"
   ]
  },
  {
   "cell_type": "code",
   "execution_count": 50,
   "metadata": {},
   "outputs": [
    {
     "data": {
      "text/plain": [
       "NOUN    271\n",
       "ADJF    107\n",
       "VERB     62\n",
       "ADVB     34\n",
       "PRTF     26\n",
       "INFN     25\n",
       "CONJ     18\n",
       "ADJS     16\n",
       "PREP     15\n",
       "None     14\n",
       "PRTS     11\n",
       "PRCL     11\n",
       "NPRO      8\n",
       "GRND      6\n",
       "PRED      2\n",
       "INTJ      2\n",
       "NUMR      2\n",
       "COMP      0\n",
       "dtype: int64"
      ]
     },
     "execution_count": 50,
     "metadata": {},
     "output_type": "execute_result"
    }
   ],
   "source": [
    "pd.Series(get_n_uniq_lemmes_by_pos(how_to_buis_txt)).sort_values(ascending=False)"
   ]
  },
  {
   "cell_type": "markdown",
   "metadata": {},
   "source": [
    "### число незнакомых слов"
   ]
  },
  {
   "cell_type": "code",
   "execution_count": 51,
   "metadata": {},
   "outputs": [],
   "source": [
    "def get_n_unknown_words(txt):\n",
    "    return 1-np.mean([morph.word_is_known(w) for w in re.findall('\\w+', txt)])"
   ]
  },
  {
   "cell_type": "code",
   "execution_count": 52,
   "metadata": {},
   "outputs": [
    {
     "data": {
      "text/plain": [
       "0.013698630136986356"
      ]
     },
     "execution_count": 52,
     "metadata": {},
     "output_type": "execute_result"
    }
   ],
   "source": [
    "get_n_unknown_words(alice_txt_by_chapter[1])"
   ]
  },
  {
   "cell_type": "code",
   "execution_count": 53,
   "metadata": {},
   "outputs": [
    {
     "data": {
      "text/plain": [
       "0.002376708259061222"
      ]
     },
     "execution_count": 53,
     "metadata": {},
     "output_type": "execute_result"
    }
   ],
   "source": [
    "get_n_unknown_words(alice_txt_by_chapter[0])"
   ]
  },
  {
   "cell_type": "code",
   "execution_count": 54,
   "metadata": {},
   "outputs": [
    {
     "data": {
      "text/plain": [
       "0.07201800450112528"
      ]
     },
     "execution_count": 54,
     "metadata": {},
     "output_type": "execute_result"
    }
   ],
   "source": [
    "get_n_unknown_words(how_to_buis_txt)"
   ]
  },
  {
   "cell_type": "markdown",
   "metadata": {},
   "source": [
    "### самые частотные слова и их относительная частота"
   ]
  },
  {
   "cell_type": "code",
   "execution_count": 55,
   "metadata": {},
   "outputs": [],
   "source": [
    "def get_freq_words(txt):\n",
    "    freqs = {}\n",
    "    for w in re.findall('\\w+',txt):\n",
    "        w = w.lower()\n",
    "        freqs[w] = freqs.get(w,0)+1\n",
    "    freqs = pd.Series(freqs).sort_values(ascending=False)\n",
    "    freqs = freqs/freqs.sum()\n",
    "    return freqs"
   ]
  },
  {
   "cell_type": "code",
   "execution_count": 56,
   "metadata": {},
   "outputs": [
    {
     "data": {
      "text/plain": [
       "и          0.038605\n",
       "она        0.028020\n",
       "в          0.026775\n",
       "я          0.020548\n",
       "не         0.020548\n",
       "алиса      0.018057\n",
       "что        0.014944\n",
       "а          0.012453\n",
       "на         0.011831\n",
       "мышь       0.008717\n",
       "как        0.008717\n",
       "это        0.008717\n",
       "так        0.008095\n",
       "с          0.007472\n",
       "все        0.007472\n",
       "у          0.006849\n",
       "мне        0.006849\n",
       "сказала    0.006227\n",
       "то         0.006227\n",
       "нее        0.005604\n",
       "если       0.005604\n",
       "от         0.005604\n",
       "за         0.005604\n",
       "была       0.005604\n",
       "dtype: float64"
      ]
     },
     "execution_count": 56,
     "metadata": {},
     "output_type": "execute_result"
    }
   ],
   "source": [
    "s1 = get_freq_words(alice_txt_by_chapter[1])\n",
    "s1[s1>0.005]"
   ]
  },
  {
   "cell_type": "code",
   "execution_count": 57,
   "metadata": {},
   "outputs": [
    {
     "data": {
      "text/plain": [
       "и               0.045761\n",
       "в               0.030758\n",
       "с               0.013503\n",
       "а               0.011253\n",
       "при             0.011253\n",
       "языка           0.010503\n",
       "документации    0.009002\n",
       "не              0.008252\n",
       "что             0.007502\n",
       "по              0.007502\n",
       "на              0.007502\n",
       "но              0.006752\n",
       "этом            0.006002\n",
       "рода            0.006002\n",
       "речи            0.006002\n",
       "как             0.006002\n",
       "к               0.006002\n",
       "о               0.005251\n",
       "их              0.005251\n",
       "стилистика      0.005251\n",
       "или             0.005251\n",
       "dtype: float64"
      ]
     },
     "execution_count": 57,
     "metadata": {},
     "output_type": "execute_result"
    }
   ],
   "source": [
    "s2 = get_freq_words(how_to_buis_txt)\n",
    "s2[s2>0.005]"
   ]
  },
  {
   "cell_type": "code",
   "execution_count": 58,
   "metadata": {},
   "outputs": [],
   "source": [
    "d1 = {}\n",
    "for w,v in s1.iteritems():\n",
    "    d1[len(w)] = d1.get(len(w),0)+v\n",
    "d1 = pd.Series(d1)"
   ]
  },
  {
   "cell_type": "code",
   "execution_count": 59,
   "metadata": {},
   "outputs": [],
   "source": [
    "d2 = {}\n",
    "for w,v in s2.iteritems():\n",
    "    d2[len(w)] = d2.get(len(w),0)+v\n",
    "d2 = pd.Series(d2)"
   ]
  },
  {
   "cell_type": "code",
   "execution_count": 60,
   "metadata": {},
   "outputs": [
    {
     "data": {
      "image/png": "[encoded data removed]",
      "text/plain": [
       "<Figure size 432x288 with 1 Axes>"
      ]
     },
     "metadata": {
      "needs_background": "light"
     },
     "output_type": "display_data"
    }
   ],
   "source": [
    "sns.lineplot(d1.index, d1.values, label='alice')\n",
    "sns.lineplot(d2.index, d2.values, label='doc')\n",
    "plt.legend()\n",
    "plt.title('Распределение длины слов')\n",
    "plt.show()"
   ]
  },
  {
   "cell_type": "markdown",
   "metadata": {},
   "source": [
    "### самые частотные слова основных частей речи (существительные, прилагательные, наречия, глаголы)"
   ]
  },
  {
   "cell_type": "code",
   "execution_count": 61,
   "metadata": {},
   "outputs": [
    {
     "data": {
      "text/html": [
       "<div>\n",
       "<style scoped>\n",
       "    .dataframe tbody tr th:only-of-type {\n",
       "        vertical-align: middle;\n",
       "    }\n",
       "\n",
       "    .dataframe tbody tr th {\n",
       "        vertical-align: top;\n",
       "    }\n",
       "\n",
       "    .dataframe thead th {\n",
       "        text-align: right;\n",
       "    }\n",
       "</style>\n",
       "<table border=\"1\" class=\"dataframe\">\n",
       "  <thead>\n",
       "    <tr style=\"text-align: right;\">\n",
       "      <th></th>\n",
       "      <th>word__NOUN</th>\n",
       "      <th>freq_POS__NOUN</th>\n",
       "      <th>word__ADJF</th>\n",
       "      <th>freq_POS__ADJF</th>\n",
       "      <th>word__ADVB</th>\n",
       "      <th>freq_POS__ADVB</th>\n",
       "      <th>word__VERB</th>\n",
       "      <th>freq_POS__VERB</th>\n",
       "    </tr>\n",
       "  </thead>\n",
       "  <tbody>\n",
       "    <tr>\n",
       "      <td>0</td>\n",
       "      <td>алиса</td>\n",
       "      <td>0.088685</td>\n",
       "      <td>все</td>\n",
       "      <td>0.087591</td>\n",
       "      <td>теперь</td>\n",
       "      <td>0.056338</td>\n",
       "      <td>сказала</td>\n",
       "      <td>0.038314</td>\n",
       "    </tr>\n",
       "    <tr>\n",
       "      <td>1</td>\n",
       "      <td>мышь</td>\n",
       "      <td>0.042813</td>\n",
       "      <td>какой</td>\n",
       "      <td>0.029197</td>\n",
       "      <td>тут</td>\n",
       "      <td>0.049296</td>\n",
       "      <td>была</td>\n",
       "      <td>0.034483</td>\n",
       "    </tr>\n",
       "    <tr>\n",
       "      <td>2</td>\n",
       "      <td>нее</td>\n",
       "      <td>0.027523</td>\n",
       "      <td>такая</td>\n",
       "      <td>0.029197</td>\n",
       "      <td>совсем</td>\n",
       "      <td>0.049296</td>\n",
       "      <td>подумала</td>\n",
       "      <td>0.030651</td>\n",
       "    </tr>\n",
       "    <tr>\n",
       "      <td>3</td>\n",
       "      <td>случае</td>\n",
       "      <td>0.015291</td>\n",
       "      <td>таком</td>\n",
       "      <td>0.021898</td>\n",
       "      <td>здесь</td>\n",
       "      <td>0.028169</td>\n",
       "      <td>будет</td>\n",
       "      <td>0.026820</td>\n",
       "    </tr>\n",
       "    <tr>\n",
       "      <td>4</td>\n",
       "      <td>кошек</td>\n",
       "      <td>0.015291</td>\n",
       "      <td>бедная</td>\n",
       "      <td>0.021898</td>\n",
       "      <td>всего</td>\n",
       "      <td>0.028169</td>\n",
       "      <td>было</td>\n",
       "      <td>0.022989</td>\n",
       "    </tr>\n",
       "    <tr>\n",
       "      <td>5</td>\n",
       "      <td>слова</td>\n",
       "      <td>0.012232</td>\n",
       "      <td>всех</td>\n",
       "      <td>0.021898</td>\n",
       "      <td>сегодня</td>\n",
       "      <td>0.028169</td>\n",
       "      <td>простите</td>\n",
       "      <td>0.015326</td>\n",
       "    </tr>\n",
       "    <tr>\n",
       "      <td>6</td>\n",
       "      <td>мейбл</td>\n",
       "      <td>0.012232</td>\n",
       "      <td>всяком</td>\n",
       "      <td>0.021898</td>\n",
       "      <td>опять</td>\n",
       "      <td>0.028169</td>\n",
       "      <td>может</td>\n",
       "      <td>0.011494</td>\n",
       "    </tr>\n",
       "  </tbody>\n",
       "</table>\n",
       "</div>"
      ],
      "text/plain": [
       "  word__NOUN  freq_POS__NOUN word__ADJF  freq_POS__ADJF word__ADVB  \\\n",
       "0      алиса        0.088685        все        0.087591     теперь   \n",
       "1       мышь        0.042813      какой        0.029197        тут   \n",
       "2        нее        0.027523      такая        0.029197     совсем   \n",
       "3     случае        0.015291      таком        0.021898      здесь   \n",
       "4      кошек        0.015291     бедная        0.021898      всего   \n",
       "5      слова        0.012232       всех        0.021898    сегодня   \n",
       "6      мейбл        0.012232     всяком        0.021898      опять   \n",
       "\n",
       "   freq_POS__ADVB word__VERB  freq_POS__VERB  \n",
       "0        0.056338    сказала        0.038314  \n",
       "1        0.049296       была        0.034483  \n",
       "2        0.049296   подумала        0.030651  \n",
       "3        0.028169      будет        0.026820  \n",
       "4        0.028169       было        0.022989  \n",
       "5        0.028169   простите        0.015326  \n",
       "6        0.028169      может        0.011494  "
      ]
     },
     "execution_count": 61,
     "metadata": {},
     "output_type": "execute_result"
    }
   ],
   "source": [
    "s1 = get_freq_words(alice_txt_by_chapter[1]).to_frame()\n",
    "s1.columns = ['freq']\n",
    "s1.index.name = 'word'\n",
    "s1['POS'] = [str(morph.parse(w)[0].tag.POS)  for w in s1.index]\n",
    "d = s1.groupby('POS')['freq'].sum().to_dict()\n",
    "s1['freq_POS_sum'] = s1['POS'].apply(lambda w: d[w])\n",
    "s1['freq_POS'] = s1['freq']/s1['freq_POS_sum']\n",
    "\n",
    "s1 = s1[s1['POS'].isin(['NOUN','ADJF','ADVB','VERB'])]\n",
    "\n",
    "cds1 = pd.concat([s1[s1['POS']==v][['freq_POS']].reset_index().sort_values(by='freq_POS', ascending=False).rename(columns={'word':'word__'+v,'freq_POS':'freq_POS__'+v})\n",
    "                 for v in ['NOUN','ADJF','ADVB','VERB']],1)\n",
    "\n",
    "cds1[(cds1[[f for f in cds1.columns if 'freq' in f]]>0.025).any(1)]"
   ]
  },
  {
   "cell_type": "code",
   "execution_count": 62,
   "metadata": {},
   "outputs": [
    {
     "data": {
      "text/html": [
       "<div>\n",
       "<style scoped>\n",
       "    .dataframe tbody tr th:only-of-type {\n",
       "        vertical-align: middle;\n",
       "    }\n",
       "\n",
       "    .dataframe tbody tr th {\n",
       "        vertical-align: top;\n",
       "    }\n",
       "\n",
       "    .dataframe thead th {\n",
       "        text-align: right;\n",
       "    }\n",
       "</style>\n",
       "<table border=\"1\" class=\"dataframe\">\n",
       "  <thead>\n",
       "    <tr style=\"text-align: right;\">\n",
       "      <th></th>\n",
       "      <th>word__NOUN</th>\n",
       "      <th>freq_POS__NOUN</th>\n",
       "      <th>word__ADJF</th>\n",
       "      <th>freq_POS__ADJF</th>\n",
       "      <th>word__ADVB</th>\n",
       "      <th>freq_POS__ADVB</th>\n",
       "      <th>word__VERB</th>\n",
       "      <th>freq_POS__VERB</th>\n",
       "    </tr>\n",
       "  </thead>\n",
       "  <tbody>\n",
       "    <tr>\n",
       "      <td>0</td>\n",
       "      <td>языка</td>\n",
       "      <td>0.026168</td>\n",
       "      <td>информационной</td>\n",
       "      <td>0.026316</td>\n",
       "      <td>всегда</td>\n",
       "      <td>0.095238</td>\n",
       "      <td>является</td>\n",
       "      <td>0.051282</td>\n",
       "    </tr>\n",
       "    <tr>\n",
       "      <td>1</td>\n",
       "      <td>документации</td>\n",
       "      <td>0.022430</td>\n",
       "      <td>деловая</td>\n",
       "      <td>0.026316</td>\n",
       "      <td>полезно</td>\n",
       "      <td>0.047619</td>\n",
       "      <td>может</td>\n",
       "      <td>0.038462</td>\n",
       "    </tr>\n",
       "    <tr>\n",
       "      <td>2</td>\n",
       "      <td>рода</td>\n",
       "      <td>0.014953</td>\n",
       "      <td>языковых</td>\n",
       "      <td>0.026316</td>\n",
       "      <td>часто</td>\n",
       "      <td>0.047619</td>\n",
       "      <td>рассматривается</td>\n",
       "      <td>0.025641</td>\n",
       "    </tr>\n",
       "    <tr>\n",
       "      <td>3</td>\n",
       "      <td>речи</td>\n",
       "      <td>0.014953</td>\n",
       "      <td>деловой</td>\n",
       "      <td>0.021930</td>\n",
       "      <td>несколько</td>\n",
       "      <td>0.047619</td>\n",
       "      <td>предполагает</td>\n",
       "      <td>0.025641</td>\n",
       "    </tr>\n",
       "    <tr>\n",
       "      <td>4</td>\n",
       "      <td>стилистика</td>\n",
       "      <td>0.013084</td>\n",
       "      <td>разного</td>\n",
       "      <td>0.021930</td>\n",
       "      <td>всего</td>\n",
       "      <td>0.047619</td>\n",
       "      <td>считается</td>\n",
       "      <td>0.025641</td>\n",
       "    </tr>\n",
       "    <tr>\n",
       "      <td>5</td>\n",
       "      <td>понятие</td>\n",
       "      <td>0.011215</td>\n",
       "      <td>русского</td>\n",
       "      <td>0.017544</td>\n",
       "      <td>правильно</td>\n",
       "      <td>0.047619</td>\n",
       "      <td>будет</td>\n",
       "      <td>0.025641</td>\n",
       "    </tr>\n",
       "    <tr>\n",
       "      <td>6</td>\n",
       "      <td>текста</td>\n",
       "      <td>0.009346</td>\n",
       "      <td>деловых</td>\n",
       "      <td>0.017544</td>\n",
       "      <td>лишенно</td>\n",
       "      <td>0.023810</td>\n",
       "      <td>существует</td>\n",
       "      <td>0.025641</td>\n",
       "    </tr>\n",
       "    <tr>\n",
       "      <td>7</td>\n",
       "      <td>стилистики</td>\n",
       "      <td>0.009346</td>\n",
       "      <td>разных</td>\n",
       "      <td>0.013158</td>\n",
       "      <td>однозначно</td>\n",
       "      <td>0.023810</td>\n",
       "      <td>объясняется</td>\n",
       "      <td>0.025641</td>\n",
       "    </tr>\n",
       "    <tr>\n",
       "      <td>8</td>\n",
       "      <td>проза</td>\n",
       "      <td>0.009346</td>\n",
       "      <td>таким</td>\n",
       "      <td>0.013158</td>\n",
       "      <td>точно</td>\n",
       "      <td>0.023810</td>\n",
       "      <td>используются</td>\n",
       "      <td>0.025641</td>\n",
       "    </tr>\n",
       "  </tbody>\n",
       "</table>\n",
       "</div>"
      ],
      "text/plain": [
       "     word__NOUN  freq_POS__NOUN      word__ADJF  freq_POS__ADJF  word__ADVB  \\\n",
       "0         языка        0.026168  информационной        0.026316      всегда   \n",
       "1  документации        0.022430         деловая        0.026316     полезно   \n",
       "2          рода        0.014953        языковых        0.026316       часто   \n",
       "3          речи        0.014953         деловой        0.021930   несколько   \n",
       "4    стилистика        0.013084         разного        0.021930       всего   \n",
       "5       понятие        0.011215        русского        0.017544   правильно   \n",
       "6        текста        0.009346         деловых        0.017544     лишенно   \n",
       "7    стилистики        0.009346          разных        0.013158  однозначно   \n",
       "8         проза        0.009346           таким        0.013158       точно   \n",
       "\n",
       "   freq_POS__ADVB       word__VERB  freq_POS__VERB  \n",
       "0        0.095238         является        0.051282  \n",
       "1        0.047619            может        0.038462  \n",
       "2        0.047619  рассматривается        0.025641  \n",
       "3        0.047619     предполагает        0.025641  \n",
       "4        0.047619        считается        0.025641  \n",
       "5        0.047619            будет        0.025641  \n",
       "6        0.023810       существует        0.025641  \n",
       "7        0.023810      объясняется        0.025641  \n",
       "8        0.023810     используются        0.025641  "
      ]
     },
     "execution_count": 62,
     "metadata": {},
     "output_type": "execute_result"
    }
   ],
   "source": [
    "s1 = get_freq_words(how_to_buis_txt).to_frame()\n",
    "s1.columns = ['freq']\n",
    "s1.index.name = 'word'\n",
    "s1['POS'] = [str(morph.parse(w)[0].tag.POS)  for w in s1.index]\n",
    "d = s1.groupby('POS')['freq'].sum().to_dict()\n",
    "s1['freq_POS_sum'] = s1['POS'].apply(lambda w: d[w])\n",
    "s1['freq_POS'] = s1['freq']/s1['freq_POS_sum']\n",
    "\n",
    "s1 = s1[s1['POS'].isin(['NOUN','ADJF','ADVB','VERB'])]\n",
    "\n",
    "cds2 = pd.concat([s1[s1['POS']==v][['freq_POS']].reset_index().sort_values(by='freq_POS', ascending=False).rename(columns={'word':'word__'+v,'freq_POS':'freq_POS__'+v})\n",
    "                 for v in ['NOUN','ADJF','ADVB','VERB']],1)\n",
    "\n",
    "cds2[(cds2[[f for f in cds2.columns if 'freq' in f]]>0.025).any(1)]"
   ]
  },
  {
   "cell_type": "code",
   "execution_count": 63,
   "metadata": {},
   "outputs": [],
   "source": [
    "for v in  ['NOUN','ADJF','ADVB','VERB']:\n",
    "    cds1[f'word__{v}__len'] = [len(w) if w is not np.nan else None for w in cds1[f'word__{v}']]\n",
    "    cds2[f'word__{v}__len'] = [len(w) if w is not np.nan else None for w in cds2[f'word__{v}']]"
   ]
  },
  {
   "cell_type": "code",
   "execution_count": 64,
   "metadata": {},
   "outputs": [
    {
     "data": {
      "image/png": "[encoded data removed]",
      "text/plain": [
       "<Figure size 1800x504 with 4 Axes>"
      ]
     },
     "metadata": {
      "needs_background": "light"
     },
     "output_type": "display_data"
    }
   ],
   "source": [
    "plt.figure(figsize=(25,7))\n",
    "for idx, v in enumerate( ['NOUN','ADJF','ADVB','VERB']):\n",
    "    plt.subplot(2,2,idx+1)\n",
    "    s = cds1.groupby(f'word__{v}__len')[f'freq_POS__{v}'].sum()\n",
    "    sns.lineplot(x=s.index, y=s.values, label='alice')\n",
    "    s = cds2.groupby(f'word__{v}__len')[f'freq_POS__{v}'].sum()\n",
    "    sns.lineplot(x=s.index, y=s.values, label='doc')\n",
    "    plt.title(v)\n",
    "plt.legend()\n",
    "plt.tight_layout()\n",
    "plt.show()"
   ]
  },
  {
   "cell_type": "markdown",
   "metadata": {},
   "source": [
    "### коэффициент лексического богатства текста\n",
    "отношение числа различных лемм к общему числу словоупотреблений"
   ]
  },
  {
   "cell_type": "code",
   "execution_count": 65,
   "metadata": {},
   "outputs": [
    {
     "data": {
      "text/plain": [
       "0.3941469489414695"
      ]
     },
     "execution_count": 65,
     "metadata": {},
     "output_type": "execute_result"
    }
   ],
   "source": [
    "get_n_uniq_lemmes(alice_txt_by_chapter[1])/get_n_wordsamples(alice_txt_by_chapter[1])"
   ]
  },
  {
   "cell_type": "code",
   "execution_count": 66,
   "metadata": {},
   "outputs": [
    {
     "data": {
      "text/plain": [
       "0.3879976232917409"
      ]
     },
     "execution_count": 66,
     "metadata": {},
     "output_type": "execute_result"
    }
   ],
   "source": [
    "get_n_uniq_lemmes(alice_txt_by_chapter[0])/get_n_wordsamples(alice_txt_by_chapter[0])"
   ]
  },
  {
   "cell_type": "code",
   "execution_count": 67,
   "metadata": {},
   "outputs": [
    {
     "data": {
      "text/plain": [
       "0.45461365341335336"
      ]
     },
     "execution_count": 67,
     "metadata": {},
     "output_type": "execute_result"
    }
   ],
   "source": [
    "get_n_uniq_lemmes(how_to_buis_txt)/get_n_wordsamples(how_to_buis_txt)"
   ]
  },
  {
   "cell_type": "markdown",
   "metadata": {},
   "source": [
    "# Анализ данных"
   ]
  }
 ],
 "metadata": {
  "kernelspec": {
   "display_name": "Python 3",
   "language": "python",
   "name": "python3"
  },
  "language_info": {
   "codemirror_mode": {
    "name": "ipython",
    "version": 3
   },
   "file_extension": ".py",
   "mimetype": "text/x-python",
   "name": "python",
   "nbconvert_exporter": "python",
   "pygments_lexer": "ipython3",
   "version": "3.7.4"
  }
 },
 "nbformat": 4,
 "nbformat_minor": 2
}
