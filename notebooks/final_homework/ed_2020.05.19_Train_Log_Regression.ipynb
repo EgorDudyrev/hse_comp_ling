{
 "cells": [
  {
   "cell_type": "code",
   "execution_count": 1,
   "metadata": {},
   "outputs": [],
   "source": [
    "import os\n",
    "import numpy as np\n",
    "import pandas as pd\n",
    "from sklearn.linear_model import LogisticRegression"
   ]
  },
  {
   "cell_type": "code",
   "execution_count": 2,
   "metadata": {},
   "outputs": [],
   "source": [
    "DATA_DIR = os.path.abspath('../../data/stanfordSentimentTreebank/')"
   ]
  },
  {
   "cell_type": "code",
   "execution_count": 6,
   "metadata": {},
   "outputs": [
    {
     "name": "stdout",
     "output_type": "stream",
     "text": [
      "(25000, 770)\n"
     ]
    },
    {
     "data": {
      "text/html": [
       "<div>\n",
       "<style scoped>\n",
       "    .dataframe tbody tr th:only-of-type {\n",
       "        vertical-align: middle;\n",
       "    }\n",
       "\n",
       "    .dataframe tbody tr th {\n",
       "        vertical-align: top;\n",
       "    }\n",
       "\n",
       "    .dataframe thead th {\n",
       "        text-align: right;\n",
       "    }\n",
       "</style>\n",
       "<table border=\"1\" class=\"dataframe\">\n",
       "  <thead>\n",
       "    <tr style=\"text-align: right;\">\n",
       "      <th></th>\n",
       "      <th>sentiment</th>\n",
       "      <th>text</th>\n",
       "      <th>bert_0</th>\n",
       "      <th>bert_1</th>\n",
       "      <th>bert_2</th>\n",
       "      <th>bert_3</th>\n",
       "      <th>bert_4</th>\n",
       "      <th>bert_5</th>\n",
       "      <th>bert_6</th>\n",
       "      <th>bert_7</th>\n",
       "      <th>...</th>\n",
       "      <th>bert_758</th>\n",
       "      <th>bert_759</th>\n",
       "      <th>bert_760</th>\n",
       "      <th>bert_761</th>\n",
       "      <th>bert_762</th>\n",
       "      <th>bert_763</th>\n",
       "      <th>bert_764</th>\n",
       "      <th>bert_765</th>\n",
       "      <th>bert_766</th>\n",
       "      <th>bert_767</th>\n",
       "    </tr>\n",
       "  </thead>\n",
       "  <tbody>\n",
       "    <tr>\n",
       "      <th>0</th>\n",
       "      <td>pos</td>\n",
       "      <td>Since Educating Rita, Julie Walters has been o...</td>\n",
       "      <td>-0.217232</td>\n",
       "      <td>-0.278537</td>\n",
       "      <td>0.024592</td>\n",
       "      <td>-0.190077</td>\n",
       "      <td>0.338728</td>\n",
       "      <td>0.198379</td>\n",
       "      <td>0.155497</td>\n",
       "      <td>0.505957</td>\n",
       "      <td>...</td>\n",
       "      <td>-0.229349</td>\n",
       "      <td>0.110953</td>\n",
       "      <td>-0.048404</td>\n",
       "      <td>-0.267151</td>\n",
       "      <td>-0.375385</td>\n",
       "      <td>-0.221558</td>\n",
       "      <td>0.410194</td>\n",
       "      <td>-0.030859</td>\n",
       "      <td>0.250553</td>\n",
       "      <td>0.060898</td>\n",
       "    </tr>\n",
       "    <tr>\n",
       "      <th>1</th>\n",
       "      <td>pos</td>\n",
       "      <td>This is one of the best movies out there and t...</td>\n",
       "      <td>-0.052009</td>\n",
       "      <td>-0.275612</td>\n",
       "      <td>0.290984</td>\n",
       "      <td>0.037968</td>\n",
       "      <td>0.363718</td>\n",
       "      <td>0.050480</td>\n",
       "      <td>0.126078</td>\n",
       "      <td>0.849306</td>\n",
       "      <td>...</td>\n",
       "      <td>-0.192496</td>\n",
       "      <td>-0.064586</td>\n",
       "      <td>0.008719</td>\n",
       "      <td>-0.378950</td>\n",
       "      <td>-0.302224</td>\n",
       "      <td>0.030559</td>\n",
       "      <td>0.274638</td>\n",
       "      <td>-0.174276</td>\n",
       "      <td>0.252467</td>\n",
       "      <td>-0.049769</td>\n",
       "    </tr>\n",
       "    <tr>\n",
       "      <th>2</th>\n",
       "      <td>pos</td>\n",
       "      <td>Dumland focuses on the lives of one (American?...</td>\n",
       "      <td>-0.169023</td>\n",
       "      <td>-0.005889</td>\n",
       "      <td>0.382560</td>\n",
       "      <td>-0.115467</td>\n",
       "      <td>0.296713</td>\n",
       "      <td>0.063204</td>\n",
       "      <td>0.051784</td>\n",
       "      <td>0.567073</td>\n",
       "      <td>...</td>\n",
       "      <td>-0.328033</td>\n",
       "      <td>0.010462</td>\n",
       "      <td>0.170062</td>\n",
       "      <td>-0.453052</td>\n",
       "      <td>-0.073050</td>\n",
       "      <td>-0.352005</td>\n",
       "      <td>0.217358</td>\n",
       "      <td>0.124859</td>\n",
       "      <td>0.451700</td>\n",
       "      <td>0.174639</td>\n",
       "    </tr>\n",
       "    <tr>\n",
       "      <th>3</th>\n",
       "      <td>pos</td>\n",
       "      <td>At one end of the Eighties Warren Beatty creat...</td>\n",
       "      <td>-0.104024</td>\n",
       "      <td>0.118619</td>\n",
       "      <td>0.313575</td>\n",
       "      <td>0.005333</td>\n",
       "      <td>0.251248</td>\n",
       "      <td>-0.109587</td>\n",
       "      <td>-0.155153</td>\n",
       "      <td>0.548621</td>\n",
       "      <td>...</td>\n",
       "      <td>-0.314867</td>\n",
       "      <td>0.048027</td>\n",
       "      <td>0.189538</td>\n",
       "      <td>-0.187595</td>\n",
       "      <td>-0.031585</td>\n",
       "      <td>-0.204041</td>\n",
       "      <td>0.114504</td>\n",
       "      <td>-0.136630</td>\n",
       "      <td>0.328830</td>\n",
       "      <td>0.035915</td>\n",
       "    </tr>\n",
       "    <tr>\n",
       "      <th>4</th>\n",
       "      <td>pos</td>\n",
       "      <td>An excellent movie about two cops loving the s...</td>\n",
       "      <td>-0.290859</td>\n",
       "      <td>-0.307483</td>\n",
       "      <td>0.359930</td>\n",
       "      <td>0.252686</td>\n",
       "      <td>0.421740</td>\n",
       "      <td>0.044342</td>\n",
       "      <td>0.123191</td>\n",
       "      <td>0.444648</td>\n",
       "      <td>...</td>\n",
       "      <td>0.001875</td>\n",
       "      <td>-0.169472</td>\n",
       "      <td>0.066162</td>\n",
       "      <td>-0.316122</td>\n",
       "      <td>-0.594344</td>\n",
       "      <td>0.089560</td>\n",
       "      <td>0.260170</td>\n",
       "      <td>-0.233630</td>\n",
       "      <td>0.373538</td>\n",
       "      <td>0.026722</td>\n",
       "    </tr>\n",
       "  </tbody>\n",
       "</table>\n",
       "<p>5 rows × 770 columns</p>\n",
       "</div>"
      ],
      "text/plain": [
       "  sentiment                                               text    bert_0  \\\n",
       "0       pos  Since Educating Rita, Julie Walters has been o... -0.217232   \n",
       "1       pos  This is one of the best movies out there and t... -0.052009   \n",
       "2       pos  Dumland focuses on the lives of one (American?... -0.169023   \n",
       "3       pos  At one end of the Eighties Warren Beatty creat... -0.104024   \n",
       "4       pos  An excellent movie about two cops loving the s... -0.290859   \n",
       "\n",
       "     bert_1    bert_2    bert_3    bert_4    bert_5    bert_6    bert_7  \\\n",
       "0 -0.278537  0.024592 -0.190077  0.338728  0.198379  0.155497  0.505957   \n",
       "1 -0.275612  0.290984  0.037968  0.363718  0.050480  0.126078  0.849306   \n",
       "2 -0.005889  0.382560 -0.115467  0.296713  0.063204  0.051784  0.567073   \n",
       "3  0.118619  0.313575  0.005333  0.251248 -0.109587 -0.155153  0.548621   \n",
       "4 -0.307483  0.359930  0.252686  0.421740  0.044342  0.123191  0.444648   \n",
       "\n",
       "     ...     bert_758  bert_759  bert_760  bert_761  bert_762  bert_763  \\\n",
       "0    ...    -0.229349  0.110953 -0.048404 -0.267151 -0.375385 -0.221558   \n",
       "1    ...    -0.192496 -0.064586  0.008719 -0.378950 -0.302224  0.030559   \n",
       "2    ...    -0.328033  0.010462  0.170062 -0.453052 -0.073050 -0.352005   \n",
       "3    ...    -0.314867  0.048027  0.189538 -0.187595 -0.031585 -0.204041   \n",
       "4    ...     0.001875 -0.169472  0.066162 -0.316122 -0.594344  0.089560   \n",
       "\n",
       "   bert_764  bert_765  bert_766  bert_767  \n",
       "0  0.410194 -0.030859  0.250553  0.060898  \n",
       "1  0.274638 -0.174276  0.252467 -0.049769  \n",
       "2  0.217358  0.124859  0.451700  0.174639  \n",
       "3  0.114504 -0.136630  0.328830  0.035915  \n",
       "4  0.260170 -0.233630  0.373538  0.026722  \n",
       "\n",
       "[5 rows x 770 columns]"
      ]
     },
     "execution_count": 6,
     "metadata": {},
     "output_type": "execute_result"
    }
   ],
   "source": [
    "train_ds = pd.read_csv(DATA_DIR+'/imdb_train.csv', index_col=0)\n",
    "print(train_ds.shape)\n",
    "train_ds.head()"
   ]
  },
  {
   "cell_type": "code",
   "execution_count": 14,
   "metadata": {},
   "outputs": [
    {
     "data": {
      "text/plain": [
       "(768, 'bert_767')"
      ]
     },
     "execution_count": 14,
     "metadata": {},
     "output_type": "execute_result"
    }
   ],
   "source": [
    "bert_feats = [f for f in train_ds.columns if f.startswith('bert_')]\n",
    "len(bert_feats), bert_feats[-1]"
   ]
  },
  {
   "cell_type": "code",
   "execution_count": 17,
   "metadata": {},
   "outputs": [
    {
     "data": {
      "text/plain": [
       "0.5"
      ]
     },
     "execution_count": 17,
     "metadata": {},
     "output_type": "execute_result"
    }
   ],
   "source": [
    "train_ds['sentiment_bin'] = train_ds['sentiment']=='pos'\n",
    "train_ds['sentiment_bin'].mean()"
   ]
  },
  {
   "cell_type": "code",
   "execution_count": 25,
   "metadata": {},
   "outputs": [
    {
     "name": "stderr",
     "output_type": "stream",
     "text": [
      "/home/egor/anaconda3/lib/python3.7/site-packages/sklearn/linear_model/logistic.py:433: FutureWarning: Default solver will be changed to 'lbfgs' in 0.22. Specify a solver to silence this warning.\n",
      "  FutureWarning)\n"
     ]
    },
    {
     "data": {
      "text/plain": [
       "LogisticRegression(C=1.0, class_weight=None, dual=False, fit_intercept=True,\n",
       "          intercept_scaling=1, max_iter=100, multi_class='warn',\n",
       "          n_jobs=None, penalty='l2', random_state=None, solver='warn',\n",
       "          tol=0.0001, verbose=0, warm_start=False)"
      ]
     },
     "execution_count": 25,
     "metadata": {},
     "output_type": "execute_result"
    }
   ],
   "source": [
    "lr = LogisticRegression()\n",
    "lr.fit(train_ds[bert_feats], train_ds['sentiment_bin'])"
   ]
  },
  {
   "cell_type": "code",
   "execution_count": 26,
   "metadata": {},
   "outputs": [],
   "source": [
    "train_ds['prediction'] = lr.predict(train_ds[bert_feats])"
   ]
  },
  {
   "cell_type": "code",
   "execution_count": 27,
   "metadata": {},
   "outputs": [],
   "source": [
    "train_ds.to_csv(DATA_DIR+'/imdb_train_with_preds.csv',)"
   ]
  }
 ],
 "metadata": {
  "kernelspec": {
   "display_name": "Python 3",
   "language": "python",
   "name": "python3"
  },
  "language_info": {
   "codemirror_mode": {
    "name": "ipython",
    "version": 3
   },
   "file_extension": ".py",
   "mimetype": "text/x-python",
   "name": "python",
   "nbconvert_exporter": "python",
   "pygments_lexer": "ipython3",
   "version": "3.7.1"
  }
 },
 "nbformat": 4,
 "nbformat_minor": 2
}
