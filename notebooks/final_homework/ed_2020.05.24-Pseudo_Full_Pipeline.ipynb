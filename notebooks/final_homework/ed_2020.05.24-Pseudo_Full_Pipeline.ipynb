{
 "cells": [
  {
   "cell_type": "code",
   "execution_count": 1,
   "metadata": {},
   "outputs": [],
   "source": [
    "import os\n",
    "import numpy as np\n",
    "import pandas as pd"
   ]
  },
  {
   "cell_type": "code",
   "execution_count": 2,
   "metadata": {},
   "outputs": [],
   "source": [
    "DATA_DIR = os.path.abspath('../../data/stanfordSentimentTreebank/')"
   ]
  },
  {
   "cell_type": "code",
   "execution_count": 3,
   "metadata": {},
   "outputs": [],
   "source": [
    "import re"
   ]
  },
  {
   "cell_type": "code",
   "execution_count": 4,
   "metadata": {},
   "outputs": [],
   "source": [
    "import nltk"
   ]
  },
  {
   "cell_type": "code",
   "execution_count": 5,
   "metadata": {},
   "outputs": [],
   "source": [
    "from nltk.corpus import framenet as fn"
   ]
  },
  {
   "cell_type": "code",
   "execution_count": 6,
   "metadata": {},
   "outputs": [],
   "source": [
    "from nltk.stem import WordNetLemmatizer"
   ]
  },
  {
   "cell_type": "code",
   "execution_count": 7,
   "metadata": {},
   "outputs": [],
   "source": [
    "from nltk.stem import PorterStemmer\n",
    "from nltk.stem import LancasterStemmer"
   ]
  },
  {
   "cell_type": "code",
   "execution_count": 8,
   "metadata": {},
   "outputs": [],
   "source": [
    "wordnet_lemmatizer = WordNetLemmatizer()"
   ]
  },
  {
   "cell_type": "code",
   "execution_count": 9,
   "metadata": {},
   "outputs": [],
   "source": [
    "#create an object of class PorterStemmer\n",
    "porter = PorterStemmer()\n",
    "lancaster=LancasterStemmer()"
   ]
  },
  {
   "cell_type": "code",
   "execution_count": 10,
   "metadata": {},
   "outputs": [],
   "source": [
    "def get_frames_from_txt(txt, count_thold=None):\n",
    "    ws = re.split('\\s', txt)\n",
    "    frs = [fr['ID'] for w in ws for fr in fn.frames_by_lemma(porter.stem(w))]\n",
    "    frs = pd.Series(frs).value_counts()\n",
    "    if count_thold is not None:\n",
    "        frs = frs[frs>=count_thold]\n",
    "    frs = [fn.frame_by_id(fr)['name'] for fr in frs.index]\n",
    "    return frs"
   ]
  },
  {
   "cell_type": "code",
   "execution_count": 12,
   "metadata": {},
   "outputs": [],
   "source": [
    "from tqdm.notebook import tqdm"
   ]
  },
  {
   "cell_type": "code",
   "execution_count": null,
   "metadata": {},
   "outputs": [],
   "source": []
  },
  {
   "cell_type": "code",
   "execution_count": 13,
   "metadata": {},
   "outputs": [
    {
     "name": "stdout",
     "output_type": "stream",
     "text": [
      "(25000, 772)\n"
     ]
    },
    {
     "data": {
      "text/html": [
       "<div>\n",
       "<style scoped>\n",
       "    .dataframe tbody tr th:only-of-type {\n",
       "        vertical-align: middle;\n",
       "    }\n",
       "\n",
       "    .dataframe tbody tr th {\n",
       "        vertical-align: top;\n",
       "    }\n",
       "\n",
       "    .dataframe thead th {\n",
       "        text-align: right;\n",
       "    }\n",
       "</style>\n",
       "<table border=\"1\" class=\"dataframe\">\n",
       "  <thead>\n",
       "    <tr style=\"text-align: right;\">\n",
       "      <th></th>\n",
       "      <th>sentiment</th>\n",
       "      <th>text</th>\n",
       "      <th>bert_0</th>\n",
       "      <th>bert_1</th>\n",
       "      <th>bert_2</th>\n",
       "      <th>bert_3</th>\n",
       "      <th>bert_4</th>\n",
       "      <th>bert_5</th>\n",
       "      <th>bert_6</th>\n",
       "      <th>bert_7</th>\n",
       "      <th>...</th>\n",
       "      <th>bert_760</th>\n",
       "      <th>bert_761</th>\n",
       "      <th>bert_762</th>\n",
       "      <th>bert_763</th>\n",
       "      <th>bert_764</th>\n",
       "      <th>bert_765</th>\n",
       "      <th>bert_766</th>\n",
       "      <th>bert_767</th>\n",
       "      <th>sentiment_bin</th>\n",
       "      <th>prediction</th>\n",
       "    </tr>\n",
       "  </thead>\n",
       "  <tbody>\n",
       "    <tr>\n",
       "      <th>0</th>\n",
       "      <td>pos</td>\n",
       "      <td>Since Educating Rita, Julie Walters has been o...</td>\n",
       "      <td>-0.217232</td>\n",
       "      <td>-0.278537</td>\n",
       "      <td>0.024592</td>\n",
       "      <td>-0.190077</td>\n",
       "      <td>0.338728</td>\n",
       "      <td>0.198379</td>\n",
       "      <td>0.155497</td>\n",
       "      <td>0.505957</td>\n",
       "      <td>...</td>\n",
       "      <td>-0.048404</td>\n",
       "      <td>-0.267151</td>\n",
       "      <td>-0.375385</td>\n",
       "      <td>-0.221558</td>\n",
       "      <td>0.410194</td>\n",
       "      <td>-0.030859</td>\n",
       "      <td>0.250553</td>\n",
       "      <td>0.060898</td>\n",
       "      <td>True</td>\n",
       "      <td>True</td>\n",
       "    </tr>\n",
       "    <tr>\n",
       "      <th>1</th>\n",
       "      <td>pos</td>\n",
       "      <td>This is one of the best movies out there and t...</td>\n",
       "      <td>-0.052009</td>\n",
       "      <td>-0.275612</td>\n",
       "      <td>0.290984</td>\n",
       "      <td>0.037968</td>\n",
       "      <td>0.363718</td>\n",
       "      <td>0.050480</td>\n",
       "      <td>0.126078</td>\n",
       "      <td>0.849306</td>\n",
       "      <td>...</td>\n",
       "      <td>0.008719</td>\n",
       "      <td>-0.378950</td>\n",
       "      <td>-0.302224</td>\n",
       "      <td>0.030559</td>\n",
       "      <td>0.274638</td>\n",
       "      <td>-0.174276</td>\n",
       "      <td>0.252467</td>\n",
       "      <td>-0.049769</td>\n",
       "      <td>True</td>\n",
       "      <td>True</td>\n",
       "    </tr>\n",
       "    <tr>\n",
       "      <th>2</th>\n",
       "      <td>pos</td>\n",
       "      <td>Dumland focuses on the lives of one (American?...</td>\n",
       "      <td>-0.169023</td>\n",
       "      <td>-0.005889</td>\n",
       "      <td>0.382560</td>\n",
       "      <td>-0.115467</td>\n",
       "      <td>0.296713</td>\n",
       "      <td>0.063204</td>\n",
       "      <td>0.051784</td>\n",
       "      <td>0.567073</td>\n",
       "      <td>...</td>\n",
       "      <td>0.170062</td>\n",
       "      <td>-0.453052</td>\n",
       "      <td>-0.073050</td>\n",
       "      <td>-0.352005</td>\n",
       "      <td>0.217358</td>\n",
       "      <td>0.124859</td>\n",
       "      <td>0.451700</td>\n",
       "      <td>0.174639</td>\n",
       "      <td>True</td>\n",
       "      <td>True</td>\n",
       "    </tr>\n",
       "    <tr>\n",
       "      <th>3</th>\n",
       "      <td>pos</td>\n",
       "      <td>At one end of the Eighties Warren Beatty creat...</td>\n",
       "      <td>-0.104024</td>\n",
       "      <td>0.118619</td>\n",
       "      <td>0.313575</td>\n",
       "      <td>0.005333</td>\n",
       "      <td>0.251248</td>\n",
       "      <td>-0.109587</td>\n",
       "      <td>-0.155153</td>\n",
       "      <td>0.548621</td>\n",
       "      <td>...</td>\n",
       "      <td>0.189538</td>\n",
       "      <td>-0.187595</td>\n",
       "      <td>-0.031585</td>\n",
       "      <td>-0.204041</td>\n",
       "      <td>0.114504</td>\n",
       "      <td>-0.136630</td>\n",
       "      <td>0.328830</td>\n",
       "      <td>0.035915</td>\n",
       "      <td>True</td>\n",
       "      <td>True</td>\n",
       "    </tr>\n",
       "    <tr>\n",
       "      <th>4</th>\n",
       "      <td>pos</td>\n",
       "      <td>An excellent movie about two cops loving the s...</td>\n",
       "      <td>-0.290859</td>\n",
       "      <td>-0.307483</td>\n",
       "      <td>0.359930</td>\n",
       "      <td>0.252686</td>\n",
       "      <td>0.421740</td>\n",
       "      <td>0.044342</td>\n",
       "      <td>0.123191</td>\n",
       "      <td>0.444648</td>\n",
       "      <td>...</td>\n",
       "      <td>0.066162</td>\n",
       "      <td>-0.316122</td>\n",
       "      <td>-0.594344</td>\n",
       "      <td>0.089560</td>\n",
       "      <td>0.260170</td>\n",
       "      <td>-0.233630</td>\n",
       "      <td>0.373538</td>\n",
       "      <td>0.026722</td>\n",
       "      <td>True</td>\n",
       "      <td>True</td>\n",
       "    </tr>\n",
       "  </tbody>\n",
       "</table>\n",
       "<p>5 rows × 772 columns</p>\n",
       "</div>"
      ],
      "text/plain": [
       "  sentiment                                               text    bert_0  \\\n",
       "0       pos  Since Educating Rita, Julie Walters has been o... -0.217232   \n",
       "1       pos  This is one of the best movies out there and t... -0.052009   \n",
       "2       pos  Dumland focuses on the lives of one (American?... -0.169023   \n",
       "3       pos  At one end of the Eighties Warren Beatty creat... -0.104024   \n",
       "4       pos  An excellent movie about two cops loving the s... -0.290859   \n",
       "\n",
       "     bert_1    bert_2    bert_3    bert_4    bert_5    bert_6    bert_7  \\\n",
       "0 -0.278537  0.024592 -0.190077  0.338728  0.198379  0.155497  0.505957   \n",
       "1 -0.275612  0.290984  0.037968  0.363718  0.050480  0.126078  0.849306   \n",
       "2 -0.005889  0.382560 -0.115467  0.296713  0.063204  0.051784  0.567073   \n",
       "3  0.118619  0.313575  0.005333  0.251248 -0.109587 -0.155153  0.548621   \n",
       "4 -0.307483  0.359930  0.252686  0.421740  0.044342  0.123191  0.444648   \n",
       "\n",
       "      ...      bert_760  bert_761  bert_762  bert_763  bert_764  bert_765  \\\n",
       "0     ...     -0.048404 -0.267151 -0.375385 -0.221558  0.410194 -0.030859   \n",
       "1     ...      0.008719 -0.378950 -0.302224  0.030559  0.274638 -0.174276   \n",
       "2     ...      0.170062 -0.453052 -0.073050 -0.352005  0.217358  0.124859   \n",
       "3     ...      0.189538 -0.187595 -0.031585 -0.204041  0.114504 -0.136630   \n",
       "4     ...      0.066162 -0.316122 -0.594344  0.089560  0.260170 -0.233630   \n",
       "\n",
       "   bert_766  bert_767  sentiment_bin  prediction  \n",
       "0  0.250553  0.060898           True        True  \n",
       "1  0.252467 -0.049769           True        True  \n",
       "2  0.451700  0.174639           True        True  \n",
       "3  0.328830  0.035915           True        True  \n",
       "4  0.373538  0.026722           True        True  \n",
       "\n",
       "[5 rows x 772 columns]"
      ]
     },
     "execution_count": 13,
     "metadata": {},
     "output_type": "execute_result"
    }
   ],
   "source": [
    "train_ds = pd.read_csv(DATA_DIR+'/imdb_train_with_preds.csv', index_col=0)\n",
    "print(train_ds.shape)\n",
    "train_ds.head()"
   ]
  },
  {
   "cell_type": "code",
   "execution_count": 14,
   "metadata": {},
   "outputs": [
    {
     "data": {
      "text/plain": [
       "25000"
      ]
     },
     "execution_count": 14,
     "metadata": {},
     "output_type": "execute_result"
    }
   ],
   "source": [
    "len(train_ds)"
   ]
  },
  {
   "cell_type": "code",
   "execution_count": 15,
   "metadata": {},
   "outputs": [
    {
     "data": {
      "text/plain": [
       "0.5"
      ]
     },
     "execution_count": 15,
     "metadata": {},
     "output_type": "execute_result"
    }
   ],
   "source": [
    "sub_ds = train_ds#.sample(10000)\n",
    "sub_ds['sentiment_bin'].mean()"
   ]
  },
  {
   "cell_type": "code",
   "execution_count": 16,
   "metadata": {},
   "outputs": [
    {
     "data": {
      "application/vnd.jupyter.widget-view+json": {
       "model_id": "f483fb91dea04e1e8f1fd57a4d3d7721",
       "version_major": 2,
       "version_minor": 0
      },
      "text/plain": [
       "HBox(children=(FloatProgress(value=0.0, max=25000.0), HTML(value='')))"
      ]
     },
     "metadata": {},
     "output_type": "display_data"
    },
    {
     "name": "stdout",
     "output_type": "stream",
     "text": [
      "\n"
     ]
    }
   ],
   "source": [
    "words_unique = set()\n",
    "for txt in tqdm(sub_ds['text']):\n",
    "    ws = [w.lower() for w in re.findall('\\w+', txt)]\n",
    "    words_unique = words_unique|set(ws)"
   ]
  },
  {
   "cell_type": "code",
   "execution_count": 17,
   "metadata": {},
   "outputs": [
    {
     "data": {
      "text/plain": [
       "74891"
      ]
     },
     "execution_count": 17,
     "metadata": {},
     "output_type": "execute_result"
    }
   ],
   "source": [
    "len(words_unique)"
   ]
  },
  {
   "cell_type": "code",
   "execution_count": 18,
   "metadata": {},
   "outputs": [
    {
     "data": {
      "text/plain": [
       "51339"
      ]
     },
     "execution_count": 18,
     "metadata": {},
     "output_type": "execute_result"
    }
   ],
   "source": [
    "lemmas = set([porter.stem(w) for w in words_unique])\n",
    "len(lemmas)"
   ]
  },
  {
   "cell_type": "code",
   "execution_count": 19,
   "metadata": {},
   "outputs": [
    {
     "data": {
      "application/vnd.jupyter.widget-view+json": {
       "model_id": "14a8782e5bbe442eb3b8cd06b43c4d15",
       "version_major": 2,
       "version_minor": 0
      },
      "text/plain": [
       "HBox(children=(FloatProgress(value=0.0, max=51339.0), HTML(value='')))"
      ]
     },
     "metadata": {},
     "output_type": "display_data"
    },
    {
     "name": "stdout",
     "output_type": "stream",
     "text": [
      "\n"
     ]
    }
   ],
   "source": [
    "lemma_frame_dict = {}\n",
    "for lemma in tqdm(lemmas):\n",
    "    frames = [fr['name'] for fr in fn.frames_by_lemma(lemma)]\n",
    "    if len(frames)>0:\n",
    "        lemma_frame_dict[lemma] = frames"
   ]
  },
  {
   "cell_type": "code",
   "execution_count": 37,
   "metadata": {},
   "outputs": [],
   "source": [
    "import json"
   ]
  },
  {
   "cell_type": "code",
   "execution_count": 38,
   "metadata": {},
   "outputs": [],
   "source": [
    "with open('lemma_frame_dict.json','w') as f:\n",
    "    json.dump(lemma_frame_dict, f)"
   ]
  },
  {
   "cell_type": "code",
   "execution_count": 20,
   "metadata": {},
   "outputs": [],
   "source": [
    "def get_frames_from_txt(txt, count_thold=None):\n",
    "    lemmas = [porter.stem(x.lower()) for x in re.findall('\\w+', txt)]\n",
    "    frs = [frame for lemma in lemmas for frame in lemma_frame_dict.get(lemma,[])]\n",
    "    frs = pd.Series(frs).value_counts()\n",
    "    word_count = len(lemmas)\n",
    "    return frs, word_count"
   ]
  },
  {
   "cell_type": "code",
   "execution_count": 286,
   "metadata": {},
   "outputs": [
    {
     "data": {
      "text/plain": [
       "frame (1383): Desirable_event\n",
       "\n",
       "[URL] https://framenet2.icsi.berkeley.edu/fnReports/data/frame/Desirable_event.xml\n",
       "\n",
       "[definition]\n",
       "  A particular State_of_affairs is desirable.  The State_of_affairs\n",
       "  may be required to achieve a Purpose.  A set of Circumstances may\n",
       "  be specified under which the assessment of desirability holds.\n",
       "  'You should take the doses about 12 hours apart and at the same\n",
       "  time each day.' ' If the metal is seriously rusted or warped, it\n",
       "  should be repaired or replaced with a chimney top damper.' 'To\n",
       "  ensure that, you should have no CLASSPATH set.'\n",
       "\n",
       "[semTypes] 0 semantic types\n",
       "\n",
       "[frameRelations] 5 frame relations\n",
       "  <Parent=Desirability -- Inheritance -> Child=Desirable_event>\n",
       "  <Parent=Desirable_event -- Using -> Child=Taking_sides>\n",
       "  <Parent=Required_event -- Using -> Child=Desirable_event>\n",
       "  <Source=Required_event -- ReFraming_Mapping -> Target=Desirable_event>\n",
       "  <Neutral=Preferred_alternative_scenario -- Perspective_on -> Perspectivized=Desirable_event>\n",
       "\n",
       "[lexUnit] 6 lexical units\n",
       "  bad idea.n (11822), be supposed to.v (17416), good idea.n\n",
       "  (11823), have to.v (17415), ought to.v (11821), should.v (11820)\n",
       "\n",
       "\n",
       "[FE] 4 frame elements\n",
       "            Core: State_of_affairs (7756)\n",
       "      Peripheral: Degree (9674), Purpose (7758)\n",
       "  Extra-Thematic: Circumstances (7757)\n",
       "\n",
       "[FEcoreSets] 0 frame element core sets\n",
       "  "
      ]
     },
     "execution_count": 286,
     "metadata": {},
     "output_type": "execute_result"
    }
   ],
   "source": [
    "fn.frames_by_lemma('good')[2]"
   ]
  },
  {
   "cell_type": "code",
   "execution_count": 281,
   "metadata": {},
   "outputs": [
    {
     "ename": "IndexError",
     "evalue": "list index out of range",
     "output_type": "error",
     "traceback": [
      "\u001b[0;31m---------------------------------------------------------------------------\u001b[0m",
      "\u001b[0;31mIndexError\u001b[0m                                Traceback (most recent call last)",
      "\u001b[0;32m<ipython-input-281-4c8e5f2096da>\u001b[0m in \u001b[0;36m<module>\u001b[0;34m\u001b[0m\n\u001b[0;32m----> 1\u001b[0;31m \u001b[0mfn\u001b[0m\u001b[0;34m.\u001b[0m\u001b[0mframes_by_lemma\u001b[0m\u001b[0;34m(\u001b[0m\u001b[0;34m'world'\u001b[0m\u001b[0;34m)\u001b[0m\u001b[0;34m[\u001b[0m\u001b[0;36m7\u001b[0m\u001b[0;34m]\u001b[0m\u001b[0;34m\u001b[0m\u001b[0;34m\u001b[0m\u001b[0m\n\u001b[0m",
      "\u001b[0;31mIndexError\u001b[0m: list index out of range"
     ]
    }
   ],
   "source": [
    "fn.frames_by_lemma('world')[7]"
   ]
  },
  {
   "cell_type": "code",
   "execution_count": 252,
   "metadata": {},
   "outputs": [
    {
     "data": {
      "text/plain": [
       "(Being_born           1\n",
       " Attention_getting    1\n",
       " Political_locales    1\n",
       " dtype: int64, 2)"
      ]
     },
     "execution_count": 252,
     "metadata": {},
     "output_type": "execute_result"
    }
   ],
   "source": [
    "get_frames_from_txt('hello world')"
   ]
  },
  {
   "cell_type": "code",
   "execution_count": 253,
   "metadata": {},
   "outputs": [
    {
     "data": {
      "text/plain": [
       "(Attention_getting    1\n",
       " dtype: int64, 1)"
      ]
     },
     "execution_count": 253,
     "metadata": {},
     "output_type": "execute_result"
    }
   ],
   "source": [
    "get_frames_from_txt('hello')"
   ]
  },
  {
   "cell_type": "code",
   "execution_count": 251,
   "metadata": {},
   "outputs": [
    {
     "data": {
      "text/html": [
       "<div>\n",
       "<style scoped>\n",
       "    .dataframe tbody tr th:only-of-type {\n",
       "        vertical-align: middle;\n",
       "    }\n",
       "\n",
       "    .dataframe tbody tr th {\n",
       "        vertical-align: top;\n",
       "    }\n",
       "\n",
       "    .dataframe thead th {\n",
       "        text-align: right;\n",
       "    }\n",
       "</style>\n",
       "<table border=\"1\" class=\"dataframe\">\n",
       "  <thead>\n",
       "    <tr style=\"text-align: right;\">\n",
       "      <th></th>\n",
       "      <th>Appellations</th>\n",
       "      <th>Personal_relationship</th>\n",
       "      <th>Stimulus_focus</th>\n",
       "      <th>Leadership</th>\n",
       "      <th>Containers</th>\n",
       "      <th>Clothing</th>\n",
       "      <th>People_by_vocation</th>\n",
       "      <th>Emotion_directed</th>\n",
       "      <th>Experiencer_obj</th>\n",
       "      <th>Medical_conditions</th>\n",
       "      <th>...</th>\n",
       "      <th>Visit_host_stay</th>\n",
       "      <th>Visiting_scenario</th>\n",
       "      <th>Visiting_scenario_arrival</th>\n",
       "      <th>Visiting_scenario_departing</th>\n",
       "      <th>Visiting_scenario_stay</th>\n",
       "      <th>Visitor_and_host</th>\n",
       "      <th>Visitor_arrival</th>\n",
       "      <th>Visitor_departure</th>\n",
       "      <th>Visitor_scenario</th>\n",
       "      <th>Wholes_and_parts</th>\n",
       "    </tr>\n",
       "  </thead>\n",
       "  <tbody>\n",
       "    <tr>\n",
       "      <th>0</th>\n",
       "      <td>0.414286</td>\n",
       "      <td>0.400000</td>\n",
       "      <td>0.385714</td>\n",
       "      <td>0.357143</td>\n",
       "      <td>0.357143</td>\n",
       "      <td>0.342857</td>\n",
       "      <td>0.342857</td>\n",
       "      <td>0.342857</td>\n",
       "      <td>0.342857</td>\n",
       "      <td>0.328571</td>\n",
       "      <td>...</td>\n",
       "      <td>0.0</td>\n",
       "      <td>0.0</td>\n",
       "      <td>0.0</td>\n",
       "      <td>0.0</td>\n",
       "      <td>0.0</td>\n",
       "      <td>0.0</td>\n",
       "      <td>0.0</td>\n",
       "      <td>0.0</td>\n",
       "      <td>0.085714</td>\n",
       "      <td>0.0</td>\n",
       "    </tr>\n",
       "    <tr>\n",
       "      <th>1</th>\n",
       "      <td>0.340580</td>\n",
       "      <td>0.311594</td>\n",
       "      <td>0.442029</td>\n",
       "      <td>0.289855</td>\n",
       "      <td>0.376812</td>\n",
       "      <td>0.405797</td>\n",
       "      <td>0.333333</td>\n",
       "      <td>0.391304</td>\n",
       "      <td>0.355072</td>\n",
       "      <td>0.347826</td>\n",
       "      <td>...</td>\n",
       "      <td>0.0</td>\n",
       "      <td>0.0</td>\n",
       "      <td>0.0</td>\n",
       "      <td>0.0</td>\n",
       "      <td>0.0</td>\n",
       "      <td>0.0</td>\n",
       "      <td>0.0</td>\n",
       "      <td>0.0</td>\n",
       "      <td>0.130435</td>\n",
       "      <td>0.0</td>\n",
       "    </tr>\n",
       "    <tr>\n",
       "      <th>2</th>\n",
       "      <td>0.366501</td>\n",
       "      <td>0.391376</td>\n",
       "      <td>0.376451</td>\n",
       "      <td>0.275290</td>\n",
       "      <td>0.366501</td>\n",
       "      <td>0.414594</td>\n",
       "      <td>0.325041</td>\n",
       "      <td>0.368159</td>\n",
       "      <td>0.344942</td>\n",
       "      <td>0.344942</td>\n",
       "      <td>...</td>\n",
       "      <td>0.0</td>\n",
       "      <td>0.0</td>\n",
       "      <td>0.0</td>\n",
       "      <td>0.0</td>\n",
       "      <td>0.0</td>\n",
       "      <td>0.0</td>\n",
       "      <td>0.0</td>\n",
       "      <td>0.0</td>\n",
       "      <td>0.091211</td>\n",
       "      <td>0.0</td>\n",
       "    </tr>\n",
       "    <tr>\n",
       "      <th>3</th>\n",
       "      <td>0.291667</td>\n",
       "      <td>0.287698</td>\n",
       "      <td>0.369048</td>\n",
       "      <td>0.224206</td>\n",
       "      <td>0.317460</td>\n",
       "      <td>0.347222</td>\n",
       "      <td>0.261905</td>\n",
       "      <td>0.349206</td>\n",
       "      <td>0.301587</td>\n",
       "      <td>0.269841</td>\n",
       "      <td>...</td>\n",
       "      <td>0.0</td>\n",
       "      <td>0.0</td>\n",
       "      <td>0.0</td>\n",
       "      <td>0.0</td>\n",
       "      <td>0.0</td>\n",
       "      <td>0.0</td>\n",
       "      <td>0.0</td>\n",
       "      <td>0.0</td>\n",
       "      <td>0.097222</td>\n",
       "      <td>0.0</td>\n",
       "    </tr>\n",
       "    <tr>\n",
       "      <th>4</th>\n",
       "      <td>0.338235</td>\n",
       "      <td>0.367647</td>\n",
       "      <td>0.294118</td>\n",
       "      <td>0.161765</td>\n",
       "      <td>0.323529</td>\n",
       "      <td>0.338235</td>\n",
       "      <td>0.264706</td>\n",
       "      <td>0.264706</td>\n",
       "      <td>0.264706</td>\n",
       "      <td>0.264706</td>\n",
       "      <td>...</td>\n",
       "      <td>0.0</td>\n",
       "      <td>0.0</td>\n",
       "      <td>0.0</td>\n",
       "      <td>0.0</td>\n",
       "      <td>0.0</td>\n",
       "      <td>0.0</td>\n",
       "      <td>0.0</td>\n",
       "      <td>0.0</td>\n",
       "      <td>0.058824</td>\n",
       "      <td>0.0</td>\n",
       "    </tr>\n",
       "  </tbody>\n",
       "</table>\n",
       "<p>5 rows × 1221 columns</p>\n",
       "</div>"
      ],
      "text/plain": [
       "   Appellations  Personal_relationship  Stimulus_focus  Leadership  \\\n",
       "0      0.414286               0.400000        0.385714    0.357143   \n",
       "1      0.340580               0.311594        0.442029    0.289855   \n",
       "2      0.366501               0.391376        0.376451    0.275290   \n",
       "3      0.291667               0.287698        0.369048    0.224206   \n",
       "4      0.338235               0.367647        0.294118    0.161765   \n",
       "\n",
       "   Containers  Clothing  People_by_vocation  Emotion_directed  \\\n",
       "0    0.357143  0.342857            0.342857          0.342857   \n",
       "1    0.376812  0.405797            0.333333          0.391304   \n",
       "2    0.366501  0.414594            0.325041          0.368159   \n",
       "3    0.317460  0.347222            0.261905          0.349206   \n",
       "4    0.323529  0.338235            0.264706          0.264706   \n",
       "\n",
       "   Experiencer_obj  Medical_conditions        ...         Visit_host_stay  \\\n",
       "0         0.342857            0.328571        ...                     0.0   \n",
       "1         0.355072            0.347826        ...                     0.0   \n",
       "2         0.344942            0.344942        ...                     0.0   \n",
       "3         0.301587            0.269841        ...                     0.0   \n",
       "4         0.264706            0.264706        ...                     0.0   \n",
       "\n",
       "   Visiting_scenario  Visiting_scenario_arrival  Visiting_scenario_departing  \\\n",
       "0                0.0                        0.0                          0.0   \n",
       "1                0.0                        0.0                          0.0   \n",
       "2                0.0                        0.0                          0.0   \n",
       "3                0.0                        0.0                          0.0   \n",
       "4                0.0                        0.0                          0.0   \n",
       "\n",
       "   Visiting_scenario_stay  Visitor_and_host  Visitor_arrival  \\\n",
       "0                     0.0               0.0              0.0   \n",
       "1                     0.0               0.0              0.0   \n",
       "2                     0.0               0.0              0.0   \n",
       "3                     0.0               0.0              0.0   \n",
       "4                     0.0               0.0              0.0   \n",
       "\n",
       "   Visitor_departure  Visitor_scenario  Wholes_and_parts  \n",
       "0                0.0          0.085714               0.0  \n",
       "1                0.0          0.130435               0.0  \n",
       "2                0.0          0.091211               0.0  \n",
       "3                0.0          0.097222               0.0  \n",
       "4                0.0          0.058824               0.0  \n",
       "\n",
       "[5 rows x 1221 columns]"
      ]
     },
     "execution_count": 251,
     "metadata": {},
     "output_type": "execute_result"
    }
   ],
   "source": [
    "train_frames.head()"
   ]
  },
  {
   "cell_type": "markdown",
   "metadata": {},
   "source": [
    "# Find subframe relations"
   ]
  },
  {
   "cell_type": "code",
   "execution_count": 21,
   "metadata": {},
   "outputs": [
    {
     "data": {
      "text/plain": [
       "131"
      ]
     },
     "execution_count": 21,
     "metadata": {},
     "output_type": "execute_result"
    }
   ],
   "source": [
    "frs = fn.frame_relations(type='Subframe')\n",
    "len(frs)"
   ]
  },
  {
   "cell_type": "code",
   "execution_count": 22,
   "metadata": {},
   "outputs": [
    {
     "data": {
      "application/vnd.jupyter.widget-view+json": {
       "model_id": "9d5421012a834d049633d672f7e5d975",
       "version_major": 2,
       "version_minor": 0
      },
      "text/plain": [
       "HBox(children=(FloatProgress(value=0.0, max=131.0), HTML(value='')))"
      ]
     },
     "metadata": {},
     "output_type": "display_data"
    },
    {
     "name": "stdout",
     "output_type": "stream",
     "text": [
      "\n"
     ]
    }
   ],
   "source": [
    "subframes = {}\n",
    "for fr in tqdm(frs):\n",
    "    super_frame = fr['superFrameName']\n",
    "    sub_frame = fr['subFrameName']\n",
    "    subframes[super_frame] = subframes.get(super_frame, set([]))|set([sub_frame])"
   ]
  },
  {
   "cell_type": "code",
   "execution_count": 23,
   "metadata": {},
   "outputs": [],
   "source": [
    "subframes_trans = subframes.copy()\n",
    "iter_ = 0\n",
    "while True:\n",
    "    #print('iter', iter_)\n",
    "    trans_exist = False\n",
    "    for super_frame in subframes_trans.keys():\n",
    "        subframes_ = subframes_trans[super_frame]\n",
    "        for subframe in subframes_:\n",
    "            if subframe in subframes_trans.keys() and not all([x in subframes_ for x in subframes_trans[subframe]]):\n",
    "                trans_exist = True\n",
    "                subframes_trans[super_frame] = subframes_trans[super_frame]|subframes_trans[subframe]\n",
    "                \n",
    "    if not trans_exist:\n",
    "        break\n",
    "    iter_  += 1"
   ]
  },
  {
   "cell_type": "code",
   "execution_count": 24,
   "metadata": {},
   "outputs": [
    {
     "data": {
      "application/vnd.jupyter.widget-view+json": {
       "model_id": "8025c73f7289484c85e5b780649aa6a2",
       "version_major": 2,
       "version_minor": 0
      },
      "text/plain": [
       "HBox(children=(FloatProgress(value=0.0, max=25000.0), HTML(value='')))"
      ]
     },
     "metadata": {},
     "output_type": "display_data"
    },
    {
     "name": "stdout",
     "output_type": "stream",
     "text": [
      "\n"
     ]
    }
   ],
   "source": [
    "bin_ds_frames_ls = []\n",
    "for txt in tqdm(sub_ds['text']):\n",
    "    frs, word_count = get_frames_from_txt(txt)\n",
    "    frs['word_count'] = word_count\n",
    "    bin_ds_frames_ls.append(frs)"
   ]
  },
  {
   "cell_type": "code",
   "execution_count": 25,
   "metadata": {},
   "outputs": [],
   "source": [
    "bin_ds_frames = pd.DataFrame(bin_ds_frames_ls)\n",
    "bin_ds_frames = bin_ds_frames.fillna(0)\n",
    "for fr in fn.frames():\n",
    "    fr_name = fr['name']\n",
    "    if fr_name not in bin_ds_frames.columns:\n",
    "        bin_ds_frames[fr_name] = 0\n",
    "bin_ds_frames.index = sub_ds.index"
   ]
  },
  {
   "cell_type": "code",
   "execution_count": 26,
   "metadata": {},
   "outputs": [
    {
     "data": {
      "text/plain": [
       "((25000, 1222), 1221)"
      ]
     },
     "execution_count": 26,
     "metadata": {},
     "output_type": "execute_result"
    }
   ],
   "source": [
    "bin_ds_frames.shape, len(fn.frames())"
   ]
  },
  {
   "cell_type": "code",
   "execution_count": 27,
   "metadata": {},
   "outputs": [],
   "source": [
    "for super_frame, subframes_ in subframes_trans.items():\n",
    "    bin_ds_frames[super_frame] += bin_ds_frames[list(subframes_)].sum(1)"
   ]
  },
  {
   "cell_type": "code",
   "execution_count": 28,
   "metadata": {},
   "outputs": [],
   "source": [
    "bin_ds_frames_normed = (bin_ds_frames.T/bin_ds_frames['word_count']).T\n",
    "bin_ds_frames_normed = bin_ds_frames_normed.drop('word_count',1)"
   ]
  },
  {
   "cell_type": "code",
   "execution_count": 29,
   "metadata": {},
   "outputs": [
    {
     "data": {
      "text/html": [
       "<div>\n",
       "<style scoped>\n",
       "    .dataframe tbody tr th:only-of-type {\n",
       "        vertical-align: middle;\n",
       "    }\n",
       "\n",
       "    .dataframe tbody tr th {\n",
       "        vertical-align: top;\n",
       "    }\n",
       "\n",
       "    .dataframe thead th {\n",
       "        text-align: right;\n",
       "    }\n",
       "</style>\n",
       "<table border=\"1\" class=\"dataframe\">\n",
       "  <thead>\n",
       "    <tr style=\"text-align: right;\">\n",
       "      <th></th>\n",
       "      <th>Appellations</th>\n",
       "      <th>Personal_relationship</th>\n",
       "      <th>Stimulus_focus</th>\n",
       "      <th>Leadership</th>\n",
       "      <th>Containers</th>\n",
       "      <th>Clothing</th>\n",
       "      <th>People_by_vocation</th>\n",
       "      <th>Emotion_directed</th>\n",
       "      <th>Experiencer_obj</th>\n",
       "      <th>Medical_conditions</th>\n",
       "      <th>...</th>\n",
       "      <th>Visit_host_stay</th>\n",
       "      <th>Visiting_scenario</th>\n",
       "      <th>Visiting_scenario_arrival</th>\n",
       "      <th>Visiting_scenario_departing</th>\n",
       "      <th>Visiting_scenario_stay</th>\n",
       "      <th>Visitor_and_host</th>\n",
       "      <th>Visitor_arrival</th>\n",
       "      <th>Visitor_departure</th>\n",
       "      <th>Visitor_scenario</th>\n",
       "      <th>Wholes_and_parts</th>\n",
       "    </tr>\n",
       "  </thead>\n",
       "  <tbody>\n",
       "    <tr>\n",
       "      <th>0</th>\n",
       "      <td>0.414286</td>\n",
       "      <td>0.400000</td>\n",
       "      <td>0.385714</td>\n",
       "      <td>0.357143</td>\n",
       "      <td>0.357143</td>\n",
       "      <td>0.342857</td>\n",
       "      <td>0.342857</td>\n",
       "      <td>0.342857</td>\n",
       "      <td>0.342857</td>\n",
       "      <td>0.328571</td>\n",
       "      <td>...</td>\n",
       "      <td>0.0</td>\n",
       "      <td>0.0</td>\n",
       "      <td>0.0</td>\n",
       "      <td>0.0</td>\n",
       "      <td>0.0</td>\n",
       "      <td>0.0</td>\n",
       "      <td>0.0</td>\n",
       "      <td>0.0</td>\n",
       "      <td>0.085714</td>\n",
       "      <td>0.0</td>\n",
       "    </tr>\n",
       "    <tr>\n",
       "      <th>1</th>\n",
       "      <td>0.340580</td>\n",
       "      <td>0.311594</td>\n",
       "      <td>0.442029</td>\n",
       "      <td>0.289855</td>\n",
       "      <td>0.376812</td>\n",
       "      <td>0.405797</td>\n",
       "      <td>0.333333</td>\n",
       "      <td>0.391304</td>\n",
       "      <td>0.355072</td>\n",
       "      <td>0.347826</td>\n",
       "      <td>...</td>\n",
       "      <td>0.0</td>\n",
       "      <td>0.0</td>\n",
       "      <td>0.0</td>\n",
       "      <td>0.0</td>\n",
       "      <td>0.0</td>\n",
       "      <td>0.0</td>\n",
       "      <td>0.0</td>\n",
       "      <td>0.0</td>\n",
       "      <td>0.130435</td>\n",
       "      <td>0.0</td>\n",
       "    </tr>\n",
       "    <tr>\n",
       "      <th>2</th>\n",
       "      <td>0.366501</td>\n",
       "      <td>0.391376</td>\n",
       "      <td>0.376451</td>\n",
       "      <td>0.275290</td>\n",
       "      <td>0.366501</td>\n",
       "      <td>0.414594</td>\n",
       "      <td>0.325041</td>\n",
       "      <td>0.368159</td>\n",
       "      <td>0.344942</td>\n",
       "      <td>0.344942</td>\n",
       "      <td>...</td>\n",
       "      <td>0.0</td>\n",
       "      <td>0.0</td>\n",
       "      <td>0.0</td>\n",
       "      <td>0.0</td>\n",
       "      <td>0.0</td>\n",
       "      <td>0.0</td>\n",
       "      <td>0.0</td>\n",
       "      <td>0.0</td>\n",
       "      <td>0.091211</td>\n",
       "      <td>0.0</td>\n",
       "    </tr>\n",
       "    <tr>\n",
       "      <th>3</th>\n",
       "      <td>0.291667</td>\n",
       "      <td>0.287698</td>\n",
       "      <td>0.369048</td>\n",
       "      <td>0.224206</td>\n",
       "      <td>0.317460</td>\n",
       "      <td>0.347222</td>\n",
       "      <td>0.261905</td>\n",
       "      <td>0.349206</td>\n",
       "      <td>0.301587</td>\n",
       "      <td>0.269841</td>\n",
       "      <td>...</td>\n",
       "      <td>0.0</td>\n",
       "      <td>0.0</td>\n",
       "      <td>0.0</td>\n",
       "      <td>0.0</td>\n",
       "      <td>0.0</td>\n",
       "      <td>0.0</td>\n",
       "      <td>0.0</td>\n",
       "      <td>0.0</td>\n",
       "      <td>0.097222</td>\n",
       "      <td>0.0</td>\n",
       "    </tr>\n",
       "    <tr>\n",
       "      <th>4</th>\n",
       "      <td>0.338235</td>\n",
       "      <td>0.367647</td>\n",
       "      <td>0.294118</td>\n",
       "      <td>0.161765</td>\n",
       "      <td>0.323529</td>\n",
       "      <td>0.338235</td>\n",
       "      <td>0.264706</td>\n",
       "      <td>0.264706</td>\n",
       "      <td>0.264706</td>\n",
       "      <td>0.264706</td>\n",
       "      <td>...</td>\n",
       "      <td>0.0</td>\n",
       "      <td>0.0</td>\n",
       "      <td>0.0</td>\n",
       "      <td>0.0</td>\n",
       "      <td>0.0</td>\n",
       "      <td>0.0</td>\n",
       "      <td>0.0</td>\n",
       "      <td>0.0</td>\n",
       "      <td>0.058824</td>\n",
       "      <td>0.0</td>\n",
       "    </tr>\n",
       "  </tbody>\n",
       "</table>\n",
       "<p>5 rows × 1221 columns</p>\n",
       "</div>"
      ],
      "text/plain": [
       "   Appellations  Personal_relationship  Stimulus_focus  Leadership  \\\n",
       "0      0.414286               0.400000        0.385714    0.357143   \n",
       "1      0.340580               0.311594        0.442029    0.289855   \n",
       "2      0.366501               0.391376        0.376451    0.275290   \n",
       "3      0.291667               0.287698        0.369048    0.224206   \n",
       "4      0.338235               0.367647        0.294118    0.161765   \n",
       "\n",
       "   Containers  Clothing  People_by_vocation  Emotion_directed  \\\n",
       "0    0.357143  0.342857            0.342857          0.342857   \n",
       "1    0.376812  0.405797            0.333333          0.391304   \n",
       "2    0.366501  0.414594            0.325041          0.368159   \n",
       "3    0.317460  0.347222            0.261905          0.349206   \n",
       "4    0.323529  0.338235            0.264706          0.264706   \n",
       "\n",
       "   Experiencer_obj  Medical_conditions        ...         Visit_host_stay  \\\n",
       "0         0.342857            0.328571        ...                     0.0   \n",
       "1         0.355072            0.347826        ...                     0.0   \n",
       "2         0.344942            0.344942        ...                     0.0   \n",
       "3         0.301587            0.269841        ...                     0.0   \n",
       "4         0.264706            0.264706        ...                     0.0   \n",
       "\n",
       "   Visiting_scenario  Visiting_scenario_arrival  Visiting_scenario_departing  \\\n",
       "0                0.0                        0.0                          0.0   \n",
       "1                0.0                        0.0                          0.0   \n",
       "2                0.0                        0.0                          0.0   \n",
       "3                0.0                        0.0                          0.0   \n",
       "4                0.0                        0.0                          0.0   \n",
       "\n",
       "   Visiting_scenario_stay  Visitor_and_host  Visitor_arrival  \\\n",
       "0                     0.0               0.0              0.0   \n",
       "1                     0.0               0.0              0.0   \n",
       "2                     0.0               0.0              0.0   \n",
       "3                     0.0               0.0              0.0   \n",
       "4                     0.0               0.0              0.0   \n",
       "\n",
       "   Visitor_departure  Visitor_scenario  Wholes_and_parts  \n",
       "0                0.0          0.085714               0.0  \n",
       "1                0.0          0.130435               0.0  \n",
       "2                0.0          0.091211               0.0  \n",
       "3                0.0          0.097222               0.0  \n",
       "4                0.0          0.058824               0.0  \n",
       "\n",
       "[5 rows x 1221 columns]"
      ]
     },
     "execution_count": 29,
     "metadata": {},
     "output_type": "execute_result"
    }
   ],
   "source": [
    "bin_ds_frames_normed.head()"
   ]
  },
  {
   "cell_type": "code",
   "execution_count": 40,
   "metadata": {},
   "outputs": [],
   "source": [
    "bin_ds_frames_normed.to_csv('bin_ds_frames_normed.csv')"
   ]
  },
  {
   "cell_type": "code",
   "execution_count": null,
   "metadata": {},
   "outputs": [],
   "source": []
  },
  {
   "cell_type": "code",
   "execution_count": 30,
   "metadata": {},
   "outputs": [
    {
     "data": {
      "application/vnd.jupyter.widget-view+json": {
       "model_id": "16918cd9e88d4bec8c01d94d69f29531",
       "version_major": 2,
       "version_minor": 0
      },
      "text/plain": [
       "HBox(children=(FloatProgress(value=0.0, max=25000.0), HTML(value='')))"
      ]
     },
     "metadata": {},
     "output_type": "display_data"
    },
    {
     "name": "stdout",
     "output_type": "stream",
     "text": [
      "\n"
     ]
    }
   ],
   "source": [
    "bin_ds_words = []\n",
    "for txt in tqdm(sub_ds['text']):\n",
    "    ws = [porter.stem(x.lower()) for x in re.findall('\\w+', txt)]\n",
    "    lexemas = [porter.stem(w) for w in ws]\n",
    "    lexemas = pd.Series(lexemas).value_counts()\n",
    "    bin_ds_words.append(lexemas)"
   ]
  },
  {
   "cell_type": "code",
   "execution_count": 31,
   "metadata": {},
   "outputs": [
    {
     "data": {
      "application/vnd.jupyter.widget-view+json": {
       "model_id": "7dc601593f234a5d956d675585ea6c6d",
       "version_major": 2,
       "version_minor": 0
      },
      "text/plain": [
       "HBox(children=(FloatProgress(value=0.0, max=25.0), HTML(value='')))"
      ]
     },
     "metadata": {},
     "output_type": "display_data"
    },
    {
     "name": "stdout",
     "output_type": "stream",
     "text": [
      "\n"
     ]
    }
   ],
   "source": [
    "cdss = []\n",
    "for i in tqdm(range(25)):\n",
    "    cds = pd.DataFrame(bin_ds_words[i*1000:(i+1)*1000])\n",
    "    cdss.append(cds)"
   ]
  },
  {
   "cell_type": "code",
   "execution_count": 32,
   "metadata": {},
   "outputs": [
    {
     "data": {
      "text/plain": [
       "25"
      ]
     },
     "execution_count": 32,
     "metadata": {},
     "output_type": "execute_result"
    }
   ],
   "source": [
    "len(cdss)"
   ]
  },
  {
   "cell_type": "raw",
   "metadata": {},
   "source": [
    "for cds in cdss:\n",
    "    print(cds.shape)"
   ]
  },
  {
   "cell_type": "raw",
   "metadata": {},
   "source": [
    "cds = pd.concat(cdss)"
   ]
  },
  {
   "cell_type": "code",
   "execution_count": null,
   "metadata": {},
   "outputs": [],
   "source": []
  },
  {
   "cell_type": "code",
   "execution_count": null,
   "metadata": {},
   "outputs": [],
   "source": []
  },
  {
   "cell_type": "raw",
   "metadata": {},
   "source": [
    "bin_ds_words = pd.DataFrame(bin_ds_words).fillna(0)\n",
    "bin_ds_words.index = sub_ds.index"
   ]
  },
  {
   "cell_type": "raw",
   "metadata": {},
   "source": [
    "bin_ds_words_normed = bin_ds_words.copy()\n",
    "bin_ds_words_normed = (bin_ds_words_normed.T/bin_ds_words_normed.sum(1)).T"
   ]
  },
  {
   "cell_type": "code",
   "execution_count": null,
   "metadata": {},
   "outputs": [],
   "source": []
  },
  {
   "cell_type": "code",
   "execution_count": 41,
   "metadata": {},
   "outputs": [],
   "source": [
    "from sklearn.ensemble import RandomForestClassifier"
   ]
  },
  {
   "cell_type": "code",
   "execution_count": 42,
   "metadata": {},
   "outputs": [],
   "source": [
    "from sklearn.metrics import accuracy_score"
   ]
  },
  {
   "cell_type": "code",
   "execution_count": 43,
   "metadata": {},
   "outputs": [],
   "source": [
    "from sklearn.model_selection import KFold"
   ]
  },
  {
   "cell_type": "code",
   "execution_count": 44,
   "metadata": {},
   "outputs": [],
   "source": [
    "kf = KFold(n_splits=10, random_state=42, shuffle=False)"
   ]
  },
  {
   "cell_type": "code",
   "execution_count": 45,
   "metadata": {},
   "outputs": [],
   "source": [
    "bert_feats = [f for f in sub_ds.columns if f.startswith('bert_')]"
   ]
  },
  {
   "cell_type": "code",
   "execution_count": 46,
   "metadata": {},
   "outputs": [],
   "source": [
    "def test_model(model, x_train, y_train, x_test, y_test):\n",
    "    model.fit(x_train, y_train)\n",
    "    preds = model.predict(x_test)\n",
    "    acc = accuracy_score(y_test, preds)\n",
    "    return acc"
   ]
  },
  {
   "cell_type": "code",
   "execution_count": 47,
   "metadata": {},
   "outputs": [],
   "source": [
    "from sklearn.linear_model import LogisticRegression"
   ]
  },
  {
   "cell_type": "code",
   "execution_count": 48,
   "metadata": {},
   "outputs": [
    {
     "data": {
      "application/vnd.jupyter.widget-view+json": {
       "model_id": "",
       "version_major": 2,
       "version_minor": 0
      },
      "text/plain": [
       "HBox(children=(FloatProgress(value=0.0, max=10.0), HTML(value='')))"
      ]
     },
     "metadata": {},
     "output_type": "display_data"
    },
    {
     "name": "stderr",
     "output_type": "stream",
     "text": [
      "/home/egor/anaconda3/lib/python3.7/site-packages/sklearn/linear_model/logistic.py:433: FutureWarning: Default solver will be changed to 'lbfgs' in 0.22. Specify a solver to silence this warning.\n",
      "  FutureWarning)\n",
      "/home/egor/anaconda3/lib/python3.7/site-packages/sklearn/linear_model/logistic.py:433: FutureWarning: Default solver will be changed to 'lbfgs' in 0.22. Specify a solver to silence this warning.\n",
      "  FutureWarning)\n",
      "/home/egor/anaconda3/lib/python3.7/site-packages/sklearn/linear_model/logistic.py:433: FutureWarning: Default solver will be changed to 'lbfgs' in 0.22. Specify a solver to silence this warning.\n",
      "  FutureWarning)\n",
      "/home/egor/anaconda3/lib/python3.7/site-packages/sklearn/linear_model/logistic.py:433: FutureWarning: Default solver will be changed to 'lbfgs' in 0.22. Specify a solver to silence this warning.\n",
      "  FutureWarning)\n",
      "/home/egor/anaconda3/lib/python3.7/site-packages/sklearn/linear_model/logistic.py:433: FutureWarning: Default solver will be changed to 'lbfgs' in 0.22. Specify a solver to silence this warning.\n",
      "  FutureWarning)\n",
      "/home/egor/anaconda3/lib/python3.7/site-packages/sklearn/linear_model/logistic.py:433: FutureWarning: Default solver will be changed to 'lbfgs' in 0.22. Specify a solver to silence this warning.\n",
      "  FutureWarning)\n",
      "/home/egor/anaconda3/lib/python3.7/site-packages/sklearn/linear_model/logistic.py:433: FutureWarning: Default solver will be changed to 'lbfgs' in 0.22. Specify a solver to silence this warning.\n",
      "  FutureWarning)\n",
      "/home/egor/anaconda3/lib/python3.7/site-packages/sklearn/linear_model/logistic.py:433: FutureWarning: Default solver will be changed to 'lbfgs' in 0.22. Specify a solver to silence this warning.\n",
      "  FutureWarning)\n",
      "/home/egor/anaconda3/lib/python3.7/site-packages/sklearn/linear_model/logistic.py:433: FutureWarning: Default solver will be changed to 'lbfgs' in 0.22. Specify a solver to silence this warning.\n",
      "  FutureWarning)\n",
      "/home/egor/anaconda3/lib/python3.7/site-packages/sklearn/linear_model/logistic.py:433: FutureWarning: Default solver will be changed to 'lbfgs' in 0.22. Specify a solver to silence this warning.\n",
      "  FutureWarning)\n",
      "/home/egor/anaconda3/lib/python3.7/site-packages/sklearn/linear_model/logistic.py:433: FutureWarning: Default solver will be changed to 'lbfgs' in 0.22. Specify a solver to silence this warning.\n",
      "  FutureWarning)\n",
      "/home/egor/anaconda3/lib/python3.7/site-packages/sklearn/linear_model/logistic.py:433: FutureWarning: Default solver will be changed to 'lbfgs' in 0.22. Specify a solver to silence this warning.\n",
      "  FutureWarning)\n",
      "/home/egor/anaconda3/lib/python3.7/site-packages/sklearn/linear_model/logistic.py:433: FutureWarning: Default solver will be changed to 'lbfgs' in 0.22. Specify a solver to silence this warning.\n",
      "  FutureWarning)\n",
      "/home/egor/anaconda3/lib/python3.7/site-packages/sklearn/linear_model/logistic.py:433: FutureWarning: Default solver will be changed to 'lbfgs' in 0.22. Specify a solver to silence this warning.\n",
      "  FutureWarning)\n",
      "/home/egor/anaconda3/lib/python3.7/site-packages/sklearn/linear_model/logistic.py:433: FutureWarning: Default solver will be changed to 'lbfgs' in 0.22. Specify a solver to silence this warning.\n",
      "  FutureWarning)\n",
      "/home/egor/anaconda3/lib/python3.7/site-packages/sklearn/linear_model/logistic.py:433: FutureWarning: Default solver will be changed to 'lbfgs' in 0.22. Specify a solver to silence this warning.\n",
      "  FutureWarning)\n",
      "/home/egor/anaconda3/lib/python3.7/site-packages/sklearn/linear_model/logistic.py:433: FutureWarning: Default solver will be changed to 'lbfgs' in 0.22. Specify a solver to silence this warning.\n",
      "  FutureWarning)\n",
      "/home/egor/anaconda3/lib/python3.7/site-packages/sklearn/linear_model/logistic.py:433: FutureWarning: Default solver will be changed to 'lbfgs' in 0.22. Specify a solver to silence this warning.\n",
      "  FutureWarning)\n",
      "/home/egor/anaconda3/lib/python3.7/site-packages/sklearn/linear_model/logistic.py:433: FutureWarning: Default solver will be changed to 'lbfgs' in 0.22. Specify a solver to silence this warning.\n",
      "  FutureWarning)\n",
      "/home/egor/anaconda3/lib/python3.7/site-packages/sklearn/linear_model/logistic.py:433: FutureWarning: Default solver will be changed to 'lbfgs' in 0.22. Specify a solver to silence this warning.\n",
      "  FutureWarning)\n"
     ]
    },
    {
     "name": "stdout",
     "output_type": "stream",
     "text": [
      "\n"
     ]
    }
   ],
   "source": [
    "acc_frames = []\n",
    "#acc_words = []\n",
    "acc_bert = []\n",
    "for train_index, test_index in tqdm(kf.split(sub_ds), total=kf.n_splits):\n",
    "    train_y = sub_ds['sentiment_bin'].iloc[train_index]\n",
    "    test_y = sub_ds['sentiment_bin'].iloc[test_index]\n",
    "    \n",
    "    train_frames = bin_ds_frames_normed.iloc[train_index]\n",
    "    test_frames = bin_ds_frames_normed.iloc[test_index]\n",
    "    \n",
    "    train_bert = sub_ds[bert_feats].iloc[train_index]\n",
    "    test_bert = sub_ds[bert_feats].iloc[test_index]\n",
    "    \n",
    "    acc_frames.append(test_model(LogisticRegression(), train_frames, train_y, test_frames, test_y))\n",
    "    acc_bert.append(test_model(LogisticRegression(), train_bert, train_y, test_bert, test_y))"
   ]
  },
  {
   "cell_type": "code",
   "execution_count": 49,
   "metadata": {},
   "outputs": [],
   "source": [
    "import seaborn as sns"
   ]
  },
  {
   "cell_type": "code",
   "execution_count": 51,
   "metadata": {},
   "outputs": [
    {
     "data": {
      "image/png": "[encoded data removed]",
      "text/plain": [
       "<Figure size 432x288 with 1 Axes>"
      ]
     },
     "metadata": {
      "needs_background": "light"
     },
     "output_type": "display_data"
    }
   ],
   "source": [
    "sns.distplot(acc_frames, label='FrameNet')\n",
    "sns.distplot(acc_bert, label='Bert')\n",
    "plt.legend()\n",
    "plt.title('Cross Validation accuracy of the model')\n",
    "plt.show()"
   ]
  },
  {
   "cell_type": "code",
   "execution_count": null,
   "metadata": {},
   "outputs": [],
   "source": []
  },
  {
   "cell_type": "code",
   "execution_count": 53,
   "metadata": {},
   "outputs": [
    {
     "data": {
      "application/vnd.jupyter.widget-view+json": {
       "model_id": "401a835e7ab24bc6886b79cfafdf1378",
       "version_major": 2,
       "version_minor": 0
      },
      "text/plain": [
       "HBox(children=(FloatProgress(value=0.0, max=10.0), HTML(value='')))"
      ]
     },
     "metadata": {},
     "output_type": "display_data"
    },
    {
     "name": "stderr",
     "output_type": "stream",
     "text": [
      "/home/egor/anaconda3/lib/python3.7/site-packages/sklearn/linear_model/logistic.py:433: FutureWarning: Default solver will be changed to 'lbfgs' in 0.22. Specify a solver to silence this warning.\n",
      "  FutureWarning)\n",
      "/home/egor/anaconda3/lib/python3.7/site-packages/sklearn/linear_model/logistic.py:433: FutureWarning: Default solver will be changed to 'lbfgs' in 0.22. Specify a solver to silence this warning.\n",
      "  FutureWarning)\n",
      "/home/egor/anaconda3/lib/python3.7/site-packages/sklearn/linear_model/logistic.py:433: FutureWarning: Default solver will be changed to 'lbfgs' in 0.22. Specify a solver to silence this warning.\n",
      "  FutureWarning)\n",
      "/home/egor/anaconda3/lib/python3.7/site-packages/sklearn/linear_model/logistic.py:433: FutureWarning: Default solver will be changed to 'lbfgs' in 0.22. Specify a solver to silence this warning.\n",
      "  FutureWarning)\n",
      "/home/egor/anaconda3/lib/python3.7/site-packages/sklearn/linear_model/logistic.py:433: FutureWarning: Default solver will be changed to 'lbfgs' in 0.22. Specify a solver to silence this warning.\n",
      "  FutureWarning)\n",
      "/home/egor/anaconda3/lib/python3.7/site-packages/sklearn/linear_model/logistic.py:433: FutureWarning: Default solver will be changed to 'lbfgs' in 0.22. Specify a solver to silence this warning.\n",
      "  FutureWarning)\n",
      "/home/egor/anaconda3/lib/python3.7/site-packages/sklearn/linear_model/logistic.py:433: FutureWarning: Default solver will be changed to 'lbfgs' in 0.22. Specify a solver to silence this warning.\n",
      "  FutureWarning)\n",
      "/home/egor/anaconda3/lib/python3.7/site-packages/sklearn/linear_model/logistic.py:433: FutureWarning: Default solver will be changed to 'lbfgs' in 0.22. Specify a solver to silence this warning.\n",
      "  FutureWarning)\n",
      "/home/egor/anaconda3/lib/python3.7/site-packages/sklearn/linear_model/logistic.py:433: FutureWarning: Default solver will be changed to 'lbfgs' in 0.22. Specify a solver to silence this warning.\n",
      "  FutureWarning)\n",
      "/home/egor/anaconda3/lib/python3.7/site-packages/sklearn/linear_model/logistic.py:433: FutureWarning: Default solver will be changed to 'lbfgs' in 0.22. Specify a solver to silence this warning.\n",
      "  FutureWarning)\n",
      "/home/egor/anaconda3/lib/python3.7/site-packages/sklearn/linear_model/logistic.py:433: FutureWarning: Default solver will be changed to 'lbfgs' in 0.22. Specify a solver to silence this warning.\n",
      "  FutureWarning)\n",
      "/home/egor/anaconda3/lib/python3.7/site-packages/sklearn/linear_model/logistic.py:433: FutureWarning: Default solver will be changed to 'lbfgs' in 0.22. Specify a solver to silence this warning.\n",
      "  FutureWarning)\n",
      "/home/egor/anaconda3/lib/python3.7/site-packages/sklearn/linear_model/logistic.py:433: FutureWarning: Default solver will be changed to 'lbfgs' in 0.22. Specify a solver to silence this warning.\n",
      "  FutureWarning)\n",
      "/home/egor/anaconda3/lib/python3.7/site-packages/sklearn/linear_model/logistic.py:433: FutureWarning: Default solver will be changed to 'lbfgs' in 0.22. Specify a solver to silence this warning.\n",
      "  FutureWarning)\n",
      "/home/egor/anaconda3/lib/python3.7/site-packages/sklearn/linear_model/logistic.py:433: FutureWarning: Default solver will be changed to 'lbfgs' in 0.22. Specify a solver to silence this warning.\n",
      "  FutureWarning)\n",
      "/home/egor/anaconda3/lib/python3.7/site-packages/sklearn/linear_model/logistic.py:433: FutureWarning: Default solver will be changed to 'lbfgs' in 0.22. Specify a solver to silence this warning.\n",
      "  FutureWarning)\n",
      "/home/egor/anaconda3/lib/python3.7/site-packages/sklearn/linear_model/logistic.py:433: FutureWarning: Default solver will be changed to 'lbfgs' in 0.22. Specify a solver to silence this warning.\n",
      "  FutureWarning)\n",
      "/home/egor/anaconda3/lib/python3.7/site-packages/sklearn/linear_model/logistic.py:433: FutureWarning: Default solver will be changed to 'lbfgs' in 0.22. Specify a solver to silence this warning.\n",
      "  FutureWarning)\n",
      "/home/egor/anaconda3/lib/python3.7/site-packages/sklearn/linear_model/logistic.py:433: FutureWarning: Default solver will be changed to 'lbfgs' in 0.22. Specify a solver to silence this warning.\n",
      "  FutureWarning)\n",
      "/home/egor/anaconda3/lib/python3.7/site-packages/sklearn/linear_model/logistic.py:433: FutureWarning: Default solver will be changed to 'lbfgs' in 0.22. Specify a solver to silence this warning.\n",
      "  FutureWarning)\n"
     ]
    },
    {
     "name": "stdout",
     "output_type": "stream",
     "text": [
      "\n"
     ]
    }
   ],
   "source": [
    "acc_bert_frames = []\n",
    "for train_index, test_index in tqdm(kf.split(sub_ds), total=kf.n_splits):\n",
    "    train_y = sub_ds['sentiment_bin'].iloc[train_index]\n",
    "    test_y = sub_ds['sentiment_bin'].iloc[test_index]\n",
    "    \n",
    "    train_frames = bin_ds_frames_normed.iloc[train_index]\n",
    "    test_frames = bin_ds_frames_normed.iloc[test_index]\n",
    "    \n",
    "    train_bert = sub_ds[bert_feats].iloc[train_index]\n",
    "    test_bert = sub_ds[bert_feats].iloc[test_index]\n",
    "    \n",
    "    lr_bert = LogisticRegression()\n",
    "    lr_bert.fit(train_bert, train_y)\n",
    "    train_preds_bert = lr_bert.predict(train_bert)\n",
    "    test_preds_bert = lr_bert.predict(test_bert)\n",
    "\n",
    "    acc_bert_frames.append(\n",
    "        test_model(LogisticRegression(), train_frames, train_preds_bert, test_frames, test_preds_bert))"
   ]
  },
  {
   "cell_type": "code",
   "execution_count": 57,
   "metadata": {},
   "outputs": [
    {
     "data": {
      "image/png": "[encoded data removed]",
      "text/plain": [
       "<Figure size 432x288 with 1 Axes>"
      ]
     },
     "metadata": {
      "needs_background": "light"
     },
     "output_type": "display_data"
    }
   ],
   "source": [
    "sns.distplot(acc_bert_frames)\n",
    "plt.title('Cross Validation Accuracy of prediction Bert Output')\n",
    "plt.show()"
   ]
  },
  {
   "cell_type": "code",
   "execution_count": null,
   "metadata": {},
   "outputs": [],
   "source": []
  },
  {
   "cell_type": "code",
   "execution_count": 60,
   "metadata": {},
   "outputs": [
    {
     "name": "stderr",
     "output_type": "stream",
     "text": [
      "/home/egor/anaconda3/lib/python3.7/site-packages/sklearn/linear_model/logistic.py:433: FutureWarning: Default solver will be changed to 'lbfgs' in 0.22. Specify a solver to silence this warning.\n",
      "  FutureWarning)\n"
     ]
    }
   ],
   "source": [
    "lr_bert = LogisticRegression()\n",
    "lr_bert.fit(sub_ds[bert_feats], sub_ds['sentiment_bin'])\n",
    "preds_bert = lr_bert.predict(sub_ds[bert_feats])"
   ]
  },
  {
   "cell_type": "code",
   "execution_count": 61,
   "metadata": {},
   "outputs": [
    {
     "data": {
      "application/vnd.jupyter.widget-view+json": {
       "model_id": "1657b6b2afb242c58dbe504f3d154935",
       "version_major": 2,
       "version_minor": 0
      },
      "text/plain": [
       "HBox(children=(FloatProgress(value=0.0, max=21.0), HTML(value='')))"
      ]
     },
     "metadata": {},
     "output_type": "display_data"
    },
    {
     "name": "stderr",
     "output_type": "stream",
     "text": [
      "/home/egor/anaconda3/lib/python3.7/site-packages/sklearn/ensemble/forest.py:246: FutureWarning: The default value of n_estimators will change from 10 in version 0.20 to 100 in 0.22.\n",
      "  \"10 in version 0.20 to 100 in 0.22.\", FutureWarning)\n",
      "/home/egor/anaconda3/lib/python3.7/site-packages/sklearn/ensemble/forest.py:246: FutureWarning: The default value of n_estimators will change from 10 in version 0.20 to 100 in 0.22.\n",
      "  \"10 in version 0.20 to 100 in 0.22.\", FutureWarning)\n",
      "/home/egor/anaconda3/lib/python3.7/site-packages/sklearn/ensemble/forest.py:246: FutureWarning: The default value of n_estimators will change from 10 in version 0.20 to 100 in 0.22.\n",
      "  \"10 in version 0.20 to 100 in 0.22.\", FutureWarning)\n",
      "/home/egor/anaconda3/lib/python3.7/site-packages/sklearn/ensemble/forest.py:246: FutureWarning: The default value of n_estimators will change from 10 in version 0.20 to 100 in 0.22.\n",
      "  \"10 in version 0.20 to 100 in 0.22.\", FutureWarning)\n",
      "/home/egor/anaconda3/lib/python3.7/site-packages/sklearn/ensemble/forest.py:246: FutureWarning: The default value of n_estimators will change from 10 in version 0.20 to 100 in 0.22.\n",
      "  \"10 in version 0.20 to 100 in 0.22.\", FutureWarning)\n",
      "/home/egor/anaconda3/lib/python3.7/site-packages/sklearn/ensemble/forest.py:246: FutureWarning: The default value of n_estimators will change from 10 in version 0.20 to 100 in 0.22.\n",
      "  \"10 in version 0.20 to 100 in 0.22.\", FutureWarning)\n",
      "/home/egor/anaconda3/lib/python3.7/site-packages/sklearn/ensemble/forest.py:246: FutureWarning: The default value of n_estimators will change from 10 in version 0.20 to 100 in 0.22.\n",
      "  \"10 in version 0.20 to 100 in 0.22.\", FutureWarning)\n",
      "/home/egor/anaconda3/lib/python3.7/site-packages/sklearn/ensemble/forest.py:246: FutureWarning: The default value of n_estimators will change from 10 in version 0.20 to 100 in 0.22.\n",
      "  \"10 in version 0.20 to 100 in 0.22.\", FutureWarning)\n",
      "/home/egor/anaconda3/lib/python3.7/site-packages/sklearn/ensemble/forest.py:246: FutureWarning: The default value of n_estimators will change from 10 in version 0.20 to 100 in 0.22.\n",
      "  \"10 in version 0.20 to 100 in 0.22.\", FutureWarning)\n",
      "/home/egor/anaconda3/lib/python3.7/site-packages/sklearn/ensemble/forest.py:246: FutureWarning: The default value of n_estimators will change from 10 in version 0.20 to 100 in 0.22.\n",
      "  \"10 in version 0.20 to 100 in 0.22.\", FutureWarning)\n",
      "/home/egor/anaconda3/lib/python3.7/site-packages/sklearn/ensemble/forest.py:246: FutureWarning: The default value of n_estimators will change from 10 in version 0.20 to 100 in 0.22.\n",
      "  \"10 in version 0.20 to 100 in 0.22.\", FutureWarning)\n",
      "/home/egor/anaconda3/lib/python3.7/site-packages/sklearn/ensemble/forest.py:246: FutureWarning: The default value of n_estimators will change from 10 in version 0.20 to 100 in 0.22.\n",
      "  \"10 in version 0.20 to 100 in 0.22.\", FutureWarning)\n",
      "/home/egor/anaconda3/lib/python3.7/site-packages/sklearn/ensemble/forest.py:246: FutureWarning: The default value of n_estimators will change from 10 in version 0.20 to 100 in 0.22.\n",
      "  \"10 in version 0.20 to 100 in 0.22.\", FutureWarning)\n",
      "/home/egor/anaconda3/lib/python3.7/site-packages/sklearn/ensemble/forest.py:246: FutureWarning: The default value of n_estimators will change from 10 in version 0.20 to 100 in 0.22.\n",
      "  \"10 in version 0.20 to 100 in 0.22.\", FutureWarning)\n",
      "/home/egor/anaconda3/lib/python3.7/site-packages/sklearn/ensemble/forest.py:246: FutureWarning: The default value of n_estimators will change from 10 in version 0.20 to 100 in 0.22.\n",
      "  \"10 in version 0.20 to 100 in 0.22.\", FutureWarning)\n",
      "/home/egor/anaconda3/lib/python3.7/site-packages/sklearn/ensemble/forest.py:246: FutureWarning: The default value of n_estimators will change from 10 in version 0.20 to 100 in 0.22.\n",
      "  \"10 in version 0.20 to 100 in 0.22.\", FutureWarning)\n",
      "/home/egor/anaconda3/lib/python3.7/site-packages/sklearn/ensemble/forest.py:246: FutureWarning: The default value of n_estimators will change from 10 in version 0.20 to 100 in 0.22.\n",
      "  \"10 in version 0.20 to 100 in 0.22.\", FutureWarning)\n",
      "/home/egor/anaconda3/lib/python3.7/site-packages/sklearn/ensemble/forest.py:246: FutureWarning: The default value of n_estimators will change from 10 in version 0.20 to 100 in 0.22.\n",
      "  \"10 in version 0.20 to 100 in 0.22.\", FutureWarning)\n",
      "/home/egor/anaconda3/lib/python3.7/site-packages/sklearn/ensemble/forest.py:246: FutureWarning: The default value of n_estimators will change from 10 in version 0.20 to 100 in 0.22.\n",
      "  \"10 in version 0.20 to 100 in 0.22.\", FutureWarning)\n",
      "/home/egor/anaconda3/lib/python3.7/site-packages/sklearn/ensemble/forest.py:246: FutureWarning: The default value of n_estimators will change from 10 in version 0.20 to 100 in 0.22.\n",
      "  \"10 in version 0.20 to 100 in 0.22.\", FutureWarning)\n",
      "/home/egor/anaconda3/lib/python3.7/site-packages/sklearn/ensemble/forest.py:246: FutureWarning: The default value of n_estimators will change from 10 in version 0.20 to 100 in 0.22.\n",
      "  \"10 in version 0.20 to 100 in 0.22.\", FutureWarning)\n"
     ]
    },
    {
     "name": "stdout",
     "output_type": "stream",
     "text": [
      "\n"
     ]
    }
   ],
   "source": [
    "tholds = np.arange(0,1.01,0.05)\n",
    "accs = []\n",
    "\n",
    "for thold in tqdm(tholds):\n",
    "    rf_frames = RandomForestClassifier()\n",
    "    rf_frames.fit(bin_ds_frames_normed>=thold, sub_ds['sentiment_bin'])\n",
    "    preds_frames = rf_frames.predict(bin_ds_frames_normed>=thold)\n",
    "    accs.append(accuracy_score(preds_bert, preds_frames))"
   ]
  },
  {
   "cell_type": "code",
   "execution_count": 65,
   "metadata": {},
   "outputs": [
    {
     "data": {
      "image/png": "[encoded data removed]",
      "text/plain": [
       "<Figure size 432x288 with 1 Axes>"
      ]
     },
     "metadata": {
      "needs_background": "light"
     },
     "output_type": "display_data"
    }
   ],
   "source": [
    "plt.plot(tholds, accs)\n",
    "plt.xlabel('Frame frequence threshold')\n",
    "plt.title('Random Forest Accuracy on binarized frames data')\n",
    "plt.show()"
   ]
  },
  {
   "cell_type": "code",
   "execution_count": 66,
   "metadata": {},
   "outputs": [
    {
     "data": {
      "text/plain": [
       "(0.15000000000000002, 0.8868)"
      ]
     },
     "execution_count": 66,
     "metadata": {},
     "output_type": "execute_result"
    }
   ],
   "source": [
    "thold = tholds[np.argmax(accs)]\n",
    "thold, max(accs)"
   ]
  },
  {
   "cell_type": "code",
   "execution_count": 298,
   "metadata": {},
   "outputs": [
    {
     "data": {
      "text/plain": [
       "1221"
      ]
     },
     "execution_count": 298,
     "metadata": {},
     "output_type": "execute_result"
    }
   ],
   "source": [
    "len(fn.frames())"
   ]
  },
  {
   "cell_type": "code",
   "execution_count": 297,
   "metadata": {},
   "outputs": [
    {
     "data": {
      "text/plain": [
       "1100"
      ]
     },
     "execution_count": 297,
     "metadata": {},
     "output_type": "execute_result"
    }
   ],
   "source": [
    "(train_frames>0).sum(1).max()"
   ]
  },
  {
   "cell_type": "code",
   "execution_count": 293,
   "metadata": {},
   "outputs": [
    {
     "data": {
      "text/plain": [
       "22500"
      ]
     },
     "execution_count": 293,
     "metadata": {},
     "output_type": "execute_result"
    }
   ],
   "source": [
    "(train_frames>0).sum().max()"
   ]
  },
  {
   "cell_type": "code",
   "execution_count": 303,
   "metadata": {},
   "outputs": [
    {
     "name": "stdout",
     "output_type": "stream",
     "text": [
      "\\begin{tabular}{llllll}\n",
      "\\toprule\n",
      "{} &  Appellations &  Personal\\_relationship &  Stimulus\\_focus &  Leadership &  Containers \\\\\n",
      "\\midrule\n",
      "10684 &          True &                   True &            True &        True &        True \\\\\n",
      "10611 &          True &                   True &            True &        True &        True \\\\\n",
      "16289 &          True &                   True &            True &        True &        True \\\\\n",
      "12142 &          True &                   True &            True &        True &        True \\\\\n",
      "5367  &          True &                   True &            True &        True &        True \\\\\n",
      "\\bottomrule\n",
      "\\end{tabular}\n",
      "\n"
     ]
    }
   ],
   "source": [
    "print(bin_ds_short.iloc[:5,:5].to_latex())"
   ]
  },
  {
   "cell_type": "markdown",
   "metadata": {},
   "source": [
    "## Trying FCA"
   ]
  },
  {
   "cell_type": "code",
   "execution_count": 183,
   "metadata": {},
   "outputs": [],
   "source": [
    "train_ds['bert_preds'] = preds_bert"
   ]
  },
  {
   "cell_type": "code",
   "execution_count": 118,
   "metadata": {},
   "outputs": [],
   "source": [
    "import sys"
   ]
  },
  {
   "cell_type": "code",
   "execution_count": 127,
   "metadata": {},
   "outputs": [],
   "source": [
    "if os.path.abspath('../..') not in sys.path:\n",
    "    sys.path.append(os.path.abspath('../..'))"
   ]
  },
  {
   "cell_type": "code",
   "execution_count": 128,
   "metadata": {},
   "outputs": [],
   "source": [
    "import lib.fca_interp as fcai"
   ]
  },
  {
   "cell_type": "code",
   "execution_count": 109,
   "metadata": {},
   "outputs": [],
   "source": [
    "bin_ds = bin_ds_frames_normed>=thold"
   ]
  },
  {
   "cell_type": "code",
   "execution_count": 110,
   "metadata": {},
   "outputs": [
    {
     "data": {
      "text/plain": [
       "(12422, 1221)"
      ]
     },
     "execution_count": 110,
     "metadata": {},
     "output_type": "execute_result"
    }
   ],
   "source": [
    "bin_ds_pos = bin_ds[preds_bert]\n",
    "bin_ds_pos.shape"
   ]
  },
  {
   "cell_type": "code",
   "execution_count": 111,
   "metadata": {},
   "outputs": [],
   "source": [
    "for x in [0,1]:\n",
    "    bin_ds_pos = bin_ds_pos.drop(bin_ds_pos.columns[(bin_ds_pos.mean()==x)],1)"
   ]
  },
  {
   "cell_type": "code",
   "execution_count": 112,
   "metadata": {},
   "outputs": [
    {
     "data": {
      "text/plain": [
       "(12422, 1053)"
      ]
     },
     "execution_count": 112,
     "metadata": {},
     "output_type": "execute_result"
    }
   ],
   "source": [
    "bin_ds_pos.shape"
   ]
  },
  {
   "cell_type": "code",
   "execution_count": null,
   "metadata": {},
   "outputs": [],
   "source": []
  },
  {
   "cell_type": "code",
   "execution_count": 184,
   "metadata": {},
   "outputs": [],
   "source": [
    "bin_ds_short = bin_ds.sample(1000)"
   ]
  },
  {
   "cell_type": "code",
   "execution_count": 189,
   "metadata": {},
   "outputs": [
    {
     "name": "stderr",
     "output_type": "stream",
     "text": [
      "/home/egor/anaconda3/lib/python3.7/site-packages/ipykernel_launcher.py:1: UserWarning:\n",
      "\n",
      "Boolean Series key will be reindexed to match DataFrame index.\n",
      "\n"
     ]
    },
    {
     "data": {
      "text/plain": [
       "(471, 1221)"
      ]
     },
     "execution_count": 189,
     "metadata": {},
     "output_type": "execute_result"
    }
   ],
   "source": [
    "bin_ds_short[train_ds['bert_preds']].shape"
   ]
  },
  {
   "cell_type": "code",
   "execution_count": 190,
   "metadata": {},
   "outputs": [
    {
     "name": "stderr",
     "output_type": "stream",
     "text": [
      "/home/egor/anaconda3/lib/python3.7/site-packages/ipykernel_launcher.py:1: UserWarning:\n",
      "\n",
      "Boolean Series key will be reindexed to match DataFrame index.\n",
      "\n"
     ]
    }
   ],
   "source": [
    "cntx = fcai.BinaryContext(bin_ds_short[train_ds['bert_preds']])\n",
    "cntx_full = fcai.BinaryContext(bin_ds_short)"
   ]
  },
  {
   "cell_type": "code",
   "execution_count": 194,
   "metadata": {},
   "outputs": [],
   "source": [
    "fm = fcai.FormalManager(cntx, context_full=cntx_full)"
   ]
  },
  {
   "cell_type": "code",
   "execution_count": 200,
   "metadata": {},
   "outputs": [
    {
     "data": {
      "application/vnd.jupyter.widget-view+json": {
       "model_id": "a8ecb6e5d49e4271a8388aecfcc3b6ed",
       "version_major": 2,
       "version_minor": 0
      },
      "text/plain": [
       "HBox(children=(FloatProgress(value=0.0, max=471.0), HTML(value='')))"
      ]
     },
     "metadata": {},
     "output_type": "display_data"
    },
    {
     "name": "stdout",
     "output_type": "stream",
     "text": [
      "\n"
     ]
    }
   ],
   "source": [
    "objs = cntx.get_objs(is_full=False)\n",
    "max_cncpts = []\n",
    "for g in tqdm(objs):\n",
    "    int_ = cntx.get_intent([g], is_full=True)\n",
    "    ext_ = cntx.get_extent(int_, is_full=True)\n",
    "    c = fcai.Concept(ext_, int_)\n",
    "    max_cncpts.append(c)"
   ]
  },
  {
   "cell_type": "code",
   "execution_count": 205,
   "metadata": {},
   "outputs": [
    {
     "data": {
      "text/plain": [
       "471"
      ]
     },
     "execution_count": 205,
     "metadata": {},
     "output_type": "execute_result"
    }
   ],
   "source": [
    "max_cncpts = fm.get_unique_concepts(max_cncpts)\n",
    "len(max_cncpts)"
   ]
  },
  {
   "cell_type": "code",
   "execution_count": 321,
   "metadata": {},
   "outputs": [
    {
     "data": {
      "application/vnd.jupyter.widget-view+json": {
       "model_id": "2aec3229f8b746659eafe8406eda755c",
       "version_major": 2,
       "version_minor": 0
      },
      "text/plain": [
       "HBox(children=(FloatProgress(value=0.0, max=471.0), HTML(value='')))"
      ]
     },
     "metadata": {},
     "output_type": "display_data"
    },
    {
     "name": "stdout",
     "output_type": "stream",
     "text": [
      "\n"
     ]
    }
   ],
   "source": [
    "fm._concepts = max_cncpts\n",
    "fm.calc_strongness(use_tqdm=True)"
   ]
  },
  {
   "cell_type": "code",
   "execution_count": 320,
   "metadata": {},
   "outputs": [
    {
     "ename": "KeyError",
     "evalue": "'strongness'",
     "output_type": "error",
     "traceback": [
      "\u001b[0;31m---------------------------------------------------------------------------\u001b[0m",
      "\u001b[0;31mKeyError\u001b[0m                                  Traceback (most recent call last)",
      "\u001b[0;32m<ipython-input-320-248398cc297d>\u001b[0m in \u001b[0;36m<module>\u001b[0;34m\u001b[0m\n\u001b[0;32m----> 1\u001b[0;31m \u001b[0msns\u001b[0m\u001b[0;34m.\u001b[0m\u001b[0mdistplot\u001b[0m\u001b[0;34m(\u001b[0m\u001b[0;34m[\u001b[0m\u001b[0mc\u001b[0m\u001b[0;34m.\u001b[0m\u001b[0m_metrics\u001b[0m\u001b[0;34m[\u001b[0m\u001b[0;34m'strongness'\u001b[0m\u001b[0;34m]\u001b[0m \u001b[0;32mfor\u001b[0m \u001b[0mc\u001b[0m \u001b[0;32min\u001b[0m \u001b[0mfm\u001b[0m\u001b[0;34m.\u001b[0m\u001b[0mget_concepts\u001b[0m\u001b[0;34m(\u001b[0m\u001b[0;34m)\u001b[0m\u001b[0;34m]\u001b[0m\u001b[0;34m)\u001b[0m\u001b[0;34m\u001b[0m\u001b[0;34m\u001b[0m\u001b[0m\n\u001b[0m",
      "\u001b[0;32m<ipython-input-320-248398cc297d>\u001b[0m in \u001b[0;36m<listcomp>\u001b[0;34m(.0)\u001b[0m\n\u001b[0;32m----> 1\u001b[0;31m \u001b[0msns\u001b[0m\u001b[0;34m.\u001b[0m\u001b[0mdistplot\u001b[0m\u001b[0;34m(\u001b[0m\u001b[0;34m[\u001b[0m\u001b[0mc\u001b[0m\u001b[0;34m.\u001b[0m\u001b[0m_metrics\u001b[0m\u001b[0;34m[\u001b[0m\u001b[0;34m'strongness'\u001b[0m\u001b[0;34m]\u001b[0m \u001b[0;32mfor\u001b[0m \u001b[0mc\u001b[0m \u001b[0;32min\u001b[0m \u001b[0mfm\u001b[0m\u001b[0;34m.\u001b[0m\u001b[0mget_concepts\u001b[0m\u001b[0;34m(\u001b[0m\u001b[0;34m)\u001b[0m\u001b[0;34m]\u001b[0m\u001b[0;34m)\u001b[0m\u001b[0;34m\u001b[0m\u001b[0;34m\u001b[0m\u001b[0m\n\u001b[0m",
      "\u001b[0;31mKeyError\u001b[0m: 'strongness'"
     ]
    }
   ],
   "source": [
    "sns.distplot([c._metrics['strongness'] for c in fm.get_concepts()])"
   ]
  },
  {
   "cell_type": "code",
   "execution_count": 211,
   "metadata": {},
   "outputs": [
    {
     "data": {
      "text/plain": [
       "105"
      ]
     },
     "execution_count": 211,
     "metadata": {},
     "output_type": "execute_result"
    }
   ],
   "source": [
    "strong_hyps = [c for c in fm.get_concepts() if c._metrics['strongness']>=1]\n",
    "len(strong_hyps)"
   ]
  },
  {
   "cell_type": "code",
   "execution_count": 213,
   "metadata": {},
   "outputs": [
    {
     "data": {
      "text/plain": [
       "105"
      ]
     },
     "execution_count": 213,
     "metadata": {},
     "output_type": "execute_result"
    }
   ],
   "source": [
    "len(fm.calc_cover_of_concepts(strong_hyps))"
   ]
  },
  {
   "cell_type": "code",
   "execution_count": null,
   "metadata": {},
   "outputs": [],
   "source": []
  },
  {
   "cell_type": "code",
   "execution_count": 247,
   "metadata": {},
   "outputs": [
    {
     "data": {
      "application/vnd.jupyter.widget-view+json": {
       "model_id": "3e4f643f4f4243938c41192f4963cd3e",
       "version_major": 2,
       "version_minor": 0
      },
      "text/plain": [
       "HBox(children=(FloatProgress(value=0.0, description='agglomerative construction', max=11.0, style=ProgressStyl…"
      ]
     },
     "metadata": {},
     "output_type": "display_data"
    },
    {
     "data": {
      "application/vnd.jupyter.widget-view+json": {
       "model_id": "39e07785345a41298d0f2adba1aa3282",
       "version_major": 2,
       "version_minor": 0
      },
      "text/plain": [
       "HBox(children=(FloatProgress(value=0.0, description='boostrap aggregating', style=ProgressStyle(description_wi…"
      ]
     },
     "metadata": {},
     "output_type": "display_data"
    },
    {
     "name": "stdout",
     "output_type": "stream",
     "text": [
      "\n"
     ]
    },
    {
     "data": {
      "application/vnd.jupyter.widget-view+json": {
       "model_id": "18d281a107d34c42a390d8cd1b94b877",
       "version_major": 2,
       "version_minor": 0
      },
      "text/plain": [
       "HBox(children=(FloatProgress(value=0.0, description='construct lattice connections', max=863.0, style=Progress…"
      ]
     },
     "metadata": {},
     "output_type": "display_data"
    },
    {
     "name": "stdout",
     "output_type": "stream",
     "text": [
      "\n"
     ]
    },
    {
     "data": {
      "application/vnd.jupyter.widget-view+json": {
       "model_id": "e0d26216ef7a458d87c41bdeb14e26b1",
       "version_major": 2,
       "version_minor": 0
      },
      "text/plain": [
       "HBox(children=(FloatProgress(value=0.0, max=863.0), HTML(value='')))"
      ]
     },
     "metadata": {},
     "output_type": "display_data"
    },
    {
     "data": {
      "application/vnd.jupyter.widget-view+json": {
       "model_id": "9b31bc6b87ae42f294dd9efc7ebc9736",
       "version_major": 2,
       "version_minor": 0
      },
      "text/plain": [
       "HBox(children=(FloatProgress(value=0.0, description='pruning', max=56.0, style=ProgressStyle(description_width…"
      ]
     },
     "metadata": {},
     "output_type": "display_data"
    },
    {
     "data": {
      "application/vnd.jupyter.widget-view+json": {
       "model_id": "8006b435b54c4978b9cb4743c47df936",
       "version_major": 2,
       "version_minor": 0
      },
      "text/plain": [
       "HBox(children=(FloatProgress(value=0.0, description='boostrap aggregating', style=ProgressStyle(description_wi…"
      ]
     },
     "metadata": {},
     "output_type": "display_data"
    },
    {
     "name": "stdout",
     "output_type": "stream",
     "text": [
      "\n",
      "\n",
      "\n"
     ]
    },
    {
     "data": {
      "application/vnd.jupyter.widget-view+json": {
       "model_id": "0ac9de6b1679484798e1d59a765b2431",
       "version_major": 2,
       "version_minor": 0
      },
      "text/plain": [
       "HBox(children=(FloatProgress(value=0.0, description='construct lattice connections', max=129.0, style=Progress…"
      ]
     },
     "metadata": {},
     "output_type": "display_data"
    },
    {
     "name": "stdout",
     "output_type": "stream",
     "text": [
      "\n"
     ]
    },
    {
     "data": {
      "application/vnd.jupyter.widget-view+json": {
       "model_id": "1cbfed3b26d84a21b7a98ff15e3157be",
       "version_major": 2,
       "version_minor": 0
      },
      "text/plain": [
       "HBox(children=(FloatProgress(value=0.0, max=129.0), HTML(value='')))"
      ]
     },
     "metadata": {},
     "output_type": "display_data"
    },
    {
     "data": {
      "application/vnd.jupyter.widget-view+json": {
       "model_id": "87da578b32e9406ba94e862fe4cfc183",
       "version_major": 2,
       "version_minor": 0
      },
      "text/plain": [
       "HBox(children=(FloatProgress(value=0.0, description='pruning', max=46.0, style=ProgressStyle(description_width…"
      ]
     },
     "metadata": {},
     "output_type": "display_data"
    },
    {
     "data": {
      "application/vnd.jupyter.widget-view+json": {
       "model_id": "ead3c257672c411ba9bb230acc58b1d4",
       "version_major": 2,
       "version_minor": 0
      },
      "text/plain": [
       "HBox(children=(FloatProgress(value=0.0, description='boostrap aggregating', style=ProgressStyle(description_wi…"
      ]
     },
     "metadata": {},
     "output_type": "display_data"
    },
    {
     "name": "stdout",
     "output_type": "stream",
     "text": [
      "\n"
     ]
    },
    {
     "data": {
      "application/vnd.jupyter.widget-view+json": {
       "model_id": "efcb2ab298b14ad29e458e23e89fd704",
       "version_major": 2,
       "version_minor": 0
      },
      "text/plain": [
       "HBox(children=(FloatProgress(value=0.0, description='construct lattice connections', max=144.0, style=Progress…"
      ]
     },
     "metadata": {},
     "output_type": "display_data"
    },
    {
     "name": "stdout",
     "output_type": "stream",
     "text": [
      "\n"
     ]
    },
    {
     "data": {
      "application/vnd.jupyter.widget-view+json": {
       "model_id": "846d1f5e861e4938ba154eff5a43b46f",
       "version_major": 2,
       "version_minor": 0
      },
      "text/plain": [
       "HBox(children=(FloatProgress(value=0.0, max=144.0), HTML(value='')))"
      ]
     },
     "metadata": {},
     "output_type": "display_data"
    },
    {
     "data": {
      "application/vnd.jupyter.widget-view+json": {
       "model_id": "80dbb769410443589ef0a8c708764601",
       "version_major": 2,
       "version_minor": 0
      },
      "text/plain": [
       "HBox(children=(FloatProgress(value=0.0, description='pruning', max=34.0, style=ProgressStyle(description_width…"
      ]
     },
     "metadata": {},
     "output_type": "display_data"
    },
    {
     "data": {
      "application/vnd.jupyter.widget-view+json": {
       "model_id": "98f98cca8d5e4e7fa69732dbb9c0f0be",
       "version_major": 2,
       "version_minor": 0
      },
      "text/plain": [
       "HBox(children=(FloatProgress(value=0.0, description='boostrap aggregating', style=ProgressStyle(description_wi…"
      ]
     },
     "metadata": {},
     "output_type": "display_data"
    },
    {
     "name": "stdout",
     "output_type": "stream",
     "text": [
      "\n"
     ]
    },
    {
     "data": {
      "application/vnd.jupyter.widget-view+json": {
       "model_id": "cbc7b4cab4884c3e981ef72f86967827",
       "version_major": 2,
       "version_minor": 0
      },
      "text/plain": [
       "HBox(children=(FloatProgress(value=0.0, description='construct lattice connections', max=132.0, style=Progress…"
      ]
     },
     "metadata": {},
     "output_type": "display_data"
    },
    {
     "name": "stdout",
     "output_type": "stream",
     "text": [
      "\n"
     ]
    },
    {
     "data": {
      "application/vnd.jupyter.widget-view+json": {
       "model_id": "9e46734a4de4406f8ede52b7718a98b3",
       "version_major": 2,
       "version_minor": 0
      },
      "text/plain": [
       "HBox(children=(FloatProgress(value=0.0, max=132.0), HTML(value='')))"
      ]
     },
     "metadata": {},
     "output_type": "display_data"
    },
    {
     "data": {
      "application/vnd.jupyter.widget-view+json": {
       "model_id": "7206a600acda47f69c9db8fd630ff155",
       "version_major": 2,
       "version_minor": 0
      },
      "text/plain": [
       "HBox(children=(FloatProgress(value=0.0, description='pruning', max=26.0, style=ProgressStyle(description_width…"
      ]
     },
     "metadata": {},
     "output_type": "display_data"
    },
    {
     "data": {
      "application/vnd.jupyter.widget-view+json": {
       "model_id": "6532afef66ac42e6969e38f17d1945d6",
       "version_major": 2,
       "version_minor": 0
      },
      "text/plain": [
       "HBox(children=(FloatProgress(value=0.0, description='boostrap aggregating', style=ProgressStyle(description_wi…"
      ]
     },
     "metadata": {},
     "output_type": "display_data"
    },
    {
     "name": "stdout",
     "output_type": "stream",
     "text": [
      "\n"
     ]
    },
    {
     "data": {
      "application/vnd.jupyter.widget-view+json": {
       "model_id": "fc8e5db5a58440eca28a1c2758cb5eb0",
       "version_major": 2,
       "version_minor": 0
      },
      "text/plain": [
       "HBox(children=(FloatProgress(value=0.0, description='construct lattice connections', max=154.0, style=Progress…"
      ]
     },
     "metadata": {},
     "output_type": "display_data"
    },
    {
     "name": "stdout",
     "output_type": "stream",
     "text": [
      "\n"
     ]
    },
    {
     "data": {
      "application/vnd.jupyter.widget-view+json": {
       "model_id": "2a134bda69c045aaa53f94851e2d9ea9",
       "version_major": 2,
       "version_minor": 0
      },
      "text/plain": [
       "HBox(children=(FloatProgress(value=0.0, max=154.0), HTML(value='')))"
      ]
     },
     "metadata": {},
     "output_type": "display_data"
    },
    {
     "data": {
      "application/vnd.jupyter.widget-view+json": {
       "model_id": "74ea4dc15aca4ac39eea1b957f43c3e3",
       "version_major": 2,
       "version_minor": 0
      },
      "text/plain": [
       "HBox(children=(FloatProgress(value=0.0, description='pruning', max=19.0, style=ProgressStyle(description_width…"
      ]
     },
     "metadata": {},
     "output_type": "display_data"
    },
    {
     "data": {
      "application/vnd.jupyter.widget-view+json": {
       "model_id": "9e75cce925594b0e80d656559fef02f0",
       "version_major": 2,
       "version_minor": 0
      },
      "text/plain": [
       "HBox(children=(FloatProgress(value=0.0, description='boostrap aggregating', style=ProgressStyle(description_wi…"
      ]
     },
     "metadata": {},
     "output_type": "display_data"
    },
    {
     "name": "stdout",
     "output_type": "stream",
     "text": [
      "\n",
      "\n"
     ]
    },
    {
     "name": "stderr",
     "output_type": "stream",
     "text": [
      "/home/egor/Documents/hse_comp_ling/lib/fca_interp.py:741: RuntimeWarning:\n",
      "\n",
      "divide by zero encountered in log2\n",
      "\n",
      "/home/egor/Documents/hse_comp_ling/lib/fca_interp.py:742: RuntimeWarning:\n",
      "\n",
      "divide by zero encountered in log2\n",
      "\n"
     ]
    },
    {
     "name": "stdout",
     "output_type": "stream",
     "text": [
      "\n"
     ]
    },
    {
     "data": {
      "application/vnd.jupyter.widget-view+json": {
       "model_id": "e614678d31254ab1983009503522848a",
       "version_major": 2,
       "version_minor": 0
      },
      "text/plain": [
       "HBox(children=(FloatProgress(value=0.0, description='construct lattice connections', max=259.0, style=Progress…"
      ]
     },
     "metadata": {},
     "output_type": "display_data"
    },
    {
     "name": "stdout",
     "output_type": "stream",
     "text": [
      "\n"
     ]
    },
    {
     "data": {
      "application/vnd.jupyter.widget-view+json": {
       "model_id": "9761d14876eb44bebfe73e0b415c492f",
       "version_major": 2,
       "version_minor": 0
      },
      "text/plain": [
       "HBox(children=(FloatProgress(value=0.0, max=259.0), HTML(value='')))"
      ]
     },
     "metadata": {},
     "output_type": "display_data"
    },
    {
     "data": {
      "application/vnd.jupyter.widget-view+json": {
       "model_id": "b4bf9362dbb547298f102d03e52ba089",
       "version_major": 2,
       "version_minor": 0
      },
      "text/plain": [
       "HBox(children=(FloatProgress(value=0.0, description='pruning', max=8.0, style=ProgressStyle(description_width=…"
      ]
     },
     "metadata": {},
     "output_type": "display_data"
    },
    {
     "data": {
      "application/vnd.jupyter.widget-view+json": {
       "model_id": "1ee8bbbc1dc34e429564dcd7171fa8f9",
       "version_major": 2,
       "version_minor": 0
      },
      "text/plain": [
       "HBox(children=(FloatProgress(value=0.0, description='boostrap aggregating', style=ProgressStyle(description_wi…"
      ]
     },
     "metadata": {},
     "output_type": "display_data"
    },
    {
     "name": "stdout",
     "output_type": "stream",
     "text": [
      "\n",
      "\n",
      "\n"
     ]
    },
    {
     "data": {
      "application/vnd.jupyter.widget-view+json": {
       "model_id": "a84f64bb20fd40139e4445f6cbe61739",
       "version_major": 2,
       "version_minor": 0
      },
      "text/plain": [
       "HBox(children=(FloatProgress(value=0.0, description='construct lattice connections', max=154.0, style=Progress…"
      ]
     },
     "metadata": {},
     "output_type": "display_data"
    },
    {
     "name": "stdout",
     "output_type": "stream",
     "text": [
      "\n"
     ]
    },
    {
     "data": {
      "application/vnd.jupyter.widget-view+json": {
       "model_id": "5396babab8a64b06a69be44874961bed",
       "version_major": 2,
       "version_minor": 0
      },
      "text/plain": [
       "HBox(children=(FloatProgress(value=0.0, max=154.0), HTML(value='')))"
      ]
     },
     "metadata": {},
     "output_type": "display_data"
    },
    {
     "data": {
      "application/vnd.jupyter.widget-view+json": {
       "model_id": "c27081d0ed7b423f9e53defcd9ecbcde",
       "version_major": 2,
       "version_minor": 0
      },
      "text/plain": [
       "HBox(children=(FloatProgress(value=0.0, description='pruning', max=2.0, style=ProgressStyle(description_width=…"
      ]
     },
     "metadata": {},
     "output_type": "display_data"
    },
    {
     "data": {
      "application/vnd.jupyter.widget-view+json": {
       "model_id": "aef7dcf03eee45e6959690e016cee071",
       "version_major": 2,
       "version_minor": 0
      },
      "text/plain": [
       "HBox(children=(FloatProgress(value=0.0, description='boostrap aggregating', style=ProgressStyle(description_wi…"
      ]
     },
     "metadata": {},
     "output_type": "display_data"
    },
    {
     "name": "stdout",
     "output_type": "stream",
     "text": [
      "\n"
     ]
    },
    {
     "data": {
      "application/vnd.jupyter.widget-view+json": {
       "model_id": "5d3b6300978e498da895aff9533a7ef0",
       "version_major": 2,
       "version_minor": 0
      },
      "text/plain": [
       "HBox(children=(FloatProgress(value=0.0, description='construct lattice connections', max=99.0, style=ProgressS…"
      ]
     },
     "metadata": {},
     "output_type": "display_data"
    },
    {
     "name": "stdout",
     "output_type": "stream",
     "text": [
      "\n"
     ]
    },
    {
     "data": {
      "application/vnd.jupyter.widget-view+json": {
       "model_id": "480af0aa458445e5aa7c818c09bcc751",
       "version_major": 2,
       "version_minor": 0
      },
      "text/plain": [
       "HBox(children=(FloatProgress(value=0.0, max=99.0), HTML(value='')))"
      ]
     },
     "metadata": {},
     "output_type": "display_data"
    },
    {
     "data": {
      "application/vnd.jupyter.widget-view+json": {
       "model_id": "852cf3c0ea8b42fdb3c70f348e4097ea",
       "version_major": 2,
       "version_minor": 0
      },
      "text/plain": [
       "HBox(children=(FloatProgress(value=0.0, description='pruning', max=1.0, style=ProgressStyle(description_width=…"
      ]
     },
     "metadata": {},
     "output_type": "display_data"
    },
    {
     "data": {
      "application/vnd.jupyter.widget-view+json": {
       "model_id": "5feb6fef8d5e4781b919940588e3a1e9",
       "version_major": 2,
       "version_minor": 0
      },
      "text/plain": [
       "HBox(children=(FloatProgress(value=0.0, description='boostrap aggregating', style=ProgressStyle(description_wi…"
      ]
     },
     "metadata": {},
     "output_type": "display_data"
    },
    {
     "name": "stdout",
     "output_type": "stream",
     "text": [
      "\n",
      "\n",
      "\n"
     ]
    },
    {
     "data": {
      "application/vnd.jupyter.widget-view+json": {
       "model_id": "5ee41d19dc114a9b9cbd51a747ef14f6",
       "version_major": 2,
       "version_minor": 0
      },
      "text/plain": [
       "HBox(children=(FloatProgress(value=0.0, description='construct lattice connections', max=98.0, style=ProgressS…"
      ]
     },
     "metadata": {},
     "output_type": "display_data"
    },
    {
     "name": "stdout",
     "output_type": "stream",
     "text": [
      "\n"
     ]
    },
    {
     "data": {
      "application/vnd.jupyter.widget-view+json": {
       "model_id": "ee622dcdbd3049ffb6b70f54aacee65b",
       "version_major": 2,
       "version_minor": 0
      },
      "text/plain": [
       "HBox(children=(FloatProgress(value=0.0, max=98.0), HTML(value='')))"
      ]
     },
     "metadata": {},
     "output_type": "display_data"
    },
    {
     "data": {
      "application/vnd.jupyter.widget-view+json": {
       "model_id": "081a8545b7a945cb8725e5003489aaaa",
       "version_major": 2,
       "version_minor": 0
      },
      "text/plain": [
       "HBox(children=(FloatProgress(value=0.0, description='pruning', max=1.0, style=ProgressStyle(description_width=…"
      ]
     },
     "metadata": {},
     "output_type": "display_data"
    },
    {
     "data": {
      "application/vnd.jupyter.widget-view+json": {
       "model_id": "d6dbdb84b5b341e389870317091db303",
       "version_major": 2,
       "version_minor": 0
      },
      "text/plain": [
       "HBox(children=(FloatProgress(value=0.0, description='boostrap aggregating', style=ProgressStyle(description_wi…"
      ]
     },
     "metadata": {},
     "output_type": "display_data"
    },
    {
     "name": "stdout",
     "output_type": "stream",
     "text": [
      "\n",
      "\n"
     ]
    },
    {
     "name": "stderr",
     "output_type": "stream",
     "text": [
      "Exception in thread Thread-12:\n",
      "Traceback (most recent call last):\n",
      "  File \"/home/egor/anaconda3/lib/python3.7/threading.py\", line 917, in _bootstrap_inner\n",
      "    self.run()\n",
      "  File \"/home/egor/.local/lib/python3.7/site-packages/tqdm/_monitor.py\", line 78, in run\n",
      "    instances = self.get_instances()\n",
      "  File \"/home/egor/.local/lib/python3.7/site-packages/tqdm/_monitor.py\", line 58, in get_instances\n",
      "    return [i for i in self.tqdm_cls._instances.copy()\n",
      "  File \"/home/egor/anaconda3/lib/python3.7/_weakrefset.py\", line 92, in copy\n",
      "    return self.__class__(self)\n",
      "  File \"/home/egor/anaconda3/lib/python3.7/_weakrefset.py\", line 50, in __init__\n",
      "    self.update(data)\n",
      "  File \"/home/egor/anaconda3/lib/python3.7/_weakrefset.py\", line 119, in update\n",
      "    for element in other:\n",
      "  File \"/home/egor/anaconda3/lib/python3.7/_weakrefset.py\", line 60, in __iter__\n",
      "    for itemref in self.data:\n",
      "RuntimeError: Set changed size during iteration\n",
      "\n"
     ]
    },
    {
     "name": "stdout",
     "output_type": "stream",
     "text": [
      "\n"
     ]
    },
    {
     "data": {
      "application/vnd.jupyter.widget-view+json": {
       "model_id": "d4f7584e803b451fb0d7c019b03cdfba",
       "version_major": 2,
       "version_minor": 0
      },
      "text/plain": [
       "HBox(children=(FloatProgress(value=0.0, description='construct lattice connections', max=98.0, style=ProgressS…"
      ]
     },
     "metadata": {},
     "output_type": "display_data"
    },
    {
     "name": "stdout",
     "output_type": "stream",
     "text": [
      "\n"
     ]
    },
    {
     "data": {
      "application/vnd.jupyter.widget-view+json": {
       "model_id": "af4ebdb7e57043c9915a3a464929e3d4",
       "version_major": 2,
       "version_minor": 0
      },
      "text/plain": [
       "HBox(children=(FloatProgress(value=0.0, max=98.0), HTML(value='')))"
      ]
     },
     "metadata": {},
     "output_type": "display_data"
    },
    {
     "data": {
      "application/vnd.jupyter.widget-view+json": {
       "model_id": "77eb082e18384198b5392aec7d5fecc6",
       "version_major": 2,
       "version_minor": 0
      },
      "text/plain": [
       "HBox(children=(FloatProgress(value=0.0, description='pruning', max=1.0, style=ProgressStyle(description_width=…"
      ]
     },
     "metadata": {},
     "output_type": "display_data"
    },
    {
     "data": {
      "application/vnd.jupyter.widget-view+json": {
       "model_id": "e5f88dc52b4045258b2668e77d87adae",
       "version_major": 2,
       "version_minor": 0
      },
      "text/plain": [
       "HBox(children=(FloatProgress(value=0.0, description='boostrap aggregating', style=ProgressStyle(description_wi…"
      ]
     },
     "metadata": {},
     "output_type": "display_data"
    },
    {
     "name": "stdout",
     "output_type": "stream",
     "text": [
      "\n",
      "\n",
      "\n"
     ]
    },
    {
     "data": {
      "application/vnd.jupyter.widget-view+json": {
       "model_id": "a32b5751739c4688b6c81c61e8cf0622",
       "version_major": 2,
       "version_minor": 0
      },
      "text/plain": [
       "HBox(children=(FloatProgress(value=0.0, description='construct lattice connections', max=98.0, style=ProgressS…"
      ]
     },
     "metadata": {},
     "output_type": "display_data"
    },
    {
     "name": "stdout",
     "output_type": "stream",
     "text": [
      "\n"
     ]
    },
    {
     "data": {
      "application/vnd.jupyter.widget-view+json": {
       "model_id": "d2fca795295742409a3704a455a811c2",
       "version_major": 2,
       "version_minor": 0
      },
      "text/plain": [
       "HBox(children=(FloatProgress(value=0.0, max=98.0), HTML(value='')))"
      ]
     },
     "metadata": {},
     "output_type": "display_data"
    },
    {
     "data": {
      "application/vnd.jupyter.widget-view+json": {
       "model_id": "3fbfe34d493346c38acac327a615e89c",
       "version_major": 2,
       "version_minor": 0
      },
      "text/plain": [
       "HBox(children=(FloatProgress(value=0.0, description='pruning', max=1.0, style=ProgressStyle(description_width=…"
      ]
     },
     "metadata": {},
     "output_type": "display_data"
    },
    {
     "name": "stdout",
     "output_type": "stream",
     "text": [
      "\n"
     ]
    },
    {
     "data": {
      "application/vnd.jupyter.widget-view+json": {
       "model_id": "358ff1144d7641c0895f8f82cba934dc",
       "version_major": 2,
       "version_minor": 0
      },
      "text/plain": [
       "HBox(children=(FloatProgress(value=0.0, description='Postprocessing', max=96.0, style=ProgressStyle(descriptio…"
      ]
     },
     "metadata": {},
     "output_type": "display_data"
    },
    {
     "name": "stdout",
     "output_type": "stream",
     "text": [
      "\n"
     ]
    }
   ],
   "source": [
    "fm.construct_concepts(algo='Agglomerative_Bootstrap', strong_concepts=strong_hyps,\n",
    "                      n_best_bootstrap_concepts=10, sample_size_bootstrap=10,\n",
    "                      n_bootstrap_epochs=100, use_tqdm=True)"
   ]
  },
  {
   "cell_type": "code",
   "execution_count": 323,
   "metadata": {},
   "outputs": [
    {
     "data": {
      "text/plain": [
       "471"
      ]
     },
     "execution_count": 323,
     "metadata": {},
     "output_type": "execute_result"
    }
   ],
   "source": [
    "len(fm.get_concepts())"
   ]
  },
  {
   "cell_type": "code",
   "execution_count": 219,
   "metadata": {},
   "outputs": [
    {
     "data": {
      "text/plain": [
       "381"
      ]
     },
     "execution_count": 219,
     "metadata": {},
     "output_type": "execute_result"
    }
   ],
   "source": [
    "len(fm.calc_cover_of_concepts(fm.get_concepts()))"
   ]
  },
  {
   "cell_type": "code",
   "execution_count": 221,
   "metadata": {},
   "outputs": [
    {
     "data": {
      "application/vnd.jupyter.widget-view+json": {
       "model_id": "1223e2510d5749439441eb504f412714",
       "version_major": 2,
       "version_minor": 0
      },
      "text/plain": [
       "HBox(children=(FloatProgress(value=0.0, description='construct lattice connections', max=135.0, style=Progress…"
      ]
     },
     "metadata": {},
     "output_type": "display_data"
    },
    {
     "name": "stdout",
     "output_type": "stream",
     "text": [
      "\n"
     ]
    }
   ],
   "source": [
    "fm.construct_lattice(use_tqdm=True)"
   ]
  },
  {
   "cell_type": "code",
   "execution_count": 222,
   "metadata": {},
   "outputs": [
    {
     "data": {
      "application/vnd.jupyter.widget-view+json": {
       "model_id": "88d9ac945b9b44ddb1afb7d68abcaa08",
       "version_major": 2,
       "version_minor": 0
      },
      "text/plain": [
       "HBox(children=(FloatProgress(value=0.0, max=135.0), HTML(value='')))"
      ]
     },
     "metadata": {},
     "output_type": "display_data"
    },
    {
     "name": "stdout",
     "output_type": "stream",
     "text": [
      "\n"
     ]
    },
    {
     "name": "stderr",
     "output_type": "stream",
     "text": [
      "/home/egor/Documents/hse_comp_ling/lib/fca_interp.py:741: RuntimeWarning:\n",
      "\n",
      "divide by zero encountered in log2\n",
      "\n",
      "/home/egor/Documents/hse_comp_ling/lib/fca_interp.py:742: RuntimeWarning:\n",
      "\n",
      "divide by zero encountered in log2\n",
      "\n"
     ]
    }
   ],
   "source": [
    "fm.calc_stability_approx(use_tqdm=True)"
   ]
  },
  {
   "cell_type": "code",
   "execution_count": 226,
   "metadata": {},
   "outputs": [
    {
     "name": "stderr",
     "output_type": "stream",
     "text": [
      "/home/egor/anaconda3/lib/python3.7/site-packages/scipy/stats/stats.py:1713: FutureWarning:\n",
      "\n",
      "Using a non-tuple sequence for multidimensional indexing is deprecated; use `arr[tuple(seq)]` instead of `arr[seq]`. In the future this will be interpreted as an array index, `arr[np.array(seq)]`, which will result either in an error or a different result.\n",
      "\n"
     ]
    },
    {
     "data": {
      "text/plain": [
       "<matplotlib.axes._subplots.AxesSubplot at 0x7f3b94463438>"
      ]
     },
     "execution_count": 226,
     "metadata": {},
     "output_type": "execute_result"
    },
    {
     "data": {
      "image/png": "[encoded data removed]",
      "text/plain": [
       "<Figure size 432x288 with 1 Axes>"
      ]
     },
     "metadata": {
      "needs_background": "light"
     },
     "output_type": "display_data"
    }
   ],
   "source": [
    "sns.distplot([c._metrics['stab_min_bound'] for c in fm.get_concepts() if c._metrics['stab_min_bound'] is not None])"
   ]
  },
  {
   "cell_type": "code",
   "execution_count": 322,
   "metadata": {},
   "outputs": [],
   "source": [
    "fm.calc_strongness()"
   ]
  },
  {
   "cell_type": "code",
   "execution_count": 229,
   "metadata": {},
   "outputs": [
    {
     "name": "stderr",
     "output_type": "stream",
     "text": [
      "/home/egor/anaconda3/lib/python3.7/site-packages/scipy/stats/stats.py:1713: FutureWarning:\n",
      "\n",
      "Using a non-tuple sequence for multidimensional indexing is deprecated; use `arr[tuple(seq)]` instead of `arr[seq]`. In the future this will be interpreted as an array index, `arr[np.array(seq)]`, which will result either in an error or a different result.\n",
      "\n"
     ]
    },
    {
     "data": {
      "text/plain": [
       "<matplotlib.axes._subplots.AxesSubplot at 0x7f3b94aaa2b0>"
      ]
     },
     "execution_count": 229,
     "metadata": {},
     "output_type": "execute_result"
    },
    {
     "data": {
      "image/png": "[encoded data removed]",
      "text/plain": [
       "<Figure size 432x288 with 1 Axes>"
      ]
     },
     "metadata": {
      "needs_background": "light"
     },
     "output_type": "display_data"
    }
   ],
   "source": [
    "sns.distplot([c._metrics['strongness'] for c in fm.get_concepts()])"
   ]
  },
  {
   "cell_type": "code",
   "execution_count": 319,
   "metadata": {},
   "outputs": [
    {
     "data": {
      "text/plain": [
       "96"
      ]
     },
     "execution_count": 319,
     "metadata": {},
     "output_type": "execute_result"
    }
   ],
   "source": [
    "len(fm.get_concepts())"
   ]
  },
  {
   "cell_type": "code",
   "execution_count": null,
   "metadata": {},
   "outputs": [],
   "source": []
  },
  {
   "cell_type": "code",
   "execution_count": 232,
   "metadata": {},
   "outputs": [
    {
     "name": "stderr",
     "output_type": "stream",
     "text": [
      "/home/egor/anaconda3/lib/python3.7/site-packages/scipy/stats/stats.py:1713: FutureWarning:\n",
      "\n",
      "Using a non-tuple sequence for multidimensional indexing is deprecated; use `arr[tuple(seq)]` instead of `arr[seq]`. In the future this will be interpreted as an array index, `arr[np.array(seq)]`, which will result either in an error or a different result.\n",
      "\n"
     ]
    },
    {
     "data": {
      "text/plain": [
       "<matplotlib.axes._subplots.AxesSubplot at 0x7f3b938d0080>"
      ]
     },
     "execution_count": 232,
     "metadata": {},
     "output_type": "execute_result"
    },
    {
     "data": {
      "image/png": "[encoded data removed]",
      "text/plain": [
       "<Figure size 432x288 with 1 Axes>"
      ]
     },
     "metadata": {
      "needs_background": "light"
     },
     "output_type": "display_data"
    }
   ],
   "source": [
    "sns.distplot([len(c.get_intent()) for c in fm.get_concepts()])"
   ]
  },
  {
   "cell_type": "code",
   "execution_count": null,
   "metadata": {},
   "outputs": [],
   "source": []
  },
  {
   "cell_type": "code",
   "execution_count": 235,
   "metadata": {},
   "outputs": [],
   "source": [
    "def get_short_int(int_, cntx_full, use_tqdm=False):\n",
    "    int_short = int_.copy()\n",
    "    for i in tqdm(range(len(int_short)), disable=not use_tqdm):\n",
    "        if len(int_short)>=i:\n",
    "            break\n",
    "\n",
    "        for m in int_short:\n",
    "            int_new = [m_ for m_ in int_short if m_!=m]\n",
    "            int_new_ = cntx_full.get_intent(cntx_full.get_extent(int_new, is_full=True), is_full=True)\n",
    "            if len(int_new_)==len(int_):\n",
    "                int_short = int_new\n",
    "                break\n",
    "    return int_short"
   ]
  },
  {
   "cell_type": "code",
   "execution_count": 245,
   "metadata": {},
   "outputs": [],
   "source": [
    "c = fm.get_concept_by_id(40)"
   ]
  },
  {
   "cell_type": "code",
   "execution_count": 246,
   "metadata": {},
   "outputs": [
    {
     "data": {
      "text/plain": [
       "(265, 265)"
      ]
     },
     "execution_count": 246,
     "metadata": {},
     "output_type": "execute_result"
    }
   ],
   "source": [
    "len(get_short_int(c.get_intent(), cntx_full)), len(c.get_intent())"
   ]
  },
  {
   "cell_type": "code",
   "execution_count": 318,
   "metadata": {},
   "outputs": [
    {
     "data": {
      "text/plain": [
       "(25000, 1221)"
      ]
     },
     "execution_count": 318,
     "metadata": {},
     "output_type": "execute_result"
    }
   ],
   "source": [
    "bin_ds.shape"
   ]
  },
  {
   "cell_type": "code",
   "execution_count": 327,
   "metadata": {},
   "outputs": [
    {
     "data": {
      "text/plain": [
       "\"I've seen The Blob several times and is one of the better low budget alien invasion movies from the 1950's.<br /><br />A strange meteor lands just outside a small town and an elderly man goes to investigate this. A strange jelly like substance then attaches itself to one of his arms and a young couple who saw the meteor land arrive in time and take him to the local doctor's, where the old man then gets completely absorbed by the mass. The doctor and his nurse are the next victims and the mass is getting bigger. When these incidents are reported to the police, they don't believe the young couple and accuse them of making all this up. They finally believe them when the mass, now huge turns up in the town's cinema and everybody runs into the streets screaming. It then attaches itself on a diner with the young couple and some others inside. The Blob is stopped by spraying a load of fire extinguishers at it and it freezes, which is its weakness. It is then transported by plane to the frozen wastes of the Arctic and disposed of there. But it is only frozen, not dead...<br /><br />This movie has a typical setting for its period: teenagers and a small town. The Blob has a good rock and roll style theme song at the beginning and the movie is atmospheric throughout.<br /><br />The sequel, Beware! The Blob followed in 1972 and a remake came in 1988 but this is the best of The Blob movies.<br /><br />The cast is lead by Steve McQueen (The Great Escape)and is the movie that made him a star and Aneta Corsaut plays his girlfriend. I'm not familiar with any of the other stars.<br /><br />The Blob is a must see for all sci-fi fans. Fantastic.<br /><br />Rating: 4 stars out of 5.\""
      ]
     },
     "execution_count": 327,
     "metadata": {},
     "output_type": "execute_result"
    }
   ],
   "source": [
    "train_ds.loc[12142]['text']"
   ]
  },
  {
   "cell_type": "code",
   "execution_count": 324,
   "metadata": {},
   "outputs": [
    {
     "data": {
      "text/plain": [
       "Concept\n",
       "\n",
       "extent (len: 363): 12142, 5367, 1984, 1950, 1275, 7366, 8354, 7259, 2470, 7137, 1089, 11813, 12282, 4940, 13662, 12207, 1385, 318, 11895, 7512, 996, 7648, 7529, 10205, 6381, 3915, 5073, 13065, 4903, 9742, 4165, 438, 1561, 3013, 10910, 6974, 921, 10552, 10100, 3589, 4405, 7752, 21204, 2963, 7897, 1955, 11847, 11587, 10129, 1219, 11002, 9269, 11100, 9425, 13786, 8057, 5971, 7433, 3748, 11095, 853, 2693, 5266, 5813, 12367, 11142, 8935, 10241, 9969, 7757, 1557, 8591, 4561, 1220, 9820, 4554, 7201, 11444, 12171, 10543, 8229, 8585, 5767, 192, 10407, 7615, 224, 6830, 8231, 6854, 3607, 10345, 2143, 12361, 11989, 2148, 4494, 23277, 10483, 4083, 11719, 1488, 7949, 8893, 9775, 1431, 4743, 697, 7060, 5572, 10005, 8959, 5539, 8571, 6370, 24016, 4016, 12247, 10330, 5512, 4636, 7444, 10915, 6121, 5506, 6610, 12260, 8045, 12222, 446, 3304, 5053, 7498, 3832, 10702, 6592, 11167, 9646, 11364, 2175, 11281, 4518, 18187, 19627, 7693, 6882, 14996, 1508, 544, 13493, 8989, 19472, 150, 8416, 7075, 10017, 74, 10991, 601, 3451, 12315, 16632, 24521, 4110, 870, 11226, 7089, 1986, 5469, 7452, 2081, 24053, 10191, 4735, 4098, 9033, 4430, 141, 5806, 11252, 8336, 10061, 17586, 8955, 2530, 7971, 11305, 6443, 4151, 2046, 9610, 11411, 7614, 310, 15289, 10649, 10743, 9537, 1693, 133, 154, 11138, 349, 17293, 8603, 2672, 2890, 5154, 6461, 5929, 8488, 9428, 15918, 13742, 9022, 4881, 11924, 9287, 22718, 11357, 9854, 12874, 4583, 12401, 125, 7969, 10646, 8196, 2509, 13891, 5554, 8818, 10700, 16129, 12251, 12495, 11836, 5302, 12235, 205, 1131, 12154, 6470, 8602, 17425, 11727, 8286, 13785, 8804, 835, 4142, 12507, 2165, 15763, 4719, 7916, 428, 8895, 3105, 6480, 2447, 2632, 7445, 7787, 5842, 885, 6748, 8477, 4590, 2548, 24541, 2698, 5604, 5015, 5179, 14187, 4399, 8337, 12098, 9414, 7000, 12188, 5858, 5743, 7335, 4432, 10572, 5742, 10972, 4274, 8925, 2933, 11693, 8922, 3463, 1751, 10695, 410, 4280, 8412, 1002, 9883, 207, 14445, 3710, 3489, 9695, 9063, 22572, 10748, 20979, 4021, 10731, 24331, 12320, 4563, 659, 11043, 1303, 11510, 6270, 5274, 1191, 8083, 13148, 7894, 2390, 4413, 4924, 1288, 4045, 8564, 516, 96, 16885, 2042, 11899, 23337, 12067, 9831, 11263, 2024, 9072, 23723, 10904, 4153, 6675, 6189, 2308, 11765, 16744, 7717, 4424, 10820, 5583, 10187, 2790, 6315, 9842, 1070, 9705, 10801, 11362\n",
       "intent (len: 60): Appellations, Personal_relationship, Stimulus_focus, Leadership, Containers, Clothing, People_by_vocation, Emotion_directed, Experiencer_obj, Medical_conditions, Kinship, Theft, Killing, Desirability, Body_parts, Buildings, Self_motion, Locative_relation, Frequency, Difficulty, Temporal_collocation, Judgment_direct_address, Placing, Wearing, Weapon, Desiring, Biological_urge, Out_of_existence, Intoxication, Text, Natural_features, Expertise, Locale_by_use, Quantified_mass, Time_vector, Amalgamation, Proportional_quantity, Building_subparts, Preventing_or_letting, Weather, Make_noise, Aggregate, Hostile_encounter, Morality_evaluation, Accoutrements, Scrutiny, People_by_origin, Cause_motion, Come_together, Evidence, Motion, Competition, Process, Activity, Crime_scenario, Criminal_process, Cycle_of_existence_scenario, Cycle_of_life_and_death, Operate_vehicle_scenario, Sleep_wake_cycle\n",
       "metric strongness = 0.484"
      ]
     },
     "execution_count": 324,
     "metadata": {},
     "output_type": "execute_result"
    }
   ],
   "source": [
    "sorted(fm.get_concepts(), key=lambda c: len(c.get_intent()))[0]"
   ]
  },
  {
   "cell_type": "code",
   "execution_count": 304,
   "metadata": {},
   "outputs": [
    {
     "data": {
      "text/plain": [
       "Concept 40\n",
       "level: 3\n",
       "extent (len: 9): 10910, 11847, 10915, 12222, 74, 2672, 2890, 10700, 835\n",
       "intent (len: 265): Appellations, Personal_relationship, Stimulus_focus, Leadership, Containers, Clothing, People_by_vocation, Emotion_directed, Experiencer_obj, Medical_conditions, Kinship, Theft, Killing, Food, Medical_professionals, Desirability, Body_parts, Buildings, Self_motion, Locative_relation, Frequency, Difficulty, Temporal_collocation, Judgment_direct_address, Attaching, Placing, Wearing, Weapon, Desiring, Experiencer_focus, Biological_urge, Relative_time, Giving, Out_of_existence, Intoxication, Success_or_failure, Text, Hedging, Being_attached, Judgment_communication, Firing, Natural_features, Stage_of_progress, Part_orientational, Expertise, Compatibility, Locale_by_use, Body_movement, Quantified_mass, Medical_specialties, Time_vector, Amalgamation, Social_event, Accompaniment, Proportional_quantity, Building_subparts, Preventing_or_letting, Prevarication, Interior_profile_relation, Origin, Giving_birth, Cooking_creation, Weather, Compliance, Make_noise, Body_description_holistic, Aggregate, Hostile_encounter, Morality_evaluation, Offenses, Attention_getting, Accoutrements, Intoxicants, Possession, Scrutiny, Cognitive_connection, Cause_to_amalgamate, Attack, People_by_origin, Cause_harm, Non-gradable_proximity, Cure, Causation, Coming_to_believe, Intentionally_affect, Education_teaching, Resolve_problem, Sounds, Gathering_up, Collaboration, Rite, Frugality, Building, Manipulation, Abounding_with, Fields, Condition_symptom_relation, Cause_motion, Deny_or_grant_permission, Biological_area, Communication_noise, Awareness, Organization, Activity_stop, Cause_change_of_consistency, Text_creation, Political_locales, Candidness, Impact, Position_on_a_scale, Removing, Chatting, Degree, Cause_expansion, Hindering, Death, Catastrophe, Change_of_consistency, Medical_instruments, Chemical-sense_description, Complaining, Clothing_parts, Spatial_contact, Submitting_documents, Light_movement, Existence, Statement, Location_of_light, Cogitation, Destroying, Contrary_circumstances, Giving_in, Distributed_position, Concessive, Request, Means, Inclination, Cardinal_numbers, Cause_to_fragment, Substance, Putting_out_fire, Roadways, Grooming, Come_together, Conduct, Arriving, Forming_relationships, Hit_or_miss, Expansion, Emptying, Path_shape, Coming_up_with, Conditional_occurrence, Experience_bodily_harm, Topic, Importance, Process_stop, Being_located, Evidence, Communicate_categorization, Intentionally_act, Secrecy_status, Size, Architectural_part, Relational_natural_features, Social_interaction_evaluation, Rejuvenation, Posture, Earnings_and_losses, Domain, People_by_religion, Dynamism, Being_incarcerated, Being_obligatory, Grasp, Shaped_part, Apply_heat, Filling, Accuracy, Color, Legality, Aesthetics, Co-association, Sending, Type, Absorb_heat, Cause_to_perceive, Excreting, Sensation, Destiny, Memory, Volubility, Mental_property, Cause_change_of_position_on_a_scale, Change_position_on_a_scale, Categorization, Vehicle, Isolated_places, Cause_to_start, Distinctiveness, Usefulness, Documents, Render_nonfunctional, Measure_volume, Prison, Judgment, Motion, Reveal_secret, Businesses, Travel, Change_of_leadership, Perception_body, Military, Evoking, Becoming_aware, Inspecting, Sole_instance, Cause_emotion, Being_necessary, Achieving_first, Similarity, Praiseworthiness, Commerce_scenario, Fame, Identicality, Eventive_affecting, Being_named, Perception_active, Rising_to_a_challenge, Assistance, Foreign_or_domestic_country, Being_wet, Change_posture, Wealthiness, Individual_history, Obviousness, Damaging, Diversity, Age, Artifact, Agriculture, Dimension, Competition, Traversing, Intentional_traversing, Trial, Arraignment, Process, Activity, Attempt_distant_interaction_scenario, Change_of_phase_scenario, Crime_scenario, Criminal_process, Cycle_of_existence_scenario, Cycle_of_life_and_death, Employee_scenario, Employer_scenario, Fire_emergency_scenario, Fire_stopping_scenario, Giving_scenario, Inhibit_motion_scenario, Invasion_scenario, Operate_vehicle_scenario, Product_development_scenario, Sleep_wake_cycle\n",
       "new extent (len: 3): 74, 11847, 2890\n",
       "new_intent (len: 128): Communicate_categorization, Attempt_distant_interaction_scenario, Color, Being_obligatory, Text_creation, Dynamism, Inspecting, Cause_to_fragment, Type, Rite, Hit_or_miss, Giving_in, Frugality, People_by_origin, Co-association, Request, Cause_to_perceive, Removing, Architectural_part, Cause_emotion, Intentional_traversing, Grasp, Measure_volume, Shaped_part, Being_necessary, Being_located, Apply_heat, Change_of_phase_scenario, Position_on_a_scale, People_by_religion, Domain, Vehicle, Identicality, Judgment, Commerce_scenario, Obviousness, Chemical-sense_description, Change_position_on_a_scale, Filling, Distinctiveness, Cogitation, Coming_up_with, Achieving_first, Awareness, Existence, Location_of_light, Political_locales, Destiny, Forming_relationships, Sensation, Complaining, Rising_to_a_challenge, Artifact, Excreting, Aesthetics, Sending, Spatial_contact, Sole_instance, Being_wet, Dimension, Submitting_documents, Conduct, Cause_expansion, Praiseworthiness, Social_interaction_evaluation, Absorb_heat, Isolated_places, Military, Damaging, Intentionally_act, Non-gradable_proximity, Cause_change_of_position_on_a_scale, Accuracy, Fire_stopping_scenario, Categorization, Diversity, Accompaniment, Being_incarcerated, Secrecy_status, Wealthiness, Cause_change_of_consistency, Substance, Resolve_problem, Prison, Concessive, Volubility, Expansion, Importance, Perception_active, Experience_bodily_harm, Render_nonfunctional, Fame, Condition_symptom_relation, Activity_stop, Light_movement, Come_together, Posture, Inclination, Documents, Means, Change_of_consistency, Foreign_or_domestic_country, Size, Reveal_secret, Conditional_occurrence, Contrary_circumstances, Change_of_leadership, Arriving, Earnings_and_losses, Invasion_scenario, Process_stop, Putting_out_fire, Businesses, Fire_emergency_scenario, Usefulness, Memory, Intentionally_affect, Cognitive_connection, Perception_body, Destroying, Age, Similarity, Legality, Hindering, Becoming_aware, Eventive_affecting, Relational_natural_features, Assistance\n",
       "lower neighbours (len: 2): 83, 60\n",
       "upper neighbours (len: 4): 8, 2, 3, 4\n",
       "metric stab_min_bound = 0.9609375\n",
       "metric stab_max_bound = 0.96875\n",
       "metric log_stab_min_bound = 4.678071905112637\n",
       "metric log_stab_max_bound = 5.0\n",
       "metric lstab_min_bound = -1216.0\n",
       "metric strongness = 1.0"
      ]
     },
     "execution_count": 304,
     "metadata": {},
     "output_type": "execute_result"
    }
   ],
   "source": [
    "c"
   ]
  }
 ],
 "metadata": {
  "kernelspec": {
   "display_name": "Python 3",
   "language": "python",
   "name": "python3"
  },
  "language_info": {
   "codemirror_mode": {
    "name": "ipython",
    "version": 3
   },
   "file_extension": ".py",
   "mimetype": "text/x-python",
   "name": "python",
   "nbconvert_exporter": "python",
   "pygments_lexer": "ipython3",
   "version": "3.7.1"
  }
 },
 "nbformat": 4,
 "nbformat_minor": 2
}
