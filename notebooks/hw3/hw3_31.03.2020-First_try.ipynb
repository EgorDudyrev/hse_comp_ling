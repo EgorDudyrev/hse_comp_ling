{
 "cells": [
  {
   "cell_type": "code",
   "execution_count": 1,
   "metadata": {},
   "outputs": [],
   "source": [
    "DATA_DIR = '../../data/'"
   ]
  },
  {
   "cell_type": "code",
   "execution_count": 2,
   "metadata": {},
   "outputs": [],
   "source": [
    "import numpy as np\n",
    "import pandas as pd\n",
    "import matplotlib.pyplot as plt\n",
    "import seaborn as sns\n",
    "import re"
   ]
  },
  {
   "cell_type": "code",
   "execution_count": 3,
   "metadata": {},
   "outputs": [
    {
     "data": {
      "text/html": [
       "<style>.container { width:90% !important; }</style>"
      ],
      "text/plain": [
       "<IPython.core.display.HTML object>"
      ]
     },
     "metadata": {},
     "output_type": "display_data"
    }
   ],
   "source": [
    "from IPython.core.display import display, HTML\n",
    "display(HTML(\"<style>.container { width:90% !important; }</style>\"))"
   ]
  },
  {
   "cell_type": "code",
   "execution_count": 4,
   "metadata": {},
   "outputs": [],
   "source": [
    "import pandas as pd"
   ]
  },
  {
   "cell_type": "markdown",
   "metadata": {},
   "source": [
    "Срок выполнения задания – до 10 апреля включительно.\n",
    "\n",
    "Отчет высылается по почте Зуеву Кириллу на адрес  kir2207@list.ru\n",
    "\n",
    "В качестве темы письма указать:  «КЛ ДЗ № 3, ФИО»\n",
    "\n",
    "Отчет должен быть в виде отдельного текста, код программы включается как приложение."
   ]
  },
  {
   "cell_type": "markdown",
   "metadata": {},
   "source": [
    "# Задание E.\n",
    "Составить (с использованием любого модуля морфоанализа) программу, выполняющую извлечение словосочетаний определенного вида из заданного русскоязычного текста. Выделение словосочетаний может базироваться на локальных высоковероятных синтаксических связях (см. слайд 50 Лекции  № 7). Программа выводит все словосочетания  заданного вида/ов, встречающиеся в обрабатываемом тексте. \n",
    "Рассмотреть несколько (2-5) грамматических образцов словосочетаний, например:\n",
    "* именные словосочетания (NP), в которые входят  грамматически согласованные прилагательные и существительное (и, возможно, порядковые числительные или наречие,  например: первый детальный написанный план или более сложный образец: первый детально написанный план);\n",
    "* именные словосочетания, включающие несколько существительных и прилагательные (зависимые существительные входят в родительном падеже, прилагательные согласованы с соответствующими существительными, например: легкий отблеск далекого заката);\n",
    "* предложные словосочетания, в которые входят именные словосочетания одного из грамматических образцов (например: в тихом летнем парке);\n",
    "* глагольные группы, состоящие из глагола в личной форме  и зависимой именной группы (например: увидел большой стеклянный шар).\n",
    "\n",
    "Протестировать программу на нескольких небольших текстах разных жанров.\n",
    "\n",
    "Отчет:  Описание грамматических образцов извлекаемых словосочетаний и стратегии (алгоритма) их выделения; составленная и примененная программа с комментариями, результаты ее тестирования."
   ]
  },
  {
   "cell_type": "markdown",
   "metadata": {},
   "source": [
    "# Определение лексем через Mystem"
   ]
  },
  {
   "cell_type": "code",
   "execution_count": 1,
   "metadata": {},
   "outputs": [],
   "source": [
    "from pymystem3 import mystem"
   ]
  },
  {
   "cell_type": "code",
   "execution_count": 6,
   "metadata": {},
   "outputs": [],
   "source": [
    "import pymystem3"
   ]
  },
  {
   "cell_type": "code",
   "execution_count": 8,
   "metadata": {},
   "outputs": [
    {
     "data": {
      "text/plain": [
       "'0.2.0'"
      ]
     },
     "execution_count": 8,
     "metadata": {},
     "output_type": "execute_result"
    }
   ],
   "source": [
    "pymystem3.__version__"
   ]
  },
  {
   "cell_type": "code",
   "execution_count": 6,
   "metadata": {},
   "outputs": [],
   "source": [
    "mstm = mystem.Mystem()"
   ]
  },
  {
   "cell_type": "markdown",
   "metadata": {},
   "source": [
    "Загрузка справочников для тегов mystem"
   ]
  },
  {
   "cell_type": "code",
   "execution_count": 7,
   "metadata": {},
   "outputs": [],
   "source": [
    "mystem_dicts = pd.read_html('https://yandex.ru/dev/mystem/doc/grammemes-values-docpage/')\n",
    "mystem_dicts = mystem_dicts[::2]\n",
    "\n",
    "mystem_dicts_d = {k:mystem_dicts[idx] for idx, k in enumerate([\n",
    "    'POS','Tense','Case','Number','Mood',\n",
    "    'Fullness','Suprs','Person', 'Gender', 'Aspect',\n",
    "    'Voice','Animacy', 'Transitivity','Other'\n",
    "])}"
   ]
  },
  {
   "cell_type": "code",
   "execution_count": 8,
   "metadata": {},
   "outputs": [],
   "source": [
    "def split_by_semisentences(txt):\n",
    "    return [x.strip() for x in re.sub(r'[^\\w\\s\\'\\`]','|', txt).split('|') if x.strip()!='']"
   ]
  },
  {
   "cell_type": "code",
   "execution_count": 9,
   "metadata": {},
   "outputs": [],
   "source": [
    "def split_by_word(txt):\n",
    "    return [x.strip() for x in re.split(' ', txt) if re.match('\\w', x)]"
   ]
  },
  {
   "cell_type": "code",
   "execution_count": 10,
   "metadata": {},
   "outputs": [],
   "source": [
    "def construct_lexemes_mystem(txt, verb=False):\n",
    "    lexemes = mstm.analyze(txt)\n",
    "    lexemes = [lxm for lxm in lexemes if lxm['text'].strip()!='' and 'analysis' in lxm]\n",
    "    \n",
    "    new_lexemes = []\n",
    "    for lxm in lexemes:\n",
    "        anl = lxm['analysis']\n",
    "        if len(anl)==0:\n",
    "            if verb:\n",
    "                print(f'No analysis for lexeme {lxm}')\n",
    "            continue\n",
    "        if len(anl)>1:\n",
    "            if verb:\n",
    "                print(f'More then 1 analysis for lexeme {lxm}')\n",
    "        gr = anl[0]['gr']\n",
    "        \n",
    "        gr_const, gr_var = gr.split('=')[0], gr.split('=')[1].replace('(','').replace(')','')\n",
    "        variants = [set(gr_const.split(',')+x.split(',')) for x in gr_var.split('|')] if gr_var!='' else [set(gr_const.split(','))]\n",
    "        \n",
    "        parsed_vars = []\n",
    "        for var in variants:\n",
    "            parsed_var = {}\n",
    "            for x in var:\n",
    "                for k,v in mystem_dicts_d.items():\n",
    "                    if x in v[0].values:\n",
    "                        parsed_var[k]=x\n",
    "                        break\n",
    "            parsed_var['mystem_view'] = var\n",
    "            parsed_var['word'] = lxm['text']\n",
    "            parsed_vars.append(parsed_var)\n",
    "        new_lexemes.append(parsed_vars)\n",
    "    \n",
    "    return new_lexemes"
   ]
  },
  {
   "cell_type": "markdown",
   "metadata": {},
   "source": [
    "# Определение грамматических образцов"
   ]
  },
  {
   "cell_type": "markdown",
   "metadata": {},
   "source": [
    "## 1.\n",
    "Именные словосочетания (NP), в которые входят  грамматически согласованные прилагательные и существительное (и, возможно, порядковые числительные или наречие,  например: первый детальный написанный план или более сложный образец: первый детально написанный план);"
   ]
  },
  {
   "cell_type": "code",
   "execution_count": 11,
   "metadata": {},
   "outputs": [],
   "source": [
    "def is_quaziadj_noun_agree(adj, n):\n",
    "    for var_adj in adj:\n",
    "        for var_n in n:\n",
    "            if var_adj['POS']=='ADV' and var_n['POS']=='S':\n",
    "                return True\n",
    "            \n",
    "            # Является ли прилагательное прилагательным или хотя бы причастием\n",
    "            is_adj_an_adj = (var_adj['POS'] in ['A','ANUM','APRO']) or (var_adj.get('POS')=='V' and var_adj.get('Mood')=='прич')\n",
    "            # Является ли существительное существительным\n",
    "            is_n_an_n = var_n['POS']=='S'\n",
    "            # Совпадают ли прилагательное и существительное по роду (кроме случая местоимения-прилагательного и слов во мн. числе)\n",
    "            check_gender = (var_adj['POS'] in ['APRO'] or var_n['Number']=='мн') or ('Gender' in var_n and var_adj.get('Gender')==var_n.get('Gender'))\n",
    "            # Проверка совпадения числа прилагательного и существительного\n",
    "            check_number = var_adj.get('Number')==var_n.get('Number')\n",
    "            # Проверка совпадения падежей\n",
    "            check_case = 'Case' in var_n and var_adj.get('Case')==var_n.get('Case')\n",
    "            \n",
    "            if is_adj_an_adj and is_n_an_n and check_gender and check_number and check_case:\n",
    "                return True\n",
    "    return False"
   ]
  },
  {
   "cell_type": "code",
   "execution_count": 12,
   "metadata": {},
   "outputs": [],
   "source": [
    "def find_NP1(txt):\n",
    "    lexemes = construct_lexemes_mystem(txt)\n",
    "    groups = []\n",
    "    nouns = [idx for idx, lxm in enumerate(lexemes) if idx>0 and any([var['POS']=='S' for var in lxm])]\n",
    "    for noun_idx in nouns:\n",
    "        noun = lexemes[noun_idx]\n",
    "        first_adj_idx = noun_idx\n",
    "        while True:\n",
    "            new_first_adj_idx = first_adj_idx-1\n",
    "            if new_first_adj_idx<0:\n",
    "                break\n",
    "\n",
    "            new_first_adj = lexemes[new_first_adj_idx]\n",
    "\n",
    "            if is_quaziadj_noun_agree(new_first_adj, noun): # число род падеж\n",
    "                first_adj_idx -= 1\n",
    "            else:\n",
    "                break\n",
    "        if first_adj_idx==noun_idx:\n",
    "            continue\n",
    "\n",
    "        groups.append(f' '.join([x[0]['word'] for x in lexemes[first_adj_idx:noun_idx+1]]))\n",
    "    return groups"
   ]
  },
  {
   "cell_type": "code",
   "execution_count": 13,
   "metadata": {},
   "outputs": [],
   "source": [
    "txt = 'хоть сейчас был не самый подходящий момент демонстрировать свои познания'"
   ]
  },
  {
   "cell_type": "raw",
   "metadata": {},
   "source": [
    "#txt = 'первый детальный написанный план'\n",
    "#txt = 'более сложный образец'\n",
    "txt = 'первый детально написанный план'"
   ]
  },
  {
   "cell_type": "code",
   "execution_count": 14,
   "metadata": {},
   "outputs": [
    {
     "data": {
      "text/plain": [
       "['самый подходящий момент', 'свои познания']"
      ]
     },
     "execution_count": 14,
     "metadata": {},
     "output_type": "execute_result"
    }
   ],
   "source": [
    "find_NP1(txt)"
   ]
  },
  {
   "cell_type": "markdown",
   "metadata": {},
   "source": [
    "## 2.\n",
    "именные словосочетания, включающие несколько существительных и прилагательные (зависимые существительные входят в родительном падеже, прилагательные согласованы с соответствующими существительными, например: легкий отблеск далекого заката);"
   ]
  },
  {
   "cell_type": "code",
   "execution_count": 15,
   "metadata": {},
   "outputs": [],
   "source": [
    "from itertools import chain, combinations, permutations\n",
    "\n",
    "def powerset(iterable):\n",
    "    \"powerset([1,2,3]) --> () (1,) (2,) (3,) (1,2) (1,3) (2,3) (1,2,3)\"\n",
    "    s = list(iterable)\n",
    "    return chain.from_iterable(combinations(s, r) for r in range(len(s)+1))"
   ]
  },
  {
   "cell_type": "code",
   "execution_count": 16,
   "metadata": {},
   "outputs": [],
   "source": [
    "def select_posible_nouns(txt):\n",
    "    return [[t for t in lxm if t['POS']=='S'] for lxm in construct_lexemes_mystem(txt) if any([t['POS']=='S' for t in lxm])]"
   ]
  },
  {
   "cell_type": "code",
   "execution_count": 17,
   "metadata": {},
   "outputs": [],
   "source": [
    "def find_NP2(txt):\n",
    "    # Выбираем все именные словосочетания первого типа\n",
    "    lexemes = construct_lexemes_mystem(txt)\n",
    "    groups = find_NP1(txt)\n",
    "\n",
    "    # Ищем комбинации из найденных словосочетаний, которые встречаются в исходном тексте\n",
    "    posible_np2s = []\n",
    "    for comb in powerset(groups):\n",
    "        if len(comb)<2:\n",
    "            continue\n",
    "        for comb_ in permutations(comb):\n",
    "            if ' '.join(comb_) in txt:\n",
    "                posible_np2s.append(comb_)\n",
    "    \n",
    "    # Фильтруем найденные словосочетания, так, чтобы одно из существительных все существительные кроме одного в них были в род. падеже\n",
    "    real_np2s = []\n",
    "    for comb in posible_np2s:\n",
    "        pos_nouns = [select_posible_nouns(c)[0] for c in comb]\n",
    "        perms = permutations(pos_nouns)\n",
    "        for perm in perms:\n",
    "            is_first_part_not_gen = any([t['Case']!='род' for t in perm[0]]) #есть ли в первом словосочетании сущ. не в род. падеже\n",
    "            is_second_part_gen = all([any([t['Case']=='род' for t in lxm]) for lxm in perm[1:]]) # стоят ли все оставшиеся сущ. в род. падеже \n",
    "            \n",
    "            if  is_first_part_not_gen and is_second_part_gen:\n",
    "                real_np2s.append(comb)\n",
    "                break\n",
    "    # Убираем словосочетания, если они входят в более общие словосочетания\n",
    "    real_np2s = [comb for comb in real_np2s if not any([' '.join(comb) in ' '.join(comb_) for comb_ in real_np2s if comb_!=comb]) ]\n",
    "    return [' '.join(np2) for np2 in real_np2s]"
   ]
  },
  {
   "cell_type": "code",
   "execution_count": 18,
   "metadata": {},
   "outputs": [],
   "source": [
    "txt = 'легкий отблеск далекого заката быстро потускневшего неба'"
   ]
  },
  {
   "cell_type": "code",
   "execution_count": 19,
   "metadata": {},
   "outputs": [],
   "source": [
    "txt = 'легким отблеском далекого заката быстро потускневшего неба'"
   ]
  },
  {
   "cell_type": "code",
   "execution_count": 20,
   "metadata": {},
   "outputs": [
    {
     "data": {
      "text/plain": [
       "['легким отблеском далекого заката быстро потускневшего неба']"
      ]
     },
     "execution_count": 20,
     "metadata": {},
     "output_type": "execute_result"
    }
   ],
   "source": [
    "find_NP2(txt)"
   ]
  },
  {
   "cell_type": "markdown",
   "metadata": {},
   "source": [
    "## 3.\n",
    "предложные словосочетания, в которые входят именные словосочетания одного из грамматических образцов (например: в тихом летнем парке);"
   ]
  },
  {
   "cell_type": "code",
   "execution_count": 21,
   "metadata": {},
   "outputs": [],
   "source": [
    "def find_preposition_phrases(txt):\n",
    "    # ищем именные словосочетания\n",
    "    nps = find_NP1(txt)+find_NP2(txt)\n",
    "    # оставляем только наиболее общие словосочетания\n",
    "    nps = [np for np in nps if not any([np_.startswith(np) for np_ in nps if np_!=np])]\n",
    "    # ищем индексы начала и конца именных словосочетаний в тесте\n",
    "    places_for_prep = [match.span() for np in nps for match in re.finditer(np, txt)]\n",
    "    \n",
    "    # проверяем найденные именные словосочетания, стоит ли перед ними предлог\n",
    "    preps = []\n",
    "    for idx, pl in enumerate(places_for_prep):\n",
    "        start_lxm, stop_lxm = pl[0], pl[1]\n",
    "\n",
    "        lexemes = construct_lexemes_mystem(txt[:stop_lxm]) # ищем лексемы включая именное словосочетание\n",
    "        lexemes = lexemes[:-len(construct_lexemes_mystem(txt[start_lxm:stop_lxm]))] # исключаем именное словосочетание из анализа\n",
    "        if len(lexemes)==0:\n",
    "            continue\n",
    "        last_lxm = lexemes[-1]\n",
    "        if any([t['POS']=='PR' for t in last_lxm]):\n",
    "            preps.append(last_lxm[0]['word']+' '+txt[start_lxm:stop_lxm])\n",
    "    return preps"
   ]
  },
  {
   "cell_type": "code",
   "execution_count": 22,
   "metadata": {},
   "outputs": [],
   "source": [
    "txt = 'в тихом летнем парке и в жаркой далёкой пустыне белых огней'"
   ]
  },
  {
   "cell_type": "code",
   "execution_count": 23,
   "metadata": {},
   "outputs": [
    {
     "data": {
      "text/plain": [
       "['в тихом летнем парке', 'в жаркой далёкой пустыне белых огней']"
      ]
     },
     "execution_count": 23,
     "metadata": {},
     "output_type": "execute_result"
    }
   ],
   "source": [
    "find_preposition_phrases(txt)"
   ]
  },
  {
   "cell_type": "markdown",
   "metadata": {},
   "source": [
    "## 4.\n",
    "глагольные группы, состоящие из глагола в личной форме  и зависимой именной группы (например: увидел большой стеклянный шар)."
   ]
  },
  {
   "cell_type": "code",
   "execution_count": 24,
   "metadata": {},
   "outputs": [],
   "source": [
    "def find_verb_phrases(txt):\n",
    "    # Находим именные словосочетания\n",
    "    nps = find_NP1(txt) + find_NP2(txt)\n",
    "    # Убираем NP1 входящие в NP2\n",
    "    nps = [np for np in nps if not any([np_.startswith(np) for np_ in nps if np_!=np])]\n",
    "    # Проверяем, что в словосочетании есть существительное в вин. падеже\n",
    "    nps = [np for np in nps if any([t['POS']=='S' and t['Case']=='вин' for lxm in construct_lexemes_mystem(np) for t in lxm])]\n",
    "    \n",
    "    # ищем индексы начала и конца именных словосочетаний в тесте\n",
    "    places_for_verb = [match.span() for np in nps for match in re.finditer(np, txt)]\n",
    "    \n",
    "    # проверяем найденные именные словосочетания, стоит ли перед ними предлог\n",
    "    vps = []\n",
    "    for idx, pl in enumerate(places_for_verb):\n",
    "        start_lxm, stop_lxm = pl[0], pl[1]\n",
    "\n",
    "        lexemes = construct_lexemes_mystem(txt[start_lxm:stop_lxm])\n",
    "\n",
    "        # проверяем лексему до начала именного словосочетания\n",
    "        lexemes_before = construct_lexemes_mystem(txt[:start_lxm]) # ищем лексемы\n",
    "        if len(lexemes_before)>0:\n",
    "            last_lxm = lexemes_before[-1]\n",
    "            if any([t['POS']=='V' and t['Mood'] in ['инф', 'изъяв', 'пов'] for t in last_lxm]):\n",
    "                vps.append(last_lxm[0]['word']+' '+txt[start_lxm:stop_lxm])\n",
    "                continue\n",
    "\n",
    "        # проверяем лексему после начала именного словосочетания\n",
    "#        lexemes_after = construct_lexemes_mystem(txt[stop_lxm:]) # ищем лексемы\n",
    "#        if len(lexemes_after)>0:\n",
    "#            first_lxm = lexemes_after[0]\n",
    "#            if any([t['POS']=='V' and t['Mood'] in ['инф', 'изъяв', 'пов'] for t in first_lxm]):\n",
    "#                vps.append(txt[start_lxm:stop_lxm]+' '+first_lxm[0]['word'])\n",
    "#                continue\n",
    "\n",
    "    return vps"
   ]
  },
  {
   "cell_type": "code",
   "execution_count": 25,
   "metadata": {},
   "outputs": [],
   "source": [
    "txt = 'увидел большой стеклянный шар красного золота'"
   ]
  },
  {
   "cell_type": "code",
   "execution_count": 26,
   "metadata": {},
   "outputs": [
    {
     "data": {
      "text/plain": [
       "['увидел большой стеклянный шар красного золота']"
      ]
     },
     "execution_count": 26,
     "metadata": {},
     "output_type": "execute_result"
    }
   ],
   "source": [
    "find_verb_phrases(txt)"
   ]
  },
  {
   "cell_type": "markdown",
   "metadata": {},
   "source": [
    "# Анализ текстов"
   ]
  },
  {
   "cell_type": "code",
   "execution_count": 27,
   "metadata": {},
   "outputs": [],
   "source": [
    "def find_pattern(long_text, ptrn):\n",
    "    txts = split_by_semisentences(long_text)\n",
    "    ptrns = [(txts[idx], x) for idx, x in [(idx, ptrn(txt)) for idx, txt in enumerate(txts)] if len(x)>0]\n",
    "    return ptrns"
   ]
  },
  {
   "cell_type": "code",
   "execution_count": 28,
   "metadata": {},
   "outputs": [],
   "source": [
    "def print_pattern(ptrns, n_lim=5):\n",
    "    n_lim = min(n_lim, len(ptrns)) if n_lim is not None else len(ptrns)\n",
    "    print(f'Total N phrases: {len(ptrns)}')\n",
    "    print(f'Mean length of phrases: {np.mean([len(x.split(\" \")) for p in ptrns for x in p[1]]):.2f}')\n",
    "    print('Examples:')\n",
    "    for idx in range(n_lim):\n",
    "        print(f'\"{ptrns[idx][0]}\" => \"'+ '\", \"'.join(ptrns[idx][1])+'\"')"
   ]
  },
  {
   "cell_type": "code",
   "execution_count": 29,
   "metadata": {},
   "outputs": [],
   "source": [
    "def analyze_text(txt, n_lim=5, verb=True, genre=None, title=None):\n",
    "    stat = {'genre':genre, 'title':title}\n",
    "    stat['n_sentences'] = len(split_by_semisentences(txt))\n",
    "    for name, ptrn in [('NP1',find_NP1), ('NP2',find_NP2), ('Preposition Phrases', find_preposition_phrases), ('Verb Phrases', find_verb_phrases)]:\n",
    "        ptrns = find_pattern(txt, ptrn)\n",
    "        stat[f'{name}_count'] = len(ptrns)\n",
    "        stat[f'{name}_mean_length'] = np.mean([len(x.split(' ')) for p in ptrns for x in p[1]])\n",
    "        \n",
    "        if verb:\n",
    "            print(name)\n",
    "            print_pattern(ptrns, n_lim=n_lim)\n",
    "            print('===================================')\n",
    "            print()\n",
    "    return stat"
   ]
  },
  {
   "cell_type": "code",
   "execution_count": 30,
   "metadata": {},
   "outputs": [],
   "source": [
    "stats = []"
   ]
  },
  {
   "cell_type": "markdown",
   "metadata": {},
   "source": [
    "## Художественный текст"
   ]
  },
  {
   "cell_type": "markdown",
   "metadata": {},
   "source": [
    "### Алиса в Стране Чудес Глава 1"
   ]
  },
  {
   "cell_type": "code",
   "execution_count": 31,
   "metadata": {},
   "outputs": [],
   "source": [
    "with open(DATA_DIR+'art_alice_full_text.txt', 'r') as f:\n",
    "    alice_txt = f.read()"
   ]
  },
  {
   "cell_type": "code",
   "execution_count": 32,
   "metadata": {},
   "outputs": [],
   "source": [
    "alice_txt_by_chapter = {idx:s.strip() for idx, s in enumerate([s for s in re.split('Глава.*\\n\\n\\n', alice_txt) if len(s)>0])}\n",
    "txt = alice_txt_by_chapter[0]"
   ]
  },
  {
   "cell_type": "code",
   "execution_count": 33,
   "metadata": {},
   "outputs": [
    {
     "name": "stdout",
     "output_type": "stream",
     "text": [
      "NP1\n",
      "Total N phrases: 72\n",
      "Mean length of phrases: 2.17\n",
      "Examples:\n",
      "\"Вдруг мимо пробежал кролик с красными глазами\" => \"красными глазами\"\n",
      "\"однако в тот миг все казалось ей вполне естественным\" => \"тот миг\"\n",
      "\"когда Кролик вдруг вынул часы из жилетного кармана и\" => \"жилетного кармана\"\n",
      "\"да еще с жилетным карманом в придачу\" => \"жилетным карманом\"\n",
      "\"словно в глубокий колодец\" => \"глубокий колодец\"\n",
      "===================================\n",
      "\n",
      "NP2\n",
      "Total N phrases: 1\n",
      "Mean length of phrases: 4.00\n",
      "Examples:\n",
      "\"Однако на этом пузырьке никаких пометок не было\" => \"этом пузырьке никаких пометок\"\n",
      "===================================\n",
      "\n",
      "Preposition Phrases\n",
      "Total N phrases: 29\n",
      "Mean length of phrases: 3.23\n",
      "Examples:\n",
      "\"Вдруг мимо пробежал кролик с красными глазами\" => \"с красными глазами\"\n",
      "\"однако в тот миг все казалось ей вполне естественным\" => \"в тот миг\"\n",
      "\"когда Кролик вдруг вынул часы из жилетного кармана и\" => \"из жилетного кармана\"\n",
      "\"да еще с жилетным карманом в придачу\" => \"с жилетным карманом\"\n",
      "\"словно в глубокий колодец\" => \"в глубокий колодец\"\n",
      "===================================\n",
      "\n",
      "Verb Phrases\n",
      "Total N phrases: 9\n",
      "Mean length of phrases: 3.00\n",
      "Examples:\n",
      "\"хоть сейчас был не самый подходящий момент демонстрировать свои познания\" => \"демонстрировать свои познания\"\n",
      "\"но ей очень нравились эти слова\" => \"нравились эти слова\"\n",
      "\"Тут раздался страшный треск\" => \"раздался страшный треск\"\n",
      "\"Перед ней тянулся другой коридор\" => \"тянулся другой коридор\"\n",
      "\"Вдруг она увидела стеклянный столик на трех ножках\" => \"увидела стеклянный столик\"\n",
      "===================================\n",
      "\n"
     ]
    }
   ],
   "source": [
    "stat = analyze_text(alice_txt_by_chapter[0], genre='art', title='alice p1')\n",
    "stats.append(stat)"
   ]
  },
  {
   "cell_type": "markdown",
   "metadata": {},
   "source": [
    "### \"Крыжовник\", Чехов"
   ]
  },
  {
   "cell_type": "code",
   "execution_count": 34,
   "metadata": {},
   "outputs": [],
   "source": [
    "with open(DATA_DIR+'art_checkhov_gooseberry.txt','r') as f:\n",
    "    goosb_txt = f.read()"
   ]
  },
  {
   "cell_type": "code",
   "execution_count": 35,
   "metadata": {},
   "outputs": [
    {
     "name": "stdout",
     "output_type": "stream",
     "text": [
      "NP1\n",
      "Total N phrases: 193\n",
      "Mean length of phrases: 2.12\n",
      "Examples:\n",
      "\"Еще с раннего утра всё небо обложили дождевые тучи\" => \"раннего утра\", \"всё небо\", \"дождевые тучи\"\n",
      "\"как бывает в серые пасмурные дни\" => \"серые пасмурные дни\"\n",
      "\"Ветеринарный врач Иван Иваныч и учитель гимназии Буркин уже утомились идти\" => \"Ветеринарный врач\"\n",
      "\"Далеко впереди еле были видны ветряные мельницы села Мироносицкого\" => \"ветряные мельницы\"\n",
      "\"зеленые ивы\" => \"зеленые ивы\"\n",
      "===================================\n",
      "\n",
      "NP2\n",
      "Total N phrases: 1\n",
      "Mean length of phrases: 4.00\n",
      "Examples:\n",
      "\"Еще с раннего утра всё небо обложили дождевые тучи\" => \"раннего утра всё небо\"\n",
      "===================================\n",
      "\n",
      "Preposition Phrases\n",
      "Total N phrases: 76\n",
      "Mean length of phrases: 3.05\n",
      "Examples:\n",
      "\"Еще с раннего утра всё небо обложили дождевые тучи\" => \"с раннего утра всё небо\"\n",
      "\"как бывает в серые пасмурные дни\" => \"в серые пасмурные дни\"\n",
      "\"который издали похож на ползущую гусеницу\" => \"на ползущую гусеницу\"\n",
      "\"а в ясную погоду оттуда бывает виден даже город\" => \"в ясную погоду\"\n",
      "\"в тихую погоду\" => \"в тихую погоду\"\n",
      "===================================\n",
      "\n",
      "Verb Phrases\n",
      "Total N phrases: 20\n",
      "Mean length of phrases: 3.30\n",
      "Examples:\n",
      "\"Еще с раннего утра всё небо обложили дождевые тучи\" => \"обложили дождевые тучи\"\n",
      "\"И минут через пять лил уже сильный дождь\" => \"лил уже сильный дождь\"\n",
      "\"Иван Иваныч и Буркин испытывали уже чувство мокроты\" => \"испытывали уже чувство\"\n",
      "\"Он сел на ступеньке и намылил свои длинные волосы и шею\" => \"намылил свои длинные волосы\"\n",
      "\"и на волнах качались белые лилии\" => \"качались белые лилии\"\n",
      "===================================\n",
      "\n"
     ]
    }
   ],
   "source": [
    "stat = analyze_text(goosb_txt, genre='art', title=\"Gooseberry\")\n",
    "stats.append(stat)"
   ]
  },
  {
   "cell_type": "markdown",
   "metadata": {},
   "source": [
    "### \"Трудно быть богом\", Стругацкие"
   ]
  },
  {
   "cell_type": "code",
   "execution_count": 36,
   "metadata": {},
   "outputs": [],
   "source": [
    "with open(DATA_DIR+'art_strugatskie_god.txt','r') as f:\n",
    "    gods_txt = f.read()"
   ]
  },
  {
   "cell_type": "code",
   "execution_count": 37,
   "metadata": {},
   "outputs": [
    {
     "name": "stdout",
     "output_type": "stream",
     "text": [
      "NP1\n",
      "Total N phrases: 397\n",
      "Mean length of phrases: 2.18\n",
      "Examples:\n",
      "\"седьмую по счету и последнюю на этой дороге\" => \"этой дороге\"\n",
      "\"Хваленый хамахарский жеребец\" => \"Хваленый хамахарский жеребец\"\n",
      "\"взятый у дона Тамэо за карточный долг\" => \"карточный долг\"\n",
      "\"оказался сущим барахлом\" => \"сущим барахлом\"\n",
      "\"вихляющейся рысью\" => \"вихляющейся рысью\"\n",
      "===================================\n",
      "\n",
      "NP2\n",
      "Total N phrases: 14\n",
      "Mean length of phrases: 4.29\n",
      "Examples:\n",
      "\"в лучших традициях серых казарм\" => \"лучших традициях серых казарм\"\n",
      "\"У коновязи перед корчмой топтались оседланные кони серого патруля\" => \"оседланные кони серого патруля\"\n",
      "\"Благородному дону счастливого пути\" => \"Благородному дону счастливого пути\"\n",
      "\"что триста лет назад железные роты имперского маршала Тоца\" => \"назад железные роты имперского маршала\"\n",
      "\"а разухабистые егеря барона Пампы жарили на редких полянах ворованных быков\" => \"редких полянах ворованных быков\"\n",
      "===================================\n",
      "\n",
      "Preposition Phrases\n",
      "Total N phrases: 118\n",
      "Mean length of phrases: 3.28\n",
      "Examples:\n",
      "\"седьмую по счету и последнюю на этой дороге\" => \"на этой дороге\"\n",
      "\"взятый у дона Тамэо за карточный долг\" => \"за карточный долг\"\n",
      "\"В мутном небе дрожали редкие тусклые звезды\" => \"В мутном небе\"\n",
      "\"как всегда осенью в этой приморской стране с душными\" => \"в этой приморской стране\"\n",
      "\"одна из бесчисленных однообразных Мертвожорок\" => \"из бесчисленных однообразных Мертвожорок\"\n",
      "===================================\n",
      "\n",
      "Verb Phrases\n",
      "Total N phrases: 49\n",
      "Mean length of phrases: 3.22\n",
      "Examples:\n",
      "\"В мутном небе дрожали редкие тусклые звезды\" => \"дрожали редкие тусклые звезды\"\n",
      "\"По сторонам тянулись распаханные поля\" => \"тянулись распаханные поля\"\n",
      "\"Далеко слева вспыхивало и гасло угрюмое зарево\" => \"гасло угрюмое зарево\"\n",
      "\"Почему бы горожанину Киуну не найти бескорыстную защиту у глупого и спесивого аристократа\" => \"найти бескорыстную защиту\"\n",
      "\"Я знавал одного Киуна\" => \"знавал одного Киуна\"\n",
      "===================================\n",
      "\n"
     ]
    }
   ],
   "source": [
    "stat = analyze_text(gods_txt, genre='art', title=\"Hard to be a god\")\n",
    "stats.append(stat)"
   ]
  },
  {
   "cell_type": "markdown",
   "metadata": {},
   "source": [
    "## Научно-технический текст"
   ]
  },
  {
   "cell_type": "markdown",
   "metadata": {},
   "source": [
    "### \"ПОСОБИЕ ПО НАПИСАНИЮ РАЗНОГО РОДА ДЕЛОВЫХ ТЕКСТОВ\"\n",
    "https://www.iis.nsk.su/files/articles/sbor_kas_16_nesgovorova.pdf"
   ]
  },
  {
   "cell_type": "code",
   "execution_count": 38,
   "metadata": {},
   "outputs": [],
   "source": [
    "with open(DATA_DIR+'doc_how_to_business_text.txt','r') as f:\n",
    "    how_to_buis_txt = f.read()"
   ]
  },
  {
   "cell_type": "code",
   "execution_count": 39,
   "metadata": {},
   "outputs": [],
   "source": [
    "def beautify_str(s):\n",
    "    s = re.sub(r'Рис\\. \\d+\\n+', '', s)\n",
    "    s = re.sub('[^\\.?;\\n](\\n)[^\\n]', ' ', s)\n",
    "    return s"
   ]
  },
  {
   "cell_type": "code",
   "execution_count": 40,
   "metadata": {},
   "outputs": [],
   "source": [
    "how_to_buis_txt = beautify_str(how_to_buis_txt)"
   ]
  },
  {
   "cell_type": "code",
   "execution_count": 41,
   "metadata": {},
   "outputs": [
    {
     "name": "stdout",
     "output_type": "stream",
     "text": [
      "NP1\n",
      "Total N phrases: 346\n",
      "Mean length of phrases: 2.16\n",
      "Examples:\n",
      "\"Научным сотрудникам\" => \"Научным сотрудникам\"\n",
      "\"инженерам и людям других творческих специальностей в своей профессиональной деятельности не обойтись без оформления ряда документов\" => \"других творческих специальностей\", \"своей профессиональной деятельности\"\n",
      "\"разного рода описания\" => \"разного рода\"\n",
      "\"деловые письма\" => \"деловые письма\"\n",
      "\"При этом надо учитывать особенности деловой письменной речи\" => \"деловой письменной речи\"\n",
      "===================================\n",
      "\n",
      "NP2\n",
      "Total N phrases: 31\n",
      "Mean length of phrases: 4.35\n",
      "Examples:\n",
      "\"и следовало бы изучить особенности деловой разновидности родного русского языка\" => \"деловой разновидности родного русского языка\"\n",
      "\"В предлагаемом пособии за основу взят не традиционный курс русского языка\" => \"традиционный курс русского языка\"\n",
      "\"изучает письменную форму официальноделового общения с целью ее унификации и нормализации\" => \"письменную форму официальноделового общения\"\n",
      "\"их разработке и применении или о моделировании с их помощь азличных реальных систем\" => \"их помощь азличных реальных систем\"\n",
      "\"Можно отметить следующие особенности информационной стилистики\" => \"следующие особенности информационной стилистики\"\n",
      "===================================\n",
      "\n",
      "Preposition Phrases\n",
      "Total N phrases: 99\n",
      "Mean length of phrases: 3.35\n",
      "Examples:\n",
      "\"инженерам и людям других творческих специальностей в своей профессиональной деятельности не обойтись без оформления ряда документов\" => \"в своей профессиональной деятельности\"\n",
      "\"Если для художественной прозы характерна многозначность\" => \"для художественной прозы\"\n",
      "\"При этом в деловых текстах используются развернутые синтаксические конструкции и точное употребление слов\" => \"в деловых текстах\"\n",
      "\"чем отличаются деловые тексты от разговорной речи или художественной прозы\" => \"от разговорной речи\"\n",
      "\"какие конструкции или выражения неприемлемы в деловых текстах\" => \"в деловых текстах\"\n",
      "===================================\n",
      "\n",
      "Verb Phrases\n",
      "Total N phrases: 30\n",
      "Mean length of phrases: 3.58\n",
      "Examples:\n",
      "\"При этом в деловых текстах используются развернутые синтаксические конструкции и точное употребление слов\" => \"используются развернутые синтаксические конструкции\"\n",
      "\"чем отличаются деловые тексты от разговорной речи или художественной прозы\" => \"отличаются деловые тексты\"\n",
      "\"Для англоговорящих людей существует специальный курс Business English\" => \"существует специальный курс\"\n",
      "\"что при составлении различного рода документации используются несколько иные речевые нормы ем в литературном или бытовом языке\" => \"используются несколько иные речевые нормы\"\n",
      "\"которая устанавливает речевые нормы при написании разного рода документации\" => \"устанавливает речевые нормы\"\n",
      "===================================\n",
      "\n"
     ]
    }
   ],
   "source": [
    "stat = analyze_text(how_to_buis_txt, genre='doc', title='How to Write Buisiness Texts')\n",
    "stats.append(stat)"
   ]
  },
  {
   "cell_type": "markdown",
   "metadata": {},
   "source": [
    "### Статьи N+1"
   ]
  },
  {
   "cell_type": "code",
   "execution_count": 42,
   "metadata": {},
   "outputs": [],
   "source": [
    "with open(DATA_DIR+'doc_nplus1.txt','r') as f:\n",
    "    nplus1_txt = f.read()"
   ]
  },
  {
   "cell_type": "code",
   "execution_count": 43,
   "metadata": {},
   "outputs": [
    {
     "name": "stdout",
     "output_type": "stream",
     "text": [
      "NP1\n",
      "Total N phrases: 107\n",
      "Mean length of phrases: 2.16\n",
      "Examples:\n",
      "\"Геофизики разработали простой и не требовательный к вычислительным ресурсам программный инструмент\" => \"вычислительным ресурсам\", \"программный инструмент\"\n",
      "\"который позволяет идентифицировать гравитационные волны\" => \"гравитационные волны\"\n",
      "\"Поскольку гравитационные волны распространяются со скоростью света\" => \"гравитационные волны\"\n",
      "\"новый метод поможет детектировать землетрясения намного раньше\" => \"новый метод\"\n",
      "\"чем к сейсмостанциям придут обычные сейсмические волны\" => \"обычные сейсмические волны\"\n",
      "===================================\n",
      "\n",
      "NP2\n",
      "Total N phrases: 11\n",
      "Mean length of phrases: 4.18\n",
      "Examples:\n",
      "\"но для создания новых систем раннего оповещения о сейсмических толчках необходимо создать новые более чувствительные гравиметры и инфраструктуру\" => \"новых систем раннего оповещения\"\n",
      "\"Физики измерили тонкое расщепление и лэмбовский сдвиг энергетических состояний атома антиводорода\" => \"лэмбовский сдвиг энергетических состояний\"\n",
      "\"однако на больших масштабах нет никаких признаков сосуществования двух видов материи\" => \"больших масштабах нет никаких признаков\"\n",
      "\"Факт столь значительного преобладания обычного вещества называется барионной асимметрией Вселенной\" => \"значительного преобладания обычного вещества\"\n",
      "\"то есть эквивалентности физических процессов при одновременной инверсии всех зарядов\" => \"одновременной инверсии всех зарядов\"\n",
      "===================================\n",
      "\n",
      "Preposition Phrases\n",
      "Total N phrases: 37\n",
      "Mean length of phrases: 3.35\n",
      "Examples:\n",
      "\"Геофизики разработали простой и не требовательный к вычислительным ресурсам программный инструмент\" => \"к вычислительным ресурсам\"\n",
      "\"но сигнал от землетрясений не удавалось вычленить из фоновых шумов и артефактов\" => \"из фоновых шумов\"\n",
      "\"Во время землетрясения в японской обсерватории Камиока работал сверхпроводящий гравиметр\" => \"в японской обсерватории\"\n",
      "\"Однако в этом случае речь шла об исключительно мощном землетрясении\" => \"в этом случае\", \"об исключительно мощном землетрясении\"\n",
      "\"Решить эту задачу взялись ученые из германского Центра наук о Земле в Потсдаме и университета Пекина под руководством Себастьяна Хайманна\" => \"из германского Центра\"\n",
      "===================================\n",
      "\n",
      "Verb Phrases\n",
      "Total N phrases: 25\n",
      "Mean length of phrases: 3.42\n",
      "Examples:\n",
      "\"который позволяет идентифицировать гравитационные волны\" => \"идентифицировать гравитационные волны\"\n",
      "\"чем к сейсмостанциям придут обычные сейсмические волны\" => \"придут обычные сейсмические волны\"\n",
      "\"Землетрясения провоцируют быстрое перераспределение масс в недрах Земли и порождают сейсмические волны\" => \"провоцируют быстрое перераспределение\", \"порождают сейсмические волны\"\n",
      "\"то есть гравитационные волны\" => \"есть гравитационные волны\"\n",
      "\"Еще в начале 2000 годов ученые пытались обнаружить эти возмущения\" => \"обнаружить эти возмущения\"\n",
      "===================================\n",
      "\n"
     ]
    }
   ],
   "source": [
    "stat = analyze_text(nplus1_txt, genre='doc', title=\"NPlus1 texts\")\n",
    "stats.append(stat)"
   ]
  },
  {
   "cell_type": "markdown",
   "metadata": {},
   "source": [
    "### Math importance"
   ]
  },
  {
   "cell_type": "code",
   "execution_count": 44,
   "metadata": {},
   "outputs": [],
   "source": [
    "with open(DATA_DIR+'doc_math_importance.txt','r') as f:\n",
    "    math_imp_txt = f.read()"
   ]
  },
  {
   "cell_type": "code",
   "execution_count": 45,
   "metadata": {},
   "outputs": [
    {
     "name": "stdout",
     "output_type": "stream",
     "text": [
      "NP1\n",
      "Total N phrases: 85\n",
      "Mean length of phrases: 2.20\n",
      "Examples:\n",
      "\"Основные задачи изучения математики как науку\" => \"Основные задачи\"\n",
      "\"являются оперирующими чистыми абстракциями\" => \"оперирующими чистыми абстракциями\"\n",
      "\"отделёнными от реального мира\" => \"реального мира\"\n",
      "\"Воспитание\n",
      "математической культуры\" => \"математической культуры\"\n",
      "\"развитие логического и\n",
      "алгоритмического мышления\" => \"алгоритмического мышления\"\n",
      "===================================\n",
      "\n",
      "NP2\n",
      "Total N phrases: 3\n",
      "Mean length of phrases: 4.33\n",
      "Examples:\n",
      "\"Но теории и методы созданные в рамках\n",
      "таких формализованных систем могут найти неожиданное\n",
      "применение в различных отраслях научного знания\" => \"различных отраслях научного знания\"\n",
      "\"второй вид полной формализации\" => \"второй вид полной формализации\"\n",
      "\"их\n",
      "существенная зависимость от случайных природных\n",
      "факторов обуславливают вероятностный характер многих производственных процессов\" => \"вероятностный характер многих производственных процессов\"\n",
      "===================================\n",
      "\n",
      "Preposition Phrases\n",
      "Total N phrases: 16\n",
      "Mean length of phrases: 3.35\n",
      "Examples:\n",
      "\"отделёнными от реального мира\" => \"от реального мира\"\n",
      "\"развитие способности к\n",
      "дальнейшему самостоятельному образованию\" => \"к дальнейшему самостоятельному образованию\"\n",
      "\"Математика стала широко проникать во все сферы науки\" => \"во все сферы\"\n",
      "\"А саму математику он\n",
      "рассматривает как науку о хитроумных операциях\" => \"о хитроумных операциях\"\n",
      "\"производимых по специально разработанным правилам над\n",
      "специально придуманными понятиями\" => \"по специально разработанным правилам\", \"над специально придуманными понятиями\"\n",
      "===================================\n",
      "\n",
      "Verb Phrases\n",
      "Total N phrases: 10\n",
      "Mean length of phrases: 3.40\n",
      "Examples:\n",
      "\"использовать\n",
      "абстрактные математические модели для изучения\n",
      "конкретных процессов и явлений\" => \"использовать абстрактные математические модели\"\n",
      "\"из которых\n",
      "затем выводится основное содержание теории\" => \"выводится основное содержание\"\n",
      "\"и объекты и\n",
      "аксиомы имеют свои аналоги в мире вещей\" => \"имеют свои аналоги\"\n",
      "\"что сходство начальных условий позволяет\n",
      "применять старую теорию для изучения новых объектов\" => \"применять старую теорию\"\n",
      "\"Одно время даже пытались\n",
      "создать единый алгоритм для решения любых задач\" => \"создать единый алгоритм\"\n",
      "===================================\n",
      "\n"
     ]
    }
   ],
   "source": [
    "stat = analyze_text(math_imp_txt, genre='doc', title=\"Math importance\")\n",
    "stats.append(stat)"
   ]
  },
  {
   "cell_type": "markdown",
   "metadata": {},
   "source": [
    "# Статистика по всем текстам"
   ]
  },
  {
   "cell_type": "code",
   "execution_count": 46,
   "metadata": {},
   "outputs": [],
   "source": [
    "stat_ds = pd.concat([pd.Series(x) for x in stats],1).T\n",
    "for f in stat_ds.columns:\n",
    "    try: stat_ds[f] = stat_ds[f].astype(float)\n",
    "    except: pass"
   ]
  },
  {
   "cell_type": "code",
   "execution_count": 47,
   "metadata": {},
   "outputs": [],
   "source": [
    "for f in [f for f in stat_ds if f.endswith('_count')]:\n",
    "    stat_ds[f.replace('_count', '_ratio')] = stat_ds[f]/stat_ds['n_sentences']*100\n",
    "    stat_ds = stat_ds.drop(f,1)"
   ]
  },
  {
   "cell_type": "code",
   "execution_count": 48,
   "metadata": {},
   "outputs": [],
   "source": [
    "cols_map = {\n",
    " 'title': 'Название',\n",
    " 'n_sentences': 'Кол-во предложений',\n",
    " 'NP1_mean_length': 'Средняя длина именных словосочетаний из одного сущ.',\n",
    " 'NP2_mean_length': 'Средняя длина именных словосочетаний из неск. сущ.',\n",
    " 'Preposition Phrases_mean_length': 'Средняя длина предложных словосочетаний',\n",
    " 'Verb Phrases_mean_length': 'Средняя длина глагольных словосочетаний',\n",
    " 'NP1_ratio': 'Процент предл. с именными сл-ми из одного сущ.',\n",
    " 'NP2_ratio': 'Процент предл. с именными сл-ми из неск. сущ.',\n",
    " 'Preposition Phrases_ratio': 'Процент предл. с предложными сл-ми',\n",
    " 'Verb Phrases_ratio': 'Процент предл. с глагольными сл-ми',\n",
    "}"
   ]
  },
  {
   "cell_type": "code",
   "execution_count": 49,
   "metadata": {},
   "outputs": [
    {
     "name": "stderr",
     "output_type": "stream",
     "text": [
      "/home/egor/anaconda3/lib/python3.7/site-packages/sklearn/ensemble/forest.py:246: FutureWarning: The default value of n_estimators will change from 10 in version 0.20 to 100 in 0.22.\n",
      "  \"10 in version 0.20 to 100 in 0.22.\", FutureWarning)\n"
     ]
    },
    {
     "data": {
      "image/png": "[encoded data removed]",
      "text/plain": [
       "<Figure size 432x288 with 1 Axes>"
      ]
     },
     "metadata": {
      "needs_background": "light"
     },
     "output_type": "display_data"
    }
   ],
   "source": [
    "from sklearn.ensemble import RandomForestClassifier\n",
    "\n",
    "rf = RandomForestClassifier()\n",
    "rf.fit(stat_ds.drop(['genre','title'],1), stat_ds['genre'])\n",
    "s = pd.Series(rf.feature_importances_, index=stat_ds.drop(['genre','title'],1).columns).sort_values(ascending=False)\n",
    "\n",
    "plt.title('Важность признаков при определении жанра текста')\n",
    "sns.barplot(x=s.values, y=s.index)\n",
    "plt.yticks(plt.yticks()[0], [cols_map[x.get_text()] for x in plt.yticks()[1]])\n",
    "plt.show()"
   ]
  },
  {
   "cell_type": "code",
   "execution_count": 50,
   "metadata": {},
   "outputs": [
    {
     "data": {
      "image/png": "[encoded data removed]",
      "text/plain": [
       "<Figure size 1080x360 with 6 Axes>"
      ]
     },
     "metadata": {
      "needs_background": "light"
     },
     "output_type": "display_data"
    }
   ],
   "source": [
    "plt.figure(figsize=(15,5))\n",
    "for idx, f in enumerate(s.index[:6]):\n",
    "    plt.subplot(2,3,idx+1)\n",
    "    sns.boxplot(x='genre', y=f, data=stat_ds)\n",
    "    plt.title(cols_map[f])\n",
    "    plt.ylabel('')\n",
    "    plt.xlabel('Жанр')\n",
    "    plt.xticks(plt.xticks()[0], [{'art':'Худож. текст', 'doc':'Научно-технич. текст'}[x.get_text()] for x in plt.xticks()[1]])\n",
    "plt.tight_layout()\n",
    "plt.suptitle('Разница между художественными и научно-техническими текстами', size=16)\n",
    "plt.subplots_adjust(top=0.85,)\n",
    "plt.show()"
   ]
  }
 ],
 "metadata": {
  "kernelspec": {
   "display_name": "Python 3",
   "language": "python",
   "name": "python3"
  },
  "language_info": {
   "codemirror_mode": {
    "name": "ipython",
    "version": 3
   },
   "file_extension": ".py",
   "mimetype": "text/x-python",
   "name": "python",
   "nbconvert_exporter": "python",
   "pygments_lexer": "ipython3",
   "version": "3.7.1"
  }
 },
 "nbformat": 4,
 "nbformat_minor": 2
}
