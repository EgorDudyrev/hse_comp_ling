{
 "cells": [
  {
   "cell_type": "code",
   "execution_count": 1,
   "metadata": {},
   "outputs": [],
   "source": [
    "DATA_DIR = '../../data/'"
   ]
  },
  {
   "cell_type": "code",
   "execution_count": 2,
   "metadata": {},
   "outputs": [],
   "source": [
    "import numpy as np\n",
    "import pandas as pd\n",
    "import matplotlib.pyplot as plt\n",
    "import seaborn as sns\n",
    "import re"
   ]
  },
  {
   "cell_type": "code",
   "execution_count": 3,
   "metadata": {},
   "outputs": [
    {
     "data": {
      "text/html": [
       "<style>.container { width:90% !important; }</style>"
      ],
      "text/plain": [
       "<IPython.core.display.HTML object>"
      ]
     },
     "metadata": {},
     "output_type": "display_data"
    }
   ],
   "source": [
    "from IPython.core.display import display, HTML\n",
    "display(HTML(\"<style>.container { width:90% !important; }</style>\"))"
   ]
  },
  {
   "cell_type": "markdown",
   "metadata": {},
   "source": [
    "Отчет высылается по почте Зуеву Кириллу на адрес kir2207@list.ru\n",
    "\n",
    "В качестве темы письма указать: «КЛ ДЗ № 1, ФИО»\n",
    "\n",
    "Срок выполнения задания – до 24 февраля включительно\n",
    "\n",
    "Замечания:\n",
    "1. Отчет должен быть в виде текста на русском языке, объемом 1-5 страниц. Код программы присылается отдельным файлом (в комментариях следует указать язык программирования и его версию, а также использованные библиотеки и откуда они взяты).\n",
    "2. Оценка задания учитывает общий объем и качество проведенной работы, включая полноту тестирования и подробность отчета об исследовании. Автоматическое тестирование обычно оценивается более высоко, чем ручное (при прочих равных).\n",
    "3. За творческие и более полные решения могут быть добавлены баллы."
   ]
  },
  {
   "cell_type": "markdown",
   "metadata": {},
   "source": [
    "# Задание D\n",
    "\n",
    "Выполнить лексико-статистический анализ двух текстов на русском языке, среднего размера:\n",
    "1. текст художественной прозы, например, текста главы 2 из книги Л Кэрролла «Алиса в Стране Чудес» или главы из романа Л.Толстого или рассказа А.Чехова.\n",
    "2. текст научно-технической или деловой прозы.\n",
    "\n",
    "Для этого следует составить программу, которая с помощью выбранного морфопроцессора,\n",
    "например: Диалинг-АОТ , mystem, pymorphy или CrossMorphy (ссылки см. в варианте А),\n",
    "осуществляет морфологический анализ словоформ текста;\n",
    "вычисляет 7-15 статистических характеристик разного типа:\n",
    "- общестатистические: общее число словоупотреблений, число различных словоформ, средняя\n",
    "длина предложения (если процессор разбивает текст на предложения) и т.п.;\n",
    "- морфологические: абсолютная и относительная частота омонимичных словоформ, процент\n",
    "разных частей речи, наиболее частотные падежи у существительных и прилагательных,\n",
    "относительную частоту падежей, наиболее частотные морфологические формы глаголов\n",
    "(время/лицо/число) и т.п.;\n",
    "- лексические: количество уникальных лемм, число уникальных лемм разных частей речи\n",
    "(существительных, глаголов и др.), число незнакомых слов, самые частотные слова и их\n",
    "относительная частота, самые частотные слова основных частей речи (существительные,\n",
    "прилагательные, наречия, глаголы), коэффициент лексического богатства текста (=отношение\n",
    "числа различных лемм к общему числу словоупотреблений) и т.п.\n",
    "выводит подсчитанные характеристики в удобной, обозримой форме.\n",
    "\n",
    "Отчет: составленная программа, подсчитанная статистика (в удобной, обозримой форме, в\n",
    "зависимости от стилей/жанров текстов), пояснения по способу ее подсчета и выводы,\n",
    "программа с комментариями."
   ]
  },
  {
   "cell_type": "markdown",
   "metadata": {},
   "source": [
    "# Выкачиваем данные"
   ]
  },
  {
   "cell_type": "markdown",
   "metadata": {},
   "source": [
    "## Художественный текст"
   ]
  },
  {
   "cell_type": "code",
   "execution_count": 4,
   "metadata": {},
   "outputs": [],
   "source": [
    "with open(DATA_DIR+'art_alice_full_text.txt', 'r') as f:\n",
    "    alice_txt = f.read()"
   ]
  },
  {
   "cell_type": "code",
   "execution_count": 5,
   "metadata": {},
   "outputs": [],
   "source": [
    "alice_txt_by_chapter = {idx:s.strip() for idx, s in enumerate([s for s in re.split('Глава.*\\n\\n\\n', alice_txt) if len(s)>0])}"
   ]
  },
  {
   "cell_type": "markdown",
   "metadata": {},
   "source": [
    "## Научно-технический текст"
   ]
  },
  {
   "cell_type": "markdown",
   "metadata": {},
   "source": [
    "\"ПОСОБИЕ ПО НАПИСАНИЮ\n",
    "РАЗНОГО РОДА ДЕЛОВЫХ ТЕКСТОВ\"\n",
    "https://www.iis.nsk.su/files/articles/sbor_kas_16_nesgovorova.pdf"
   ]
  },
  {
   "cell_type": "code",
   "execution_count": 6,
   "metadata": {},
   "outputs": [],
   "source": [
    "with open(DATA_DIR+'doc_how_to_business_text.txt','r') as f:\n",
    "    how_to_buis_txt = f.read()"
   ]
  },
  {
   "cell_type": "code",
   "execution_count": 7,
   "metadata": {},
   "outputs": [],
   "source": [
    "def beautify_str(s):\n",
    "    s = s.replace('\\n',' ')\n",
    "    s = re.sub('\\ +', ' ', s)\n",
    "    s = s.replace('т.д.','т_д').replace('т.п.','т_п')\n",
    "    s = re.sub(r'\\d+\\.','', s)\n",
    "    s = re.sub(r'Рис\\. \\d+\\n+', '', s)\n",
    "    return s"
   ]
  },
  {
   "cell_type": "code",
   "execution_count": 8,
   "metadata": {},
   "outputs": [],
   "source": [
    "alice_txt_by_chapter = {idx:s for idx,s in alice_txt_by_chapter.items()}\n",
    "how_to_buis_txt = beautify_str(how_to_buis_txt)"
   ]
  },
  {
   "cell_type": "markdown",
   "metadata": {},
   "source": [
    "# Ищем статистику с pymorphy и считаем метрики"
   ]
  },
  {
   "cell_type": "code",
   "execution_count": 9,
   "metadata": {},
   "outputs": [],
   "source": [
    "import pymorphy2"
   ]
  },
  {
   "cell_type": "code",
   "execution_count": 10,
   "metadata": {},
   "outputs": [],
   "source": [
    "morph = pymorphy2.MorphAnalyzer()"
   ]
  },
  {
   "cell_type": "markdown",
   "metadata": {},
   "source": [
    "# Собираем всю информацию"
   ]
  },
  {
   "cell_type": "code",
   "execution_count": 11,
   "metadata": {},
   "outputs": [],
   "source": [
    "def words_iterator(txt):\n",
    "    for w in re.finditer('\\w+',txt):\n",
    "        yield w.group()"
   ]
  },
  {
   "cell_type": "code",
   "execution_count": 12,
   "metadata": {},
   "outputs": [],
   "source": [
    "def get_sentences(txt):\n",
    "    return [sent.strip() for sent in re.findall(r'[^\\.?!]+[\\.?!]', beautify_str(txt))]"
   ]
  },
  {
   "cell_type": "code",
   "execution_count": 13,
   "metadata": {},
   "outputs": [],
   "source": [
    "def calc_word_stat(txt):\n",
    "    word_stat_ds = []\n",
    "    for w in words_iterator(txt):\n",
    "        wstat = {}\n",
    "        wstat['wordform'] = w.lower()\n",
    "        wstat['n_omonymes'] = len(morph.parse(w))\n",
    "        p = morph.parse(w)[0]\n",
    "        t = {'POS':p.tag.POS,           # Part of Speech, часть речи\n",
    "            'ANIM':p.tag.animacy,       # одушевленность\n",
    "            'ASP':p.tag.aspect,        # вид: совершенный или несовершенный\n",
    "            'CASE':p.tag.case,          # падеж\n",
    "            'GEND':p.tag.gender,        # род (мужской, женский, средний)\n",
    "            'INV':p.tag.involvement,   # включенность говорящего в действие\n",
    "            'MOOD':p.tag.mood,          # наклонение (повелительное, изъявительное)\n",
    "            'NUMB':p.tag.number,        # число (единственное, множественное)\n",
    "            'PERS':p.tag.person,        # лицо (1, 2, 3)\n",
    "            'TENS':p.tag.tense,         # время (настоящее, прошедшее, будущее)\n",
    "            'TRANS':p.tag.transitivity,  # переходность (переходный, непереходный)\n",
    "            'VOICE':p.tag.voice,         # залог (действительный, страдательный)\n",
    "        }\n",
    "        t = {k:str(v) for k,v in t.items()}\n",
    "        wstat = dict(wstat, **t)\n",
    "        wstat['lemma'] = p.normal_form\n",
    "        wstat['is_known'] = p.is_known\n",
    "        wstat['word_len'] = len(w)\n",
    "\n",
    "        word_stat_ds.append(wstat)\n",
    "    word_stat_ds = pd.concat([pd.Series(wstat) for wstat in word_stat_ds],1).T\n",
    "    word_stat_ds['sentence_id'] = [sent_idx for idx, sent in enumerate(get_sentences(txt)) for sent_idx in [idx]*len(list(words_iterator(sent)))]\n",
    "    return word_stat_ds"
   ]
  },
  {
   "cell_type": "markdown",
   "metadata": {},
   "source": [
    "## общестатистические"
   ]
  },
  {
   "cell_type": "code",
   "execution_count": 14,
   "metadata": {},
   "outputs": [],
   "source": [
    "def get_pos_feature_stat(ds, pos, f):\n",
    "    if type(pos)!=list:\n",
    "        pos = [pos]\n",
    "    cds = ds[ds['POS'].isin(pos)]\n",
    "    s = cds[f].fillna('NA').value_counts()/len(cds)\n",
    "    #s /= s.sum()\n",
    "    s.index = f+'__'+s.index\n",
    "    return s.to_dict()"
   ]
  },
  {
   "cell_type": "code",
   "execution_count": 15,
   "metadata": {},
   "outputs": [],
   "source": [
    "def calc_text_stat(txt):\n",
    "    word_stat_ds = calc_word_stat(txt)\n",
    "    text_stat = {}\n",
    "    # Общестатические метрики\n",
    "    text_stat['n_wordform'] = word_stat_ds['wordform'].count() # общее число словоупотреблений\n",
    "    text_stat['n_wordform_uniq'] = word_stat_ds['wordform'].nunique() #число различных словоформ\n",
    "    text_stat['avg_sent_len'] = word_stat_ds.groupby('sentence_id')['wordform'].count().mean() #средняя длина предложения\n",
    "\n",
    "    # Морфология\n",
    "    text_stat['omonym_freq_abs'] = (word_stat_ds['n_omonymes']>1).mean() #абсолютная частота омонимичных словоформ\n",
    "    text_stat['omonym_freq_rel'] = (word_stat_ds.groupby('wordform')['n_omonymes'].max()>1).mean() #относительная частота омонимичных словоформ\n",
    "    text_stat['omonym_weight'] = word_stat_ds['n_omonymes'].mean() #среднее количество омонимов словоформ\n",
    "    text_stat = dict(get_pos_feature_stat(word_stat_ds, list(morph.parse('')[0].tag.PARTS_OF_SPEECH), 'POS'), **text_stat) # процент разных частей речи\n",
    "    text_stat = dict(get_pos_feature_stat(word_stat_ds, ['NOUN','ADJF'], 'CASE'), **text_stat) # частота падежей у существительных и прилагательных\n",
    "    text_stat = dict(get_pos_feature_stat(word_stat_ds, 'VERB', 'TENS'), **text_stat) # частоты времён глаголов\n",
    "    text_stat = dict(get_pos_feature_stat(word_stat_ds, 'VERB', 'PERS'), **text_stat) # частоты лиц глаголов\n",
    "    text_stat = dict(get_pos_feature_stat(word_stat_ds, 'VERB', 'NUMB'), **text_stat) # частоты чисел глаголов\n",
    "    text_stat = dict(get_pos_feature_stat(word_stat_ds, 'VERB', 'ASP'), **text_stat) # частоты совершенности глаголов\n",
    "\n",
    "    # Лексика\n",
    "    text_stat['n_lemma_uniq'] = word_stat_ds['lemma'].nunique() # число уникальных лемм\n",
    "    s = word_stat_ds.groupby('POS')['lemma'].nunique() # число уникальных лемм разных частей речи\n",
    "    s.index = 'n_lemma_uniq__'+s.index\n",
    "    text_stat = dict(s.to_dict(), **text_stat)\n",
    "    text_stat['perc_unknown'] = 1- word_stat_ds['is_known'].mean() # доля неизвестных слов\n",
    "    s = (word_stat_ds['lemma'].value_counts().sort_values(ascending=False)/len(word_stat_ds)).head(10) # наиболее частоупотребляемые леммы\n",
    "    s.index = 'freq_lemmas__'+s.index\n",
    "    text_stat = dict(s.to_dict(), **text_stat) # наиболее частоупотребляемые леммы по частям речи\n",
    "    for pos in word_stat_ds['POS'].unique().astype(str):\n",
    "        cds = word_stat_ds[word_stat_ds['POS']==pos]\n",
    "        s = (cds['lemma'].value_counts().sort_values(ascending=False)/len(cds)).head(10) # наиболее частоупотребляемые леммы\n",
    "        s.index = f'freq_lemmas__{pos}__'+s.index\n",
    "        text_stat = dict(s.to_dict(), **text_stat)\n",
    "    text_stat['lexical_rich'] = text_stat['n_lemma_uniq']/text_stat['n_wordform']\n",
    "    return pd.Series(text_stat)"
   ]
  },
  {
   "cell_type": "code",
   "execution_count": 16,
   "metadata": {},
   "outputs": [],
   "source": [
    "case_verb = {'nomn':'Им','gent':'Род','datv':'Дат','accs':'Вин','ablt':'Твор','loct':'Предл','voct':'Зват','gen2':'Род2','acc2':'Вин2','loc2':'Предл2','None':'None'}"
   ]
  },
  {
   "cell_type": "markdown",
   "metadata": {},
   "source": [
    "# Анализ данных"
   ]
  },
  {
   "cell_type": "code",
   "execution_count": 17,
   "metadata": {},
   "outputs": [],
   "source": [
    "sentences_art = {'alice':get_sentences(alice_txt)}\n",
    "sentences_doc = {'how_to_doc':get_sentences(how_to_buis_txt)}"
   ]
  },
  {
   "cell_type": "code",
   "execution_count": 18,
   "metadata": {},
   "outputs": [],
   "source": [
    "sentences_art_all = [s for ss in sentences_art.values() for s in ss]\n",
    "sentences_doc_all = [s for ss in sentences_doc.values() for s in ss]"
   ]
  },
  {
   "cell_type": "code",
   "execution_count": 19,
   "metadata": {},
   "outputs": [],
   "source": [
    "from tqdm.notebook import tqdm"
   ]
  },
  {
   "cell_type": "code",
   "execution_count": 20,
   "metadata": {},
   "outputs": [],
   "source": [
    "n_sentences_per_text = 70\n",
    "n_iters = 10"
   ]
  },
  {
   "cell_type": "code",
   "execution_count": 21,
   "metadata": {},
   "outputs": [
    {
     "data": {
      "application/vnd.jupyter.widget-view+json": {
       "model_id": "14111bbb7cab4b468429676813cc67e3",
       "version_major": 2,
       "version_minor": 0
      },
      "text/plain": [
       "HBox(children=(IntProgress(value=0, max=10), HTML(value='')))"
      ]
     },
     "metadata": {},
     "output_type": "display_data"
    },
    {
     "name": "stdout",
     "output_type": "stream",
     "text": [
      "\n"
     ]
    },
    {
     "name": "stderr",
     "output_type": "stream",
     "text": [
      "/home/egor/anaconda3/lib/python3.7/site-packages/ipykernel_launcher.py:4: FutureWarning: Sorting because non-concatenation axis is not aligned. A future version\n",
      "of pandas will change to not sort by default.\n",
      "\n",
      "To accept the future behavior, pass 'sort=False'.\n",
      "\n",
      "To retain the current behavior and silence the warning, pass 'sort=True'.\n",
      "\n",
      "  after removing the cwd from sys.path.\n"
     ]
    }
   ],
   "source": [
    "X_doc = []\n",
    "for i in tqdm(range(n_iters)):\n",
    "    X_doc.append(calc_text_stat(' '.join(np.random.choice(sentences_doc_all, size=n_sentences_per_text, replace=True))))\n",
    "X_doc = pd.concat(X_doc,1).T"
   ]
  },
  {
   "cell_type": "code",
   "execution_count": 22,
   "metadata": {},
   "outputs": [
    {
     "data": {
      "application/vnd.jupyter.widget-view+json": {
       "model_id": "29bf9fa93da8424cbe06b5a62c914f3a",
       "version_major": 2,
       "version_minor": 0
      },
      "text/plain": [
       "HBox(children=(IntProgress(value=0, max=10), HTML(value='')))"
      ]
     },
     "metadata": {},
     "output_type": "display_data"
    },
    {
     "name": "stdout",
     "output_type": "stream",
     "text": [
      "\n"
     ]
    },
    {
     "name": "stderr",
     "output_type": "stream",
     "text": [
      "/home/egor/anaconda3/lib/python3.7/site-packages/ipykernel_launcher.py:4: FutureWarning: Sorting because non-concatenation axis is not aligned. A future version\n",
      "of pandas will change to not sort by default.\n",
      "\n",
      "To accept the future behavior, pass 'sort=False'.\n",
      "\n",
      "To retain the current behavior and silence the warning, pass 'sort=True'.\n",
      "\n",
      "  after removing the cwd from sys.path.\n"
     ]
    }
   ],
   "source": [
    "X_art = []\n",
    "for i in tqdm(range(n_iters)):\n",
    "    X_art.append(calc_text_stat(' '.join(np.random.choice(sentences_art_all, size=n_sentences_per_text, replace=True))))\n",
    "X_art = pd.concat(X_art,1).T"
   ]
  },
  {
   "cell_type": "code",
   "execution_count": 23,
   "metadata": {},
   "outputs": [
    {
     "name": "stderr",
     "output_type": "stream",
     "text": [
      "/home/egor/anaconda3/lib/python3.7/site-packages/ipykernel_launcher.py:1: FutureWarning: Sorting because non-concatenation axis is not aligned. A future version\n",
      "of pandas will change to not sort by default.\n",
      "\n",
      "To accept the future behavior, pass 'sort=False'.\n",
      "\n",
      "To retain the current behavior and silence the warning, pass 'sort=True'.\n",
      "\n",
      "  \"\"\"Entry point for launching an IPython kernel.\n"
     ]
    },
    {
     "data": {
      "text/plain": [
       "((20, 862), (20,))"
      ]
     },
     "execution_count": 23,
     "metadata": {},
     "output_type": "execute_result"
    }
   ],
   "source": [
    "X = pd.concat([X_doc, X_art])\n",
    "y = np.concatenate([np.zeros(shape=len(X_doc)), np.ones(shape=len(X_art)) ])\n",
    "X.shape, y.shape"
   ]
  },
  {
   "cell_type": "code",
   "execution_count": 24,
   "metadata": {},
   "outputs": [],
   "source": [
    "from sklearn.tree import DecisionTreeClassifier, plot_tree"
   ]
  },
  {
   "cell_type": "code",
   "execution_count": 25,
   "metadata": {},
   "outputs": [],
   "source": [
    "X = X.fillna(0)"
   ]
  },
  {
   "cell_type": "code",
   "execution_count": 26,
   "metadata": {},
   "outputs": [
    {
     "data": {
      "text/plain": [
       "DecisionTreeClassifier(class_weight=None, criterion='gini', max_depth=None,\n",
       "                       max_features=None, max_leaf_nodes=None,\n",
       "                       min_impurity_decrease=0.0, min_impurity_split=None,\n",
       "                       min_samples_leaf=1, min_samples_split=2,\n",
       "                       min_weight_fraction_leaf=0.0, presort=False,\n",
       "                       random_state=None, splitter='best')"
      ]
     },
     "execution_count": 26,
     "metadata": {},
     "output_type": "execute_result"
    }
   ],
   "source": [
    "dtree = DecisionTreeClassifier()\n",
    "dtree.fit(X, y)"
   ]
  },
  {
   "cell_type": "code",
   "execution_count": 27,
   "metadata": {},
   "outputs": [
    {
     "data": {
      "text/plain": [
       "[Text(167.4, 163.07999999999998, 'n_lemma_uniq__None <= 6.0\\ngini = 0.5\\nsamples = 20\\nvalue = [10, 10]\\nclass = doc'),\n",
       " Text(83.7, 54.360000000000014, 'gini = 0.0\\nsamples = 10\\nvalue = [0, 10]\\nclass = art'),\n",
       " Text(251.10000000000002, 54.360000000000014, 'gini = 0.0\\nsamples = 10\\nvalue = [10, 0]\\nclass = doc')]"
      ]
     },
     "execution_count": 27,
     "metadata": {},
     "output_type": "execute_result"
    },
    {
     "data": {
      "image/png": "[encoded data removed]",
      "text/plain": [
       "<Figure size 432x288 with 1 Axes>"
      ]
     },
     "metadata": {
      "needs_background": "light"
     },
     "output_type": "display_data"
    }
   ],
   "source": [
    "plot_tree(dtree, class_names=['doc','art'], feature_names=X.columns)"
   ]
  },
  {
   "cell_type": "markdown",
   "metadata": {},
   "source": [
    "# Real data science"
   ]
  },
  {
   "cell_type": "code",
   "execution_count": 28,
   "metadata": {},
   "outputs": [],
   "source": [
    "import os"
   ]
  },
  {
   "cell_type": "code",
   "execution_count": 29,
   "metadata": {},
   "outputs": [],
   "source": [
    "sentences_art_full,sentences_doc_full = {}, {}\n",
    "for fname in os.listdir(DATA_DIR):\n",
    "    with open(DATA_DIR+fname,'r') as f:\n",
    "            txt = f.read()\n",
    "    sentences = get_sentences(txt)\n",
    "    if fname.startswith('art_'):\n",
    "        sentences_art_full[fname[4:-4]] = sentences\n",
    "    if fname.startswith('doc_'):\n",
    "        sentences_doc_full[fname[4:-4]] = sentences"
   ]
  },
  {
   "cell_type": "code",
   "execution_count": 30,
   "metadata": {},
   "outputs": [
    {
     "name": "stdout",
     "output_type": "stream",
     "text": [
      "art texts: dict_keys(['chekchov_joy', 'checkhov_gooseberry', 'tolstoy_childhood', 'alice_full_text', 'strugatskie_god'])\n",
      "doc texts: dict_keys(['nod_master_passport', 'how_to_business_text', 'nplus1', 'comp_ling_theory_practise', 'math_importance'])\n"
     ]
    }
   ],
   "source": [
    "print('art texts:', sentences_art_full.keys())\n",
    "print('doc texts:', sentences_doc_full.keys())"
   ]
  },
  {
   "cell_type": "code",
   "execution_count": 31,
   "metadata": {},
   "outputs": [],
   "source": [
    "n_sentences_per_text = 70\n",
    "n_iters = 100"
   ]
  },
  {
   "cell_type": "code",
   "execution_count": 32,
   "metadata": {},
   "outputs": [
    {
     "name": "stdout",
     "output_type": "stream",
     "text": [
      "3600 404\n"
     ]
    }
   ],
   "source": [
    "sentences_art_all = [s for ss in sentences_art_full.values() for s in ss]\n",
    "sentences_doc_all = [s for ss in sentences_doc_full.values() for s in ss]\n",
    "print(len(sentences_art_all), len(sentences_doc_all))"
   ]
  },
  {
   "cell_type": "code",
   "execution_count": 33,
   "metadata": {},
   "outputs": [
    {
     "data": {
      "application/vnd.jupyter.widget-view+json": {
       "model_id": "452dd866cdad48e5abcf3d235d948e83",
       "version_major": 2,
       "version_minor": 0
      },
      "text/plain": [
       "HBox(children=(IntProgress(value=0), HTML(value='')))"
      ]
     },
     "metadata": {},
     "output_type": "display_data"
    },
    {
     "name": "stdout",
     "output_type": "stream",
     "text": [
      "\n"
     ]
    },
    {
     "name": "stderr",
     "output_type": "stream",
     "text": [
      "/home/egor/anaconda3/lib/python3.7/site-packages/ipykernel_launcher.py:4: FutureWarning: Sorting because non-concatenation axis is not aligned. A future version\n",
      "of pandas will change to not sort by default.\n",
      "\n",
      "To accept the future behavior, pass 'sort=False'.\n",
      "\n",
      "To retain the current behavior and silence the warning, pass 'sort=True'.\n",
      "\n",
      "  after removing the cwd from sys.path.\n"
     ]
    }
   ],
   "source": [
    "X_doc = []\n",
    "for i in tqdm(range(n_iters)):\n",
    "    X_doc.append(calc_text_stat(' '.join(np.random.choice(sentences_doc_all, size=n_sentences_per_text, replace=True))))\n",
    "X_doc = pd.concat(X_doc,1).T"
   ]
  },
  {
   "cell_type": "code",
   "execution_count": 34,
   "metadata": {},
   "outputs": [
    {
     "data": {
      "application/vnd.jupyter.widget-view+json": {
       "model_id": "853c957abbb54db3826226505fc7e5df",
       "version_major": 2,
       "version_minor": 0
      },
      "text/plain": [
       "HBox(children=(IntProgress(value=0), HTML(value='')))"
      ]
     },
     "metadata": {},
     "output_type": "display_data"
    },
    {
     "name": "stdout",
     "output_type": "stream",
     "text": [
      "\n"
     ]
    },
    {
     "name": "stderr",
     "output_type": "stream",
     "text": [
      "/home/egor/anaconda3/lib/python3.7/site-packages/ipykernel_launcher.py:4: FutureWarning: Sorting because non-concatenation axis is not aligned. A future version\n",
      "of pandas will change to not sort by default.\n",
      "\n",
      "To accept the future behavior, pass 'sort=False'.\n",
      "\n",
      "To retain the current behavior and silence the warning, pass 'sort=True'.\n",
      "\n",
      "  after removing the cwd from sys.path.\n"
     ]
    }
   ],
   "source": [
    "X_art = []\n",
    "for i in tqdm(range(n_iters)):\n",
    "    X_art.append(calc_text_stat(' '.join(np.random.choice(sentences_art_all, size=n_sentences_per_text, replace=True))))\n",
    "X_art = pd.concat(X_art,1).T"
   ]
  },
  {
   "cell_type": "code",
   "execution_count": 35,
   "metadata": {},
   "outputs": [
    {
     "name": "stderr",
     "output_type": "stream",
     "text": [
      "/home/egor/anaconda3/lib/python3.7/site-packages/ipykernel_launcher.py:1: FutureWarning: Sorting because non-concatenation axis is not aligned. A future version\n",
      "of pandas will change to not sort by default.\n",
      "\n",
      "To accept the future behavior, pass 'sort=False'.\n",
      "\n",
      "To retain the current behavior and silence the warning, pass 'sort=True'.\n",
      "\n",
      "  \"\"\"Entry point for launching an IPython kernel.\n"
     ]
    },
    {
     "data": {
      "text/plain": [
       "((200, 2763), (200,))"
      ]
     },
     "execution_count": 35,
     "metadata": {},
     "output_type": "execute_result"
    }
   ],
   "source": [
    "X = pd.concat([X_doc, X_art])\n",
    "y = np.concatenate([np.zeros(shape=len(X_doc)), np.ones(shape=len(X_art)) ])\n",
    "X.shape, y.shape"
   ]
  },
  {
   "cell_type": "code",
   "execution_count": 36,
   "metadata": {},
   "outputs": [],
   "source": [
    "from sklearn.tree import DecisionTreeClassifier, plot_tree"
   ]
  },
  {
   "cell_type": "code",
   "execution_count": 37,
   "metadata": {},
   "outputs": [],
   "source": [
    "X = X.fillna(0)"
   ]
  },
  {
   "cell_type": "code",
   "execution_count": 38,
   "metadata": {},
   "outputs": [
    {
     "data": {
      "text/plain": [
       "DecisionTreeClassifier(class_weight=None, criterion='gini', max_depth=None,\n",
       "                       max_features=None, max_leaf_nodes=None,\n",
       "                       min_impurity_decrease=0.0, min_impurity_split=None,\n",
       "                       min_samples_leaf=1, min_samples_split=2,\n",
       "                       min_weight_fraction_leaf=0.0, presort=False,\n",
       "                       random_state=None, splitter='best')"
      ]
     },
     "execution_count": 38,
     "metadata": {},
     "output_type": "execute_result"
    }
   ],
   "source": [
    "dtree = DecisionTreeClassifier()\n",
    "dtree.fit(X, y)"
   ]
  },
  {
   "cell_type": "code",
   "execution_count": 39,
   "metadata": {},
   "outputs": [
    {
     "data": {
      "text/plain": [
       "[Text(167.4, 163.07999999999998, 'ASP__impf <= 0.674\\ngini = 0.5\\nsamples = 200\\nvalue = [100, 100]\\nclass = doc'),\n",
       " Text(83.7, 54.360000000000014, 'gini = 0.0\\nsamples = 100\\nvalue = [0, 100]\\nclass = art'),\n",
       " Text(251.10000000000002, 54.360000000000014, 'gini = 0.0\\nsamples = 100\\nvalue = [100, 0]\\nclass = doc')]"
      ]
     },
     "execution_count": 39,
     "metadata": {},
     "output_type": "execute_result"
    },
    {
     "data": {
      "image/png": "[encoded data removed]",
      "text/plain": [
       "<Figure size 432x288 with 1 Axes>"
      ]
     },
     "metadata": {
      "needs_background": "light"
     },
     "output_type": "display_data"
    }
   ],
   "source": [
    "plot_tree(dtree, class_names=['doc','art'], feature_names=X.columns)"
   ]
  }
 ],
 "metadata": {
  "kernelspec": {
   "display_name": "Python 3",
   "language": "python",
   "name": "python3"
  },
  "language_info": {
   "codemirror_mode": {
    "name": "ipython",
    "version": 3
   },
   "file_extension": ".py",
   "mimetype": "text/x-python",
   "name": "python",
   "nbconvert_exporter": "python",
   "pygments_lexer": "ipython3",
   "version": "3.7.4"
  }
 },
 "nbformat": 4,
 "nbformat_minor": 2
}
