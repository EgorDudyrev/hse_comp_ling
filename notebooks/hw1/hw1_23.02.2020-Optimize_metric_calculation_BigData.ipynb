{
 "cells": [
  {
   "cell_type": "code",
   "execution_count": 1,
   "metadata": {
    "ExecuteTime": {
     "end_time": "2020-02-24T13:57:26.033284Z",
     "start_time": "2020-02-24T13:57:26.028908Z"
    }
   },
   "outputs": [],
   "source": [
    "DATA_DIR = '../../data/'"
   ]
  },
  {
   "cell_type": "code",
   "execution_count": 2,
   "metadata": {
    "ExecuteTime": {
     "end_time": "2020-02-24T13:57:27.212565Z",
     "start_time": "2020-02-24T13:57:26.038426Z"
    }
   },
   "outputs": [],
   "source": [
    "import numpy as np\n",
    "import pandas as pd\n",
    "import matplotlib.pyplot as plt\n",
    "import seaborn as sns\n",
    "import re"
   ]
  },
  {
   "cell_type": "code",
   "execution_count": 3,
   "metadata": {
    "ExecuteTime": {
     "end_time": "2020-02-24T13:57:27.247284Z",
     "start_time": "2020-02-24T13:57:27.217889Z"
    }
   },
   "outputs": [],
   "source": [
    "from sklearn.metrics import accuracy_score"
   ]
  },
  {
   "cell_type": "code",
   "execution_count": 4,
   "metadata": {
    "ExecuteTime": {
     "end_time": "2020-02-24T13:57:27.252851Z",
     "start_time": "2020-02-24T13:57:27.249949Z"
    }
   },
   "outputs": [],
   "source": [
    "from itertools import combinations"
   ]
  },
  {
   "cell_type": "code",
   "execution_count": 5,
   "metadata": {
    "ExecuteTime": {
     "end_time": "2020-02-24T13:57:27.265292Z",
     "start_time": "2020-02-24T13:57:27.255447Z"
    }
   },
   "outputs": [
    {
     "data": {
      "text/html": [
       "<style>.container { width:90% !important; }</style>"
      ],
      "text/plain": [
       "<IPython.core.display.HTML object>"
      ]
     },
     "metadata": {},
     "output_type": "display_data"
    }
   ],
   "source": [
    "from IPython.core.display import display, HTML\n",
    "display(HTML(\"<style>.container { width:90% !important; }</style>\"))"
   ]
  },
  {
   "cell_type": "markdown",
   "metadata": {},
   "source": [
    "Отчет высылается по почте Зуеву Кириллу на адрес kir2207@list.ru\n",
    "\n",
    "В качестве темы письма указать: «КЛ ДЗ № 1, ФИО»\n",
    "\n",
    "Срок выполнения задания – до 24 февраля включительно\n",
    "\n",
    "Замечания:\n",
    "1. Отчет должен быть в виде текста на русском языке, объемом 1-5 страниц. Код программы присылается отдельным файлом (в комментариях следует указать язык программирования и его версию, а также использованные библиотеки и откуда они взяты).\n",
    "2. Оценка задания учитывает общий объем и качество проведенной работы, включая полноту тестирования и подробность отчета об исследовании. Автоматическое тестирование обычно оценивается более высоко, чем ручное (при прочих равных).\n",
    "3. За творческие и более полные решения могут быть добавлены баллы."
   ]
  },
  {
   "cell_type": "markdown",
   "metadata": {},
   "source": [
    "# Задание D\n",
    "\n",
    "Выполнить лексико-статистический анализ двух текстов на русском языке, среднего размера:\n",
    "1. текст художественной прозы, например, текста главы 2 из книги Л Кэрролла «Алиса в Стране Чудес» или главы из романа Л.Толстого или рассказа А.Чехова.\n",
    "2. текст научно-технической или деловой прозы.\n",
    "\n",
    "Для этого следует составить программу, которая с помощью выбранного морфопроцессора,\n",
    "например: Диалинг-АОТ , mystem, pymorphy или CrossMorphy (ссылки см. в варианте А),\n",
    "осуществляет морфологический анализ словоформ текста;\n",
    "вычисляет 7-15 статистических характеристик разного типа:\n",
    "- общестатистические: общее число словоупотреблений, число различных словоформ, средняя\n",
    "длина предложения (если процессор разбивает текст на предложения) и т.п.;\n",
    "- морфологические: абсолютная и относительная частота омонимичных словоформ, процент\n",
    "разных частей речи, наиболее частотные падежи у существительных и прилагательных,\n",
    "относительную частоту падежей, наиболее частотные морфологические формы глаголов\n",
    "(время/лицо/число) и т.п.;\n",
    "- лексические: количество уникальных лемм, число уникальных лемм разных частей речи\n",
    "(существительных, глаголов и др.), число незнакомых слов, самые частотные слова и их\n",
    "относительная частота, самые частотные слова основных частей речи (существительные,\n",
    "прилагательные, наречия, глаголы), коэффициент лексического богатства текста (=отношение\n",
    "числа различных лемм к общему числу словоупотреблений) и т.п.\n",
    "выводит подсчитанные характеристики в удобной, обозримой форме.\n",
    "\n",
    "Отчет: составленная программа, подсчитанная статистика (в удобной, обозримой форме, в\n",
    "зависимости от стилей/жанров текстов), пояснения по способу ее подсчета и выводы,\n",
    "программа с комментариями."
   ]
  },
  {
   "cell_type": "markdown",
   "metadata": {},
   "source": [
    "# Выкачиваем данные"
   ]
  },
  {
   "cell_type": "markdown",
   "metadata": {},
   "source": [
    "## Художественный текст"
   ]
  },
  {
   "cell_type": "code",
   "execution_count": 6,
   "metadata": {
    "ExecuteTime": {
     "end_time": "2020-02-24T13:57:27.276880Z",
     "start_time": "2020-02-24T13:57:27.269082Z"
    }
   },
   "outputs": [],
   "source": [
    "with open(DATA_DIR+'art_alice_full_text.txt', 'r') as f:\n",
    "    alice_txt = f.read()"
   ]
  },
  {
   "cell_type": "code",
   "execution_count": 7,
   "metadata": {
    "ExecuteTime": {
     "end_time": "2020-02-24T13:57:27.286853Z",
     "start_time": "2020-02-24T13:57:27.279807Z"
    }
   },
   "outputs": [],
   "source": [
    "alice_txt_by_chapter = {idx:s.strip() for idx, s in enumerate([s for s in re.split('Глава.*\\n\\n\\n', alice_txt) if len(s)>0])}"
   ]
  },
  {
   "cell_type": "markdown",
   "metadata": {},
   "source": [
    "## Научно-технический текст"
   ]
  },
  {
   "cell_type": "markdown",
   "metadata": {},
   "source": [
    "\"ПОСОБИЕ ПО НАПИСАНИЮ\n",
    "РАЗНОГО РОДА ДЕЛОВЫХ ТЕКСТОВ\"\n",
    "https://www.iis.nsk.su/files/articles/sbor_kas_16_nesgovorova.pdf"
   ]
  },
  {
   "cell_type": "code",
   "execution_count": 8,
   "metadata": {
    "ExecuteTime": {
     "end_time": "2020-02-24T13:57:27.295473Z",
     "start_time": "2020-02-24T13:57:27.289894Z"
    }
   },
   "outputs": [],
   "source": [
    "with open(DATA_DIR+'doc_how_to_business_text.txt','r') as f:\n",
    "    how_to_buis_txt = f.read()"
   ]
  },
  {
   "cell_type": "code",
   "execution_count": 9,
   "metadata": {
    "ExecuteTime": {
     "end_time": "2020-02-24T13:57:27.304854Z",
     "start_time": "2020-02-24T13:57:27.298901Z"
    }
   },
   "outputs": [],
   "source": [
    "def beautify_str(s):\n",
    "    s = s.replace('\\n',' ')\n",
    "    s = re.sub('\\ +', ' ', s)\n",
    "    s = s.replace('т.д.','т_д').replace('т.п.','т_п')\n",
    "    s = re.sub(r'\\d+\\.','', s)\n",
    "    s = re.sub(r'Рис\\. \\d+\\n+', '', s)\n",
    "    return s"
   ]
  },
  {
   "cell_type": "code",
   "execution_count": 10,
   "metadata": {
    "ExecuteTime": {
     "end_time": "2020-02-24T13:57:27.319319Z",
     "start_time": "2020-02-24T13:57:27.307880Z"
    }
   },
   "outputs": [],
   "source": [
    "alice_txt_by_chapter = {idx:s for idx,s in alice_txt_by_chapter.items()}\n",
    "how_to_buis_txt = beautify_str(how_to_buis_txt)"
   ]
  },
  {
   "cell_type": "markdown",
   "metadata": {},
   "source": [
    "# Ищем статистику с pymorphy и считаем метрики"
   ]
  },
  {
   "cell_type": "code",
   "execution_count": 11,
   "metadata": {
    "ExecuteTime": {
     "end_time": "2020-02-24T13:57:27.336785Z",
     "start_time": "2020-02-24T13:57:27.321297Z"
    }
   },
   "outputs": [],
   "source": [
    "import pymorphy2"
   ]
  },
  {
   "cell_type": "code",
   "execution_count": 12,
   "metadata": {
    "ExecuteTime": {
     "end_time": "2020-02-24T13:57:27.413433Z",
     "start_time": "2020-02-24T13:57:27.338435Z"
    }
   },
   "outputs": [],
   "source": [
    "morph = pymorphy2.MorphAnalyzer()"
   ]
  },
  {
   "cell_type": "markdown",
   "metadata": {},
   "source": [
    "# Собираем всю информацию"
   ]
  },
  {
   "cell_type": "code",
   "execution_count": 13,
   "metadata": {
    "ExecuteTime": {
     "end_time": "2020-02-24T13:57:27.418128Z",
     "start_time": "2020-02-24T13:57:27.414951Z"
    }
   },
   "outputs": [],
   "source": [
    "def words_iterator(txt):\n",
    "    for w in re.finditer('\\w+',txt):\n",
    "        yield w.group()"
   ]
  },
  {
   "cell_type": "code",
   "execution_count": 14,
   "metadata": {
    "ExecuteTime": {
     "end_time": "2020-02-24T13:57:27.425677Z",
     "start_time": "2020-02-24T13:57:27.420915Z"
    }
   },
   "outputs": [],
   "source": [
    "def get_sentences(txt):\n",
    "    return [sent.strip() for sent in re.findall(r'[^\\.?!]+[\\.?!]', beautify_str(txt))]"
   ]
  },
  {
   "cell_type": "code",
   "execution_count": 15,
   "metadata": {
    "ExecuteTime": {
     "end_time": "2020-02-24T13:57:27.445433Z",
     "start_time": "2020-02-24T13:57:27.428350Z"
    }
   },
   "outputs": [],
   "source": [
    "def calc_word_stat(txt):\n",
    "    word_stat_ds = []\n",
    "    for w in words_iterator(txt):\n",
    "        wstat = {}\n",
    "        wstat['wordform'] = w.lower()\n",
    "        wstat['n_omonymes'] = len(morph.parse(w))\n",
    "        p = morph.parse(w)[0]\n",
    "        t = {'POS':p.tag.POS,           # Part of Speech, часть речи\n",
    "            'ANIM':p.tag.animacy,       # одушевленность\n",
    "            'ASP':p.tag.aspect,        # вид: совершенный или несовершенный\n",
    "            'CASE':p.tag.case,          # падеж\n",
    "            'GEND':p.tag.gender,        # род (мужской, женский, средний)\n",
    "            'INV':p.tag.involvement,   # включенность говорящего в действие\n",
    "            'MOOD':p.tag.mood,          # наклонение (повелительное, изъявительное)\n",
    "            'NUMB':p.tag.number,        # число (единственное, множественное)\n",
    "            'PERS':p.tag.person,        # лицо (1, 2, 3)\n",
    "            'TENS':p.tag.tense,         # время (настоящее, прошедшее, будущее)\n",
    "            'TRANS':p.tag.transitivity,  # переходность (переходный, непереходный)\n",
    "            'VOICE':p.tag.voice,         # залог (действительный, страдательный)\n",
    "        }\n",
    "        t = {k:str(v) for k,v in t.items()}\n",
    "        wstat = dict(wstat, **t)\n",
    "        wstat['lemma'] = p.normal_form\n",
    "        wstat['is_known'] = p.is_known\n",
    "        wstat['word_len'] = len(w)\n",
    "\n",
    "        word_stat_ds.append(wstat)\n",
    "    word_stat_ds = pd.concat([pd.Series(wstat) for wstat in word_stat_ds],1).T\n",
    "    word_stat_ds['sentence_id'] = [sent_idx for idx, sent in enumerate(get_sentences(txt)) for sent_idx in [idx]*len(list(words_iterator(sent)))]\n",
    "    return word_stat_ds"
   ]
  },
  {
   "cell_type": "markdown",
   "metadata": {},
   "source": [
    "## общестатистические"
   ]
  },
  {
   "cell_type": "code",
   "execution_count": 16,
   "metadata": {
    "ExecuteTime": {
     "end_time": "2020-02-24T13:57:27.455942Z",
     "start_time": "2020-02-24T13:57:27.447601Z"
    }
   },
   "outputs": [],
   "source": [
    "def get_pos_feature_stat(ds, pos, f):\n",
    "    if type(pos)!=list:\n",
    "        pos = [pos]\n",
    "    cds = ds[ds['POS'].isin(pos)]\n",
    "    s = cds[f].fillna('NA').value_counts()/len(cds)\n",
    "    #s /= s.sum()\n",
    "    s.index = f+'__'+s.index\n",
    "    return s.to_dict()"
   ]
  },
  {
   "cell_type": "code",
   "execution_count": 17,
   "metadata": {
    "ExecuteTime": {
     "end_time": "2020-02-24T13:57:27.490866Z",
     "start_time": "2020-02-24T13:57:27.458705Z"
    }
   },
   "outputs": [],
   "source": [
    "def calc_text_stat(txt):\n",
    "    word_stat_ds = calc_word_stat(txt)\n",
    "    text_stat = {}\n",
    "    # Общестатические метрики\n",
    "    text_stat['n_wordform'] = word_stat_ds['wordform'].count() # общее число словоупотреблений\n",
    "    text_stat['n_wordform_uniq'] = word_stat_ds['wordform'].nunique() #число различных словоформ\n",
    "    text_stat['avg_sent_len'] = word_stat_ds.groupby('sentence_id')['wordform'].count().mean() #средняя длина предложения\n",
    "\n",
    "    # Морфология\n",
    "    text_stat['omonym_freq_abs'] = (word_stat_ds['n_omonymes']>1).mean() #абсолютная частота омонимичных словоформ\n",
    "    text_stat['omonym_freq_rel'] = (word_stat_ds.groupby('wordform')['n_omonymes'].max()>1).mean() #относительная частота омонимичных словоформ\n",
    "    text_stat['omonym_weight'] = word_stat_ds['n_omonymes'].mean() #среднее количество омонимов словоформ\n",
    "    text_stat = dict(get_pos_feature_stat(word_stat_ds, list(morph.parse('')[0].tag.PARTS_OF_SPEECH), 'POS'), **text_stat) # процент разных частей речи\n",
    "    text_stat = dict(get_pos_feature_stat(word_stat_ds, ['NOUN','ADJF'], 'CASE'), **text_stat) # частота падежей у существительных и прилагательных\n",
    "    text_stat = dict(get_pos_feature_stat(word_stat_ds, 'VERB', 'TENS'), **text_stat) # частоты времён глаголов\n",
    "    text_stat = dict(get_pos_feature_stat(word_stat_ds, 'VERB', 'PERS'), **text_stat) # частоты лиц глаголов\n",
    "    text_stat = dict(get_pos_feature_stat(word_stat_ds, 'VERB', 'NUMB'), **text_stat) # частоты чисел глаголов\n",
    "    text_stat = dict(get_pos_feature_stat(word_stat_ds, 'VERB', 'ASP'), **text_stat) # частоты совершенности глаголов\n",
    "\n",
    "    # Лексика\n",
    "    text_stat['n_lemma_uniq'] = word_stat_ds['lemma'].nunique() # число уникальных лемм\n",
    "    s = word_stat_ds.groupby('POS')['lemma'].nunique() # число уникальных лемм разных частей речи\n",
    "    s.index = 'n_lemma_uniq__'+s.index\n",
    "    text_stat = dict(s.to_dict(), **text_stat)\n",
    "    text_stat['perc_unknown'] = 1- word_stat_ds['is_known'].mean() # доля неизвестных слов\n",
    "    s = (word_stat_ds['lemma'].value_counts().sort_values(ascending=False)/len(word_stat_ds)).head(10) # наиболее частоупотребляемые леммы\n",
    "    s.index = 'freq_lemmas__'+s.index\n",
    "    text_stat = dict(s.to_dict(), **text_stat) # наиболее частоупотребляемые леммы по частям речи\n",
    "    for pos in word_stat_ds['POS'].unique().astype(str):\n",
    "        cds = word_stat_ds[word_stat_ds['POS']==pos]\n",
    "        s = (cds['lemma'].value_counts().sort_values(ascending=False)/len(cds)).head(10) # наиболее частоупотребляемые леммы\n",
    "        s.index = f'freq_lemmas__{pos}__'+s.index\n",
    "        text_stat = dict(s.to_dict(), **text_stat)\n",
    "    text_stat['lexical_rich'] = text_stat['n_lemma_uniq']/text_stat['n_wordform']\n",
    "    return pd.Series(text_stat)"
   ]
  },
  {
   "cell_type": "code",
   "execution_count": 18,
   "metadata": {
    "ExecuteTime": {
     "end_time": "2020-02-24T13:57:27.499384Z",
     "start_time": "2020-02-24T13:57:27.493449Z"
    }
   },
   "outputs": [],
   "source": [
    "case_verb = {'nomn':'Им','gent':'Род','datv':'Дат','accs':'Вин','ablt':'Твор','loct':'Предл','voct':'Зват','gen2':'Род2','acc2':'Вин2','loc2':'Предл2','None':'None'}"
   ]
  },
  {
   "cell_type": "markdown",
   "metadata": {},
   "source": [
    "# Анализ данных"
   ]
  },
  {
   "cell_type": "code",
   "execution_count": 19,
   "metadata": {
    "ExecuteTime": {
     "end_time": "2020-02-24T13:57:27.562314Z",
     "start_time": "2020-02-24T13:57:27.502281Z"
    }
   },
   "outputs": [],
   "source": [
    "sentences_art = {'alice':get_sentences(alice_txt)}\n",
    "sentences_doc = {'how_to_doc':get_sentences(how_to_buis_txt)}"
   ]
  },
  {
   "cell_type": "code",
   "execution_count": 20,
   "metadata": {
    "ExecuteTime": {
     "end_time": "2020-02-24T13:57:27.570276Z",
     "start_time": "2020-02-24T13:57:27.564865Z"
    }
   },
   "outputs": [],
   "source": [
    "sentences_art_all = [s for ss in sentences_art.values() for s in ss]\n",
    "sentences_doc_all = [s for ss in sentences_doc.values() for s in ss]"
   ]
  },
  {
   "cell_type": "code",
   "execution_count": 21,
   "metadata": {
    "ExecuteTime": {
     "end_time": "2020-02-24T13:57:27.584021Z",
     "start_time": "2020-02-24T13:57:27.573077Z"
    }
   },
   "outputs": [],
   "source": [
    "from tqdm.notebook import tqdm"
   ]
  },
  {
   "cell_type": "code",
   "execution_count": 22,
   "metadata": {
    "ExecuteTime": {
     "end_time": "2020-02-24T13:57:27.590465Z",
     "start_time": "2020-02-24T13:57:27.586673Z"
    }
   },
   "outputs": [],
   "source": [
    "n_sentences_per_text = 70\n",
    "n_iters = 10"
   ]
  },
  {
   "cell_type": "code",
   "execution_count": 23,
   "metadata": {
    "ExecuteTime": {
     "end_time": "2020-02-24T13:57:50.587279Z",
     "start_time": "2020-02-24T13:57:27.593226Z"
    }
   },
   "outputs": [
    {
     "data": {
      "application/vnd.jupyter.widget-view+json": {
       "model_id": "0373b5c0d0e4403687359123e654e8e4",
       "version_major": 2,
       "version_minor": 0
      },
      "text/plain": [
       "HBox(children=(FloatProgress(value=0.0, max=10.0), HTML(value='')))"
      ]
     },
     "metadata": {},
     "output_type": "display_data"
    },
    {
     "name": "stdout",
     "output_type": "stream",
     "text": [
      "\n"
     ]
    },
    {
     "name": "stderr",
     "output_type": "stream",
     "text": [
      "/opt/anaconda/lib/python3.6/site-packages/ipykernel_launcher.py:4: FutureWarning: Sorting because non-concatenation axis is not aligned. A future version\n",
      "of pandas will change to not sort by default.\n",
      "\n",
      "To accept the future behavior, pass 'sort=False'.\n",
      "\n",
      "To retain the current behavior and silence the warning, pass 'sort=True'.\n",
      "\n",
      "  after removing the cwd from sys.path.\n"
     ]
    }
   ],
   "source": [
    "X_doc = []\n",
    "for i in tqdm(range(n_iters)):\n",
    "    X_doc.append(calc_text_stat(' '.join(np.random.choice(sentences_doc_all, size=n_sentences_per_text, replace=True))))\n",
    "X_doc = pd.concat(X_doc,1).T"
   ]
  },
  {
   "cell_type": "code",
   "execution_count": 24,
   "metadata": {
    "ExecuteTime": {
     "end_time": "2020-02-24T13:57:59.716998Z",
     "start_time": "2020-02-24T13:57:50.593981Z"
    }
   },
   "outputs": [
    {
     "data": {
      "application/vnd.jupyter.widget-view+json": {
       "model_id": "31cf356965004d9aa3629d132fbd22bf",
       "version_major": 2,
       "version_minor": 0
      },
      "text/plain": [
       "HBox(children=(FloatProgress(value=0.0, max=10.0), HTML(value='')))"
      ]
     },
     "metadata": {},
     "output_type": "display_data"
    },
    {
     "name": "stdout",
     "output_type": "stream",
     "text": [
      "\n"
     ]
    },
    {
     "name": "stderr",
     "output_type": "stream",
     "text": [
      "/opt/anaconda/lib/python3.6/site-packages/ipykernel_launcher.py:4: FutureWarning: Sorting because non-concatenation axis is not aligned. A future version\n",
      "of pandas will change to not sort by default.\n",
      "\n",
      "To accept the future behavior, pass 'sort=False'.\n",
      "\n",
      "To retain the current behavior and silence the warning, pass 'sort=True'.\n",
      "\n",
      "  after removing the cwd from sys.path.\n"
     ]
    }
   ],
   "source": [
    "X_art = []\n",
    "for i in tqdm(range(n_iters)):\n",
    "    X_art.append(calc_text_stat(' '.join(np.random.choice(sentences_art_all, size=n_sentences_per_text, replace=True))))\n",
    "X_art = pd.concat(X_art,1).T"
   ]
  },
  {
   "cell_type": "code",
   "execution_count": 25,
   "metadata": {
    "ExecuteTime": {
     "end_time": "2020-02-24T13:57:59.899285Z",
     "start_time": "2020-02-24T13:57:59.720574Z"
    }
   },
   "outputs": [
    {
     "name": "stderr",
     "output_type": "stream",
     "text": [
      "/opt/anaconda/lib/python3.6/site-packages/ipykernel_launcher.py:1: FutureWarning: Sorting because non-concatenation axis is not aligned. A future version\n",
      "of pandas will change to not sort by default.\n",
      "\n",
      "To accept the future behavior, pass 'sort=False'.\n",
      "\n",
      "To retain the current behavior and silence the warning, pass 'sort=True'.\n",
      "\n",
      "  \"\"\"Entry point for launching an IPython kernel.\n"
     ]
    },
    {
     "data": {
      "text/plain": [
       "((20, 856), (20,))"
      ]
     },
     "execution_count": 25,
     "metadata": {},
     "output_type": "execute_result"
    }
   ],
   "source": [
    "X = pd.concat([X_doc, X_art])\n",
    "y = np.concatenate([np.zeros(shape=len(X_doc)), np.ones(shape=len(X_art)) ])\n",
    "X.shape, y.shape"
   ]
  },
  {
   "cell_type": "code",
   "execution_count": 26,
   "metadata": {
    "ExecuteTime": {
     "end_time": "2020-02-24T13:57:59.937110Z",
     "start_time": "2020-02-24T13:57:59.900854Z"
    }
   },
   "outputs": [],
   "source": [
    "from sklearn.tree import DecisionTreeClassifier, plot_tree"
   ]
  },
  {
   "cell_type": "code",
   "execution_count": 27,
   "metadata": {
    "ExecuteTime": {
     "end_time": "2020-02-24T13:57:59.964642Z",
     "start_time": "2020-02-24T13:57:59.938736Z"
    }
   },
   "outputs": [],
   "source": [
    "X = X.fillna(0)"
   ]
  },
  {
   "cell_type": "code",
   "execution_count": 28,
   "metadata": {
    "ExecuteTime": {
     "end_time": "2020-02-24T13:57:59.976263Z",
     "start_time": "2020-02-24T13:57:59.966737Z"
    }
   },
   "outputs": [
    {
     "data": {
      "text/plain": [
       "DecisionTreeClassifier(ccp_alpha=0.0, class_weight=None, criterion='gini',\n",
       "                       max_depth=None, max_features=None, max_leaf_nodes=None,\n",
       "                       min_impurity_decrease=0.0, min_impurity_split=None,\n",
       "                       min_samples_leaf=1, min_samples_split=2,\n",
       "                       min_weight_fraction_leaf=0.0, presort='deprecated',\n",
       "                       random_state=None, splitter='best')"
      ]
     },
     "execution_count": 28,
     "metadata": {},
     "output_type": "execute_result"
    }
   ],
   "source": [
    "dtree = DecisionTreeClassifier()\n",
    "dtree.fit(X, y)"
   ]
  },
  {
   "cell_type": "code",
   "execution_count": 29,
   "metadata": {
    "ExecuteTime": {
     "end_time": "2020-02-24T13:58:00.150908Z",
     "start_time": "2020-02-24T13:57:59.978261Z"
    }
   },
   "outputs": [
    {
     "data": {
      "text/plain": [
       "[Text(167.4, 163.07999999999998, 'freq_lemmas__NPRO__это <= 0.147\\ngini = 0.5\\nsamples = 20\\nvalue = [10, 10]\\nclass = doc'),\n",
       " Text(83.7, 54.360000000000014, 'gini = 0.0\\nsamples = 10\\nvalue = [0, 10]\\nclass = art'),\n",
       " Text(251.10000000000002, 54.360000000000014, 'gini = 0.0\\nsamples = 10\\nvalue = [10, 0]\\nclass = doc')]"
      ]
     },
     "execution_count": 29,
     "metadata": {},
     "output_type": "execute_result"
    },
    {
     "data": {
      "image/png": "[encoded data removed]",
      "text/plain": [
       "<Figure size 432x288 with 1 Axes>"
      ]
     },
     "metadata": {
      "needs_background": "light"
     },
     "output_type": "display_data"
    }
   ],
   "source": [
    "plot_tree(dtree, class_names=['doc','art'], feature_names=X.columns)"
   ]
  },
  {
   "cell_type": "markdown",
   "metadata": {},
   "source": [
    "# Real data science"
   ]
  },
  {
   "cell_type": "code",
   "execution_count": 30,
   "metadata": {
    "ExecuteTime": {
     "end_time": "2020-02-24T13:58:00.155236Z",
     "start_time": "2020-02-24T13:58:00.152724Z"
    }
   },
   "outputs": [],
   "source": [
    "import os"
   ]
  },
  {
   "cell_type": "code",
   "execution_count": 31,
   "metadata": {
    "ExecuteTime": {
     "end_time": "2020-02-24T13:58:00.221142Z",
     "start_time": "2020-02-24T13:58:00.157083Z"
    }
   },
   "outputs": [],
   "source": [
    "sentences_art_full,sentences_doc_full = {}, {}\n",
    "for fname in os.listdir(DATA_DIR):    \n",
    "    if fname.startswith('art_'):\n",
    "        with open(DATA_DIR+fname,'r') as f:\n",
    "            txt = f.read()\n",
    "        sentences = get_sentences(txt)\n",
    "        sentences_art_full[fname[4:-4]] = sentences\n",
    "    if fname.startswith('doc_'):\n",
    "        with open(DATA_DIR+fname,'r') as f:\n",
    "            txt = f.read()\n",
    "        sentences = get_sentences(txt)\n",
    "        sentences_doc_full[fname[4:-4]] = sentences"
   ]
  },
  {
   "cell_type": "code",
   "execution_count": 32,
   "metadata": {
    "ExecuteTime": {
     "end_time": "2020-02-24T13:58:00.227908Z",
     "start_time": "2020-02-24T13:58:00.223312Z"
    }
   },
   "outputs": [
    {
     "name": "stdout",
     "output_type": "stream",
     "text": [
      "art texts: dict_keys(['chekchov_joy', 'alice_full_text', 'checkhov_gooseberry', 'strugatskie_god', 'tolstoy_childhood'])\n",
      "doc texts: dict_keys(['math_importance', 'nplus1', 'nod_master_passport', 'how_to_business_text', 'comp_ling_theory_practise'])\n"
     ]
    }
   ],
   "source": [
    "print('art texts:', sentences_art_full.keys())\n",
    "print('doc texts:', sentences_doc_full.keys())"
   ]
  },
  {
   "cell_type": "code",
   "execution_count": 33,
   "metadata": {
    "ExecuteTime": {
     "end_time": "2020-02-24T13:58:00.233239Z",
     "start_time": "2020-02-24T13:58:00.230118Z"
    }
   },
   "outputs": [],
   "source": [
    "n_sentences_per_text = 70\n",
    "n_iters = 5000"
   ]
  },
  {
   "cell_type": "code",
   "execution_count": 34,
   "metadata": {
    "ExecuteTime": {
     "end_time": "2020-02-24T13:58:00.240818Z",
     "start_time": "2020-02-24T13:58:00.235214Z"
    }
   },
   "outputs": [
    {
     "name": "stdout",
     "output_type": "stream",
     "text": [
      "3600 404\n"
     ]
    }
   ],
   "source": [
    "sentences_art_all = [s for ss in sentences_art_full.values() for s in ss]\n",
    "sentences_doc_all = [s for ss in sentences_doc_full.values() for s in ss]\n",
    "print(len(sentences_art_all), len(sentences_doc_all))"
   ]
  },
  {
   "cell_type": "markdown",
   "metadata": {},
   "source": [
    "следующий код выполняется примерно 6 часов"
   ]
  },
  {
   "cell_type": "raw",
   "metadata": {
    "ExecuteTime": {
     "start_time": "2020-02-23T21:11:41.217Z"
    }
   },
   "source": [
    "X_doc = []\n",
    "for i in tqdm(range(n_iters)):\n",
    "    X_doc.append(calc_text_stat(' '.join(np.random.choice(sentences_doc_all, size=n_sentences_per_text, replace=True))))\n",
    "X_doc = pd.concat(X_doc,1).T\n",
    "X_doc.to_csv(DATA_DIR+'X_doc.csv')\n",
    "\n",
    "X_art = []\n",
    "for i in tqdm(range(n_iters)):\n",
    "    X_art.append(calc_text_stat(' '.join(np.random.choice(sentences_art_all, size=n_sentences_per_text, replace=True))))\n",
    "X_art = pd.concat(X_art,1).T\n",
    "X_art.to_csv(DATA_DIR+'X_art.csv')"
   ]
  },
  {
   "cell_type": "code",
   "execution_count": 35,
   "metadata": {
    "ExecuteTime": {
     "end_time": "2020-02-24T13:58:09.755244Z",
     "start_time": "2020-02-24T13:58:00.242824Z"
    }
   },
   "outputs": [],
   "source": [
    "X_doc = pd.read_csv(DATA_DIR+'X_doc.csv', index_col=0)\n",
    "X_art = pd.read_csv(DATA_DIR+'X_art.csv', index_col=0)"
   ]
  },
  {
   "cell_type": "code",
   "execution_count": 36,
   "metadata": {
    "ExecuteTime": {
     "end_time": "2020-02-24T13:58:12.062119Z",
     "start_time": "2020-02-24T13:58:09.759981Z"
    }
   },
   "outputs": [
    {
     "name": "stderr",
     "output_type": "stream",
     "text": [
      "/opt/anaconda/lib/python3.6/site-packages/ipykernel_launcher.py:1: FutureWarning: Sorting because non-concatenation axis is not aligned. A future version\n",
      "of pandas will change to not sort by default.\n",
      "\n",
      "To accept the future behavior, pass 'sort=False'.\n",
      "\n",
      "To retain the current behavior and silence the warning, pass 'sort=True'.\n",
      "\n",
      "  \"\"\"Entry point for launching an IPython kernel.\n"
     ]
    },
    {
     "data": {
      "text/plain": [
       "((10000, 113), (10000,))"
      ]
     },
     "execution_count": 36,
     "metadata": {},
     "output_type": "execute_result"
    }
   ],
   "source": [
    "X = pd.concat([X_doc, X_art])\n",
    "X = X[X.columns[X.isna().mean()<0.5]] #убираем крайне редкие признаки (напр. частые леммы, специфичные для конкретного текста)\n",
    "X = X.fillna(0)\n",
    "y = np.concatenate([np.zeros(shape=len(X_doc)), np.ones(shape=len(X_art)) ])\n",
    "class_names = ['doc','art']\n",
    "X.shape, y.shape"
   ]
  },
  {
   "cell_type": "code",
   "execution_count": 37,
   "metadata": {
    "ExecuteTime": {
     "end_time": "2020-02-24T13:58:12.066715Z",
     "start_time": "2020-02-24T13:58:12.064003Z"
    }
   },
   "outputs": [],
   "source": [
    "from sklearn.tree import DecisionTreeClassifier, plot_tree"
   ]
  },
  {
   "cell_type": "code",
   "execution_count": 38,
   "metadata": {
    "ExecuteTime": {
     "end_time": "2020-02-24T13:58:12.298790Z",
     "start_time": "2020-02-24T13:58:12.068346Z"
    }
   },
   "outputs": [
    {
     "data": {
      "image/png": "[encoded data removed]",
      "text/plain": [
       "<Figure size 432x288 with 1 Axes>"
      ]
     },
     "metadata": {
      "needs_background": "light"
     },
     "output_type": "display_data"
    }
   ],
   "source": [
    "dtree = DecisionTreeClassifier(random_state=0)\n",
    "dtree.fit(X,y)\n",
    "plot_tree(dtree, feature_names=X.columns, class_names=class_names);"
   ]
  },
  {
   "cell_type": "markdown",
   "metadata": {},
   "source": [
    "Оказывается, художественные и научные тексты можно разделить по всего одному признаку. Найдём ещё похожие признаки"
   ]
  },
  {
   "cell_type": "code",
   "execution_count": 39,
   "metadata": {
    "ExecuteTime": {
     "end_time": "2020-02-24T13:58:13.033474Z",
     "start_time": "2020-02-24T13:58:12.300583Z"
    }
   },
   "outputs": [
    {
     "data": {
      "application/vnd.jupyter.widget-view+json": {
       "model_id": "efb7ec7fa3354efc851e3818f07778df",
       "version_major": 2,
       "version_minor": 0
      },
      "text/plain": [
       "HBox(children=(FloatProgress(value=0.0, description='n_combs: 1', max=113.0, style=ProgressStyle(description_w…"
      ]
     },
     "metadata": {},
     "output_type": "display_data"
    },
    {
     "name": "stdout",
     "output_type": "stream",
     "text": [
      "\n"
     ]
    }
   ],
   "source": [
    "ideal_splits = []\n",
    "feats_left = list(X.columns)\n",
    "trees = []\n",
    "for n_combs in range(1,2):\n",
    "    for fs in tqdm(combinations(feats_left, n_combs), total=len(list(combinations(feats_left, n_combs))), desc=f'n_combs: {n_combs}'):\n",
    "        fs = list(fs)\n",
    "        if any([all([f in fs for f in isplit[0]]) for isplit in ideal_splits]):\n",
    "            continue\n",
    "        dtree = DecisionTreeClassifier(max_depth=len(fs))\n",
    "        dtree.fit(X[fs],y)\n",
    "        if accuracy_score(y, dtree.predict(X[fs]))==1:\n",
    "            ideal_splits.append((fs, dtree.tree_.threshold))\n",
    "            trees.append(dtree)\n",
    "    feats_left = [f for f in feats_left if f not in set([f_ for f in ideal_splits for f_ in f[0]])]"
   ]
  },
  {
   "cell_type": "code",
   "execution_count": 40,
   "metadata": {
    "ExecuteTime": {
     "end_time": "2020-02-24T13:58:13.038464Z",
     "start_time": "2020-02-24T13:58:13.035832Z"
    }
   },
   "outputs": [],
   "source": [
    "import pickle"
   ]
  },
  {
   "cell_type": "code",
   "execution_count": 41,
   "metadata": {
    "ExecuteTime": {
     "end_time": "2020-02-24T13:58:13.045892Z",
     "start_time": "2020-02-24T13:58:13.041061Z"
    }
   },
   "outputs": [],
   "source": [
    "with open('ideal_feats_data.pickle','wb') as f:\n",
    "    pickle.dump({'ideal_splits':ideal_splits, 'trees':trees}, f)"
   ]
  },
  {
   "cell_type": "code",
   "execution_count": 42,
   "metadata": {
    "ExecuteTime": {
     "end_time": "2020-02-24T13:58:13.052790Z",
     "start_time": "2020-02-24T13:58:13.048216Z"
    }
   },
   "outputs": [],
   "source": [
    "with open('ideal_feats_data.pickle','rb') as f:\n",
    "    d = pickle.load(f)\n",
    "    ideal_splits = d['ideal_splits']\n",
    "    trees = d['trees']"
   ]
  },
  {
   "cell_type": "code",
   "execution_count": 43,
   "metadata": {
    "ExecuteTime": {
     "end_time": "2020-02-24T13:58:13.069505Z",
     "start_time": "2020-02-24T13:58:13.054782Z"
    }
   },
   "outputs": [
    {
     "name": "stdout",
     "output_type": "stream",
     "text": [
      "1: ASP__impf > 0.67 => doc\n",
      "2: ASP__perf > 0.33 => art\n",
      "3: CASE__gent > 0.38 => doc\n",
      "4: PERS__3per > 0.42 => doc\n",
      "5: PERS__None > 0.50 => art\n",
      "6: POS__ADJF > 0.15 => doc\n",
      "7: POS__NOUN > 0.34 => doc\n",
      "8: POS__NPRO > 0.04 => art\n",
      "9: POS__VERB > 0.11 => art\n",
      "10: TENS__past > 0.47 => art\n",
      "11: TENS__pres > 0.43 => doc\n",
      "12: n_lemma_uniq__ADJF > 85.00 => doc\n"
     ]
    }
   ],
   "source": [
    "for idx, isplit in enumerate([x for x in ideal_splits if len(x[0])==1]):\n",
    "    print(f\"{idx+1}: {isplit[0][0]} > {isplit[1][0]:.2f} => {class_names[int(y[X[isplit[0][0]]>isplit[1][0]].mean())]}\", )"
   ]
  },
  {
   "cell_type": "markdown",
   "metadata": {},
   "source": [
    "Итого:\n",
    "* В научных текстах много глаголов несовершенного вида, в художественных - совершенного\n",
    "* В научных текстах часто употребляется родительный падеж\n",
    "* В научных текстах намного чаще употребляются глаголы в третьем лице\n",
    "* В художественных текстах анализатор часто не может определить лицо (видимо употребляются более нестандартные формы глаголов)\n",
    "* В научных тестах сильно больше полных прилагательных и существительных\n",
    "* В художественных тестах сильно больше \"местоимений-существительных\" и глаголов\n",
    "* В художественных текстах часто пишут в прошедшем времени\n",
    "* В научных текстах часто пишут в настоящем времени\n",
    "* В научных текстах обычно больше 85 уникальных прилагательных"
   ]
  }
 ],
 "metadata": {
  "kernelspec": {
   "display_name": "Python 3",
   "language": "python",
   "name": "python3"
  },
  "language_info": {
   "codemirror_mode": {
    "name": "ipython",
    "version": 3
   },
   "file_extension": ".py",
   "mimetype": "text/x-python",
   "name": "python",
   "nbconvert_exporter": "python",
   "pygments_lexer": "ipython3",
   "version": "3.6.7"
  }
 },
 "nbformat": 4,
 "nbformat_minor": 2
}
