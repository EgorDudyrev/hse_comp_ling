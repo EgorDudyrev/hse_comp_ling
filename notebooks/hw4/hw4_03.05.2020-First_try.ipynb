{
 "cells": [
  {
   "cell_type": "code",
   "execution_count": 17,
   "metadata": {},
   "outputs": [],
   "source": [
    "DATA_DIR = '../../data/'"
   ]
  },
  {
   "cell_type": "code",
   "execution_count": 18,
   "metadata": {},
   "outputs": [],
   "source": [
    "import numpy as np\n",
    "import pandas as pd\n",
    "import matplotlib.pyplot as plt\n",
    "import seaborn as sns\n",
    "import re\n",
    "\n",
    "import gensim\n",
    "import zipfile\n",
    "\n",
    "from itertools import combinations\n",
    "from sklearn.metrics.pairwise import cosine_similarity, cosine_distances"
   ]
  },
  {
   "cell_type": "code",
   "execution_count": 19,
   "metadata": {},
   "outputs": [],
   "source": [
    "from tqdm.notebook import tqdm"
   ]
  },
  {
   "cell_type": "code",
   "execution_count": 20,
   "metadata": {},
   "outputs": [],
   "source": [
    "import tqdm as tqdm_"
   ]
  },
  {
   "cell_type": "code",
   "execution_count": 21,
   "metadata": {},
   "outputs": [
    {
     "data": {
      "text/plain": [
       "'4.43.0'"
      ]
     },
     "execution_count": 21,
     "metadata": {},
     "output_type": "execute_result"
    }
   ],
   "source": [
    "tqdm_.__version__"
   ]
  },
  {
   "cell_type": "code",
   "execution_count": 22,
   "metadata": {},
   "outputs": [
    {
     "data": {
      "text/html": [
       "<style>.container { width:90% !important; }</style>"
      ],
      "text/plain": [
       "<IPython.core.display.HTML object>"
      ]
     },
     "metadata": {},
     "output_type": "display_data"
    }
   ],
   "source": [
    "from IPython.core.display import display, HTML\n",
    "display(HTML(\"<style>.container { width:90% !important; }</style>\"))"
   ]
  },
  {
   "cell_type": "markdown",
   "metadata": {},
   "source": [
    "Срок выполнения задания – до 5 мая включительно.\n",
    "\n",
    "Отчет высылается по почте Зуеву Кириллу на адрес  kir2207@list.ru\n",
    "\n",
    "В качестве темы письма указать:  «КЛ ДЗ № 3, ФИО»\n",
    "\n",
    "Отчет должен быть в виде отдельного текста, код программы включается как приложение."
   ]
  },
  {
   "cell_type": "markdown",
   "metadata": {},
   "source": [
    "# Задание С.  (8-9 баллов)\n",
    "Для нескольких (5-9) достаточно частотных слов русского языка и семантически связанных с ними слов (синонимов, гипонимов, гиперонимов, антонимов и др.), подобранных из некоторого лингвистического ресурса, в частности, \n",
    "* тезауруса РуТез:  http://www.labinform.ru/pub/ruthes/index.htm  или\n",
    "* системы КроссЛексика:    http://www.xl.gelbukh.com \n",
    "\n",
    "исследовать соотношение их векторных представлений на базе предобученной модели Word2Vec и/или FastText, взятой, например, из ресурса Rusvectores: http://rusvectores.org/ru/models/ или из библиотеки Gensim: https://radimrehurek.com/gensim/models/word2vec.html.\n",
    "Определить, есть ли какие-либо закономерности в косинусном расстоянии между  лексически (тезаурусно) связанными  словами? Подобны ли расстояния между парами связанных слов? Выполняются ли алгебраические зависимости?\n",
    "Отчет:  описание использованной модели и проведенных экспериментов, выявленные закономерности (если таковые обнаружились); выводы."
   ]
  },
  {
   "cell_type": "markdown",
   "metadata": {},
   "source": [
    "# Поиск частотных слов"
   ]
  },
  {
   "cell_type": "markdown",
   "metadata": {},
   "source": [
    "По данным \"Нового частотного словаря русской лексики\" О.Н. Ляшевской, С.А. Шарова: http://dict.ruslang.ru/freq.php"
   ]
  },
  {
   "cell_type": "code",
   "execution_count": 23,
   "metadata": {},
   "outputs": [
    {
     "name": "stdout",
     "output_type": "stream",
     "text": [
      "Информация о файле freqrnc2011.csv (кодировка UTF8, разрыв строк UNIX, разделитель полей табуляция).\n",
      "\n",
      "Электронная версия издания:\n",
      "О. Н. Ляшевская, С. А. Шаров, Частотный словарь современного русского языка (на материалах Национального корпуса русского языка). М.: Азбуковник, 2009. http://dict.ruslang.ru/freq.php\n",
      "\n",
      "Алфавитный список лемм (общая лекика; имена собственные и аббревиатуры)\n",
      "\n",
      "Список приводится в алфавитном порядке. Указаны:\n",
      "Lemma – лемма (исходная форма слова),\n",
      "PoS – часть речи,\n",
      "Freq(ipm) – частота леммы на 1 миллион употреблений,\n",
      "R (range) – число сегментов корпуса, в которых встретилась лемма (из 100 возможных),\n",
      "D – коэффициент Жуйана,\n",
      "Doc – число текстов, в которых встретилась лемма.\n",
      "\n",
      "Словарь создан на основе современного подкорпуса Основного корпуса и Устного корпуса НКРЯ (1950-2007), общий объем 92 млн. словоупотреблений.\n",
      "\n",
      "Более подробная информация - во \"Введении к словарю\" http://dict.ruslang.ru/freq.pdf.\n",
      "\n",
      "При использовании ресурса просьба ссылаться на первоисточник:\n",
      "О. Н. Ляшевская, С. А. Шаров, Частотный словарь современного русского языка (на материалах Национального корпуса русского языка). М.: Азбуковник, 2009.\n",
      "\n",
      "(c) О. Н. Ляшевская, С. А. Шаров, 2009-2011.\n",
      "(c) Национальный корпус русского языка, 2009-2011.\n",
      "(c) Издательство \"Азбуковник\" (печатная версия словаря), 2009.\n",
      "(с) А. В. Санников (создание сайта dict.ruslang.ru, техническая поддержка), 2008–2011.\n",
      "\n"
     ]
    }
   ],
   "source": [
    "with open(DATA_DIR+'freqrnc_readme.txt', 'r', encoding='cp1251') as f:\n",
    "    txt = f.read()\n",
    "\n",
    "print(txt)"
   ]
  },
  {
   "cell_type": "markdown",
   "metadata": {},
   "source": [
    "Загрузим файл"
   ]
  },
  {
   "cell_type": "code",
   "execution_count": 24,
   "metadata": {},
   "outputs": [
    {
     "name": "stdout",
     "output_type": "stream",
     "text": [
      "(52138, 6)\n"
     ]
    },
    {
     "data": {
      "text/html": [
       "<div>\n",
       "<style scoped>\n",
       "    .dataframe tbody tr th:only-of-type {\n",
       "        vertical-align: middle;\n",
       "    }\n",
       "\n",
       "    .dataframe tbody tr th {\n",
       "        vertical-align: top;\n",
       "    }\n",
       "\n",
       "    .dataframe thead th {\n",
       "        text-align: right;\n",
       "    }\n",
       "</style>\n",
       "<table border=\"1\" class=\"dataframe\">\n",
       "  <thead>\n",
       "    <tr style=\"text-align: right;\">\n",
       "      <th></th>\n",
       "      <th>Lemma</th>\n",
       "      <th>PoS</th>\n",
       "      <th>Freq(ipm)</th>\n",
       "      <th>R</th>\n",
       "      <th>D</th>\n",
       "      <th>Doc</th>\n",
       "    </tr>\n",
       "  </thead>\n",
       "  <tbody>\n",
       "    <tr>\n",
       "      <th>0</th>\n",
       "      <td>а</td>\n",
       "      <td>conj</td>\n",
       "      <td>8198.0</td>\n",
       "      <td>100</td>\n",
       "      <td>97</td>\n",
       "      <td>32332</td>\n",
       "    </tr>\n",
       "    <tr>\n",
       "      <th>1</th>\n",
       "      <td>а</td>\n",
       "      <td>intj</td>\n",
       "      <td>19.8</td>\n",
       "      <td>99</td>\n",
       "      <td>90</td>\n",
       "      <td>757</td>\n",
       "    </tr>\n",
       "    <tr>\n",
       "      <th>2</th>\n",
       "      <td>а</td>\n",
       "      <td>part</td>\n",
       "      <td>6.1</td>\n",
       "      <td>59</td>\n",
       "      <td>79</td>\n",
       "      <td>128</td>\n",
       "    </tr>\n",
       "    <tr>\n",
       "      <th>3</th>\n",
       "      <td>а</td>\n",
       "      <td>s</td>\n",
       "      <td>2.7</td>\n",
       "      <td>59</td>\n",
       "      <td>85</td>\n",
       "      <td>160</td>\n",
       "    </tr>\n",
       "    <tr>\n",
       "      <th>4</th>\n",
       "      <td>аа</td>\n",
       "      <td>intj</td>\n",
       "      <td>1.5</td>\n",
       "      <td>47</td>\n",
       "      <td>80</td>\n",
       "      <td>68</td>\n",
       "    </tr>\n",
       "  </tbody>\n",
       "</table>\n",
       "</div>"
      ],
      "text/plain": [
       "  Lemma   PoS  Freq(ipm)    R   D    Doc\n",
       "0     а  conj     8198.0  100  97  32332\n",
       "1     а  intj       19.8   99  90    757\n",
       "2     а  part        6.1   59  79    128\n",
       "3     а     s        2.7   59  85    160\n",
       "4    аа  intj        1.5   47  80     68"
      ]
     },
     "execution_count": 24,
     "metadata": {},
     "output_type": "execute_result"
    }
   ],
   "source": [
    "freq_words_ds = pd.read_csv(DATA_DIR+'freqrnc2011.csv', sep='\\t')\n",
    "print(freq_words_ds.shape)\n",
    "freq_words_ds.head()"
   ]
  },
  {
   "cell_type": "markdown",
   "metadata": {},
   "source": [
    "Отсортируем слова частоте употребления"
   ]
  },
  {
   "cell_type": "code",
   "execution_count": 25,
   "metadata": {},
   "outputs": [
    {
     "data": {
      "text/html": [
       "<div>\n",
       "<style scoped>\n",
       "    .dataframe tbody tr th:only-of-type {\n",
       "        vertical-align: middle;\n",
       "    }\n",
       "\n",
       "    .dataframe tbody tr th {\n",
       "        vertical-align: top;\n",
       "    }\n",
       "\n",
       "    .dataframe thead th {\n",
       "        text-align: right;\n",
       "    }\n",
       "</style>\n",
       "<table border=\"1\" class=\"dataframe\">\n",
       "  <thead>\n",
       "    <tr style=\"text-align: right;\">\n",
       "      <th></th>\n",
       "      <th>Lemma</th>\n",
       "      <th>PoS</th>\n",
       "      <th>Freq(ipm)</th>\n",
       "      <th>R</th>\n",
       "      <th>D</th>\n",
       "      <th>Doc</th>\n",
       "    </tr>\n",
       "  </thead>\n",
       "  <tbody>\n",
       "    <tr>\n",
       "      <th>13824</th>\n",
       "      <td>и</td>\n",
       "      <td>conj</td>\n",
       "      <td>35801.8</td>\n",
       "      <td>100</td>\n",
       "      <td>99</td>\n",
       "      <td>37704</td>\n",
       "    </tr>\n",
       "    <tr>\n",
       "      <th>3710</th>\n",
       "      <td>в</td>\n",
       "      <td>pr</td>\n",
       "      <td>31374.2</td>\n",
       "      <td>100</td>\n",
       "      <td>98</td>\n",
       "      <td>37865</td>\n",
       "    </tr>\n",
       "    <tr>\n",
       "      <th>23328</th>\n",
       "      <td>не</td>\n",
       "      <td>part</td>\n",
       "      <td>18028.0</td>\n",
       "      <td>100</td>\n",
       "      <td>97</td>\n",
       "      <td>33999</td>\n",
       "    </tr>\n",
       "    <tr>\n",
       "      <th>22019</th>\n",
       "      <td>на</td>\n",
       "      <td>pr</td>\n",
       "      <td>15867.3</td>\n",
       "      <td>100</td>\n",
       "      <td>98</td>\n",
       "      <td>36748</td>\n",
       "    </tr>\n",
       "    <tr>\n",
       "      <th>51957</th>\n",
       "      <td>я</td>\n",
       "      <td>spro</td>\n",
       "      <td>12684.4</td>\n",
       "      <td>100</td>\n",
       "      <td>95</td>\n",
       "      <td>17116</td>\n",
       "    </tr>\n",
       "  </tbody>\n",
       "</table>\n",
       "</div>"
      ],
      "text/plain": [
       "      Lemma   PoS  Freq(ipm)    R   D    Doc\n",
       "13824     и  conj    35801.8  100  99  37704\n",
       "3710      в    pr    31374.2  100  98  37865\n",
       "23328    не  part    18028.0  100  97  33999\n",
       "22019    на    pr    15867.3  100  98  36748\n",
       "51957     я  spro    12684.4  100  95  17116"
      ]
     },
     "execution_count": 25,
     "metadata": {},
     "output_type": "execute_result"
    }
   ],
   "source": [
    "freq_words_ds = freq_words_ds.sort_values('Freq(ipm)', ascending=False)\n",
    "freq_words_ds.head()"
   ]
  },
  {
   "cell_type": "markdown",
   "metadata": {},
   "source": [
    "Самые частые слова - союзы, приставки, частицы. Отсечём их. Оставим только существительные и глаголы"
   ]
  },
  {
   "cell_type": "code",
   "execution_count": 26,
   "metadata": {},
   "outputs": [],
   "source": [
    "freq_words_ds = freq_words_ds[freq_words_ds['PoS'].isin(['s','v'])]"
   ]
  },
  {
   "cell_type": "code",
   "execution_count": 27,
   "metadata": {},
   "outputs": [
    {
     "name": "stderr",
     "output_type": "stream",
     "text": [
      "/home/egor/anaconda3/lib/python3.7/site-packages/scipy/stats/stats.py:1713: FutureWarning: Using a non-tuple sequence for multidimensional indexing is deprecated; use `arr[tuple(seq)]` instead of `arr[seq]`. In the future this will be interpreted as an array index, `arr[np.array(seq)]`, which will result either in an error or a different result.\n",
      "  return np.add.reduce(sorted[indexer] * weights, axis=axis) / sumval\n"
     ]
    },
    {
     "data": {
      "image/png": "[encoded data removed]",
      "text/plain": [
       "<Figure size 432x288 with 1 Axes>"
      ]
     },
     "metadata": {
      "needs_background": "light"
     },
     "output_type": "display_data"
    }
   ],
   "source": [
    "sns.distplot(np.log(freq_words_ds['Freq(ipm)']))\n",
    "xticks = [1, 10, 100, 1000, 10000]\n",
    "plt.xticks(np.log(xticks), xticks)\n",
    "plt.show()"
   ]
  },
  {
   "cell_type": "markdown",
   "metadata": {},
   "source": [
    "В среднем слова употребляются 1 раз на милион. Посмотрим достаточно частотные слова, которые употребляются 100 раз на милион (1 раз на 10т. употреблений)"
   ]
  },
  {
   "cell_type": "code",
   "execution_count": 28,
   "metadata": {},
   "outputs": [
    {
     "data": {
      "text/html": [
       "<div>\n",
       "<style scoped>\n",
       "    .dataframe tbody tr th:only-of-type {\n",
       "        vertical-align: middle;\n",
       "    }\n",
       "\n",
       "    .dataframe tbody tr th {\n",
       "        vertical-align: top;\n",
       "    }\n",
       "\n",
       "    .dataframe thead th {\n",
       "        text-align: right;\n",
       "    }\n",
       "</style>\n",
       "<table border=\"1\" class=\"dataframe\">\n",
       "  <thead>\n",
       "    <tr style=\"text-align: right;\">\n",
       "      <th></th>\n",
       "      <th>Lemma</th>\n",
       "      <th>PoS</th>\n",
       "      <th>Freq(ipm)</th>\n",
       "      <th>R</th>\n",
       "      <th>D</th>\n",
       "      <th>Doc</th>\n",
       "    </tr>\n",
       "  </thead>\n",
       "  <tbody>\n",
       "    <tr>\n",
       "      <th>29744</th>\n",
       "      <td>передача</td>\n",
       "      <td>s</td>\n",
       "      <td>100.1</td>\n",
       "      <td>100</td>\n",
       "      <td>91</td>\n",
       "      <td>3452</td>\n",
       "    </tr>\n",
       "    <tr>\n",
       "      <th>20785</th>\n",
       "      <td>механизм</td>\n",
       "      <td>s</td>\n",
       "      <td>100.1</td>\n",
       "      <td>100</td>\n",
       "      <td>89</td>\n",
       "      <td>3778</td>\n",
       "    </tr>\n",
       "    <tr>\n",
       "      <th>44017</th>\n",
       "      <td>столица</td>\n",
       "      <td>s</td>\n",
       "      <td>100.2</td>\n",
       "      <td>100</td>\n",
       "      <td>92</td>\n",
       "      <td>4009</td>\n",
       "    </tr>\n",
       "    <tr>\n",
       "      <th>20811</th>\n",
       "      <td>мешать</td>\n",
       "      <td>v</td>\n",
       "      <td>100.4</td>\n",
       "      <td>100</td>\n",
       "      <td>97</td>\n",
       "      <td>3455</td>\n",
       "    </tr>\n",
       "    <tr>\n",
       "      <th>29829</th>\n",
       "      <td>перейти</td>\n",
       "      <td>v</td>\n",
       "      <td>100.5</td>\n",
       "      <td>100</td>\n",
       "      <td>98</td>\n",
       "      <td>4037</td>\n",
       "    </tr>\n",
       "    <tr>\n",
       "      <th>38583</th>\n",
       "      <td>рассматривать</td>\n",
       "      <td>v</td>\n",
       "      <td>100.6</td>\n",
       "      <td>100</td>\n",
       "      <td>91</td>\n",
       "      <td>3959</td>\n",
       "    </tr>\n",
       "    <tr>\n",
       "      <th>31071</th>\n",
       "      <td>поведение</td>\n",
       "      <td>s</td>\n",
       "      <td>100.7</td>\n",
       "      <td>100</td>\n",
       "      <td>90</td>\n",
       "      <td>2962</td>\n",
       "    </tr>\n",
       "    <tr>\n",
       "      <th>20207</th>\n",
       "      <td>мастер</td>\n",
       "      <td>s</td>\n",
       "      <td>100.8</td>\n",
       "      <td>100</td>\n",
       "      <td>94</td>\n",
       "      <td>2885</td>\n",
       "    </tr>\n",
       "    <tr>\n",
       "      <th>7246</th>\n",
       "      <td>газ</td>\n",
       "      <td>s</td>\n",
       "      <td>101.0</td>\n",
       "      <td>100</td>\n",
       "      <td>90</td>\n",
       "      <td>2730</td>\n",
       "    </tr>\n",
       "    <tr>\n",
       "      <th>36540</th>\n",
       "      <td>простить</td>\n",
       "      <td>v</td>\n",
       "      <td>101.1</td>\n",
       "      <td>100</td>\n",
       "      <td>93</td>\n",
       "      <td>2270</td>\n",
       "    </tr>\n",
       "    <tr>\n",
       "      <th>42517</th>\n",
       "      <td>собрать</td>\n",
       "      <td>v</td>\n",
       "      <td>101.6</td>\n",
       "      <td>100</td>\n",
       "      <td>97</td>\n",
       "      <td>4132</td>\n",
       "    </tr>\n",
       "    <tr>\n",
       "      <th>46363</th>\n",
       "      <td>трубка</td>\n",
       "      <td>s</td>\n",
       "      <td>101.7</td>\n",
       "      <td>100</td>\n",
       "      <td>92</td>\n",
       "      <td>1616</td>\n",
       "    </tr>\n",
       "    <tr>\n",
       "      <th>1491</th>\n",
       "      <td>бабушка</td>\n",
       "      <td>s</td>\n",
       "      <td>101.8</td>\n",
       "      <td>100</td>\n",
       "      <td>92</td>\n",
       "      <td>1927</td>\n",
       "    </tr>\n",
       "    <tr>\n",
       "      <th>31087</th>\n",
       "      <td>поверить</td>\n",
       "      <td>v</td>\n",
       "      <td>101.8</td>\n",
       "      <td>100</td>\n",
       "      <td>95</td>\n",
       "      <td>2794</td>\n",
       "    </tr>\n",
       "    <tr>\n",
       "      <th>6965</th>\n",
       "      <td>высота</td>\n",
       "      <td>s</td>\n",
       "      <td>101.9</td>\n",
       "      <td>100</td>\n",
       "      <td>93</td>\n",
       "      <td>3190</td>\n",
       "    </tr>\n",
       "  </tbody>\n",
       "</table>\n",
       "</div>"
      ],
      "text/plain": [
       "               Lemma PoS  Freq(ipm)    R   D   Doc\n",
       "29744       передача   s      100.1  100  91  3452\n",
       "20785       механизм   s      100.1  100  89  3778\n",
       "44017        столица   s      100.2  100  92  4009\n",
       "20811         мешать   v      100.4  100  97  3455\n",
       "29829        перейти   v      100.5  100  98  4037\n",
       "38583  рассматривать   v      100.6  100  91  3959\n",
       "31071      поведение   s      100.7  100  90  2962\n",
       "20207         мастер   s      100.8  100  94  2885\n",
       "7246             газ   s      101.0  100  90  2730\n",
       "36540       простить   v      101.1  100  93  2270\n",
       "42517        собрать   v      101.6  100  97  4132\n",
       "46363         трубка   s      101.7  100  92  1616\n",
       "1491         бабушка   s      101.8  100  92  1927\n",
       "31087       поверить   v      101.8  100  95  2794\n",
       "6965          высота   s      101.9  100  93  3190"
      ]
     },
     "execution_count": 28,
     "metadata": {},
     "output_type": "execute_result"
    }
   ],
   "source": [
    "freq_words_ds[freq_words_ds['Freq(ipm)']>100].sort_values('Freq(ipm)',ascending=True).head(15)"
   ]
  },
  {
   "cell_type": "markdown",
   "metadata": {},
   "source": [
    "## Ищем похожие слова"
   ]
  },
  {
   "cell_type": "code",
   "execution_count": 29,
   "metadata": {},
   "outputs": [],
   "source": [
    "words_dict = {}"
   ]
  },
  {
   "cell_type": "markdown",
   "metadata": {},
   "source": [
    "Данные по синонимам, гипонимам и гиперонимам берём из тезауруса РуТез, по антонимам - из системы КроссЛексика"
   ]
  },
  {
   "cell_type": "markdown",
   "metadata": {},
   "source": [
    "\"механизм\": http://www.labinform.ru/pub/ruthes/te/13/008/142187.htm"
   ]
  },
  {
   "cell_type": "code",
   "execution_count": 30,
   "metadata": {},
   "outputs": [],
   "source": [
    "wd = {'synonyms':{\"автомат\", \"аппарат\", \"робот\", \"механизм\", \"машина\", \"установка\", \"прибор\", \"устройство\", \"приспособление\"},\n",
    "      'hyponyms':{\"агрегат\",\"комбайн\",\"узел\",\"амортизатор\",\"антенна\",\"сепаратор\",\"смеситель\"},\n",
    "      'hyperonyms':{\"приспособление\",\"инструмент\",\"процедура\",\"строение\",\"структура\"},\n",
    "      \"antonyms\":set()\n",
    "     }\n",
    "words_dict[\"механизм\"] = wd"
   ]
  },
  {
   "cell_type": "markdown",
   "metadata": {},
   "source": [
    "\"столица\": http://www.labinform.ru/pub/ruthes/te/18/031/112142.htm"
   ]
  },
  {
   "cell_type": "code",
   "execution_count": 31,
   "metadata": {},
   "outputs": [],
   "source": [
    "wd = {'synonyms':{\"главный город\",\"стольный\",\"административная столица\",\"столичный город\"},\n",
    "      'hyponyms':{\"ибиджан\",\"абу-даби\",\"будапешт\",\"гавана\",\"дублин\",\"каир\",\"хельсинки\",\"тегеран\",\"токио\",\"москва\"},\n",
    "      'hyperonyms':{\"город\",\"административный центр\"},\n",
    "      \"antonyms\":{\"провинция\"}\n",
    "     }\n",
    "words_dict[\"столица\"] = wd"
   ]
  },
  {
   "cell_type": "markdown",
   "metadata": {},
   "source": [
    "\"мешать\" http://www.labinform.ru/pub/ruthes/te/13/008/142198.htm"
   ]
  },
  {
   "cell_type": "code",
   "execution_count": 32,
   "metadata": {},
   "outputs": [],
   "source": [
    "wd = {'synonyms':{\"воспрепятствовать\",\"помешать\",\"препятствовать\",\"смешать\",\"служить помехой\",\"помешивать\",\"смешиваться\"},\n",
    "      'hyponyms':{\"задержать\",\"затруднить\",\"парализовать\",\"путать\",\"примешать\",\"перемешать\",\"размешать\",\"дергать\",\"тормозить\",\"сорвать\"},\n",
    "      'hyperonyms':{\"влиять\",\"воздействовать\",\"переместить\",\"соединить в одно целое\"},\n",
    "      'antonyms':{\"возбуждать\",\"деблокировать\",\"действовать\",\"настраивать\",'облегчать','помогать'}\n",
    "     }\n",
    "words_dict[\"мешать\"] = wd"
   ]
  },
  {
   "cell_type": "markdown",
   "metadata": {},
   "source": [
    "\"рассматривать\" http://www.labinform.ru/pub/ruthes/te/17/004/151383.htm"
   ]
  },
  {
   "cell_type": "code",
   "execution_count": 33,
   "metadata": {},
   "outputs": [],
   "source": [
    "wd = {'synonyms':{\"дорассмотреть\",\"проанализировать\",\"разбирать\",\"разобрать\",\"разлядеть\",\"разглядывать\",\"расценивать\",\"\",\"\",\"\"},\n",
    "      'hyponyms':{\"анализ\",\"вычислить\",\"критиковать\",\"обозреть\",\"засмотреться\",\"любоваться\",\"смотреться\",\"рефлексия\",\"экспертиза\",\"рассудить\"},\n",
    "      'hyperonyms':{\"определить\",\"выяснить\",\"оценить\",\"дать оценку\",\"осмотреть\",\"оглядеть\"},\n",
    "      \"antonyms\":{\"синтезировать\"}\n",
    "     }\n",
    "words_dict[\"рассматривать\"] = wd"
   ]
  },
  {
   "cell_type": "markdown",
   "metadata": {},
   "source": [
    "\"поведение\" http://www.labinform.ru/pub/ruthes/te/16/009/147275.htm"
   ]
  },
  {
   "cell_type": "code",
   "execution_count": 34,
   "metadata": {},
   "outputs": [],
   "source": [
    "wd = {'synonyms':{\"вести себя\",\"линия поведения\",\"поведенческий\",\"повести себя\"},\n",
    "      'hyponyms':{\"аскетизм\",\"бесстрашие\",\"геройство\",\"привычка\",\"своеволие\",\"эпатаж\",\"подвижничество\",\"ласкать\",\"скупиться\",\"смелость\"},\n",
    "      'hyperonyms':{\"действие\",\"целенаправленное действие\"},\n",
    "      \"antonyms\":set()\n",
    "     }\n",
    "words_dict[\"поведение\"] = wd"
   ]
  },
  {
   "cell_type": "markdown",
   "metadata": {},
   "source": [
    "\"мастер\" http://www.labinform.ru/pub/ruthes/te/13/003/141967.htm"
   ]
  },
  {
   "cell_type": "code",
   "execution_count": 35,
   "metadata": {},
   "outputs": [],
   "source": [
    "wd = {'synonyms':{\"мастер спорта\",\"мастер участка\",\"золотые руки\",\"искусница\",\"мастак\",\"мастерица\",\"умелец\",\"умелица\",\"артист в своем деле\"},\n",
    "      'hyponyms':{\"визажист\",\"обувной мастер\",\"ювелир\",\"стилист\",\"кулинар\",\"снайпер\",\"мастер-виртуоз\",\"ремесленник\",\"кустарь\",\"ювелир\"},\n",
    "      'hyperonyms':{\"спортсмен\",\"спортивное звание\",\"работник\",\"административная должность\",\"руководитель\",\"человек\",\"работник промышленности\"},\n",
    "      \"antonyms\":{'дилетант','ломастер','неспециалист','неумеха'}\n",
    "     }\n",
    "words_dict[\"мастер\"] = wd"
   ]
  },
  {
   "cell_type": "markdown",
   "metadata": {},
   "source": [
    "\"газ\" http://www.labinform.ru/pub/ruthes/te/04/001/102252.htm"
   ]
  },
  {
   "cell_type": "code",
   "execution_count": 36,
   "metadata": {},
   "outputs": [],
   "source": [
    "wd = {'synonyms':{\"газовый\",\"газообразный\",\"газообразный компонент\",\"газик\",\"автомобиль газ\",\"газообразное топливо\",\"голубое топливо\",\"горючий газ\"},\n",
    "      'hyponyms':{\"бытовой газ\",\"попутный газ\",\"природный газ\",\"азот\",\"аммиак\",\"бутан\",\"автомобиль 'газель'\",\"фтор\",\"хлор\",\"плазма\"},\n",
    "      'hyperonyms':{\"газообразное вещество\",\"органическое топливо\",\"вещество\",\"автомобиль\",\"марка автомобиля\"},\n",
    "      \"antonyms\":set()\n",
    "     }\n",
    "words_dict[\"газ\"] = wd"
   ]
  },
  {
   "cell_type": "markdown",
   "metadata": {},
   "source": [
    "\"бабушка\" http://www.labinform.ru/pub/ruthes/te/02/001/100711.htm"
   ]
  },
  {
   "cell_type": "code",
   "execution_count": 37,
   "metadata": {},
   "outputs": [],
   "source": [
    "wd = {'synonyms':{\"бабка\",\"бабуля\",\"мама отца\",\"бабулька\",\"старуха\",\"божий одуванчик\",\"мать матери\",\"бабуся\"},\n",
    "      'hyponyms':{\"прабабка\",\"старая карга\"},\n",
    "      'hyperonyms':{\"родственница\",\"пожилая женщина\",\"престарелый гражданин\"}\n",
    "     }\n",
    "words_dict[\"бабушка\"] = wd"
   ]
  },
  {
   "cell_type": "markdown",
   "metadata": {},
   "source": [
    "\"высота\" http://www.labinform.ru/pub/ruthes/te/03/024/135660.htm"
   ]
  },
  {
   "cell_type": "code",
   "execution_count": 38,
   "metadata": {},
   "outputs": [],
   "source": [
    "wd = {'synonyms':{\"вышина\",\"высотный параметр\",\"высота звука\",\"апофеоз\",\"венец\",\"верх\",\"зенит\",\"разгар\",\"кульминация\",\"высотка\"},\n",
    "      'hyponyms':{\"рост человека\",\"эшелон полета\",\"высокий по звуку\",\"звездный час\",\"расцвет\",\"процветание\",\"гвоздь программы\",},\n",
    "      'hyperonyms':{\"пик\",\"степень\",\"характеристика звука\",\"расстояние\",\"возвышенность\",\"пространство\",\"протяженность\"},\n",
    "      \"antonyms\":{'низина'}\n",
    "     }\n",
    "words_dict[\"высота\"] = wd"
   ]
  },
  {
   "cell_type": "markdown",
   "metadata": {},
   "source": [
    "\"собрать\" http://www.labinform.ru/pub/ruthes/te/18/019/153456.htm"
   ]
  },
  {
   "cell_type": "code",
   "execution_count": 39,
   "metadata": {},
   "outputs": [],
   "source": [
    "wd = {'synonyms':{\"насобирать\",\"пособирать\",\"собирание\",\"собирать\",\"напрягать\",\"напрячь\",\"поднажать\",\"пособирать\",\"убрать\",},\n",
    "      'hyponyms':{\"копить\",\"накапливать\",\"набрать\",\"организовать\",\"подобрать\",\"составить\",\"вслушаться\",\"всмотреться\",\"обобрать\",\"перенапрячься\"},\n",
    "      'hyperonyms':{\"прикрепить\",\"приделать\",\"соединить\",\"создать\",\"снять\",\"пытаться\",\"стараться\"},\n",
    "      \"antonyms\":{'израсходовать','надеть','назначить','натянуть','промотать','разбросать','развести','разобрать','растащить'}\n",
    "     }\n",
    "words_dict[\"собрать\"] = wd"
   ]
  },
  {
   "cell_type": "markdown",
   "metadata": {},
   "source": [
    "# Получаем векторы слов"
   ]
  },
  {
   "cell_type": "markdown",
   "metadata": {},
   "source": [
    "Загрузка Word2Vec модели"
   ]
  },
  {
   "cell_type": "code",
   "execution_count": 40,
   "metadata": {},
   "outputs": [],
   "source": [
    "def get_model(zip_path):\n",
    "    with zipfile.ZipFile(zip_path, 'r') as archive:\n",
    "        stream = archive.open('model.bin')\n",
    "        model = gensim.models.KeyedVectors.load_word2vec_format(\n",
    "            stream, binary=True)\n",
    "    return model"
   ]
  },
  {
   "cell_type": "markdown",
   "metadata": {},
   "source": [
    "Получение вектора для слова с автоматической подстановкой части речи"
   ]
  },
  {
   "cell_type": "code",
   "execution_count": 41,
   "metadata": {},
   "outputs": [],
   "source": [
    "def get_wordvector(word):\n",
    "    for sufx in ['NOUN','VERB', 'ADJ']:\n",
    "        w = f\"{word}_{sufx}\"\n",
    "        if w in model.wv:\n",
    "            return model.wv[w]\n",
    "    else:\n",
    "        print(f'{word} not in model')\n",
    "        return None"
   ]
  },
  {
   "cell_type": "markdown",
   "metadata": {},
   "source": [
    "Модель загружена с сайта https://rusvectores.org/ru/models/ под идентификатором ruscorpora_upos_cbow_300_20_2019"
   ]
  },
  {
   "cell_type": "markdown",
   "metadata": {},
   "source": [
    "Загрузим модель Word2Vec"
   ]
  },
  {
   "cell_type": "code",
   "execution_count": 42,
   "metadata": {},
   "outputs": [
    {
     "name": "stderr",
     "output_type": "stream",
     "text": [
      "/home/egor/.local/lib/python3.7/site-packages/smart_open/smart_open_lib.py:398: UserWarning: This function is deprecated, use smart_open.open instead. See the migration notes for details: https://github.com/RaRe-Technologies/smart_open/blob/master/README.rst#migrating-to-the-new-open-function\n",
      "  'See the migration notes for details: %s' % _MIGRATION_NOTES_URL\n"
     ]
    }
   ],
   "source": [
    "model = get_model(DATA_DIR+'180.zip')"
   ]
  },
  {
   "cell_type": "markdown",
   "metadata": {},
   "source": [
    "Получим список всех слов, указанных в качестве синонимов, антонимов и т.п."
   ]
  },
  {
   "cell_type": "code",
   "execution_count": 43,
   "metadata": {},
   "outputs": [],
   "source": [
    "words = [w_ for bw, wd in words_dict.items() for w_ in [bw]+[w for ws in wd.values() for w in ws]]"
   ]
  },
  {
   "cell_type": "markdown",
   "metadata": {},
   "source": [
    "Вычислим векторы этих слов"
   ]
  },
  {
   "cell_type": "code",
   "execution_count": 44,
   "metadata": {},
   "outputs": [
    {
     "name": "stdout",
     "output_type": "stream",
     "text": [
      "токио not in model\n",
      "хельсинки not in model\n",
      "абу-даби not in model\n",
      "гавана not in model\n",
      "дублин not in model\n",
      "ибиджан not in model\n",
      "деблокировать not in model\n",
      " not in model\n",
      "разлядеть not in model\n",
      "дорассмотреть not in model\n",
      "умелица not in model\n",
      "мастер-виртуоз not in model\n",
      "ломастер not in model\n",
      "пособирать not in model\n",
      "перенапрячься not in model\n"
     ]
    },
    {
     "name": "stderr",
     "output_type": "stream",
     "text": [
      "/home/egor/anaconda3/lib/python3.7/site-packages/ipykernel_launcher.py:4: DeprecationWarning: Call to deprecated `wv` (Attribute will be removed in 4.0.0, use self instead).\n",
      "  after removing the cwd from sys.path.\n",
      "/home/egor/anaconda3/lib/python3.7/site-packages/ipykernel_launcher.py:5: DeprecationWarning: Call to deprecated `wv` (Attribute will be removed in 4.0.0, use self instead).\n",
      "  \"\"\"\n"
     ]
    }
   ],
   "source": [
    "wvs_dict = {w:get_wordvector(w) for w in words if ' ' not in w}\n",
    "wvs_dict = {w:wv for w, wv in wvs_dict.items() if wv is not None }"
   ]
  },
  {
   "cell_type": "markdown",
   "metadata": {},
   "source": [
    "# Гипотеза 1\n",
    "\n",
    "Являются ли векторы синонимичных слов более похожими друг на друга, чем векторы несвязанных слов? Выполняется ли такая зависимость для других типов связей?"
   ]
  },
  {
   "cell_type": "markdown",
   "metadata": {},
   "source": [
    "Рассчитаем косинусные расстояния между векторами"
   ]
  },
  {
   "cell_type": "code",
   "execution_count": 45,
   "metadata": {},
   "outputs": [
    {
     "name": "stdout",
     "output_type": "stream",
     "text": [
      "Num of distances: 31152\n"
     ]
    }
   ],
   "source": [
    "dists = {}\n",
    "for w1 in words:\n",
    "    for w2 in words:\n",
    "        if w1==w2:\n",
    "            continue\n",
    "        if w1 in wvs_dict and w2 in wvs_dict:\n",
    "            cs = cosine_distances([wvs_dict[w1], wvs_dict[w2]])[0,1]\n",
    "            w = tuple([w1,w2])#tuple(sorted([w1,w2]))\n",
    "            dists[w] = cs\n",
    "print(f'Num of distances: {len(dists)}')"
   ]
  },
  {
   "cell_type": "markdown",
   "metadata": {},
   "source": [
    "Составим датасет из рассчитанных расстояний"
   ]
  },
  {
   "cell_type": "code",
   "execution_count": 46,
   "metadata": {},
   "outputs": [],
   "source": [
    "dists_ds = pd.Series(dists).reset_index()\n",
    "dists_ds.columns = ['w1','w2','dist']"
   ]
  },
  {
   "cell_type": "markdown",
   "metadata": {},
   "source": [
    "Выделим синонимичные пары. Будем считать, что отношение синонимичности транзитивно, т.е. если A синоним B, B синоним C, то и A - синоним C"
   ]
  },
  {
   "cell_type": "code",
   "execution_count": 47,
   "metadata": {},
   "outputs": [
    {
     "data": {
      "application/vnd.jupyter.widget-view+json": {
       "model_id": "de3d0322fe494daf9ea21bf3b0bc4713",
       "version_major": 2,
       "version_minor": 0
      },
      "text/plain": [
       "HBox(children=(FloatProgress(value=0.0, max=31152.0), HTML(value='')))"
      ]
     },
     "metadata": {},
     "output_type": "display_data"
    },
    {
     "name": "stdout",
     "output_type": "stream",
     "text": [
      "\n"
     ]
    }
   ],
   "source": [
    "synonyms_list = [[k]+list(vs['synonyms']) for k,vs in words_dict.items()]\n",
    "\n",
    "is_syn = []\n",
    "for ridx, row in tqdm(dists_ds.iterrows(), total=len(dists_ds)):\n",
    "    if any([row['w1'] in syns and row['w2'] in syns for syns in synonyms_list]):\n",
    "        is_syn.append(True)\n",
    "    else:\n",
    "        is_syn.append(False)\n",
    "\n",
    "dists_ds['is_synonyms'] = is_syn"
   ]
  },
  {
   "cell_type": "markdown",
   "metadata": {},
   "source": [
    "Выделим отношения гипонимии, гиперонимии, антонимии. Также отдельно посчитаем транзитивные гипонимию и гиперонимию (напр. A - гипоним B, B - гипоним C, будем считать, что A - гипоним 2ой степени для C)"
   ]
  },
  {
   "cell_type": "code",
   "execution_count": 48,
   "metadata": {},
   "outputs": [],
   "source": [
    "for f in ['is_hyponym', 'is_hyperonym', 'is_hyponym2', 'is_hyperonym2', 'is_antonym']:\n",
    "    dists_ds[f] = False\n",
    "\n",
    "for w, wd in words_dict.items():\n",
    "    for w_hypon in wd['hyponyms']:\n",
    "        dists_ds.loc[(dists_ds['w1']==w_hypon)&(dists_ds['w2']==w), 'is_hyponym'] = True\n",
    "        dists_ds.loc[(dists_ds['w1']==w)&(dists_ds['w2']==w_hypon), 'is_hyperonym'] = True\n",
    "        \n",
    "    for w_hyper in wd['hyperonyms']:\n",
    "        dists_ds.loc[(dists_ds['w1']==w_hyper)&(dists_ds['w2']==w), 'is_hyperonym'] = True\n",
    "        dists_ds.loc[(dists_ds['w1']==w)&(dists_ds['w2']==w_hyper), 'is_hyponym'] = True\n",
    "        \n",
    "    for w_hypon in wd['hyponyms']:\n",
    "        for w_hyper in wd['hyperonyms']:\n",
    "            dists_ds.loc[(dists_ds['w1']==w_hypon)&(dists_ds['w2']==w_hyper), 'is_hyponym2'] = True\n",
    "            dists_ds.loc[(dists_ds['w1']==w_hyper)&(dists_ds['w2']==w_hypon), 'is_hyperonym2'] = True\n",
    "    \n",
    "    for w_syn in [w]+list(wd['synonyms']):\n",
    "        for w_ant in wd.get('antonyms',[]):\n",
    "            #dists_ds.loc[(dists_ds['w1']==w_ant)&(dists_ds['w2']==w), 'is_antonym'] = True\n",
    "            #dists_ds.loc[(dists_ds['w1']==w)&(dists_ds['w2']==w_ant), 'is_antonym'] = True\n",
    "            dists_ds.loc[(dists_ds['w1']==w_ant)&(dists_ds['w2']==w_syn), 'is_antonym'] = True\n",
    "            dists_ds.loc[(dists_ds['w1']==w_syn)&(dists_ds['w2']==w_ant), 'is_antonym'] = True"
   ]
  },
  {
   "cell_type": "markdown",
   "metadata": {},
   "source": [
    "Выделим пары, которые не связаны никакими вышеперечисленными отношениями"
   ]
  },
  {
   "cell_type": "code",
   "execution_count": 49,
   "metadata": {},
   "outputs": [],
   "source": [
    "dists_ds['not_connected'] = ~dists_ds.drop(['w1','w2','dist'],1).any(1)"
   ]
  },
  {
   "cell_type": "code",
   "execution_count": 50,
   "metadata": {},
   "outputs": [
    {
     "name": "stdout",
     "output_type": "stream",
     "text": [
      "is_synonyms: 338 rows\n",
      "is_hyponym: 101 rows\n",
      "is_hyperonym: 101 rows\n",
      "is_hyponym2: 245 rows\n",
      "is_hyperonym2: 245 rows\n",
      "is_antonym: 278 rows\n",
      "not_connected: 29846 rows\n"
     ]
    }
   ],
   "source": [
    "for f in dists_ds.drop(['w1','w2','dist'],1).columns:\n",
    "    print(f\"{f}: {dists_ds[f].sum()} rows\")"
   ]
  },
  {
   "cell_type": "code",
   "execution_count": 54,
   "metadata": {},
   "outputs": [
    {
     "data": {
      "image/png": "[encoded data removed]",
      "text/plain": [
       "<Figure size 1080x720 with 7 Axes>"
      ]
     },
     "metadata": {
      "needs_background": "light"
     },
     "output_type": "display_data"
    }
   ],
   "source": [
    "plt.figure(figsize=(15,10))\n",
    "for idx, f in enumerate(dists_ds.drop(['w1','w2','dist'],1).columns):\n",
    "    plt.subplot(dists_ds.shape[1]//3+1,3,idx+1)\n",
    "    sns.boxplot(x=f, y='dist', data=dists_ds)\n",
    "    md = abs(dists_ds[dists_ds[f]==True]['dist'].median()-dists_ds[dists_ds[f]==False]['dist'].median())\n",
    "    plt.title(f\"{f} (difference of medians: {md:.2f})\")\n",
    "    plt.xlabel('')\n",
    "    plt.ylabel('cosine distance')\n",
    "plt.tight_layout()\n",
    "plt.show()"
   ]
  },
  {
   "cell_type": "markdown",
   "metadata": {},
   "source": [
    "### Вывод 1\n",
    "Расстояние между связанными словами меньше, чем между несвязанными. "
   ]
  },
  {
   "cell_type": "markdown",
   "metadata": {},
   "source": [
    "# Гипотеза 2\n",
    "\n",
    "Может быть есть векторы \"синонимичности\", \"гипонимичности\" и т.д.?\n",
    "\n",
    "Для этого сравним векторы разностей для синонимов, антонимов и т.п. Если векторы разностей синонимов будут похожи между собой, значит можно сказать, что существуют особые \"векторы синонимичности\"."
   ]
  },
  {
   "cell_type": "markdown",
   "metadata": {},
   "source": [
    "Сначала рассчитаем косинусные расстояния между векторами разностей связанных слов. Для каждого типа связи случайным образом выберем 100 пар слов, чтобы можно было сравнивать доверительные интервалы для разных типов связей."
   ]
  },
  {
   "cell_type": "code",
   "execution_count": 55,
   "metadata": {},
   "outputs": [
    {
     "data": {
      "application/vnd.jupyter.widget-view+json": {
       "model_id": "c58b806a3a53487c8e16b588bfeaeb13",
       "version_major": 2,
       "version_minor": 0
      },
      "text/plain": [
       "HBox(children=(FloatProgress(value=0.0, max=7.0), HTML(value='')))"
      ]
     },
     "metadata": {},
     "output_type": "display_data"
    },
    {
     "data": {
      "application/vnd.jupyter.widget-view+json": {
       "model_id": "07be4c1f58004def945684907a0052c1",
       "version_major": 2,
       "version_minor": 0
      },
      "text/plain": [
       "HBox(children=(FloatProgress(value=0.0, description='is_synonyms', style=ProgressStyle(description_width='init…"
      ]
     },
     "metadata": {},
     "output_type": "display_data"
    },
    {
     "name": "stdout",
     "output_type": "stream",
     "text": [
      "\n"
     ]
    },
    {
     "data": {
      "application/vnd.jupyter.widget-view+json": {
       "model_id": "e740806d0820447bb2a2f0b28a2ffaad",
       "version_major": 2,
       "version_minor": 0
      },
      "text/plain": [
       "HBox(children=(FloatProgress(value=0.0, description='is_hyponym', style=ProgressStyle(description_width='initi…"
      ]
     },
     "metadata": {},
     "output_type": "display_data"
    },
    {
     "name": "stdout",
     "output_type": "stream",
     "text": [
      "\n"
     ]
    },
    {
     "data": {
      "application/vnd.jupyter.widget-view+json": {
       "model_id": "3dde2b7dd0274e7fad0f1bf6c79bfad5",
       "version_major": 2,
       "version_minor": 0
      },
      "text/plain": [
       "HBox(children=(FloatProgress(value=0.0, description='is_hyperonym', style=ProgressStyle(description_width='ini…"
      ]
     },
     "metadata": {},
     "output_type": "display_data"
    },
    {
     "name": "stdout",
     "output_type": "stream",
     "text": [
      "\n"
     ]
    },
    {
     "data": {
      "application/vnd.jupyter.widget-view+json": {
       "model_id": "bb7fb8cf5e1548e78ee721049f1a7b3c",
       "version_major": 2,
       "version_minor": 0
      },
      "text/plain": [
       "HBox(children=(FloatProgress(value=0.0, description='is_hyponym2', style=ProgressStyle(description_width='init…"
      ]
     },
     "metadata": {},
     "output_type": "display_data"
    },
    {
     "name": "stdout",
     "output_type": "stream",
     "text": [
      "\n"
     ]
    },
    {
     "data": {
      "application/vnd.jupyter.widget-view+json": {
       "model_id": "49f7d72beac9487d9aacbdc7259f1637",
       "version_major": 2,
       "version_minor": 0
      },
      "text/plain": [
       "HBox(children=(FloatProgress(value=0.0, description='is_hyperonym2', style=ProgressStyle(description_width='in…"
      ]
     },
     "metadata": {},
     "output_type": "display_data"
    },
    {
     "name": "stdout",
     "output_type": "stream",
     "text": [
      "\n"
     ]
    },
    {
     "data": {
      "application/vnd.jupyter.widget-view+json": {
       "model_id": "8e3274f8f8a448dfb4b50db7402fb23e",
       "version_major": 2,
       "version_minor": 0
      },
      "text/plain": [
       "HBox(children=(FloatProgress(value=0.0, description='is_antonym', style=ProgressStyle(description_width='initi…"
      ]
     },
     "metadata": {},
     "output_type": "display_data"
    },
    {
     "name": "stdout",
     "output_type": "stream",
     "text": [
      "\n"
     ]
    },
    {
     "data": {
      "application/vnd.jupyter.widget-view+json": {
       "model_id": "b0bd78d433c84265a583e58a77ad72b4",
       "version_major": 2,
       "version_minor": 0
      },
      "text/plain": [
       "HBox(children=(FloatProgress(value=0.0, description='not_connected', style=ProgressStyle(description_width='in…"
      ]
     },
     "metadata": {},
     "output_type": "display_data"
    },
    {
     "name": "stdout",
     "output_type": "stream",
     "text": [
      "\n",
      "\n"
     ]
    }
   ],
   "source": [
    "wvs_diffs_pair_dicts = {}\n",
    "for idx, f in tqdm(enumerate(dists_ds.drop(['w1','w2','dist'],1).columns), total=len(dists_ds.columns)-3):\n",
    "    cds = dists_ds[dists_ds[f]].sample(100)\n",
    "    wvs_diffs_dict = {}\n",
    "    for w1, w2 in cds[['w1','w2']].values:\n",
    "        wvs_diffs_dict[(w1,w2)] = wvs_dict[w1]-wvs_dict[w2]\n",
    "        \n",
    "    d = {}\n",
    "    for w_diff1, diff_1 in tqdm(wvs_diffs_dict.items(), total=len(wvs_diffs_dict), desc=f):\n",
    "        for w_diff2, diff_2 in tqdm(wvs_diffs_dict.items(), total=len(wvs_diffs_dict), leave=False, disable=True):\n",
    "            if w_diff1==w_diff2:\n",
    "                continue\n",
    "            d[(w_diff1, w_diff2)] = cosine_distances([diff_1, diff_2])[0,1]\n",
    "        \n",
    "    wvs_diffs_pair_dicts[f] = d"
   ]
  },
  {
   "cell_type": "markdown",
   "metadata": {},
   "source": [
    "Объединим результаты в единый датасет"
   ]
  },
  {
   "cell_type": "code",
   "execution_count": 56,
   "metadata": {},
   "outputs": [],
   "source": [
    "dists_pair_ds = []\n",
    "for k, pair_dict in wvs_diffs_pair_dicts.items():\n",
    "    cds = pd.Series(pair_dict).reset_index().rename(columns={'level_0':'pair 0', 'level_1':'pair 1', 0:'dist'})\n",
    "    cds['type'] = k\n",
    "    dists_pair_ds.append(cds)\n",
    "\n",
    "dists_pair_ds = pd.concat(dists_pair_ds)"
   ]
  },
  {
   "cell_type": "code",
   "execution_count": 58,
   "metadata": {},
   "outputs": [
    {
     "data": {
      "image/png": "[encoded data removed]",
      "text/plain": [
       "<Figure size 1080x504 with 1 Axes>"
      ]
     },
     "metadata": {
      "needs_background": "light"
     },
     "output_type": "display_data"
    }
   ],
   "source": [
    "plt.figure(figsize=(15,7))\n",
    "sns.boxplot(x='type', y='dist', data=dists_pair_ds)\n",
    "plt.xlabel('')\n",
    "plt.ylabel('cosine distance')\n",
    "plt.title('Косинусное расстояние между парами слов с разными связями')\n",
    "plt.show()"
   ]
  },
  {
   "cell_type": "markdown",
   "metadata": {},
   "source": [
    "### Вывод 2\n",
    "Не существует абстракного вектора \"синонимии\", \"гипонимии\" и т.п."
   ]
  },
  {
   "cell_type": "markdown",
   "metadata": {},
   "source": [
    "# Гипотеза 3\n",
    "\n",
    "Может быть векторы \"гипонимии\" и т.п. существуют хотя бы в разрезе каждого конкретного слова?"
   ]
  },
  {
   "cell_type": "markdown",
   "metadata": {},
   "source": [
    "Выделим пары, с совпадающими словами. Для этого сначала выделим все слова в парах"
   ]
  },
  {
   "cell_type": "code",
   "execution_count": 73,
   "metadata": {},
   "outputs": [],
   "source": [
    "dists_pair_ds['word 0'] = [p[0] for p in dists_pair_ds['pair 0']]\n",
    "dists_pair_ds['word 1'] = [p[1] for p in dists_pair_ds['pair 0']]\n",
    "dists_pair_ds['word 2'] = [p[0] for p in dists_pair_ds['pair 1']]\n",
    "dists_pair_ds['word 3'] = [p[1] for p in dists_pair_ds['pair 1']]"
   ]
  },
  {
   "cell_type": "markdown",
   "metadata": {},
   "source": [
    "Выделим пары, в которых совпадает хотя бы одно слово"
   ]
  },
  {
   "cell_type": "code",
   "execution_count": 74,
   "metadata": {},
   "outputs": [],
   "source": [
    "fs = []\n",
    "for w0 in ['word 0','word 1','word 2','word 3']:\n",
    "    for w1 in ['word 0','word 1','word 2','word 3']:\n",
    "        if w0==w1:\n",
    "            continue\n",
    "            \n",
    "        dists_pair_ds[f\"{w0}=={w1}\"] = dists_pair_ds[w0]==dists_pair_ds[w1]\n",
    "        fs.append(f\"{w0}=={w1}\")\n",
    "\n",
    "dists_pair_ds['has_common_word'] = dists_pair_ds[fs].any(1)\n",
    "dists_pair_ds = dists_pair_ds.drop(fs,1)"
   ]
  },
  {
   "cell_type": "markdown",
   "metadata": {},
   "source": [
    "Выделим пары, в которых совпадает первое или последнее слова"
   ]
  },
  {
   "cell_type": "code",
   "execution_count": 75,
   "metadata": {},
   "outputs": [],
   "source": [
    "dists_pair_ds['has_same_first_word'] = dists_pair_ds['word 0']==dists_pair_ds['word 2']\n",
    "dists_pair_ds['has_same_last_word'] = dists_pair_ds['word 1']==dists_pair_ds['word 3']"
   ]
  },
  {
   "cell_type": "code",
   "execution_count": 76,
   "metadata": {},
   "outputs": [
    {
     "data": {
      "text/plain": [
       "has_common_word        4792\n",
       "has_same_first_word    1510\n",
       "has_same_last_word     1412\n",
       "dtype: int64"
      ]
     },
     "execution_count": 76,
     "metadata": {},
     "output_type": "execute_result"
    }
   ],
   "source": [
    "dists_pair_ds[['has_common_word','has_same_first_word', 'has_same_last_word']].sum()"
   ]
  },
  {
   "cell_type": "code",
   "execution_count": 77,
   "metadata": {},
   "outputs": [
    {
     "data": {
      "image/png": "[encoded data removed]",
      "text/plain": [
       "<Figure size 1080x360 with 1 Axes>"
      ]
     },
     "metadata": {
      "needs_background": "light"
     },
     "output_type": "display_data"
    }
   ],
   "source": [
    "plt.figure(figsize=(15,5))\n",
    "sns.boxplot(x='type', y='dist', hue='has_common_word', data=dists_pair_ds)\n",
    "plt.xlabel('')\n",
    "plt.ylabel('cosine distance')\n",
    "plt.title('Косинусное расстояние между парами слов с разными связями в которых есть одинаковые слова')\n",
    "plt.show()"
   ]
  },
  {
   "cell_type": "code",
   "execution_count": 78,
   "metadata": {},
   "outputs": [
    {
     "data": {
      "image/png": "[encoded data removed]",
      "text/plain": [
       "<Figure size 1080x360 with 1 Axes>"
      ]
     },
     "metadata": {
      "needs_background": "light"
     },
     "output_type": "display_data"
    }
   ],
   "source": [
    "plt.figure(figsize=(15,5))\n",
    "sns.boxplot(x='type', y='dist', hue='has_same_first_word', data=dists_pair_ds)\n",
    "m = dists_pair_ds[(dists_pair_ds['type']=='not_connected')&(dists_pair_ds['has_same_first_word'])]['dist'].median()\n",
    "plt.axhline(m, label=f'median of not connected, same first word pairs: {m:.2f}')\n",
    "plt.xlabel('')\n",
    "plt.ylabel('cosine distance')\n",
    "plt.title('Косинусное расстояние между парами слов с разными связями, образованными от одного слова')\n",
    "plt.show()"
   ]
  },
  {
   "cell_type": "code",
   "execution_count": 79,
   "metadata": {},
   "outputs": [
    {
     "data": {
      "image/png": "[encoded data removed]",
      "text/plain": [
       "<Figure size 1080x360 with 1 Axes>"
      ]
     },
     "metadata": {
      "needs_background": "light"
     },
     "output_type": "display_data"
    }
   ],
   "source": [
    "plt.figure(figsize=(15,5))\n",
    "sns.boxplot(x='type', y='dist', hue='has_same_last_word', data=dists_pair_ds)\n",
    "m = dists_pair_ds[(dists_pair_ds['type']=='not_connected')&(dists_pair_ds['has_same_last_word'])]['dist'].median()\n",
    "plt.axhline(m, label=f'median of not connected, same last word pairs: {m:.2f}', color='black', linestyle='--')\n",
    "plt.xlabel('')\n",
    "plt.ylabel('cosine distance')\n",
    "plt.title('Косинусное расстояние между парами слов с разными связями, образованными к одному слова')\n",
    "plt.show()"
   ]
  },
  {
   "cell_type": "markdown",
   "metadata": {},
   "source": [
    "### Вывод 3\n",
    "\n",
    "Пары слов, синонимичных к одному и тому же слову, похожи друг на друга. Однако настолько же похожи и любые другие две пары, в которых содержатся одинаковые слова. Таким образом, нельзя сказать, что существуют векторы \"антонимичности\", \"синонимичности\", \"гипонимии\", \"гиперонимии\"."
   ]
  },
  {
   "cell_type": "markdown",
   "metadata": {},
   "source": [
    "# Гипотеза 4\n",
    "\n",
    "Может быть на векторах слов хотя работают алгебраические зависимости?"
   ]
  },
  {
   "cell_type": "markdown",
   "metadata": {},
   "source": [
    "## Стандартный пример\n",
    "Для начала рассмотрим известный пример с королем и королевой\n",
    "* король-королева ~= муж-жена\n",
    "* король ~= муж - жена + королева\n",
    "* муж ~= король - королева + жена"
   ]
  },
  {
   "cell_type": "code",
   "execution_count": 80,
   "metadata": {},
   "outputs": [
    {
     "name": "stderr",
     "output_type": "stream",
     "text": [
      "/home/egor/anaconda3/lib/python3.7/site-packages/ipykernel_launcher.py:1: DeprecationWarning: Call to deprecated `wv` (Attribute will be removed in 4.0.0, use self instead).\n",
      "  \"\"\"Entry point for launching an IPython kernel.\n",
      "/home/egor/.local/lib/python3.7/site-packages/gensim/matutils.py:737: FutureWarning: Conversion of the second argument of issubdtype from `int` to `np.signedinteger` is deprecated. In future, it will be treated as `np.int64 == np.dtype(int).type`.\n",
      "  if np.issubdtype(vec.dtype, np.int):\n"
     ]
    },
    {
     "data": {
      "text/plain": [
       "[('королева_NOUN', 0.9201189279556274),\n",
       " ('королева_ADV', 0.7500719428062439),\n",
       " ('королева_ADJ', 0.6821377277374268),\n",
       " ('принцесса_NOUN', 0.6805639863014221),\n",
       " ('королева_PROPN', 0.6683740615844727),\n",
       " ('герцогиня_NOUN', 0.6672440767288208),\n",
       " ('мазарини_PROPN', 0.6401978731155396),\n",
       " ('мария::стюарт_PROPN', 0.6162000894546509),\n",
       " ('вальер_PROPN', 0.6161676645278931),\n",
       " ('фаворитка_NOUN', 0.6091272830963135)]"
      ]
     },
     "execution_count": 80,
     "metadata": {},
     "output_type": "execute_result"
    }
   ],
   "source": [
    "model.similar_by_vector((model.wv['муж_NOUN']-model.wv['жена_NOUN']) + model.wv['королева_NOUN'])"
   ]
  },
  {
   "cell_type": "code",
   "execution_count": 81,
   "metadata": {},
   "outputs": [
    {
     "name": "stdout",
     "output_type": "stream",
     "text": [
      "\\begin{tabular}{llr}\n",
      "\\toprule\n",
      "{} &                    0 &         1 \\\\\n",
      "\\midrule\n",
      "0 &        королева\\_NOUN &  0.920119 \\\\\n",
      "1 &         королева\\_ADV &  0.750072 \\\\\n",
      "2 &         королева\\_ADJ &  0.682138 \\\\\n",
      "3 &       принцесса\\_NOUN &  0.680564 \\\\\n",
      "4 &       королева\\_PROPN &  0.668374 \\\\\n",
      "5 &       герцогиня\\_NOUN &  0.667244 \\\\\n",
      "6 &       мазарини\\_PROPN &  0.640198 \\\\\n",
      "7 &  мария::стюарт\\_PROPN &  0.616200 \\\\\n",
      "8 &         вальер\\_PROPN &  0.616168 \\\\\n",
      "9 &       фаворитка\\_NOUN &  0.609127 \\\\\n",
      "\\bottomrule\n",
      "\\end{tabular}\n",
      "\n"
     ]
    },
    {
     "name": "stderr",
     "output_type": "stream",
     "text": [
      "/home/egor/anaconda3/lib/python3.7/site-packages/ipykernel_launcher.py:1: DeprecationWarning: Call to deprecated `wv` (Attribute will be removed in 4.0.0, use self instead).\n",
      "  \"\"\"Entry point for launching an IPython kernel.\n"
     ]
    }
   ],
   "source": [
    "print(pd.DataFrame(model.similar_by_vector((model.wv['муж_NOUN']-model.wv['жена_NOUN']) + model.wv['королева_NOUN'])).to_latex())"
   ]
  },
  {
   "cell_type": "markdown",
   "metadata": {},
   "source": [
    "Предполагалось, что результатом окажется вектор, похожий на короля (или что-то из королевской тематики мужского рода) но результат оказался другим."
   ]
  },
  {
   "cell_type": "code",
   "execution_count": 82,
   "metadata": {},
   "outputs": [
    {
     "name": "stdout",
     "output_type": "stream",
     "text": [
      "\\begin{tabular}{llr}\n",
      "\\toprule\n",
      "{} &               0 &         1 \\\\\n",
      "\\midrule\n",
      "0 &       жена\\_NOUN &  0.729585 \\\\\n",
      "1 &       зять\\_NOUN &  0.658955 \\\\\n",
      "2 &      тесть\\_NOUN &  0.609647 \\\\\n",
      "3 &        муж\\_NOUN &  0.580768 \\\\\n",
      "4 &        сын\\_NOUN &  0.564723 \\\\\n",
      "5 &    супруга\\_NOUN &  0.550519 \\\\\n",
      "6 &        жена\\_ADJ &  0.529578 \\\\\n",
      "7 &       зять\\_VERB &  0.523330 \\\\\n",
      "8 &       отец\\_NOUN &  0.522891 \\\\\n",
      "9 &  племянник\\_NOUN &  0.514432 \\\\\n",
      "\\bottomrule\n",
      "\\end{tabular}\n",
      "\n"
     ]
    },
    {
     "name": "stderr",
     "output_type": "stream",
     "text": [
      "/home/egor/anaconda3/lib/python3.7/site-packages/ipykernel_launcher.py:1: DeprecationWarning: Call to deprecated `wv` (Attribute will be removed in 4.0.0, use self instead).\n",
      "  \"\"\"Entry point for launching an IPython kernel.\n"
     ]
    }
   ],
   "source": [
    "print(pd.DataFrame(model.similar_by_vector((model.wv['король_NOUN']-model.wv['королева_NOUN']) + model.wv['жена_NOUN'])).to_latex())"
   ]
  },
  {
   "cell_type": "markdown",
   "metadata": {},
   "source": [
    "В этом случае наиболее похожим словом должен был оказаться \"муж\". Он только на 4ом месте. Однако большую часть похожий слов занимают члены семьи мужского рода, что тоже неплохо."
   ]
  },
  {
   "cell_type": "markdown",
   "metadata": {},
   "source": [
    "## 2 наиболее похожие пары слов"
   ]
  },
  {
   "cell_type": "code",
   "execution_count": 83,
   "metadata": {},
   "outputs": [
    {
     "data": {
      "text/html": [
       "<div>\n",
       "<style scoped>\n",
       "    .dataframe tbody tr th:only-of-type {\n",
       "        vertical-align: middle;\n",
       "    }\n",
       "\n",
       "    .dataframe tbody tr th {\n",
       "        vertical-align: top;\n",
       "    }\n",
       "\n",
       "    .dataframe thead th {\n",
       "        text-align: right;\n",
       "    }\n",
       "</style>\n",
       "<table border=\"1\" class=\"dataframe\">\n",
       "  <thead>\n",
       "    <tr style=\"text-align: right;\">\n",
       "      <th></th>\n",
       "      <th>pair 0</th>\n",
       "      <th>pair 1</th>\n",
       "      <th>dist</th>\n",
       "      <th>type</th>\n",
       "      <th>word 0</th>\n",
       "      <th>word 1</th>\n",
       "      <th>word 2</th>\n",
       "      <th>word 3</th>\n",
       "      <th>has_common_word</th>\n",
       "      <th>has_same_first_word</th>\n",
       "      <th>has_same_last_word</th>\n",
       "    </tr>\n",
       "  </thead>\n",
       "  <tbody>\n",
       "    <tr>\n",
       "      <th>9672</th>\n",
       "      <td>(определить, анализ)</td>\n",
       "      <td>(осмотреть, анализ)</td>\n",
       "      <td>0.009818</td>\n",
       "      <td>is_hyperonym2</td>\n",
       "      <td>определить</td>\n",
       "      <td>анализ</td>\n",
       "      <td>осмотреть</td>\n",
       "      <td>анализ</td>\n",
       "      <td>True</td>\n",
       "      <td>False</td>\n",
       "      <td>True</td>\n",
       "    </tr>\n",
       "    <tr>\n",
       "      <th>6927</th>\n",
       "      <td>(осмотреть, анализ)</td>\n",
       "      <td>(определить, анализ)</td>\n",
       "      <td>0.009818</td>\n",
       "      <td>is_hyperonym2</td>\n",
       "      <td>осмотреть</td>\n",
       "      <td>анализ</td>\n",
       "      <td>определить</td>\n",
       "      <td>анализ</td>\n",
       "      <td>True</td>\n",
       "      <td>False</td>\n",
       "      <td>True</td>\n",
       "    </tr>\n",
       "    <tr>\n",
       "      <th>108</th>\n",
       "      <td>(подобрать, пытаться)</td>\n",
       "      <td>(набрать, пытаться)</td>\n",
       "      <td>0.011190</td>\n",
       "      <td>is_hyponym2</td>\n",
       "      <td>подобрать</td>\n",
       "      <td>пытаться</td>\n",
       "      <td>набрать</td>\n",
       "      <td>пытаться</td>\n",
       "      <td>True</td>\n",
       "      <td>False</td>\n",
       "      <td>True</td>\n",
       "    </tr>\n",
       "    <tr>\n",
       "      <th>991</th>\n",
       "      <td>(набрать, пытаться)</td>\n",
       "      <td>(подобрать, пытаться)</td>\n",
       "      <td>0.011190</td>\n",
       "      <td>is_hyponym2</td>\n",
       "      <td>набрать</td>\n",
       "      <td>пытаться</td>\n",
       "      <td>подобрать</td>\n",
       "      <td>пытаться</td>\n",
       "      <td>True</td>\n",
       "      <td>False</td>\n",
       "      <td>True</td>\n",
       "    </tr>\n",
       "    <tr>\n",
       "      <th>984</th>\n",
       "      <td>(любоваться, определить)</td>\n",
       "      <td>(любоваться, выяснить)</td>\n",
       "      <td>0.011389</td>\n",
       "      <td>is_hyponym2</td>\n",
       "      <td>любоваться</td>\n",
       "      <td>определить</td>\n",
       "      <td>любоваться</td>\n",
       "      <td>выяснить</td>\n",
       "      <td>True</td>\n",
       "      <td>True</td>\n",
       "      <td>False</td>\n",
       "    </tr>\n",
       "  </tbody>\n",
       "</table>\n",
       "</div>"
      ],
      "text/plain": [
       "                        pair 0                  pair 1      dist  \\\n",
       "9672      (определить, анализ)     (осмотреть, анализ)  0.009818   \n",
       "6927       (осмотреть, анализ)    (определить, анализ)  0.009818   \n",
       "108      (подобрать, пытаться)     (набрать, пытаться)  0.011190   \n",
       "991        (набрать, пытаться)   (подобрать, пытаться)  0.011190   \n",
       "984   (любоваться, определить)  (любоваться, выяснить)  0.011389   \n",
       "\n",
       "               type      word 0      word 1      word 2    word 3  \\\n",
       "9672  is_hyperonym2  определить      анализ   осмотреть    анализ   \n",
       "6927  is_hyperonym2   осмотреть      анализ  определить    анализ   \n",
       "108     is_hyponym2   подобрать    пытаться     набрать  пытаться   \n",
       "991     is_hyponym2     набрать    пытаться   подобрать  пытаться   \n",
       "984     is_hyponym2  любоваться  определить  любоваться  выяснить   \n",
       "\n",
       "      has_common_word  has_same_first_word  has_same_last_word  \n",
       "9672             True                False                True  \n",
       "6927             True                False                True  \n",
       "108              True                False                True  \n",
       "991              True                False                True  \n",
       "984              True                 True               False  "
      ]
     },
     "execution_count": 83,
     "metadata": {},
     "output_type": "execute_result"
    }
   ],
   "source": [
    "dists_pair_ds.sort_values('dist').head(5)"
   ]
  },
  {
   "cell_type": "markdown",
   "metadata": {},
   "source": [
    "Разницы пары (выяснить, экспертиза), (определить, экспертиза) очень похожи друг на друга. Проверим на них алгебраические зависимости"
   ]
  },
  {
   "cell_type": "markdown",
   "metadata": {},
   "source": [
    "* выяснить - экспертиза ~= определить - экспертиза\n",
    "* выяснить ~= опредить - экспретиза + экспертиза ~= определить"
   ]
  },
  {
   "cell_type": "markdown",
   "metadata": {},
   "source": [
    "Если алгебраические зависимости выполняются, то слово \"выяснить\" очень похоже на слово \"определить\". Так ли это?"
   ]
  },
  {
   "cell_type": "code",
   "execution_count": 84,
   "metadata": {},
   "outputs": [
    {
     "data": {
      "text/html": [
       "<div>\n",
       "<style scoped>\n",
       "    .dataframe tbody tr th:only-of-type {\n",
       "        vertical-align: middle;\n",
       "    }\n",
       "\n",
       "    .dataframe tbody tr th {\n",
       "        vertical-align: top;\n",
       "    }\n",
       "\n",
       "    .dataframe thead th {\n",
       "        text-align: right;\n",
       "    }\n",
       "</style>\n",
       "<table border=\"1\" class=\"dataframe\">\n",
       "  <thead>\n",
       "    <tr style=\"text-align: right;\">\n",
       "      <th></th>\n",
       "      <th>w1</th>\n",
       "      <th>w2</th>\n",
       "      <th>dist</th>\n",
       "      <th>is_synonyms</th>\n",
       "      <th>is_hyponym</th>\n",
       "      <th>is_hyperonym</th>\n",
       "      <th>is_hyponym2</th>\n",
       "      <th>is_hyperonym2</th>\n",
       "      <th>is_antonym</th>\n",
       "      <th>not_connected</th>\n",
       "    </tr>\n",
       "  </thead>\n",
       "  <tbody>\n",
       "    <tr>\n",
       "      <th>12744</th>\n",
       "      <td>выяснить</td>\n",
       "      <td>определить</td>\n",
       "      <td>0.831424</td>\n",
       "      <td>False</td>\n",
       "      <td>False</td>\n",
       "      <td>False</td>\n",
       "      <td>False</td>\n",
       "      <td>False</td>\n",
       "      <td>False</td>\n",
       "      <td>True</td>\n",
       "    </tr>\n",
       "  </tbody>\n",
       "</table>\n",
       "</div>"
      ],
      "text/plain": [
       "             w1          w2      dist  is_synonyms  is_hyponym  is_hyperonym  \\\n",
       "12744  выяснить  определить  0.831424        False       False         False   \n",
       "\n",
       "       is_hyponym2  is_hyperonym2  is_antonym  not_connected  \n",
       "12744        False          False       False           True  "
      ]
     },
     "execution_count": 84,
     "metadata": {},
     "output_type": "execute_result"
    }
   ],
   "source": [
    "dists_ds[(dists_ds['w1']=='выяснить')&(dists_ds['w2']=='определить')]"
   ]
  },
  {
   "cell_type": "markdown",
   "metadata": {},
   "source": [
    "Не так. Векторы слов сильно различаются"
   ]
  },
  {
   "cell_type": "markdown",
   "metadata": {},
   "source": [
    "Тогда почему эти слова имеют похожую разность векторов? Вероятно эти пары одинакого часто встречаются в текстах: когда кто-то провёл экспертизу и выяснил что-то или провёл экспертизу и определил что-то."
   ]
  },
  {
   "cell_type": "code",
   "execution_count": 85,
   "metadata": {},
   "outputs": [
    {
     "data": {
      "text/plain": [
       "array([[0.00725359]], dtype=float32)"
      ]
     },
     "execution_count": 85,
     "metadata": {},
     "output_type": "execute_result"
    }
   ],
   "source": [
    "cosine_distances([wvs_dict['выяснить']-wvs_dict['экспертиза']], [wvs_dict['определить']-wvs_dict['экспертиза']])"
   ]
  },
  {
   "cell_type": "markdown",
   "metadata": {},
   "source": [
    "## Похожие пары синонимов"
   ]
  },
  {
   "cell_type": "markdown",
   "metadata": {},
   "source": [
    "Будем искать похожие пары среди тех, в которых ни одно слово не совпадает. Тогда слова не \"сократятся\" как в прошлом примере"
   ]
  },
  {
   "cell_type": "code",
   "execution_count": 86,
   "metadata": {},
   "outputs": [
    {
     "data": {
      "text/html": [
       "<div>\n",
       "<style scoped>\n",
       "    .dataframe tbody tr th:only-of-type {\n",
       "        vertical-align: middle;\n",
       "    }\n",
       "\n",
       "    .dataframe tbody tr th {\n",
       "        vertical-align: top;\n",
       "    }\n",
       "\n",
       "    .dataframe thead th {\n",
       "        text-align: right;\n",
       "    }\n",
       "</style>\n",
       "<table border=\"1\" class=\"dataframe\">\n",
       "  <thead>\n",
       "    <tr style=\"text-align: right;\">\n",
       "      <th></th>\n",
       "      <th>pair 0</th>\n",
       "      <th>pair 1</th>\n",
       "      <th>dist</th>\n",
       "      <th>type</th>\n",
       "      <th>word 0</th>\n",
       "      <th>word 1</th>\n",
       "      <th>word 2</th>\n",
       "      <th>word 3</th>\n",
       "      <th>has_common_word</th>\n",
       "      <th>has_same_first_word</th>\n",
       "      <th>has_same_last_word</th>\n",
       "    </tr>\n",
       "  </thead>\n",
       "  <tbody>\n",
       "    <tr>\n",
       "      <th>8067</th>\n",
       "      <td>(собрать, напрячь)</td>\n",
       "      <td>(поднажать, напрягать)</td>\n",
       "      <td>0.405273</td>\n",
       "      <td>is_synonyms</td>\n",
       "      <td>собрать</td>\n",
       "      <td>напрячь</td>\n",
       "      <td>поднажать</td>\n",
       "      <td>напрягать</td>\n",
       "      <td>False</td>\n",
       "      <td>False</td>\n",
       "      <td>False</td>\n",
       "    </tr>\n",
       "    <tr>\n",
       "      <th>4832</th>\n",
       "      <td>(поднажать, напрягать)</td>\n",
       "      <td>(собрать, напрячь)</td>\n",
       "      <td>0.405273</td>\n",
       "      <td>is_synonyms</td>\n",
       "      <td>поднажать</td>\n",
       "      <td>напрягать</td>\n",
       "      <td>собрать</td>\n",
       "      <td>напрячь</td>\n",
       "      <td>False</td>\n",
       "      <td>False</td>\n",
       "      <td>False</td>\n",
       "    </tr>\n",
       "    <tr>\n",
       "      <th>6285</th>\n",
       "      <td>(собирать, напрячь)</td>\n",
       "      <td>(поднажать, напрягать)</td>\n",
       "      <td>0.426604</td>\n",
       "      <td>is_synonyms</td>\n",
       "      <td>собирать</td>\n",
       "      <td>напрячь</td>\n",
       "      <td>поднажать</td>\n",
       "      <td>напрягать</td>\n",
       "      <td>False</td>\n",
       "      <td>False</td>\n",
       "      <td>False</td>\n",
       "    </tr>\n",
       "    <tr>\n",
       "      <th>4814</th>\n",
       "      <td>(поднажать, напрягать)</td>\n",
       "      <td>(собирать, напрячь)</td>\n",
       "      <td>0.426604</td>\n",
       "      <td>is_synonyms</td>\n",
       "      <td>поднажать</td>\n",
       "      <td>напрягать</td>\n",
       "      <td>собирать</td>\n",
       "      <td>напрячь</td>\n",
       "      <td>False</td>\n",
       "      <td>False</td>\n",
       "      <td>False</td>\n",
       "    </tr>\n",
       "    <tr>\n",
       "      <th>8380</th>\n",
       "      <td>(старуха, бабуся)</td>\n",
       "      <td>(бабка, бабуля)</td>\n",
       "      <td>0.446799</td>\n",
       "      <td>is_synonyms</td>\n",
       "      <td>старуха</td>\n",
       "      <td>бабуся</td>\n",
       "      <td>бабка</td>\n",
       "      <td>бабуля</td>\n",
       "      <td>False</td>\n",
       "      <td>False</td>\n",
       "      <td>False</td>\n",
       "    </tr>\n",
       "    <tr>\n",
       "      <th>6419</th>\n",
       "      <td>(бабка, бабуля)</td>\n",
       "      <td>(старуха, бабуся)</td>\n",
       "      <td>0.446799</td>\n",
       "      <td>is_synonyms</td>\n",
       "      <td>бабка</td>\n",
       "      <td>бабуля</td>\n",
       "      <td>старуха</td>\n",
       "      <td>бабуся</td>\n",
       "      <td>False</td>\n",
       "      <td>False</td>\n",
       "      <td>False</td>\n",
       "    </tr>\n",
       "    <tr>\n",
       "      <th>1156</th>\n",
       "      <td>(препятствовать, мешать)</td>\n",
       "      <td>(воспрепятствовать, смешать)</td>\n",
       "      <td>0.474023</td>\n",
       "      <td>is_synonyms</td>\n",
       "      <td>препятствовать</td>\n",
       "      <td>мешать</td>\n",
       "      <td>воспрепятствовать</td>\n",
       "      <td>смешать</td>\n",
       "      <td>False</td>\n",
       "      <td>False</td>\n",
       "      <td>False</td>\n",
       "    </tr>\n",
       "    <tr>\n",
       "      <th>6743</th>\n",
       "      <td>(воспрепятствовать, смешать)</td>\n",
       "      <td>(препятствовать, мешать)</td>\n",
       "      <td>0.474023</td>\n",
       "      <td>is_synonyms</td>\n",
       "      <td>воспрепятствовать</td>\n",
       "      <td>смешать</td>\n",
       "      <td>препятствовать</td>\n",
       "      <td>мешать</td>\n",
       "      <td>False</td>\n",
       "      <td>False</td>\n",
       "      <td>False</td>\n",
       "    </tr>\n",
       "    <tr>\n",
       "      <th>5003</th>\n",
       "      <td>(бабулька, старуха)</td>\n",
       "      <td>(бабуся, бабка)</td>\n",
       "      <td>0.479916</td>\n",
       "      <td>is_synonyms</td>\n",
       "      <td>бабулька</td>\n",
       "      <td>старуха</td>\n",
       "      <td>бабуся</td>\n",
       "      <td>бабка</td>\n",
       "      <td>False</td>\n",
       "      <td>False</td>\n",
       "      <td>False</td>\n",
       "    </tr>\n",
       "    <tr>\n",
       "      <th>5396</th>\n",
       "      <td>(бабуся, бабка)</td>\n",
       "      <td>(бабулька, старуха)</td>\n",
       "      <td>0.479916</td>\n",
       "      <td>is_synonyms</td>\n",
       "      <td>бабуся</td>\n",
       "      <td>бабка</td>\n",
       "      <td>бабулька</td>\n",
       "      <td>старуха</td>\n",
       "      <td>False</td>\n",
       "      <td>False</td>\n",
       "      <td>False</td>\n",
       "    </tr>\n",
       "  </tbody>\n",
       "</table>\n",
       "</div>"
      ],
      "text/plain": [
       "                            pair 0                        pair 1      dist  \\\n",
       "8067            (собрать, напрячь)        (поднажать, напрягать)  0.405273   \n",
       "4832        (поднажать, напрягать)            (собрать, напрячь)  0.405273   \n",
       "6285           (собирать, напрячь)        (поднажать, напрягать)  0.426604   \n",
       "4814        (поднажать, напрягать)           (собирать, напрячь)  0.426604   \n",
       "8380             (старуха, бабуся)               (бабка, бабуля)  0.446799   \n",
       "6419               (бабка, бабуля)             (старуха, бабуся)  0.446799   \n",
       "1156      (препятствовать, мешать)  (воспрепятствовать, смешать)  0.474023   \n",
       "6743  (воспрепятствовать, смешать)      (препятствовать, мешать)  0.474023   \n",
       "5003           (бабулька, старуха)               (бабуся, бабка)  0.479916   \n",
       "5396               (бабуся, бабка)           (бабулька, старуха)  0.479916   \n",
       "\n",
       "             type             word 0     word 1             word 2     word 3  \\\n",
       "8067  is_synonyms            собрать    напрячь          поднажать  напрягать   \n",
       "4832  is_synonyms          поднажать  напрягать            собрать    напрячь   \n",
       "6285  is_synonyms           собирать    напрячь          поднажать  напрягать   \n",
       "4814  is_synonyms          поднажать  напрягать           собирать    напрячь   \n",
       "8380  is_synonyms            старуха     бабуся              бабка     бабуля   \n",
       "6419  is_synonyms              бабка     бабуля            старуха     бабуся   \n",
       "1156  is_synonyms     препятствовать     мешать  воспрепятствовать    смешать   \n",
       "6743  is_synonyms  воспрепятствовать    смешать     препятствовать     мешать   \n",
       "5003  is_synonyms           бабулька    старуха             бабуся      бабка   \n",
       "5396  is_synonyms             бабуся      бабка           бабулька    старуха   \n",
       "\n",
       "      has_common_word  has_same_first_word  has_same_last_word  \n",
       "8067            False                False               False  \n",
       "4832            False                False               False  \n",
       "6285            False                False               False  \n",
       "4814            False                False               False  \n",
       "8380            False                False               False  \n",
       "6419            False                False               False  \n",
       "1156            False                False               False  \n",
       "6743            False                False               False  \n",
       "5003            False                False               False  \n",
       "5396            False                False               False  "
      ]
     },
     "execution_count": 86,
     "metadata": {},
     "output_type": "execute_result"
    }
   ],
   "source": [
    "dists_pair_ds[(dists_pair_ds['type']=='is_synonyms')&(~dists_pair_ds['has_common_word'])].sort_values('dist').head(10)"
   ]
  },
  {
   "cell_type": "code",
   "execution_count": 68,
   "metadata": {},
   "outputs": [
    {
     "name": "stdout",
     "output_type": "stream",
     "text": [
      "\\begin{tabular}{llr}\n",
      "\\toprule\n",
      "{} &                0 &         1 \\\\\n",
      "\\midrule\n",
      "0 &     старуха\\_NOUN &  0.926507 \\\\\n",
      "1 &    старушка\\_NOUN &  0.775208 \\\\\n",
      "2 &       бабка\\_NOUN &  0.762171 \\\\\n",
      "3 &     бабушка\\_NOUN &  0.707106 \\\\\n",
      "4 &       тетка\\_NOUN &  0.692906 \\\\\n",
      "5 &  старушонка\\_NOUN &  0.691257 \\\\\n",
      "6 &      старик\\_NOUN &  0.681647 \\\\\n",
      "7 &     агафья\\_PROPN &  0.647350 \\\\\n",
      "8 &     соседка\\_NOUN &  0.638528 \\\\\n",
      "9 &    лукерья\\_PROPN &  0.631201 \\\\\n",
      "\\bottomrule\n",
      "\\end{tabular}\n",
      "\n"
     ]
    }
   ],
   "source": [
    "print(pd.DataFrame(model.similar_by_vector(wvs_dict['старуха']-wvs_dict['бабулька']+wvs_dict['бабуля'])).to_latex())"
   ]
  },
  {
   "cell_type": "markdown",
   "metadata": {},
   "source": [
    "Можно сказать, что модель учитывает \"анти уменьшительно-ласкательные\" отношения и делать слова более грубыми."
   ]
  },
  {
   "cell_type": "markdown",
   "metadata": {},
   "source": [
    "## Похожие связи между антонимами"
   ]
  },
  {
   "cell_type": "code",
   "execution_count": 51,
   "metadata": {},
   "outputs": [
    {
     "data": {
      "text/html": [
       "<div>\n",
       "<style scoped>\n",
       "    .dataframe tbody tr th:only-of-type {\n",
       "        vertical-align: middle;\n",
       "    }\n",
       "\n",
       "    .dataframe tbody tr th {\n",
       "        vertical-align: top;\n",
       "    }\n",
       "\n",
       "    .dataframe thead th {\n",
       "        text-align: right;\n",
       "    }\n",
       "</style>\n",
       "<table border=\"1\" class=\"dataframe\">\n",
       "  <thead>\n",
       "    <tr style=\"text-align: right;\">\n",
       "      <th></th>\n",
       "      <th>pair 0</th>\n",
       "      <th>pair 1</th>\n",
       "      <th>dist</th>\n",
       "      <th>type</th>\n",
       "      <th>word 0</th>\n",
       "      <th>word 1</th>\n",
       "      <th>word 2</th>\n",
       "      <th>word 3</th>\n",
       "      <th>has_common_word</th>\n",
       "      <th>has_same_first_word</th>\n",
       "      <th>has_same_last_word</th>\n",
       "    </tr>\n",
       "  </thead>\n",
       "  <tbody>\n",
       "    <tr>\n",
       "      <th>3416</th>\n",
       "      <td>(мастер, неспециалист)</td>\n",
       "      <td>(умелец, неумеха)</td>\n",
       "      <td>0.511308</td>\n",
       "      <td>is_antonym</td>\n",
       "      <td>мастер</td>\n",
       "      <td>неспециалист</td>\n",
       "      <td>умелец</td>\n",
       "      <td>неумеха</td>\n",
       "      <td>False</td>\n",
       "      <td>False</td>\n",
       "      <td>False</td>\n",
       "    </tr>\n",
       "    <tr>\n",
       "      <th>5083</th>\n",
       "      <td>(умелец, неумеха)</td>\n",
       "      <td>(мастер, неспециалист)</td>\n",
       "      <td>0.511308</td>\n",
       "      <td>is_antonym</td>\n",
       "      <td>умелец</td>\n",
       "      <td>неумеха</td>\n",
       "      <td>мастер</td>\n",
       "      <td>неспециалист</td>\n",
       "      <td>False</td>\n",
       "      <td>False</td>\n",
       "      <td>False</td>\n",
       "    </tr>\n",
       "    <tr>\n",
       "      <th>3653</th>\n",
       "      <td>(напрячь, надеть)</td>\n",
       "      <td>(напрягать, разбросать)</td>\n",
       "      <td>0.534249</td>\n",
       "      <td>is_antonym</td>\n",
       "      <td>напрячь</td>\n",
       "      <td>надеть</td>\n",
       "      <td>напрягать</td>\n",
       "      <td>разбросать</td>\n",
       "      <td>False</td>\n",
       "      <td>False</td>\n",
       "      <td>False</td>\n",
       "    </tr>\n",
       "    <tr>\n",
       "      <th>8946</th>\n",
       "      <td>(напрягать, разбросать)</td>\n",
       "      <td>(напрячь, надеть)</td>\n",
       "      <td>0.534249</td>\n",
       "      <td>is_antonym</td>\n",
       "      <td>напрягать</td>\n",
       "      <td>разбросать</td>\n",
       "      <td>напрячь</td>\n",
       "      <td>надеть</td>\n",
       "      <td>False</td>\n",
       "      <td>False</td>\n",
       "      <td>False</td>\n",
       "    </tr>\n",
       "    <tr>\n",
       "      <th>7731</th>\n",
       "      <td>(промотать, напрячь)</td>\n",
       "      <td>(растащить, напрягать)</td>\n",
       "      <td>0.539991</td>\n",
       "      <td>is_antonym</td>\n",
       "      <td>промотать</td>\n",
       "      <td>напрячь</td>\n",
       "      <td>растащить</td>\n",
       "      <td>напрягать</td>\n",
       "      <td>False</td>\n",
       "      <td>False</td>\n",
       "      <td>False</td>\n",
       "    </tr>\n",
       "    <tr>\n",
       "      <th>968</th>\n",
       "      <td>(растащить, напрягать)</td>\n",
       "      <td>(промотать, напрячь)</td>\n",
       "      <td>0.539991</td>\n",
       "      <td>is_antonym</td>\n",
       "      <td>растащить</td>\n",
       "      <td>напрягать</td>\n",
       "      <td>промотать</td>\n",
       "      <td>напрячь</td>\n",
       "      <td>False</td>\n",
       "      <td>False</td>\n",
       "      <td>False</td>\n",
       "    </tr>\n",
       "    <tr>\n",
       "      <th>4049</th>\n",
       "      <td>(напрячь, назначить)</td>\n",
       "      <td>(напрягать, разбросать)</td>\n",
       "      <td>0.560575</td>\n",
       "      <td>is_antonym</td>\n",
       "      <td>напрячь</td>\n",
       "      <td>назначить</td>\n",
       "      <td>напрягать</td>\n",
       "      <td>разбросать</td>\n",
       "      <td>False</td>\n",
       "      <td>False</td>\n",
       "      <td>False</td>\n",
       "    </tr>\n",
       "    <tr>\n",
       "      <th>8950</th>\n",
       "      <td>(напрягать, разбросать)</td>\n",
       "      <td>(напрячь, назначить)</td>\n",
       "      <td>0.560575</td>\n",
       "      <td>is_antonym</td>\n",
       "      <td>напрягать</td>\n",
       "      <td>разбросать</td>\n",
       "      <td>напрячь</td>\n",
       "      <td>назначить</td>\n",
       "      <td>False</td>\n",
       "      <td>False</td>\n",
       "      <td>False</td>\n",
       "    </tr>\n",
       "    <tr>\n",
       "      <th>7560</th>\n",
       "      <td>(напрягать, растащить)</td>\n",
       "      <td>(напрячь, надеть)</td>\n",
       "      <td>0.565420</td>\n",
       "      <td>is_antonym</td>\n",
       "      <td>напрягать</td>\n",
       "      <td>растащить</td>\n",
       "      <td>напрячь</td>\n",
       "      <td>надеть</td>\n",
       "      <td>False</td>\n",
       "      <td>False</td>\n",
       "      <td>False</td>\n",
       "    </tr>\n",
       "    <tr>\n",
       "      <th>3639</th>\n",
       "      <td>(напрячь, надеть)</td>\n",
       "      <td>(напрягать, растащить)</td>\n",
       "      <td>0.565420</td>\n",
       "      <td>is_antonym</td>\n",
       "      <td>напрячь</td>\n",
       "      <td>надеть</td>\n",
       "      <td>напрягать</td>\n",
       "      <td>растащить</td>\n",
       "      <td>False</td>\n",
       "      <td>False</td>\n",
       "      <td>False</td>\n",
       "    </tr>\n",
       "  </tbody>\n",
       "</table>\n",
       "</div>"
      ],
      "text/plain": [
       "                       pair 0                   pair 1      dist        type  \\\n",
       "3416   (мастер, неспециалист)        (умелец, неумеха)  0.511308  is_antonym   \n",
       "5083        (умелец, неумеха)   (мастер, неспециалист)  0.511308  is_antonym   \n",
       "3653        (напрячь, надеть)  (напрягать, разбросать)  0.534249  is_antonym   \n",
       "8946  (напрягать, разбросать)        (напрячь, надеть)  0.534249  is_antonym   \n",
       "7731     (промотать, напрячь)   (растащить, напрягать)  0.539991  is_antonym   \n",
       "968    (растащить, напрягать)     (промотать, напрячь)  0.539991  is_antonym   \n",
       "4049     (напрячь, назначить)  (напрягать, разбросать)  0.560575  is_antonym   \n",
       "8950  (напрягать, разбросать)     (напрячь, назначить)  0.560575  is_antonym   \n",
       "7560   (напрягать, растащить)        (напрячь, надеть)  0.565420  is_antonym   \n",
       "3639        (напрячь, надеть)   (напрягать, растащить)  0.565420  is_antonym   \n",
       "\n",
       "         word 0        word 1     word 2        word 3  has_common_word  \\\n",
       "3416     мастер  неспециалист     умелец       неумеха            False   \n",
       "5083     умелец       неумеха     мастер  неспециалист            False   \n",
       "3653    напрячь        надеть  напрягать    разбросать            False   \n",
       "8946  напрягать    разбросать    напрячь        надеть            False   \n",
       "7731  промотать       напрячь  растащить     напрягать            False   \n",
       "968   растащить     напрягать  промотать       напрячь            False   \n",
       "4049    напрячь     назначить  напрягать    разбросать            False   \n",
       "8950  напрягать    разбросать    напрячь     назначить            False   \n",
       "7560  напрягать     растащить    напрячь        надеть            False   \n",
       "3639    напрячь        надеть  напрягать     растащить            False   \n",
       "\n",
       "      has_same_first_word  has_same_last_word  \n",
       "3416                False               False  \n",
       "5083                False               False  \n",
       "3653                False               False  \n",
       "8946                False               False  \n",
       "7731                False               False  \n",
       "968                 False               False  \n",
       "4049                False               False  \n",
       "8950                False               False  \n",
       "7560                False               False  \n",
       "3639                False               False  "
      ]
     },
     "execution_count": 51,
     "metadata": {},
     "output_type": "execute_result"
    }
   ],
   "source": [
    "dists_pair_ds[(dists_pair_ds['type']=='is_antonym')&(~dists_pair_ds['has_common_word'])].sort_values('dist').head(10)"
   ]
  },
  {
   "cell_type": "code",
   "execution_count": 52,
   "metadata": {},
   "outputs": [
    {
     "data": {
      "text/plain": [
       "[('неспециалист_NOUN', 0.36014968156814575),\n",
       " ('умелец_NOUN', 0.31775686144828796),\n",
       " ('вездеход_NOUN', 0.30166056752204895),\n",
       " ('съедобный_ADJ', 0.30121636390686035),\n",
       " ('лазера_NOUN', 0.29404670000076294),\n",
       " ('гош_PROPN', 0.2931995391845703),\n",
       " ('толком_ADV', 0.2927326560020447),\n",
       " ('череп_PROPN', 0.2890816628932953),\n",
       " ('приборчик_NOUN', 0.28903481364250183),\n",
       " ('гуманоид_NOUN', 0.2870415151119232),\n",
       " ('поверье_NOUN', 0.28493401408195496),\n",
       " ('сейд_NOUN', 0.2792907953262329),\n",
       " ('глушилка_NOUN', 0.27564871311187744),\n",
       " ('псих_NOUN', 0.2756391763687134),\n",
       " ('наверняка_ADV', 0.27538782358169556),\n",
       " ('абориген_NOUN', 0.27505677938461304),\n",
       " ('штуковина_NOUN', 0.2736056447029114),\n",
       " ('экстрасенс_NOUN', 0.26838284730911255),\n",
       " ('холодильник_NOUN', 0.266996294260025),\n",
       " ('пиранье_NOUN', 0.2655104994773865)]"
      ]
     },
     "execution_count": 52,
     "metadata": {},
     "output_type": "execute_result"
    }
   ],
   "source": [
    "model.similar_by_vector(wvs_dict['неспециалист']-wvs_dict['мастер']+wvs_dict['умелец'], 20)"
   ]
  },
  {
   "cell_type": "markdown",
   "metadata": {},
   "source": [
    "В качестве ответа должен был получиться кто-то с плохой компетенцией. Но этого не оказалось."
   ]
  },
  {
   "cell_type": "code",
   "execution_count": 53,
   "metadata": {},
   "outputs": [
    {
     "data": {
      "text/plain": [
       "[('мастерица_NOUN', 0.8040676116943359),\n",
       " ('рукодельница_NOUN', 0.5702055096626282),\n",
       " ('дилетант_NOUN', 0.5388522148132324),\n",
       " ('искусница_NOUN', 0.5231117010116577),\n",
       " ('любительница_NOUN', 0.5011034607887268),\n",
       " ('мастер_NOUN', 0.49565428495407104),\n",
       " ('швея_NOUN', 0.474587082862854),\n",
       " ('швь_NOUN', 0.47264033555984497),\n",
       " ('музыкантша_NOUN', 0.46468493342399597),\n",
       " ('виртуоза_NOUN', 0.45768722891807556),\n",
       " ('портниха_NOUN', 0.45756667852401733),\n",
       " ('искусник_NOUN', 0.4564761221408844),\n",
       " ('виртуоз_NOUN', 0.4555569589138031),\n",
       " ('мастериец_NOUN', 0.4539269208908081),\n",
       " ('вышивальщица_NOUN', 0.4529009461402893),\n",
       " ('кокетка_NOUN', 0.4479062557220459),\n",
       " ('портретист_NOUN', 0.4455658793449402),\n",
       " ('белошвейный_ADJ', 0.44065290689468384),\n",
       " ('кружевница_NOUN', 0.44025087356567383),\n",
       " ('охотница_NOUN', 0.43736350536346436)]"
      ]
     },
     "execution_count": 53,
     "metadata": {},
     "output_type": "execute_result"
    }
   ],
   "source": [
    "model.similar_by_vector(wvs_dict['мастерица']-wvs_dict['неспециалист']+wvs_dict['дилетант'], 20)"
   ]
  },
  {
   "cell_type": "markdown",
   "metadata": {},
   "source": [
    "В этом случае должен был получиться кто-то с хорошей компетенцией. И правда: \"искусница\", \"мастер\", \"виртуоза\" - опытные люди."
   ]
  },
  {
   "cell_type": "markdown",
   "metadata": {},
   "source": [
    "# Итого\n",
    "\n",
    "Данная модель Word2Vec на базе подхода CBOW, не определяет семантические зависимости между словами. В частности: синонимию, антонимию, гиперонимию, гипонимию. \n",
    "\n",
    "Интересно, что наиболее похожи друг на друга слова, являющиеся гипонимами гипонимов. Скорее всего такие слова просто часто встречаются в тексте рядом друг с другом, так как они одновременно обозначают и похожие и слегка различные понятия и действия.\n",
    "\n",
    "Иногда можно заметить, будто модель улавливает различия между грубыми и негрубыми словами, будто она видит разницу между компетентными и некомпетентными людьми. Однако это похоже на исключения из правил. А также похоже на результат проверки множества гипотез: если очень сильно искать моделируемые сложные зависимости, то обязательно можно что-нибудь найти."
   ]
  }
 ],
 "metadata": {
  "kernelspec": {
   "display_name": "Python 3",
   "language": "python",
   "name": "python3"
  },
  "language_info": {
   "codemirror_mode": {
    "name": "ipython",
    "version": 3
   },
   "file_extension": ".py",
   "mimetype": "text/x-python",
   "name": "python",
   "nbconvert_exporter": "python",
   "pygments_lexer": "ipython3",
   "version": "3.7.1"
  }
 },
 "nbformat": 4,
 "nbformat_minor": 2
}
